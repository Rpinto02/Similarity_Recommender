{
 "cells": [
  {
   "cell_type": "code",
   "execution_count": 1,
   "metadata": {},
   "outputs": [
    {
     "data": {
      "text/html": [
       "<div>\n",
       "<style scoped>\n",
       "    .dataframe tbody tr th:only-of-type {\n",
       "        vertical-align: middle;\n",
       "    }\n",
       "\n",
       "    .dataframe tbody tr th {\n",
       "        vertical-align: top;\n",
       "    }\n",
       "\n",
       "    .dataframe thead th {\n",
       "        text-align: right;\n",
       "    }\n",
       "</style>\n",
       "<table border=\"1\" class=\"dataframe\">\n",
       "  <thead>\n",
       "    <tr style=\"text-align: right;\">\n",
       "      <th></th>\n",
       "      <th>idade_empresa_anos</th>\n",
       "      <th>de_faixa_faturamento_estimado_ATE R$ 81.000,00</th>\n",
       "      <th>de_faixa_faturamento_estimado_DE R$ 1.500.000,01 A R$ 4.800.000,00</th>\n",
       "      <th>de_faixa_faturamento_estimado_DE R$ 10.000.000,01 A R$ 30.000.000,00</th>\n",
       "      <th>de_faixa_faturamento_estimado_DE R$ 100.000.000,01 A R$ 300.000.000,00</th>\n",
       "      <th>de_faixa_faturamento_estimado_DE R$ 30.000.000,01 A R$ 100.000.000,00</th>\n",
       "      <th>de_faixa_faturamento_estimado_DE R$ 300.000.000,01 A R$ 500.000.000,00</th>\n",
       "      <th>de_faixa_faturamento_estimado_DE R$ 360.000,01 A R$ 1.500.000,00</th>\n",
       "      <th>de_faixa_faturamento_estimado_DE R$ 4.800.000,01 A R$ 10.000.000,00</th>\n",
       "      <th>de_faixa_faturamento_estimado_DE R$ 500.000.000,01 A 1 BILHAO DE REAIS</th>\n",
       "      <th>...</th>\n",
       "      <th>setor_INDUSTRIA</th>\n",
       "      <th>setor_SERVIÇO</th>\n",
       "      <th>setor_nan</th>\n",
       "      <th>sg_uf_AM</th>\n",
       "      <th>sg_uf_MA</th>\n",
       "      <th>sg_uf_PI</th>\n",
       "      <th>sg_uf_RN</th>\n",
       "      <th>sg_uf_RO</th>\n",
       "      <th>vl_total_veiculos_leves_grupo</th>\n",
       "      <th>vl_total_veiculos_pesados_grupo</th>\n",
       "    </tr>\n",
       "  </thead>\n",
       "  <tbody>\n",
       "    <tr>\n",
       "      <th>0</th>\n",
       "      <td>21.81</td>\n",
       "      <td>0</td>\n",
       "      <td>0</td>\n",
       "      <td>0</td>\n",
       "      <td>1</td>\n",
       "      <td>0</td>\n",
       "      <td>0</td>\n",
       "      <td>0</td>\n",
       "      <td>0</td>\n",
       "      <td>0</td>\n",
       "      <td>...</td>\n",
       "      <td>0</td>\n",
       "      <td>1</td>\n",
       "      <td>0</td>\n",
       "      <td>0</td>\n",
       "      <td>1</td>\n",
       "      <td>0</td>\n",
       "      <td>0</td>\n",
       "      <td>0</td>\n",
       "      <td>1</td>\n",
       "      <td>1</td>\n",
       "    </tr>\n",
       "    <tr>\n",
       "      <th>1</th>\n",
       "      <td>16.39</td>\n",
       "      <td>0</td>\n",
       "      <td>0</td>\n",
       "      <td>1</td>\n",
       "      <td>0</td>\n",
       "      <td>0</td>\n",
       "      <td>0</td>\n",
       "      <td>0</td>\n",
       "      <td>0</td>\n",
       "      <td>0</td>\n",
       "      <td>...</td>\n",
       "      <td>0</td>\n",
       "      <td>1</td>\n",
       "      <td>0</td>\n",
       "      <td>0</td>\n",
       "      <td>0</td>\n",
       "      <td>1</td>\n",
       "      <td>0</td>\n",
       "      <td>0</td>\n",
       "      <td>1</td>\n",
       "      <td>1</td>\n",
       "    </tr>\n",
       "    <tr>\n",
       "      <th>2</th>\n",
       "      <td>40.38</td>\n",
       "      <td>0</td>\n",
       "      <td>0</td>\n",
       "      <td>0</td>\n",
       "      <td>0</td>\n",
       "      <td>1</td>\n",
       "      <td>0</td>\n",
       "      <td>0</td>\n",
       "      <td>0</td>\n",
       "      <td>0</td>\n",
       "      <td>...</td>\n",
       "      <td>0</td>\n",
       "      <td>1</td>\n",
       "      <td>0</td>\n",
       "      <td>1</td>\n",
       "      <td>0</td>\n",
       "      <td>0</td>\n",
       "      <td>0</td>\n",
       "      <td>0</td>\n",
       "      <td>0</td>\n",
       "      <td>0</td>\n",
       "    </tr>\n",
       "    <tr>\n",
       "      <th>3</th>\n",
       "      <td>43.85</td>\n",
       "      <td>0</td>\n",
       "      <td>0</td>\n",
       "      <td>1</td>\n",
       "      <td>0</td>\n",
       "      <td>0</td>\n",
       "      <td>0</td>\n",
       "      <td>0</td>\n",
       "      <td>0</td>\n",
       "      <td>0</td>\n",
       "      <td>...</td>\n",
       "      <td>0</td>\n",
       "      <td>1</td>\n",
       "      <td>0</td>\n",
       "      <td>0</td>\n",
       "      <td>0</td>\n",
       "      <td>1</td>\n",
       "      <td>0</td>\n",
       "      <td>0</td>\n",
       "      <td>1</td>\n",
       "      <td>1</td>\n",
       "    </tr>\n",
       "    <tr>\n",
       "      <th>4</th>\n",
       "      <td>43.87</td>\n",
       "      <td>0</td>\n",
       "      <td>0</td>\n",
       "      <td>0</td>\n",
       "      <td>0</td>\n",
       "      <td>1</td>\n",
       "      <td>0</td>\n",
       "      <td>0</td>\n",
       "      <td>0</td>\n",
       "      <td>0</td>\n",
       "      <td>...</td>\n",
       "      <td>0</td>\n",
       "      <td>1</td>\n",
       "      <td>0</td>\n",
       "      <td>0</td>\n",
       "      <td>0</td>\n",
       "      <td>0</td>\n",
       "      <td>1</td>\n",
       "      <td>0</td>\n",
       "      <td>0</td>\n",
       "      <td>0</td>\n",
       "    </tr>\n",
       "  </tbody>\n",
       "</table>\n",
       "<p>5 rows × 170 columns</p>\n",
       "</div>"
      ],
      "text/plain": [
       "   idade_empresa_anos  de_faixa_faturamento_estimado_ATE R$ 81.000,00  \\\n",
       "0               21.81                                               0   \n",
       "1               16.39                                               0   \n",
       "2               40.38                                               0   \n",
       "3               43.85                                               0   \n",
       "4               43.87                                               0   \n",
       "\n",
       "   de_faixa_faturamento_estimado_DE R$ 1.500.000,01 A R$ 4.800.000,00  \\\n",
       "0                                                  0                    \n",
       "1                                                  0                    \n",
       "2                                                  0                    \n",
       "3                                                  0                    \n",
       "4                                                  0                    \n",
       "\n",
       "   de_faixa_faturamento_estimado_DE R$ 10.000.000,01 A R$ 30.000.000,00  \\\n",
       "0                                                  0                      \n",
       "1                                                  1                      \n",
       "2                                                  0                      \n",
       "3                                                  1                      \n",
       "4                                                  0                      \n",
       "\n",
       "   de_faixa_faturamento_estimado_DE R$ 100.000.000,01 A R$ 300.000.000,00  \\\n",
       "0                                                  1                        \n",
       "1                                                  0                        \n",
       "2                                                  0                        \n",
       "3                                                  0                        \n",
       "4                                                  0                        \n",
       "\n",
       "   de_faixa_faturamento_estimado_DE R$ 30.000.000,01 A R$ 100.000.000,00  \\\n",
       "0                                                  0                       \n",
       "1                                                  0                       \n",
       "2                                                  1                       \n",
       "3                                                  0                       \n",
       "4                                                  1                       \n",
       "\n",
       "   de_faixa_faturamento_estimado_DE R$ 300.000.000,01 A R$ 500.000.000,00  \\\n",
       "0                                                  0                        \n",
       "1                                                  0                        \n",
       "2                                                  0                        \n",
       "3                                                  0                        \n",
       "4                                                  0                        \n",
       "\n",
       "   de_faixa_faturamento_estimado_DE R$ 360.000,01 A R$ 1.500.000,00  \\\n",
       "0                                                  0                  \n",
       "1                                                  0                  \n",
       "2                                                  0                  \n",
       "3                                                  0                  \n",
       "4                                                  0                  \n",
       "\n",
       "   de_faixa_faturamento_estimado_DE R$ 4.800.000,01 A R$ 10.000.000,00  \\\n",
       "0                                                  0                     \n",
       "1                                                  0                     \n",
       "2                                                  0                     \n",
       "3                                                  0                     \n",
       "4                                                  0                     \n",
       "\n",
       "   de_faixa_faturamento_estimado_DE R$ 500.000.000,01 A 1 BILHAO DE REAIS  \\\n",
       "0                                                  0                        \n",
       "1                                                  0                        \n",
       "2                                                  0                        \n",
       "3                                                  0                        \n",
       "4                                                  0                        \n",
       "\n",
       "   ...  setor_INDUSTRIA  setor_SERVIÇO  setor_nan  sg_uf_AM  sg_uf_MA  \\\n",
       "0  ...                0              1          0         0         1   \n",
       "1  ...                0              1          0         0         0   \n",
       "2  ...                0              1          0         1         0   \n",
       "3  ...                0              1          0         0         0   \n",
       "4  ...                0              1          0         0         0   \n",
       "\n",
       "   sg_uf_PI  sg_uf_RN  sg_uf_RO  vl_total_veiculos_leves_grupo  \\\n",
       "0         0         0         0                              1   \n",
       "1         1         0         0                              1   \n",
       "2         0         0         0                              0   \n",
       "3         1         0         0                              1   \n",
       "4         0         1         0                              0   \n",
       "\n",
       "   vl_total_veiculos_pesados_grupo  \n",
       "0                                1  \n",
       "1                                1  \n",
       "2                                0  \n",
       "3                                1  \n",
       "4                                0  \n",
       "\n",
       "[5 rows x 170 columns]"
      ]
     },
     "execution_count": 1,
     "metadata": {},
     "output_type": "execute_result"
    }
   ],
   "source": [
    "import pandas as pd\n",
    "import matplotlib.pyplot as plt \n",
    "import numpy as np\n",
    "import seaborn as sns\n",
    "import plotly.graph_objs as go\n",
    "from plotly.offline import iplot\n",
    "from scipy import stats\n",
    "import gower\n",
    "from pyclustering.cluster.kmedoids import kmedoids\n",
    "from sklearn.preprocessing import MinMaxScaler\n",
    "from sklearn.metrics import silhouette_samples\n",
    "from sklearn.metrics import silhouette_score\n",
    "import random\n",
    "import umap as umap\n",
    "\n",
    "\n",
    "def load_data(filepath):\n",
    "    '''takes in the file path where the data is store and returns a pandas dataframe.\n",
    "    filepath must be entered as a string\n",
    "    '''\n",
    "    \n",
    "    df = pd.read_csv(filepath)\n",
    "    return df;\n",
    "\n",
    "filepath = '../data/portfolio3_ETL.csv'\n",
    "portfolio3_ID = load_data(filepath)\n",
    "\n",
    "portfolio3 = portfolio3_ID.drop(columns=['id'])\n",
    "portfolio3.head()"
   ]
  },
  {
   "cell_type": "code",
   "execution_count": 2,
   "metadata": {},
   "outputs": [],
   "source": [
    "#list of non bolean columns taken from the market database\n",
    "non_bolean_cols = ['idade_empresa_anos',\n",
    " 'idade_maxima_socios',\n",
    " 'idade_media_socios',\n",
    " 'idade_minima_socios',\n",
    " 'qt_filiais',\n",
    " 'qt_socios',\n",
    " 'qt_socios_st_regular']"
   ]
  },
  {
   "cell_type": "code",
   "execution_count": 3,
   "metadata": {},
   "outputs": [
    {
     "data": {
      "text/html": [
       "<div>\n",
       "<style scoped>\n",
       "    .dataframe tbody tr th:only-of-type {\n",
       "        vertical-align: middle;\n",
       "    }\n",
       "\n",
       "    .dataframe tbody tr th {\n",
       "        vertical-align: top;\n",
       "    }\n",
       "\n",
       "    .dataframe thead th {\n",
       "        text-align: right;\n",
       "    }\n",
       "</style>\n",
       "<table border=\"1\" class=\"dataframe\">\n",
       "  <thead>\n",
       "    <tr style=\"text-align: right;\">\n",
       "      <th></th>\n",
       "      <th>idade_empresa_anos</th>\n",
       "      <th>idade_maxima_socios</th>\n",
       "      <th>idade_media_socios</th>\n",
       "      <th>idade_minima_socios</th>\n",
       "      <th>qt_filiais</th>\n",
       "      <th>qt_socios</th>\n",
       "      <th>qt_socios_st_regular</th>\n",
       "    </tr>\n",
       "  </thead>\n",
       "  <tbody>\n",
       "    <tr>\n",
       "      <th>0</th>\n",
       "      <td>0.412341</td>\n",
       "      <td>0.453488</td>\n",
       "      <td>0.441860</td>\n",
       "      <td>0.418605</td>\n",
       "      <td>0.011628</td>\n",
       "      <td>0.000000</td>\n",
       "      <td>0.000000</td>\n",
       "    </tr>\n",
       "    <tr>\n",
       "      <th>1</th>\n",
       "      <td>0.306170</td>\n",
       "      <td>0.767442</td>\n",
       "      <td>0.767442</td>\n",
       "      <td>0.767442</td>\n",
       "      <td>0.000000</td>\n",
       "      <td>0.007246</td>\n",
       "      <td>0.000000</td>\n",
       "    </tr>\n",
       "    <tr>\n",
       "      <th>2</th>\n",
       "      <td>0.776102</td>\n",
       "      <td>0.453488</td>\n",
       "      <td>0.441860</td>\n",
       "      <td>0.418605</td>\n",
       "      <td>0.000000</td>\n",
       "      <td>0.000000</td>\n",
       "      <td>0.000000</td>\n",
       "    </tr>\n",
       "    <tr>\n",
       "      <th>3</th>\n",
       "      <td>0.844074</td>\n",
       "      <td>0.453488</td>\n",
       "      <td>0.441860</td>\n",
       "      <td>0.418605</td>\n",
       "      <td>0.000000</td>\n",
       "      <td>0.000000</td>\n",
       "      <td>0.000000</td>\n",
       "    </tr>\n",
       "    <tr>\n",
       "      <th>4</th>\n",
       "      <td>0.844466</td>\n",
       "      <td>0.453488</td>\n",
       "      <td>0.441860</td>\n",
       "      <td>0.418605</td>\n",
       "      <td>0.005814</td>\n",
       "      <td>0.000000</td>\n",
       "      <td>0.000000</td>\n",
       "    </tr>\n",
       "    <tr>\n",
       "      <th>...</th>\n",
       "      <td>...</td>\n",
       "      <td>...</td>\n",
       "      <td>...</td>\n",
       "      <td>...</td>\n",
       "      <td>...</td>\n",
       "      <td>...</td>\n",
       "      <td>...</td>\n",
       "    </tr>\n",
       "    <tr>\n",
       "      <th>260</th>\n",
       "      <td>0.356905</td>\n",
       "      <td>0.558140</td>\n",
       "      <td>0.558140</td>\n",
       "      <td>0.558140</td>\n",
       "      <td>0.000000</td>\n",
       "      <td>0.007246</td>\n",
       "      <td>0.000000</td>\n",
       "    </tr>\n",
       "    <tr>\n",
       "      <th>261</th>\n",
       "      <td>0.425661</td>\n",
       "      <td>0.546512</td>\n",
       "      <td>0.372093</td>\n",
       "      <td>0.267442</td>\n",
       "      <td>0.017442</td>\n",
       "      <td>0.021739</td>\n",
       "      <td>0.018519</td>\n",
       "    </tr>\n",
       "    <tr>\n",
       "      <th>262</th>\n",
       "      <td>0.234868</td>\n",
       "      <td>0.523256</td>\n",
       "      <td>0.430233</td>\n",
       "      <td>0.337209</td>\n",
       "      <td>0.000000</td>\n",
       "      <td>0.007246</td>\n",
       "      <td>0.009259</td>\n",
       "    </tr>\n",
       "    <tr>\n",
       "      <th>263</th>\n",
       "      <td>0.502253</td>\n",
       "      <td>0.767442</td>\n",
       "      <td>0.639535</td>\n",
       "      <td>0.476744</td>\n",
       "      <td>0.029070</td>\n",
       "      <td>0.021739</td>\n",
       "      <td>0.027778</td>\n",
       "    </tr>\n",
       "    <tr>\n",
       "      <th>264</th>\n",
       "      <td>0.196474</td>\n",
       "      <td>0.790698</td>\n",
       "      <td>0.558140</td>\n",
       "      <td>0.360465</td>\n",
       "      <td>0.034884</td>\n",
       "      <td>0.028986</td>\n",
       "      <td>0.027778</td>\n",
       "    </tr>\n",
       "  </tbody>\n",
       "</table>\n",
       "<p>265 rows × 7 columns</p>\n",
       "</div>"
      ],
      "text/plain": [
       "     idade_empresa_anos  idade_maxima_socios  idade_media_socios  \\\n",
       "0              0.412341             0.453488            0.441860   \n",
       "1              0.306170             0.767442            0.767442   \n",
       "2              0.776102             0.453488            0.441860   \n",
       "3              0.844074             0.453488            0.441860   \n",
       "4              0.844466             0.453488            0.441860   \n",
       "..                  ...                  ...                 ...   \n",
       "260            0.356905             0.558140            0.558140   \n",
       "261            0.425661             0.546512            0.372093   \n",
       "262            0.234868             0.523256            0.430233   \n",
       "263            0.502253             0.767442            0.639535   \n",
       "264            0.196474             0.790698            0.558140   \n",
       "\n",
       "     idade_minima_socios  qt_filiais  qt_socios  qt_socios_st_regular  \n",
       "0               0.418605    0.011628   0.000000              0.000000  \n",
       "1               0.767442    0.000000   0.007246              0.000000  \n",
       "2               0.418605    0.000000   0.000000              0.000000  \n",
       "3               0.418605    0.000000   0.000000              0.000000  \n",
       "4               0.418605    0.005814   0.000000              0.000000  \n",
       "..                   ...         ...        ...                   ...  \n",
       "260             0.558140    0.000000   0.007246              0.000000  \n",
       "261             0.267442    0.017442   0.021739              0.018519  \n",
       "262             0.337209    0.000000   0.007246              0.009259  \n",
       "263             0.476744    0.029070   0.021739              0.027778  \n",
       "264             0.360465    0.034884   0.028986              0.027778  \n",
       "\n",
       "[265 rows x 7 columns]"
      ]
     },
     "execution_count": 3,
     "metadata": {},
     "output_type": "execute_result"
    }
   ],
   "source": [
    "def min_max_col(df_transform,cols):\n",
    "    '''\n",
    "    Input \n",
    "    Takes in a dataframe and a column being a continuous feature to normalize (min =0, and max =1)\n",
    "    \n",
    "    Output\n",
    "    New dataframe with the column passed normalized\n",
    "    '''\n",
    "    mmsc = MinMaxScaler()\n",
    "    for col in cols:\n",
    "        var_cont = df_transform.loc[:,col].values.reshape(-1,1)\n",
    "        var_cont_standarized = mmsc.fit_transform(var_cont)\n",
    "        df_transform.loc[:,col] = var_cont_standarized\n",
    "    return df_transform;\n",
    "\n",
    "\n",
    "\n",
    "#Keeping the same rule applied to the market, which is normalization over standarization in iteration 0\n",
    "portfolio3 = min_max_col(portfolio3,non_bolean_cols)\n",
    "portfolio3[non_bolean_cols]"
   ]
  },
  {
   "cell_type": "code",
   "execution_count": 4,
   "metadata": {},
   "outputs": [
    {
     "data": {
      "text/plain": [
       "((265, 265),\n",
       " array([[0.        , 0.05949069, 0.07867876, ..., 0.07275528, 0.06309787,\n",
       "         0.06945597],\n",
       "        [0.05949069, 0.        , 0.09097382, ..., 0.08289523, 0.06874134,\n",
       "         0.08725666],\n",
       "        [0.07867876, 0.09097382, 0.        , ..., 0.02188547, 0.04660119,\n",
       "         0.07754648],\n",
       "        ...,\n",
       "        [0.07275528, 0.08289523, 0.02188547, ..., 0.        , 0.06424994,\n",
       "         0.06783611],\n",
       "        [0.06309787, 0.06874134, 0.04660119, ..., 0.06424994, 0.        ,\n",
       "         0.09141041],\n",
       "        [0.06945597, 0.08725666, 0.07754648, ..., 0.06783611, 0.09141041,\n",
       "         0.        ]], dtype=float32))"
      ]
     },
     "execution_count": 4,
     "metadata": {},
     "output_type": "execute_result"
    }
   ],
   "source": [
    "dissimilarity_matrix = gower.gower_matrix(portfolio3)\n",
    "dissimilarity_matrix.shape, dissimilarity_matrix"
   ]
  },
  {
   "cell_type": "code",
   "execution_count": 5,
   "metadata": {},
   "outputs": [
    {
     "data": {
      "text/plain": [
       "[66, 224, 16, 160]"
      ]
     },
     "execution_count": 5,
     "metadata": {},
     "output_type": "execute_result"
    }
   ],
   "source": [
    "# set random initial medoids\n",
    "initial_medoids = [1, 10, 50, 100]\n",
    "# create K-Medoids algorithm for processing distance matrix instead of points\n",
    "kmedoids_instance = kmedoids(dissimilarity_matrix, initial_medoids, data_type='distance_matrix')\n",
    "# run cluster analysis and obtain results\n",
    "kmedoids_instance.process()\n",
    "\n",
    "clusters = kmedoids_instance.get_clusters()\n",
    "\n",
    "medoids = kmedoids_instance.get_medoids()\n",
    "\n",
    "medoids"
   ]
  },
  {
   "cell_type": "code",
   "execution_count": 6,
   "metadata": {},
   "outputs": [
    {
     "data": {
      "text/plain": [
       "<type_encoding.CLUSTER_INDEX_LIST_SEPARATION: 1>"
      ]
     },
     "execution_count": 6,
     "metadata": {},
     "output_type": "execute_result"
    }
   ],
   "source": [
    "kmedoids_instance.get_cluster_encoding()"
   ]
  },
  {
   "cell_type": "code",
   "execution_count": 7,
   "metadata": {},
   "outputs": [
    {
     "data": {
      "text/plain": [
       "(33, 43, 53, 136)"
      ]
     },
     "execution_count": 7,
     "metadata": {},
     "output_type": "execute_result"
    }
   ],
   "source": [
    "len(clusters[0]), len(clusters[1]), len(clusters[2]), len(clusters[3])"
   ]
  },
  {
   "cell_type": "code",
   "execution_count": 8,
   "metadata": {},
   "outputs": [
    {
     "data": {
      "text/plain": [
       "3    136\n",
       "2     53\n",
       "1     43\n",
       "0     33\n",
       "dtype: int64"
      ]
     },
     "execution_count": 8,
     "metadata": {},
     "output_type": "execute_result"
    }
   ],
   "source": [
    "labels = pd.Series(0,index=range(0,portfolio3.shape[0]))\n",
    "for i in range (0,len(clusters)):\n",
    "    for n in range (0,len(clusters[i])):\n",
    "        index = clusters[i][n]\n",
    "        labels.iloc[index] = i\n",
    "\n",
    "labels.value_counts()"
   ]
  },
  {
   "cell_type": "code",
   "execution_count": 9,
   "metadata": {},
   "outputs": [
    {
     "data": {
      "text/plain": [
       "0.23027454"
      ]
     },
     "execution_count": 9,
     "metadata": {},
     "output_type": "execute_result"
    }
   ],
   "source": [
    "silhouette_score(dissimilarity_matrix, labels, metric='precomputed', sample_size=None, random_state=42)"
   ]
  },
  {
   "cell_type": "code",
   "execution_count": 10,
   "metadata": {},
   "outputs": [
    {
     "data": {
      "image/png": "[encoded data removed]",
      "text/plain": [
       "<Figure size 1296x504 with 1 Axes>"
      ]
     },
     "metadata": {
      "needs_background": "light"
     },
     "output_type": "display_data"
    }
   ],
   "source": [
    "X = dissimilarity_matrix\n",
    "\n",
    "# Get silhouette samples\n",
    "silhouette_vals = silhouette_samples(X, labels,metric='precomputed')\n",
    "# Silhouette plot\n",
    "fig, (ax1) = plt.subplots(1)\n",
    "fig.set_size_inches(18, 7)\n",
    "    \n",
    "y_ticks = []\n",
    "y_lower, y_upper = 0, 0\n",
    "for i, cluster in enumerate(np.unique(labels)):\n",
    "    cluster_silhouette_vals = silhouette_vals[labels == cluster]\n",
    "    cluster_silhouette_vals.sort()\n",
    "    y_upper += len(cluster_silhouette_vals)\n",
    "    ax1.barh(range(y_lower, y_upper), cluster_silhouette_vals, edgecolor='none', height=1)\n",
    "    ax1.text(-0.03, (y_lower + y_upper) / 2, str(i + 1))\n",
    "    y_lower += len(cluster_silhouette_vals)\n",
    "\n",
    "    # Get the average silhouette score and plot it\n",
    "avg_score = np.mean(silhouette_vals)\n",
    "ax1.axvline(avg_score, linestyle='--', linewidth=2, color='green')\n",
    "ax1.set_yticks([])\n",
    "ax1.set_xlim([-0.1, 1])\n",
    "ax1.set_xlabel('Silhouette coefficient values')\n",
    "ax1.set_ylabel('Cluster labels')\n",
    "ax1.set_title('Silhouette plot for the various clusters', y=1.02);"
   ]
  },
  {
   "cell_type": "code",
   "execution_count": 11,
   "metadata": {},
   "outputs": [
    {
     "data": {
      "image/png": "[encoded data removed]",
      "text/plain": [
       "<Figure size 1296x504 with 1 Axes>"
      ]
     },
     "metadata": {
      "needs_background": "light"
     },
     "output_type": "display_data"
    },
    {
     "data": {
      "image/png": "[encoded data removed]",
      "text/plain": [
       "<Figure size 1296x504 with 1 Axes>"
      ]
     },
     "metadata": {
      "needs_background": "light"
     },
     "output_type": "display_data"
    },
    {
     "data": {
      "image/png": "[encoded data removed]",
      "text/plain": [
       "<Figure size 1296x504 with 1 Axes>"
      ]
     },
     "metadata": {
      "needs_background": "light"
     },
     "output_type": "display_data"
    },
    {
     "data": {
      "image/png": "[encoded data removed]",
      "text/plain": [
       "<Figure size 1296x504 with 1 Axes>"
      ]
     },
     "metadata": {
      "needs_background": "light"
     },
     "output_type": "display_data"
    },
    {
     "data": {
      "image/png": "[encoded data removed]",
      "text/plain": [
       "<Figure size 1296x504 with 1 Axes>"
      ]
     },
     "metadata": {
      "needs_background": "light"
     },
     "output_type": "display_data"
    },
    {
     "data": {
      "image/png": "[encoded data removed]",
      "text/plain": [
       "<Figure size 1296x504 with 1 Axes>"
      ]
     },
     "metadata": {
      "needs_background": "light"
     },
     "output_type": "display_data"
    }
   ],
   "source": [
    "k_scores = []\n",
    "wss = []\n",
    "random.seed(42)\n",
    "for i, k in enumerate([2, 3, 4, 5, 6, 7]):\n",
    "    fig, (ax1) = plt.subplots(1)\n",
    "    fig.set_size_inches(18, 7)\n",
    "    \n",
    "    medoids_km = random.sample(range(1, 266), k)\n",
    "    # Run the Kmeans algorithm\n",
    "    km = kmedoids(dissimilarity_matrix, medoids_km, data_type='distance_matrix')\n",
    "    km.process()\n",
    "    #centroids = kmedoids_instance.get_medoids()\n",
    "    clusters_km = km.get_clusters()\n",
    "    labels_km = pd.Series(0,index=range(0,portfolio3.shape[0]))\n",
    "    for i in range (0,len(clusters_km)):\n",
    "        for n in range (0,len(clusters_km[i])):\n",
    "            index = clusters_km[i][n]\n",
    "            labels_km.iloc[index] = i\n",
    "    \n",
    "    clusters_distances = []\n",
    "    for n in range (0,len(clusters_km)):\n",
    "        clusters_distances.append(X[medoids_km[n]][labels_km[labels_km == n].index].sum())\n",
    "    \n",
    "    wss.append(sum(clusters_distances))\n",
    "\n",
    "    # Get silhouette samples\n",
    "    silhouette_vals = silhouette_samples(X, labels_km,metric='precomputed')\n",
    "\n",
    "    # Silhouette plot\n",
    "    y_ticks = []\n",
    "    y_lower, y_upper = 0, 0\n",
    "    for i, cluster in enumerate(np.unique(labels_km)):\n",
    "        cluster_silhouette_vals = silhouette_vals[labels_km == cluster]\n",
    "        cluster_silhouette_vals.sort()\n",
    "        y_upper += len(cluster_silhouette_vals)\n",
    "        ax1.barh(range(y_lower, y_upper), cluster_silhouette_vals, edgecolor='none', height=1)\n",
    "        ax1.text(-0.03, (y_lower + y_upper) / 2, str(i + 1))\n",
    "        y_lower += len(cluster_silhouette_vals)\n",
    "\n",
    "    # Get the average silhouette score and plot it\n",
    "    \n",
    "    avg_score = np.mean(silhouette_vals)\n",
    "    k_scores.append(avg_score)\n",
    "    ax1.axvline(avg_score, linestyle='--', linewidth=2, color='green')\n",
    "    ax1.set_yticks([])\n",
    "    ax1.set_xlim([-0.1, 1])\n",
    "    ax1.set_xlabel('Silhouette coefficient values')\n",
    "    ax1.set_ylabel('Cluster labels')\n",
    "    ax1.set_title('Silhouette plot for the various clusters', y=1.02);\n",
    "    \n",
    "   "
   ]
  },
  {
   "cell_type": "code",
   "execution_count": 12,
   "metadata": {},
   "outputs": [
    {
     "data": {
      "text/plain": [
       "[0.19260731, 0.21457124, 0.20716766, 0.12193871, 0.15591316, 0.11121259]"
      ]
     },
     "execution_count": 12,
     "metadata": {},
     "output_type": "execute_result"
    }
   ],
   "source": [
    "k_scores"
   ]
  },
  {
   "cell_type": "code",
   "execution_count": 13,
   "metadata": {},
   "outputs": [
    {
     "data": {
      "text/plain": [
       "[12.413126468658447,\n",
       " 10.890002369880676,\n",
       " 10.685639381408691,\n",
       " 11.172444999217987,\n",
       " 11.264021083712578,\n",
       " 9.15341991186142]"
      ]
     },
     "execution_count": 13,
     "metadata": {},
     "output_type": "execute_result"
    }
   ],
   "source": [
    "wss"
   ]
  },
  {
   "cell_type": "code",
   "execution_count": 14,
   "metadata": {},
   "outputs": [
    {
     "data": {
      "image/png": "[encoded data removed]",
      "text/plain": [
       "<Figure size 1728x720 with 1 Axes>"
      ]
     },
     "metadata": {},
     "output_type": "display_data"
    }
   ],
   "source": [
    "sns.set(font_scale = 1.3)\n",
    "\n",
    "plt.figure(figsize=(24,10))\n",
    "plt.plot(list(range(2, 8)), wss,marker='o', linewidth=3, markersize=10)\n",
    "\n",
    "plt.title('The Elbow Method') \n",
    "plt.xlabel(\"Number of clusters\")\n",
    "plt.ylabel(\"Within Sum of Squares\")\n",
    "\n",
    "plt.show()"
   ]
  },
  {
   "cell_type": "code",
   "execution_count": 15,
   "metadata": {},
   "outputs": [
    {
     "data": {
      "image/png": "[encoded data removed]",
      "text/plain": [
       "<Figure size 1728x720 with 1 Axes>"
      ]
     },
     "metadata": {},
     "output_type": "display_data"
    }
   ],
   "source": [
    "def draw_umap(data, n_neighbors, min_dist, n_components, title, metric='euclidean'):\n",
    "    fit = umap.UMAP(\n",
    "        n_neighbors=n_neighbors,\n",
    "        min_dist=min_dist,\n",
    "        n_components=n_components,\n",
    "        metric=metric,\n",
    "        random_state = 42\n",
    "    )\n",
    "    u = fit.fit_transform(data);\n",
    "    fig = plt.figure(figsize=(24,10))\n",
    "    if n_components == 1:\n",
    "        ax = fig.add_subplot(111)\n",
    "        ax.scatter(u[:,0], range(len(u)))\n",
    "    if n_components == 2:\n",
    "        ax = fig.add_subplot(111)\n",
    "        ax.scatter(u[:,0], u[:,1])\n",
    "    if n_components == 3:\n",
    "        ax = fig.add_subplot(111, projection='3d')\n",
    "        ax.scatter(u[:,0], u[:,1], u[:,2], s=100)\n",
    "    plt.title(title, fontsize=18)\n",
    "    \n",
    "title = 'UMAP projection of portfolio3'    \n",
    "draw_umap(portfolio3,14,0.1,3,title)"
   ]
  },
  {
   "cell_type": "code",
   "execution_count": 49,
   "metadata": {},
   "outputs": [
    {
     "name": "stderr",
     "output_type": "stream",
     "text": [
      "c:\\users\\ricardo_2\\appdata\\local\\programs\\python\\python38\\lib\\site-packages\\umap\\umap_.py:1528: UserWarning:\n",
      "\n",
      "gradient function is not yet implemented for dice distance metric; inverse_transform will be unavailable\n",
      "\n"
     ]
    },
    {
     "data": {
      "application/vnd.plotly.v1+json": {
       "config": {
        "plotlyServerURL": "https://plot.ly"
       },
       "data": [
        {
         "mode": "markers",
         "name": "Cluster 1",
         "type": "scatter3d",
         "x": [
          -0.7918695211410522,
          -0.680365800857544,
          -0.7571136951446533,
          0.21163368225097656,
          -0.6248705387115479,
          -0.2763327956199646,
          -0.07485838234424591,
          -0.7262505888938904,
          -0.8164312243461609,
          -0.2555328607559204,
          2.195564031600952,
          -0.058889444917440414,
          -0.27668479084968567,
          -0.1335744857788086,
          -0.5590920448303223,
          -0.8374966382980347,
          -0.967278242111206,
          -0.782239556312561,
          -0.05354411527514458,
          -0.71075040102005,
          -0.14297278225421906,
          -0.03629819303750992,
          -3.124074697494507,
          -0.8342742323875427,
          -1.1082606315612793,
          -0.6304542422294617,
          0.12294711172580719,
          -0.07501115649938583,
          -0.8381979465484619,
          -0.6387485861778259,
          -0.9121119976043701,
          -0.7880740761756897,
          -0.8689914345741272
         ],
         "y": [
          10.095640182495117,
          10.074063301086426,
          9.822114944458008,
          10.034562110900879,
          9.69340991973877,
          10.540194511413574,
          9.996593475341797,
          9.639171600341797,
          9.695857048034668,
          9.698636054992676,
          13.642593383789062,
          9.969076156616211,
          10.909006118774414,
          10.862995147705078,
          9.74835205078125,
          10.597630500793457,
          10.438140869140625,
          10.588532447814941,
          9.880765914916992,
          9.847857475280762,
          10.166787147521973,
          9.93421745300293,
          11.786615371704102,
          10.678884506225586,
          10.461847305297852,
          9.874497413635254,
          10.220991134643555,
          9.918213844299316,
          9.679855346679688,
          9.700981140136719,
          10.476949691772461,
          9.675261497497559,
          10.579123497009277
         ],
         "z": [
          8.290492057800293,
          8.206472396850586,
          8.645453453063965,
          8.293720245361328,
          8.647489547729492,
          8.446462631225586,
          7.93364143371582,
          8.878350257873535,
          9.092248916625977,
          8.451852798461914,
          5.295224666595459,
          8.499401092529297,
          8.091360092163086,
          8.234530448913574,
          8.736594200134277,
          8.081527709960938,
          8.135047912597656,
          8.030117988586426,
          7.768497467041016,
          8.457273483276367,
          7.41318941116333,
          7.741377830505371,
          8.192413330078125,
          7.942707061767578,
          8.15307331085205,
          8.314142227172852,
          7.936417102813721,
          8.506902694702148,
          9.049846649169922,
          8.807146072387695,
          8.021913528442383,
          9.026678085327148,
          7.946152687072754
         ]
        },
        {
         "mode": "markers",
         "name": "Cluster 2",
         "type": "scatter3d",
         "x": [
          0.9707436561584473,
          0.7398976683616638,
          -0.11913052946329117,
          0.6175165772438049,
          0.6697112917900085,
          -1.0877294540405273,
          -1.4259684085845947,
          -0.003100919770076871,
          0.26668211817741394,
          0.8641320466995239,
          0.8634613156318665,
          0.5385724306106567,
          0.904735267162323,
          0.2923382818698883,
          -1.1768759489059448,
          0.7753027677536011,
          -1.1429808139801025,
          -1.1411668062210083,
          1.2054263353347778,
          1.0339311361312866,
          0.012249385006725788,
          1.067734956741333,
          0.2862675189971924,
          0.22372224926948547,
          -0.32015782594680786,
          1.1028987169265747,
          1.0173265933990479,
          -1.1574220657348633,
          1.1159998178482056,
          0.15843793749809265,
          0.8365218043327332,
          -1.2182568311691284,
          1.2002238035202026,
          -1.6687965393066406,
          -0.9302434921264648,
          1.1005761623382568,
          -0.09397797286510468,
          -0.26221850514411926,
          0.33586448431015015,
          0.8528143763542175,
          1.2316362857818604,
          0.045220475643873215,
          -1.1517930030822754
         ],
         "y": [
          11.00157642364502,
          11.30936336517334,
          10.857789993286133,
          10.347511291503906,
          11.135665893554688,
          13.624016761779785,
          13.338022232055664,
          10.04213809967041,
          10.17186164855957,
          10.303481101989746,
          10.295040130615234,
          13.783626556396484,
          10.266925811767578,
          11.382150650024414,
          13.585588455200195,
          10.97961711883545,
          13.402068138122559,
          13.754117012023926,
          10.92221736907959,
          10.91492748260498,
          9.876646995544434,
          13.724380493164062,
          11.248279571533203,
          10.555765151977539,
          10.330764770507812,
          11.003103256225586,
          10.94493579864502,
          13.418488502502441,
          13.784914016723633,
          10.316923141479492,
          11.03054141998291,
          13.786028861999512,
          10.900995254516602,
          13.007221221923828,
          13.290783882141113,
          13.744400978088379,
          10.87813663482666,
          10.80926513671875,
          10.454421997070312,
          10.303290367126465,
          10.90297794342041,
          10.73991870880127,
          13.516228675842285
         ],
         "z": [
          7.814774513244629,
          7.732788562774658,
          8.056949615478516,
          8.279085159301758,
          7.898521423339844,
          7.585854530334473,
          5.691314220428467,
          7.526268482208252,
          8.254858016967773,
          8.221829414367676,
          8.244112968444824,
          5.023760795593262,
          8.252367973327637,
          7.766970157623291,
          7.378159523010254,
          7.927292346954346,
          6.996814250946045,
          7.570714950561523,
          7.876450061798096,
          7.750397205352783,
          8.399904251098633,
          5.6842217445373535,
          7.929709434509277,
          7.613467693328857,
          7.5290374755859375,
          7.872153282165527,
          7.770381927490234,
          7.5536322593688965,
          5.661223888397217,
          7.572445869445801,
          7.658811569213867,
          7.5784454345703125,
          7.912247657775879,
          5.443638801574707,
          6.880823612213135,
          5.683010101318359,
          8.190765380859375,
          8.065820693969727,
          8.360349655151367,
          8.21961498260498,
          7.8731865882873535,
          7.879913806915283,
          7.472348213195801
         ]
        },
        {
         "mode": "markers",
         "name": "Cluster 3",
         "type": "scatter3d",
         "x": [
          1.1053978204727173,
          1.67498779296875,
          0.7511909008026123,
          1.861005425453186,
          1.8913862705230713,
          -0.7396888732910156,
          1.0888428688049316,
          -0.48077842593193054,
          1.3651454448699951,
          1.7854951620101929,
          1.4977227449417114,
          1.3040030002593994,
          1.8322011232376099,
          -0.7246048450469971,
          2.325695276260376,
          0.8774405717849731,
          -1.459372639656067,
          1.6360834836959839,
          0.9578496813774109,
          1.1076158285140991,
          1.8379532098770142,
          1.356757640838623,
          2.0511977672576904,
          0.9606276750564575,
          1.580567717552185,
          1.7497838735580444,
          1.125662922859192,
          1.8293371200561523,
          1.2828586101531982,
          1.3050950765609741,
          1.5978000164031982,
          1.5320378541946411,
          -1.0899838209152222,
          1.8511383533477783,
          1.3815333843231201,
          2.1462202072143555,
          1.663750410079956,
          1.78455650806427,
          1.6768113374710083,
          0.9241999387741089,
          -0.6209096312522888,
          1.447532057762146,
          2.194943904876709,
          1.4684925079345703,
          1.6647546291351318,
          2.193246603012085,
          0.8825507760047913,
          1.156136155128479,
          1.9327421188354492,
          -1.3196220397949219,
          -1.0180267095565796,
          1.0326539278030396,
          -0.8691328763961792
         ],
         "y": [
          13.181564331054688,
          13.576217651367188,
          13.517729759216309,
          13.809524536132812,
          13.370779037475586,
          12.713683128356934,
          13.074280738830566,
          12.723475456237793,
          13.541422843933105,
          13.591383934020996,
          13.5857572555542,
          13.377573013305664,
          13.846314430236816,
          12.318185806274414,
          13.646171569824219,
          13.673677444458008,
          12.780673027038574,
          13.780723571777344,
          13.438822746276855,
          13.24048900604248,
          13.530200958251953,
          13.297507286071777,
          13.714288711547852,
          13.46098804473877,
          13.849943161010742,
          13.499019622802734,
          13.267618179321289,
          13.61877727508545,
          13.403976440429688,
          13.319206237792969,
          13.637564659118652,
          13.711142539978027,
          13.355521202087402,
          13.875852584838867,
          13.860002517700195,
          13.452982902526855,
          13.432361602783203,
          13.418431282043457,
          13.64500904083252,
          13.672110557556152,
          13.058674812316895,
          13.370416641235352,
          13.587190628051758,
          13.497599601745605,
          13.764954566955566,
          13.685302734375,
          12.992043495178223,
          13.216824531555176,
          13.741581916809082,
          12.634857177734375,
          11.989949226379395,
          13.365660667419434,
          11.721179962158203
         ],
         "z": [
          4.424753189086914,
          4.437979221343994,
          4.474618911743164,
          4.957143306732178,
          5.713194370269775,
          4.810494422912598,
          4.348466396331787,
          4.562048435211182,
          5.819649696350098,
          4.405923366546631,
          5.26544189453125,
          5.104324817657471,
          5.0129313468933105,
          5.068160057067871,
          5.310421466827393,
          4.647067546844482,
          5.058352470397949,
          4.573897361755371,
          4.39921760559082,
          4.364539623260498,
          5.753540992736816,
          5.039135932922363,
          5.207074165344238,
          4.786592960357666,
          4.959914207458496,
          5.724374771118164,
          4.51491641998291,
          5.649453163146973,
          5.664572238922119,
          5.06189489364624,
          4.550471782684326,
          4.432076930999756,
          5.446200370788574,
          5.459526538848877,
          5.121016025543213,
          5.43766975402832,
          5.832032680511475,
          5.497490882873535,
          4.379922866821289,
          4.981221675872803,
          5.152803421020508,
          4.675907611846924,
          5.341976165771484,
          4.417656898498535,
          4.408061504364014,
          5.231723308563232,
          4.475516319274902,
          4.952030658721924,
          5.267313003540039,
          4.906216144561768,
          5.4820332527160645,
          4.427874565124512,
          5.025727272033691
         ]
        },
        {
         "mode": "markers",
         "name": "Cluster 4",
         "type": "scatter3d",
         "x": [
          -3.7477450370788574,
          -1.3387993574142456,
          -4.271819114685059,
          -3.4672741889953613,
          -2.168959379196167,
          -4.545202732086182,
          -1.148531198501587,
          -0.9431105852127075,
          -2.263742208480835,
          -1.300201416015625,
          -2.4616851806640625,
          -4.684489727020264,
          -1.926116943359375,
          -2.2296249866485596,
          -4.553970813751221,
          -2.6447155475616455,
          -1.1699819564819336,
          -2.7525458335876465,
          -3.33990740776062,
          -3.009310007095337,
          -1.6775528192520142,
          -2.0021860599517822,
          -0.9762701392173767,
          -2.1087806224823,
          -0.9998772144317627,
          -4.415011882781982,
          -2.6521823406219482,
          -4.497472286224365,
          -3.888040542602539,
          -2.711005210876465,
          -4.409579277038574,
          -4.231687545776367,
          -1.1577584743499756,
          -1.9358564615249634,
          -2.5130996704101562,
          -1.3680123090744019,
          -2.3254659175872803,
          -1.5601651668548584,
          -2.0743248462677,
          -1.2701966762542725,
          -1.322279930114746,
          -1.8409088850021362,
          -1.110666036605835,
          -1.2752642631530762,
          -3.5876994132995605,
          -3.547705888748169,
          -3.889214277267456,
          -4.172033309936523,
          -2.6998512744903564,
          -1.1033132076263428,
          -1.5877875089645386,
          -1.7134257555007935,
          -2.9984500408172607,
          -4.520796775817871,
          -2.2146902084350586,
          -4.050130844116211,
          -2.6860311031341553,
          -2.093355417251587,
          -1.2671934366226196,
          -2.5023632049560547,
          -2.5149965286254883,
          -2.5757663249969482,
          -2.2781033515930176,
          -2.604598045349121,
          -2.3639798164367676,
          -0.9466913342475891,
          -3.3708300590515137,
          -2.255528450012207,
          -1.9635025262832642,
          -3.4871222972869873,
          -1.8880313634872437,
          -4.582954406738281,
          -3.805370569229126,
          -2.0667221546173096,
          -2.666731595993042,
          -1.4447553157806396,
          -0.9687485694885254,
          -3.67162823677063,
          -2.534838914871216,
          -1.258410930633545,
          -2.4501922130584717,
          -3.170335292816162,
          -3.519479513168335,
          -3.7056267261505127,
          -2.095639705657959,
          -2.4673171043395996,
          -2.645854949951172,
          -1.9264553785324097,
          -1.427211046218872,
          -4.591629981994629,
          -4.459883213043213,
          -1.0973713397979736,
          -1.3637081384658813,
          -3.059366464614868,
          -2.191838264465332,
          -3.203784942626953,
          -0.9959324598312378,
          -1.077905535697937,
          -1.9712822437286377,
          -2.7057852745056152,
          -2.229609489440918,
          -3.61875581741333,
          -1.32150399684906,
          -1.1251089572906494,
          -2.55960750579834,
          -1.1841672658920288,
          -2.5949642658233643,
          -4.423721790313721,
          -1.562620997428894,
          -1.6568431854248047,
          -3.243286609649658,
          -2.323408603668213,
          -2.3867549896240234,
          -3.571711778640747,
          -2.4623093605041504,
          -3.7070517539978027,
          -2.4062299728393555,
          -3.4874095916748047,
          -4.185102462768555,
          -4.391214370727539,
          -4.171178817749023,
          -1.8390315771102905,
          -3.402236223220825,
          -1.0893501043319702,
          -1.8148150444030762,
          -2.3715591430664062,
          -3.6089565753936768,
          -3.911612033843994,
          -2.86979603767395,
          -2.238027572631836,
          -3.8798983097076416,
          -1.342549204826355,
          -2.7003986835479736,
          -4.226757049560547,
          -2.02465558052063,
          -3.003330945968628
         ],
         "y": [
          13.700028419494629,
          13.924727439880371,
          12.704948425292969,
          13.590600967407227,
          13.210951805114746,
          12.456750869750977,
          11.909546852111816,
          12.826106071472168,
          11.759358406066895,
          11.906813621520996,
          12.363873481750488,
          12.59000015258789,
          11.472256660461426,
          12.291977882385254,
          12.457781791687012,
          12.57546329498291,
          11.82287311553955,
          12.530081748962402,
          11.832344055175781,
          12.288426399230957,
          12.22862720489502,
          12.043381690979004,
          12.5512056350708,
          12.01727294921875,
          11.738698959350586,
          13.185633659362793,
          12.482964515686035,
          12.925522804260254,
          13.675908088684082,
          11.68912124633789,
          12.692557334899902,
          12.534971237182617,
          11.927990913391113,
          11.625715255737305,
          11.620245933532715,
          13.542302131652832,
          11.550165176391602,
          13.476102828979492,
          13.56450366973877,
          12.097895622253418,
          12.140975952148438,
          12.146722793579102,
          12.006637573242188,
          13.490927696228027,
          13.688972473144531,
          13.538551330566406,
          13.253342628479004,
          12.609821319580078,
          11.720402717590332,
          11.85247802734375,
          12.265762329101562,
          13.112523078918457,
          12.28464412689209,
          12.847704887390137,
          13.533437728881836,
          13.272757530212402,
          11.847570419311523,
          12.916271209716797,
          12.078510284423828,
          12.040410995483398,
          11.591883659362793,
          12.585155487060547,
          13.325292587280273,
          11.763256072998047,
          11.862101554870605,
          12.841598510742188,
          11.895499229431152,
          13.317411422729492,
          11.65422534942627,
          11.805731773376465,
          12.16136646270752,
          12.49143123626709,
          13.811028480529785,
          12.129931449890137,
          12.468138694763184,
          12.066030502319336,
          12.625853538513184,
          13.28046989440918,
          12.07667064666748,
          11.886680603027344,
          13.435924530029297,
          13.803936958312988,
          11.793773651123047,
          11.801473617553711,
          12.214889526367188,
          12.49363899230957,
          13.3560209274292,
          11.883448600769043,
          11.95198917388916,
          12.663536071777344,
          12.784399032592773,
          12.634809494018555,
          11.948159217834473,
          13.713129997253418,
          13.380022048950195,
          11.940057754516602,
          13.120051383972168,
          12.129715919494629,
          11.466915130615234,
          12.470561027526855,
          13.373416900634766,
          11.686243057250977,
          13.491568565368652,
          13.329401016235352,
          12.20811653137207,
          13.692473411560059,
          12.335041999816895,
          12.979724884033203,
          13.796748161315918,
          12.649940490722656,
          13.812987327575684,
          11.670313835144043,
          12.315674781799316,
          13.321889877319336,
          12.496224403381348,
          13.725151062011719,
          12.417196273803711,
          13.573225975036621,
          12.637514114379883,
          12.975032806396484,
          13.43723201751709,
          12.1673583984375,
          11.6653413772583,
          12.58284854888916,
          11.884865760803223,
          13.056578636169434,
          13.5072021484375,
          13.612325668334961,
          12.308795928955078,
          13.361800193786621,
          13.579277992248535,
          12.055741310119629,
          11.679492950439453,
          12.954500198364258,
          11.883232116699219,
          13.047560691833496
         ],
         "z": [
          6.300064563751221,
          7.581813812255859,
          7.033241271972656,
          6.913228511810303,
          7.029202461242676,
          6.784828186035156,
          4.94030237197876,
          7.008563041687012,
          4.498083591461182,
          4.45943021774292,
          6.023087978363037,
          6.659188747406006,
          3.935612440109253,
          6.28441858291626,
          6.884181976318359,
          6.514945030212402,
          4.208556652069092,
          8.209136962890625,
          8.139778137207031,
          6.198976993560791,
          6.1665873527526855,
          7.510129451751709,
          6.70639181137085,
          4.040069580078125,
          4.927881240844727,
          6.528055667877197,
          8.28897476196289,
          6.561223983764648,
          6.407538414001465,
          8.944498062133789,
          6.752766132354736,
          7.152085781097412,
          5.498669147491455,
          3.815173864364624,
          4.533991813659668,
          5.735283374786377,
          4.231658935546875,
          7.049559116363525,
          7.328956604003906,
          4.475342750549316,
          6.455211639404297,
          4.013869762420654,
          5.48261833190918,
          5.612785339355469,
          6.450103282928467,
          6.970630168914795,
          6.977193355560303,
          7.201897621154785,
          8.893769264221191,
          4.9611616134643555,
          4.416880130767822,
          7.431528568267822,
          6.185817241668701,
          6.612366676330566,
          7.051709175109863,
          6.808105945587158,
          8.782147407531738,
          5.576846122741699,
          4.995744705200195,
          8.484195709228516,
          4.441105365753174,
          8.148924827575684,
          6.524674892425537,
          8.866742134094238,
          4.296059608459473,
          6.875249862670898,
          8.13853931427002,
          6.506982326507568,
          3.904975652694702,
          8.120516777038574,
          4.002951622009277,
          6.78870153427124,
          6.408261299133301,
          3.9998083114624023,
          8.287105560302734,
          4.42185115814209,
          6.843375205993652,
          7.061681270599365,
          8.067834854125977,
          4.263887882232666,
          6.896701335906982,
          6.419299602508545,
          8.060685157775879,
          8.130898475646973,
          7.965564250946045,
          6.482000350952148,
          5.903599739074707,
          3.8693361282348633,
          4.286071300506592,
          6.664459228515625,
          6.619053840637207,
          6.897942543029785,
          4.375698566436768,
          6.255805969238281,
          6.906558513641357,
          8.270975112915039,
          7.13594388961792,
          5.057436943054199,
          3.944408893585205,
          8.233827590942383,
          6.918580532073975,
          8.0321044921875,
          5.707893371582031,
          6.78339147567749,
          8.163209915161133,
          7.32256555557251,
          6.1323323249816895,
          6.723057746887207,
          7.496206760406494,
          6.620913982391357,
          6.4351019859313965,
          4.29874324798584,
          5.998229503631592,
          7.078421115875244,
          6.123846530914307,
          6.281981468200684,
          6.35011100769043,
          6.883981704711914,
          6.74856424331665,
          6.722961902618408,
          6.486709117889404,
          3.9536991119384766,
          8.38685417175293,
          6.8113837242126465,
          3.903825283050537,
          5.753834247589111,
          6.9993672370910645,
          6.363946437835693,
          6.215348720550537,
          6.89726448059082,
          6.356805324554443,
          4.3583221435546875,
          8.93828010559082,
          6.928944110870361,
          7.762303829193115,
          7.139704704284668
         ]
        },
        {
         "marker": {
          "color": "rgb(255,255,0)",
          "size": 16
         },
         "mode": "markers",
         "name": "Centroids",
         "type": "scatter3d",
         "x": [
          -0.7918695211410522,
          0.9707436561584473,
          1.1053978204727173,
          -3.7477450370788574
         ],
         "y": [
          10.095640182495117,
          11.00157642364502,
          13.181564331054688,
          13.700028419494629
         ],
         "z": [
          8.290492057800293,
          7.814774513244629,
          4.424753189086914,
          6.300064563751221
         ]
        }
       ],
       "layout": {
        "template": {
         "data": {
          "bar": [
           {
            "error_x": {
             "color": "#2a3f5f"
            },
            "error_y": {
             "color": "#2a3f5f"
            },
            "marker": {
             "line": {
              "color": "#E5ECF6",
              "width": 0.5
             }
            },
            "type": "bar"
           }
          ],
          "barpolar": [
           {
            "marker": {
             "line": {
              "color": "#E5ECF6",
              "width": 0.5
             }
            },
            "type": "barpolar"
           }
          ],
          "carpet": [
           {
            "aaxis": {
             "endlinecolor": "#2a3f5f",
             "gridcolor": "white",
             "linecolor": "white",
             "minorgridcolor": "white",
             "startlinecolor": "#2a3f5f"
            },
            "baxis": {
             "endlinecolor": "#2a3f5f",
             "gridcolor": "white",
             "linecolor": "white",
             "minorgridcolor": "white",
             "startlinecolor": "#2a3f5f"
            },
            "type": "carpet"
           }
          ],
          "choropleth": [
           {
            "colorbar": {
             "outlinewidth": 0,
             "ticks": ""
            },
            "type": "choropleth"
           }
          ],
          "contour": [
           {
            "colorbar": {
             "outlinewidth": 0,
             "ticks": ""
            },
            "colorscale": [
             [
              0,
              "#0d0887"
             ],
             [
              0.1111111111111111,
              "#46039f"
             ],
             [
              0.2222222222222222,
              "#7201a8"
             ],
             [
              0.3333333333333333,
              "#9c179e"
             ],
             [
              0.4444444444444444,
              "#bd3786"
             ],
             [
              0.5555555555555556,
              "#d8576b"
             ],
             [
              0.6666666666666666,
              "#ed7953"
             ],
             [
              0.7777777777777778,
              "#fb9f3a"
             ],
             [
              0.8888888888888888,
              "#fdca26"
             ],
             [
              1,
              "#f0f921"
             ]
            ],
            "type": "contour"
           }
          ],
          "contourcarpet": [
           {
            "colorbar": {
             "outlinewidth": 0,
             "ticks": ""
            },
            "type": "contourcarpet"
           }
          ],
          "heatmap": [
           {
            "colorbar": {
             "outlinewidth": 0,
             "ticks": ""
            },
            "colorscale": [
             [
              0,
              "#0d0887"
             ],
             [
              0.1111111111111111,
              "#46039f"
             ],
             [
              0.2222222222222222,
              "#7201a8"
             ],
             [
              0.3333333333333333,
              "#9c179e"
             ],
             [
              0.4444444444444444,
              "#bd3786"
             ],
             [
              0.5555555555555556,
              "#d8576b"
             ],
             [
              0.6666666666666666,
              "#ed7953"
             ],
             [
              0.7777777777777778,
              "#fb9f3a"
             ],
             [
              0.8888888888888888,
              "#fdca26"
             ],
             [
              1,
              "#f0f921"
             ]
            ],
            "type": "heatmap"
           }
          ],
          "heatmapgl": [
           {
            "colorbar": {
             "outlinewidth": 0,
             "ticks": ""
            },
            "colorscale": [
             [
              0,
              "#0d0887"
             ],
             [
              0.1111111111111111,
              "#46039f"
             ],
             [
              0.2222222222222222,
              "#7201a8"
             ],
             [
              0.3333333333333333,
              "#9c179e"
             ],
             [
              0.4444444444444444,
              "#bd3786"
             ],
             [
              0.5555555555555556,
              "#d8576b"
             ],
             [
              0.6666666666666666,
              "#ed7953"
             ],
             [
              0.7777777777777778,
              "#fb9f3a"
             ],
             [
              0.8888888888888888,
              "#fdca26"
             ],
             [
              1,
              "#f0f921"
             ]
            ],
            "type": "heatmapgl"
           }
          ],
          "histogram": [
           {
            "marker": {
             "colorbar": {
              "outlinewidth": 0,
              "ticks": ""
             }
            },
            "type": "histogram"
           }
          ],
          "histogram2d": [
           {
            "colorbar": {
             "outlinewidth": 0,
             "ticks": ""
            },
            "colorscale": [
             [
              0,
              "#0d0887"
             ],
             [
              0.1111111111111111,
              "#46039f"
             ],
             [
              0.2222222222222222,
              "#7201a8"
             ],
             [
              0.3333333333333333,
              "#9c179e"
             ],
             [
              0.4444444444444444,
              "#bd3786"
             ],
             [
              0.5555555555555556,
              "#d8576b"
             ],
             [
              0.6666666666666666,
              "#ed7953"
             ],
             [
              0.7777777777777778,
              "#fb9f3a"
             ],
             [
              0.8888888888888888,
              "#fdca26"
             ],
             [
              1,
              "#f0f921"
             ]
            ],
            "type": "histogram2d"
           }
          ],
          "histogram2dcontour": [
           {
            "colorbar": {
             "outlinewidth": 0,
             "ticks": ""
            },
            "colorscale": [
             [
              0,
              "#0d0887"
             ],
             [
              0.1111111111111111,
              "#46039f"
             ],
             [
              0.2222222222222222,
              "#7201a8"
             ],
             [
              0.3333333333333333,
              "#9c179e"
             ],
             [
              0.4444444444444444,
              "#bd3786"
             ],
             [
              0.5555555555555556,
              "#d8576b"
             ],
             [
              0.6666666666666666,
              "#ed7953"
             ],
             [
              0.7777777777777778,
              "#fb9f3a"
             ],
             [
              0.8888888888888888,
              "#fdca26"
             ],
             [
              1,
              "#f0f921"
             ]
            ],
            "type": "histogram2dcontour"
           }
          ],
          "mesh3d": [
           {
            "colorbar": {
             "outlinewidth": 0,
             "ticks": ""
            },
            "type": "mesh3d"
           }
          ],
          "parcoords": [
           {
            "line": {
             "colorbar": {
              "outlinewidth": 0,
              "ticks": ""
             }
            },
            "type": "parcoords"
           }
          ],
          "pie": [
           {
            "automargin": true,
            "type": "pie"
           }
          ],
          "scatter": [
           {
            "marker": {
             "colorbar": {
              "outlinewidth": 0,
              "ticks": ""
             }
            },
            "type": "scatter"
           }
          ],
          "scatter3d": [
           {
            "line": {
             "colorbar": {
              "outlinewidth": 0,
              "ticks": ""
             }
            },
            "marker": {
             "colorbar": {
              "outlinewidth": 0,
              "ticks": ""
             }
            },
            "type": "scatter3d"
           }
          ],
          "scattercarpet": [
           {
            "marker": {
             "colorbar": {
              "outlinewidth": 0,
              "ticks": ""
             }
            },
            "type": "scattercarpet"
           }
          ],
          "scattergeo": [
           {
            "marker": {
             "colorbar": {
              "outlinewidth": 0,
              "ticks": ""
             }
            },
            "type": "scattergeo"
           }
          ],
          "scattergl": [
           {
            "marker": {
             "colorbar": {
              "outlinewidth": 0,
              "ticks": ""
             }
            },
            "type": "scattergl"
           }
          ],
          "scattermapbox": [
           {
            "marker": {
             "colorbar": {
              "outlinewidth": 0,
              "ticks": ""
             }
            },
            "type": "scattermapbox"
           }
          ],
          "scatterpolar": [
           {
            "marker": {
             "colorbar": {
              "outlinewidth": 0,
              "ticks": ""
             }
            },
            "type": "scatterpolar"
           }
          ],
          "scatterpolargl": [
           {
            "marker": {
             "colorbar": {
              "outlinewidth": 0,
              "ticks": ""
             }
            },
            "type": "scatterpolargl"
           }
          ],
          "scatterternary": [
           {
            "marker": {
             "colorbar": {
              "outlinewidth": 0,
              "ticks": ""
             }
            },
            "type": "scatterternary"
           }
          ],
          "surface": [
           {
            "colorbar": {
             "outlinewidth": 0,
             "ticks": ""
            },
            "colorscale": [
             [
              0,
              "#0d0887"
             ],
             [
              0.1111111111111111,
              "#46039f"
             ],
             [
              0.2222222222222222,
              "#7201a8"
             ],
             [
              0.3333333333333333,
              "#9c179e"
             ],
             [
              0.4444444444444444,
              "#bd3786"
             ],
             [
              0.5555555555555556,
              "#d8576b"
             ],
             [
              0.6666666666666666,
              "#ed7953"
             ],
             [
              0.7777777777777778,
              "#fb9f3a"
             ],
             [
              0.8888888888888888,
              "#fdca26"
             ],
             [
              1,
              "#f0f921"
             ]
            ],
            "type": "surface"
           }
          ],
          "table": [
           {
            "cells": {
             "fill": {
              "color": "#EBF0F8"
             },
             "line": {
              "color": "white"
             }
            },
            "header": {
             "fill": {
              "color": "#C8D4E3"
             },
             "line": {
              "color": "white"
             }
            },
            "type": "table"
           }
          ]
         },
         "layout": {
          "annotationdefaults": {
           "arrowcolor": "#2a3f5f",
           "arrowhead": 0,
           "arrowwidth": 1
          },
          "coloraxis": {
           "colorbar": {
            "outlinewidth": 0,
            "ticks": ""
           }
          },
          "colorscale": {
           "diverging": [
            [
             0,
             "#8e0152"
            ],
            [
             0.1,
             "#c51b7d"
            ],
            [
             0.2,
             "#de77ae"
            ],
            [
             0.3,
             "#f1b6da"
            ],
            [
             0.4,
             "#fde0ef"
            ],
            [
             0.5,
             "#f7f7f7"
            ],
            [
             0.6,
             "#e6f5d0"
            ],
            [
             0.7,
             "#b8e186"
            ],
            [
             0.8,
             "#7fbc41"
            ],
            [
             0.9,
             "#4d9221"
            ],
            [
             1,
             "#276419"
            ]
           ],
           "sequential": [
            [
             0,
             "#0d0887"
            ],
            [
             0.1111111111111111,
             "#46039f"
            ],
            [
             0.2222222222222222,
             "#7201a8"
            ],
            [
             0.3333333333333333,
             "#9c179e"
            ],
            [
             0.4444444444444444,
             "#bd3786"
            ],
            [
             0.5555555555555556,
             "#d8576b"
            ],
            [
             0.6666666666666666,
             "#ed7953"
            ],
            [
             0.7777777777777778,
             "#fb9f3a"
            ],
            [
             0.8888888888888888,
             "#fdca26"
            ],
            [
             1,
             "#f0f921"
            ]
           ],
           "sequentialminus": [
            [
             0,
             "#0d0887"
            ],
            [
             0.1111111111111111,
             "#46039f"
            ],
            [
             0.2222222222222222,
             "#7201a8"
            ],
            [
             0.3333333333333333,
             "#9c179e"
            ],
            [
             0.4444444444444444,
             "#bd3786"
            ],
            [
             0.5555555555555556,
             "#d8576b"
            ],
            [
             0.6666666666666666,
             "#ed7953"
            ],
            [
             0.7777777777777778,
             "#fb9f3a"
            ],
            [
             0.8888888888888888,
             "#fdca26"
            ],
            [
             1,
             "#f0f921"
            ]
           ]
          },
          "colorway": [
           "#636efa",
           "#EF553B",
           "#00cc96",
           "#ab63fa",
           "#FFA15A",
           "#19d3f3",
           "#FF6692",
           "#B6E880",
           "#FF97FF",
           "#FECB52"
          ],
          "font": {
           "color": "#2a3f5f"
          },
          "geo": {
           "bgcolor": "white",
           "lakecolor": "white",
           "landcolor": "#E5ECF6",
           "showlakes": true,
           "showland": true,
           "subunitcolor": "white"
          },
          "hoverlabel": {
           "align": "left"
          },
          "hovermode": "closest",
          "mapbox": {
           "style": "light"
          },
          "paper_bgcolor": "white",
          "plot_bgcolor": "#E5ECF6",
          "polar": {
           "angularaxis": {
            "gridcolor": "white",
            "linecolor": "white",
            "ticks": ""
           },
           "bgcolor": "#E5ECF6",
           "radialaxis": {
            "gridcolor": "white",
            "linecolor": "white",
            "ticks": ""
           }
          },
          "scene": {
           "xaxis": {
            "backgroundcolor": "#E5ECF6",
            "gridcolor": "white",
            "gridwidth": 2,
            "linecolor": "white",
            "showbackground": true,
            "ticks": "",
            "zerolinecolor": "white"
           },
           "yaxis": {
            "backgroundcolor": "#E5ECF6",
            "gridcolor": "white",
            "gridwidth": 2,
            "linecolor": "white",
            "showbackground": true,
            "ticks": "",
            "zerolinecolor": "white"
           },
           "zaxis": {
            "backgroundcolor": "#E5ECF6",
            "gridcolor": "white",
            "gridwidth": 2,
            "linecolor": "white",
            "showbackground": true,
            "ticks": "",
            "zerolinecolor": "white"
           }
          },
          "shapedefaults": {
           "line": {
            "color": "#2a3f5f"
           }
          },
          "ternary": {
           "aaxis": {
            "gridcolor": "white",
            "linecolor": "white",
            "ticks": ""
           },
           "baxis": {
            "gridcolor": "white",
            "linecolor": "white",
            "ticks": ""
           },
           "bgcolor": "#E5ECF6",
           "caxis": {
            "gridcolor": "white",
            "linecolor": "white",
            "ticks": ""
           }
          },
          "title": {
           "x": 0.05
          },
          "xaxis": {
           "automargin": true,
           "gridcolor": "white",
           "linecolor": "white",
           "ticks": "",
           "title": {
            "standoff": 15
           },
           "zerolinecolor": "white",
           "zerolinewidth": 2
          },
          "yaxis": {
           "automargin": true,
           "gridcolor": "white",
           "linecolor": "white",
           "ticks": "",
           "title": {
            "standoff": 15
           },
           "zerolinecolor": "white",
           "zerolinewidth": 2
          }
         }
        },
        "title": {
         "text": "Clusters with the Dice Distance"
        }
       }
      },
      "text/html": [
       "<div>\n",
       "        \n",
       "        \n",
       "            <div id=\"615dcbda-fb80-48ec-86ff-d5226e32c556\" class=\"plotly-graph-div\" style=\"height:525px; width:100%;\"></div>\n",
       "            <script type=\"text/javascript\">\n",
       "                require([\"plotly\"], function(Plotly) {\n",
       "                    window.PLOTLYENV=window.PLOTLYENV || {};\n",
       "                    \n",
       "                if (document.getElementById(\"615dcbda-fb80-48ec-86ff-d5226e32c556\")) {\n",
       "                    Plotly.newPlot(\n",
       "                        '615dcbda-fb80-48ec-86ff-d5226e32c556',\n",
       "                        [{\"mode\": \"markers\", \"name\": \"Cluster 1\", \"type\": \"scatter3d\", \"x\": [-0.7918695211410522, -0.680365800857544, -0.7571136951446533, 0.21163368225097656, -0.6248705387115479, -0.2763327956199646, -0.07485838234424591, -0.7262505888938904, -0.8164312243461609, -0.2555328607559204, 2.195564031600952, -0.058889444917440414, -0.27668479084968567, -0.1335744857788086, -0.5590920448303223, -0.8374966382980347, -0.967278242111206, -0.782239556312561, -0.05354411527514458, -0.71075040102005, -0.14297278225421906, -0.03629819303750992, -3.124074697494507, -0.8342742323875427, -1.1082606315612793, -0.6304542422294617, 0.12294711172580719, -0.07501115649938583, -0.8381979465484619, -0.6387485861778259, -0.9121119976043701, -0.7880740761756897, -0.8689914345741272], \"y\": [10.095640182495117, 10.074063301086426, 9.822114944458008, 10.034562110900879, 9.69340991973877, 10.540194511413574, 9.996593475341797, 9.639171600341797, 9.695857048034668, 9.698636054992676, 13.642593383789062, 9.969076156616211, 10.909006118774414, 10.862995147705078, 9.74835205078125, 10.597630500793457, 10.438140869140625, 10.588532447814941, 9.880765914916992, 9.847857475280762, 10.166787147521973, 9.93421745300293, 11.786615371704102, 10.678884506225586, 10.461847305297852, 9.874497413635254, 10.220991134643555, 9.918213844299316, 9.679855346679688, 9.700981140136719, 10.476949691772461, 9.675261497497559, 10.579123497009277], \"z\": [8.290492057800293, 8.206472396850586, 8.645453453063965, 8.293720245361328, 8.647489547729492, 8.446462631225586, 7.93364143371582, 8.878350257873535, 9.092248916625977, 8.451852798461914, 5.295224666595459, 8.499401092529297, 8.091360092163086, 8.234530448913574, 8.736594200134277, 8.081527709960938, 8.135047912597656, 8.030117988586426, 7.768497467041016, 8.457273483276367, 7.41318941116333, 7.741377830505371, 8.192413330078125, 7.942707061767578, 8.15307331085205, 8.314142227172852, 7.936417102813721, 8.506902694702148, 9.049846649169922, 8.807146072387695, 8.021913528442383, 9.026678085327148, 7.946152687072754]}, {\"mode\": \"markers\", \"name\": \"Cluster 2\", \"type\": \"scatter3d\", \"x\": [0.9707436561584473, 0.7398976683616638, -0.11913052946329117, 0.6175165772438049, 0.6697112917900085, -1.0877294540405273, -1.4259684085845947, -0.003100919770076871, 0.26668211817741394, 0.8641320466995239, 0.8634613156318665, 0.5385724306106567, 0.904735267162323, 0.2923382818698883, -1.1768759489059448, 0.7753027677536011, -1.1429808139801025, -1.1411668062210083, 1.2054263353347778, 1.0339311361312866, 0.012249385006725788, 1.067734956741333, 0.2862675189971924, 0.22372224926948547, -0.32015782594680786, 1.1028987169265747, 1.0173265933990479, -1.1574220657348633, 1.1159998178482056, 0.15843793749809265, 0.8365218043327332, -1.2182568311691284, 1.2002238035202026, -1.6687965393066406, -0.9302434921264648, 1.1005761623382568, -0.09397797286510468, -0.26221850514411926, 0.33586448431015015, 0.8528143763542175, 1.2316362857818604, 0.045220475643873215, -1.1517930030822754], \"y\": [11.00157642364502, 11.30936336517334, 10.857789993286133, 10.347511291503906, 11.135665893554688, 13.624016761779785, 13.338022232055664, 10.04213809967041, 10.17186164855957, 10.303481101989746, 10.295040130615234, 13.783626556396484, 10.266925811767578, 11.382150650024414, 13.585588455200195, 10.97961711883545, 13.402068138122559, 13.754117012023926, 10.92221736907959, 10.91492748260498, 9.876646995544434, 13.724380493164062, 11.248279571533203, 10.555765151977539, 10.330764770507812, 11.003103256225586, 10.94493579864502, 13.418488502502441, 13.784914016723633, 10.316923141479492, 11.03054141998291, 13.786028861999512, 10.900995254516602, 13.007221221923828, 13.290783882141113, 13.744400978088379, 10.87813663482666, 10.80926513671875, 10.454421997070312, 10.303290367126465, 10.90297794342041, 10.73991870880127, 13.516228675842285], \"z\": [7.814774513244629, 7.732788562774658, 8.056949615478516, 8.279085159301758, 7.898521423339844, 7.585854530334473, 5.691314220428467, 7.526268482208252, 8.254858016967773, 8.221829414367676, 8.244112968444824, 5.023760795593262, 8.252367973327637, 7.766970157623291, 7.378159523010254, 7.927292346954346, 6.996814250946045, 7.570714950561523, 7.876450061798096, 7.750397205352783, 8.399904251098633, 5.6842217445373535, 7.929709434509277, 7.613467693328857, 7.5290374755859375, 7.872153282165527, 7.770381927490234, 7.5536322593688965, 5.661223888397217, 7.572445869445801, 7.658811569213867, 7.5784454345703125, 7.912247657775879, 5.443638801574707, 6.880823612213135, 5.683010101318359, 8.190765380859375, 8.065820693969727, 8.360349655151367, 8.21961498260498, 7.8731865882873535, 7.879913806915283, 7.472348213195801]}, {\"mode\": \"markers\", \"name\": \"Cluster 3\", \"type\": \"scatter3d\", \"x\": [1.1053978204727173, 1.67498779296875, 0.7511909008026123, 1.861005425453186, 1.8913862705230713, -0.7396888732910156, 1.0888428688049316, -0.48077842593193054, 1.3651454448699951, 1.7854951620101929, 1.4977227449417114, 1.3040030002593994, 1.8322011232376099, -0.7246048450469971, 2.325695276260376, 0.8774405717849731, -1.459372639656067, 1.6360834836959839, 0.9578496813774109, 1.1076158285140991, 1.8379532098770142, 1.356757640838623, 2.0511977672576904, 0.9606276750564575, 1.580567717552185, 1.7497838735580444, 1.125662922859192, 1.8293371200561523, 1.2828586101531982, 1.3050950765609741, 1.5978000164031982, 1.5320378541946411, -1.0899838209152222, 1.8511383533477783, 1.3815333843231201, 2.1462202072143555, 1.663750410079956, 1.78455650806427, 1.6768113374710083, 0.9241999387741089, -0.6209096312522888, 1.447532057762146, 2.194943904876709, 1.4684925079345703, 1.6647546291351318, 2.193246603012085, 0.8825507760047913, 1.156136155128479, 1.9327421188354492, -1.3196220397949219, -1.0180267095565796, 1.0326539278030396, -0.8691328763961792], \"y\": [13.181564331054688, 13.576217651367188, 13.517729759216309, 13.809524536132812, 13.370779037475586, 12.713683128356934, 13.074280738830566, 12.723475456237793, 13.541422843933105, 13.591383934020996, 13.5857572555542, 13.377573013305664, 13.846314430236816, 12.318185806274414, 13.646171569824219, 13.673677444458008, 12.780673027038574, 13.780723571777344, 13.438822746276855, 13.24048900604248, 13.530200958251953, 13.297507286071777, 13.714288711547852, 13.46098804473877, 13.849943161010742, 13.499019622802734, 13.267618179321289, 13.61877727508545, 13.403976440429688, 13.319206237792969, 13.637564659118652, 13.711142539978027, 13.355521202087402, 13.875852584838867, 13.860002517700195, 13.452982902526855, 13.432361602783203, 13.418431282043457, 13.64500904083252, 13.672110557556152, 13.058674812316895, 13.370416641235352, 13.587190628051758, 13.497599601745605, 13.764954566955566, 13.685302734375, 12.992043495178223, 13.216824531555176, 13.741581916809082, 12.634857177734375, 11.989949226379395, 13.365660667419434, 11.721179962158203], \"z\": [4.424753189086914, 4.437979221343994, 4.474618911743164, 4.957143306732178, 5.713194370269775, 4.810494422912598, 4.348466396331787, 4.562048435211182, 5.819649696350098, 4.405923366546631, 5.26544189453125, 5.104324817657471, 5.0129313468933105, 5.068160057067871, 5.310421466827393, 4.647067546844482, 5.058352470397949, 4.573897361755371, 4.39921760559082, 4.364539623260498, 5.753540992736816, 5.039135932922363, 5.207074165344238, 4.786592960357666, 4.959914207458496, 5.724374771118164, 4.51491641998291, 5.649453163146973, 5.664572238922119, 5.06189489364624, 4.550471782684326, 4.432076930999756, 5.446200370788574, 5.459526538848877, 5.121016025543213, 5.43766975402832, 5.832032680511475, 5.497490882873535, 4.379922866821289, 4.981221675872803, 5.152803421020508, 4.675907611846924, 5.341976165771484, 4.417656898498535, 4.408061504364014, 5.231723308563232, 4.475516319274902, 4.952030658721924, 5.267313003540039, 4.906216144561768, 5.4820332527160645, 4.427874565124512, 5.025727272033691]}, {\"mode\": \"markers\", \"name\": \"Cluster 4\", \"type\": \"scatter3d\", \"x\": [-3.7477450370788574, -1.3387993574142456, -4.271819114685059, -3.4672741889953613, -2.168959379196167, -4.545202732086182, -1.148531198501587, -0.9431105852127075, -2.263742208480835, -1.300201416015625, -2.4616851806640625, -4.684489727020264, -1.926116943359375, -2.2296249866485596, -4.553970813751221, -2.6447155475616455, -1.1699819564819336, -2.7525458335876465, -3.33990740776062, -3.009310007095337, -1.6775528192520142, -2.0021860599517822, -0.9762701392173767, -2.1087806224823, -0.9998772144317627, -4.415011882781982, -2.6521823406219482, -4.497472286224365, -3.888040542602539, -2.711005210876465, -4.409579277038574, -4.231687545776367, -1.1577584743499756, -1.9358564615249634, -2.5130996704101562, -1.3680123090744019, -2.3254659175872803, -1.5601651668548584, -2.0743248462677, -1.2701966762542725, -1.322279930114746, -1.8409088850021362, -1.110666036605835, -1.2752642631530762, -3.5876994132995605, -3.547705888748169, -3.889214277267456, -4.172033309936523, -2.6998512744903564, -1.1033132076263428, -1.5877875089645386, -1.7134257555007935, -2.9984500408172607, -4.520796775817871, -2.2146902084350586, -4.050130844116211, -2.6860311031341553, -2.093355417251587, -1.2671934366226196, -2.5023632049560547, -2.5149965286254883, -2.5757663249969482, -2.2781033515930176, -2.604598045349121, -2.3639798164367676, -0.9466913342475891, -3.3708300590515137, -2.255528450012207, -1.9635025262832642, -3.4871222972869873, -1.8880313634872437, -4.582954406738281, -3.805370569229126, -2.0667221546173096, -2.666731595993042, -1.4447553157806396, -0.9687485694885254, -3.67162823677063, -2.534838914871216, -1.258410930633545, -2.4501922130584717, -3.170335292816162, -3.519479513168335, -3.7056267261505127, -2.095639705657959, -2.4673171043395996, -2.645854949951172, -1.9264553785324097, -1.427211046218872, -4.591629981994629, -4.459883213043213, -1.0973713397979736, -1.3637081384658813, -3.059366464614868, -2.191838264465332, -3.203784942626953, -0.9959324598312378, -1.077905535697937, -1.9712822437286377, -2.7057852745056152, -2.229609489440918, -3.61875581741333, -1.32150399684906, -1.1251089572906494, -2.55960750579834, -1.1841672658920288, -2.5949642658233643, -4.423721790313721, -1.562620997428894, -1.6568431854248047, -3.243286609649658, -2.323408603668213, -2.3867549896240234, -3.571711778640747, -2.4623093605041504, -3.7070517539978027, -2.4062299728393555, -3.4874095916748047, -4.185102462768555, -4.391214370727539, -4.171178817749023, -1.8390315771102905, -3.402236223220825, -1.0893501043319702, -1.8148150444030762, -2.3715591430664062, -3.6089565753936768, -3.911612033843994, -2.86979603767395, -2.238027572631836, -3.8798983097076416, -1.342549204826355, -2.7003986835479736, -4.226757049560547, -2.02465558052063, -3.003330945968628], \"y\": [13.700028419494629, 13.924727439880371, 12.704948425292969, 13.590600967407227, 13.210951805114746, 12.456750869750977, 11.909546852111816, 12.826106071472168, 11.759358406066895, 11.906813621520996, 12.363873481750488, 12.59000015258789, 11.472256660461426, 12.291977882385254, 12.457781791687012, 12.57546329498291, 11.82287311553955, 12.530081748962402, 11.832344055175781, 12.288426399230957, 12.22862720489502, 12.043381690979004, 12.5512056350708, 12.01727294921875, 11.738698959350586, 13.185633659362793, 12.482964515686035, 12.925522804260254, 13.675908088684082, 11.68912124633789, 12.692557334899902, 12.534971237182617, 11.927990913391113, 11.625715255737305, 11.620245933532715, 13.542302131652832, 11.550165176391602, 13.476102828979492, 13.56450366973877, 12.097895622253418, 12.140975952148438, 12.146722793579102, 12.006637573242188, 13.490927696228027, 13.688972473144531, 13.538551330566406, 13.253342628479004, 12.609821319580078, 11.720402717590332, 11.85247802734375, 12.265762329101562, 13.112523078918457, 12.28464412689209, 12.847704887390137, 13.533437728881836, 13.272757530212402, 11.847570419311523, 12.916271209716797, 12.078510284423828, 12.040410995483398, 11.591883659362793, 12.585155487060547, 13.325292587280273, 11.763256072998047, 11.862101554870605, 12.841598510742188, 11.895499229431152, 13.317411422729492, 11.65422534942627, 11.805731773376465, 12.16136646270752, 12.49143123626709, 13.811028480529785, 12.129931449890137, 12.468138694763184, 12.066030502319336, 12.625853538513184, 13.28046989440918, 12.07667064666748, 11.886680603027344, 13.435924530029297, 13.803936958312988, 11.793773651123047, 11.801473617553711, 12.214889526367188, 12.49363899230957, 13.3560209274292, 11.883448600769043, 11.95198917388916, 12.663536071777344, 12.784399032592773, 12.634809494018555, 11.948159217834473, 13.713129997253418, 13.380022048950195, 11.940057754516602, 13.120051383972168, 12.129715919494629, 11.466915130615234, 12.470561027526855, 13.373416900634766, 11.686243057250977, 13.491568565368652, 13.329401016235352, 12.20811653137207, 13.692473411560059, 12.335041999816895, 12.979724884033203, 13.796748161315918, 12.649940490722656, 13.812987327575684, 11.670313835144043, 12.315674781799316, 13.321889877319336, 12.496224403381348, 13.725151062011719, 12.417196273803711, 13.573225975036621, 12.637514114379883, 12.975032806396484, 13.43723201751709, 12.1673583984375, 11.6653413772583, 12.58284854888916, 11.884865760803223, 13.056578636169434, 13.5072021484375, 13.612325668334961, 12.308795928955078, 13.361800193786621, 13.579277992248535, 12.055741310119629, 11.679492950439453, 12.954500198364258, 11.883232116699219, 13.047560691833496], \"z\": [6.300064563751221, 7.581813812255859, 7.033241271972656, 6.913228511810303, 7.029202461242676, 6.784828186035156, 4.94030237197876, 7.008563041687012, 4.498083591461182, 4.45943021774292, 6.023087978363037, 6.659188747406006, 3.935612440109253, 6.28441858291626, 6.884181976318359, 6.514945030212402, 4.208556652069092, 8.209136962890625, 8.139778137207031, 6.198976993560791, 6.1665873527526855, 7.510129451751709, 6.70639181137085, 4.040069580078125, 4.927881240844727, 6.528055667877197, 8.28897476196289, 6.561223983764648, 6.407538414001465, 8.944498062133789, 6.752766132354736, 7.152085781097412, 5.498669147491455, 3.815173864364624, 4.533991813659668, 5.735283374786377, 4.231658935546875, 7.049559116363525, 7.328956604003906, 4.475342750549316, 6.455211639404297, 4.013869762420654, 5.48261833190918, 5.612785339355469, 6.450103282928467, 6.970630168914795, 6.977193355560303, 7.201897621154785, 8.893769264221191, 4.9611616134643555, 4.416880130767822, 7.431528568267822, 6.185817241668701, 6.612366676330566, 7.051709175109863, 6.808105945587158, 8.782147407531738, 5.576846122741699, 4.995744705200195, 8.484195709228516, 4.441105365753174, 8.148924827575684, 6.524674892425537, 8.866742134094238, 4.296059608459473, 6.875249862670898, 8.13853931427002, 6.506982326507568, 3.904975652694702, 8.120516777038574, 4.002951622009277, 6.78870153427124, 6.408261299133301, 3.9998083114624023, 8.287105560302734, 4.42185115814209, 6.843375205993652, 7.061681270599365, 8.067834854125977, 4.263887882232666, 6.896701335906982, 6.419299602508545, 8.060685157775879, 8.130898475646973, 7.965564250946045, 6.482000350952148, 5.903599739074707, 3.8693361282348633, 4.286071300506592, 6.664459228515625, 6.619053840637207, 6.897942543029785, 4.375698566436768, 6.255805969238281, 6.906558513641357, 8.270975112915039, 7.13594388961792, 5.057436943054199, 3.944408893585205, 8.233827590942383, 6.918580532073975, 8.0321044921875, 5.707893371582031, 6.78339147567749, 8.163209915161133, 7.32256555557251, 6.1323323249816895, 6.723057746887207, 7.496206760406494, 6.620913982391357, 6.4351019859313965, 4.29874324798584, 5.998229503631592, 7.078421115875244, 6.123846530914307, 6.281981468200684, 6.35011100769043, 6.883981704711914, 6.74856424331665, 6.722961902618408, 6.486709117889404, 3.9536991119384766, 8.38685417175293, 6.8113837242126465, 3.903825283050537, 5.753834247589111, 6.9993672370910645, 6.363946437835693, 6.215348720550537, 6.89726448059082, 6.356805324554443, 4.3583221435546875, 8.93828010559082, 6.928944110870361, 7.762303829193115, 7.139704704284668]}, {\"marker\": {\"color\": \"rgb(255,255,0)\", \"size\": 16}, \"mode\": \"markers\", \"name\": \"Centroids\", \"type\": \"scatter3d\", \"x\": [-0.7918695211410522, 0.9707436561584473, 1.1053978204727173, -3.7477450370788574], \"y\": [10.095640182495117, 11.00157642364502, 13.181564331054688, 13.700028419494629], \"z\": [8.290492057800293, 7.814774513244629, 4.424753189086914, 6.300064563751221]}],\n",
       "                        {\"template\": {\"data\": {\"bar\": [{\"error_x\": {\"color\": \"#2a3f5f\"}, \"error_y\": {\"color\": \"#2a3f5f\"}, \"marker\": {\"line\": {\"color\": \"#E5ECF6\", \"width\": 0.5}}, \"type\": \"bar\"}], \"barpolar\": [{\"marker\": {\"line\": {\"color\": \"#E5ECF6\", \"width\": 0.5}}, \"type\": \"barpolar\"}], \"carpet\": [{\"aaxis\": {\"endlinecolor\": \"#2a3f5f\", \"gridcolor\": \"white\", \"linecolor\": \"white\", \"minorgridcolor\": \"white\", \"startlinecolor\": \"#2a3f5f\"}, \"baxis\": {\"endlinecolor\": \"#2a3f5f\", \"gridcolor\": \"white\", \"linecolor\": \"white\", \"minorgridcolor\": \"white\", \"startlinecolor\": \"#2a3f5f\"}, \"type\": \"carpet\"}], \"choropleth\": [{\"colorbar\": {\"outlinewidth\": 0, \"ticks\": \"\"}, \"type\": \"choropleth\"}], \"contour\": [{\"colorbar\": {\"outlinewidth\": 0, \"ticks\": \"\"}, \"colorscale\": [[0.0, \"#0d0887\"], [0.1111111111111111, \"#46039f\"], [0.2222222222222222, \"#7201a8\"], [0.3333333333333333, \"#9c179e\"], [0.4444444444444444, \"#bd3786\"], [0.5555555555555556, \"#d8576b\"], [0.6666666666666666, \"#ed7953\"], [0.7777777777777778, \"#fb9f3a\"], [0.8888888888888888, \"#fdca26\"], [1.0, \"#f0f921\"]], \"type\": \"contour\"}], \"contourcarpet\": [{\"colorbar\": {\"outlinewidth\": 0, \"ticks\": \"\"}, \"type\": \"contourcarpet\"}], \"heatmap\": [{\"colorbar\": {\"outlinewidth\": 0, \"ticks\": \"\"}, \"colorscale\": [[0.0, \"#0d0887\"], [0.1111111111111111, \"#46039f\"], [0.2222222222222222, \"#7201a8\"], [0.3333333333333333, \"#9c179e\"], [0.4444444444444444, \"#bd3786\"], [0.5555555555555556, \"#d8576b\"], [0.6666666666666666, \"#ed7953\"], [0.7777777777777778, \"#fb9f3a\"], [0.8888888888888888, \"#fdca26\"], [1.0, \"#f0f921\"]], \"type\": \"heatmap\"}], \"heatmapgl\": [{\"colorbar\": {\"outlinewidth\": 0, \"ticks\": \"\"}, \"colorscale\": [[0.0, \"#0d0887\"], [0.1111111111111111, \"#46039f\"], [0.2222222222222222, \"#7201a8\"], [0.3333333333333333, \"#9c179e\"], [0.4444444444444444, \"#bd3786\"], [0.5555555555555556, \"#d8576b\"], [0.6666666666666666, \"#ed7953\"], [0.7777777777777778, \"#fb9f3a\"], [0.8888888888888888, \"#fdca26\"], [1.0, \"#f0f921\"]], \"type\": \"heatmapgl\"}], \"histogram\": [{\"marker\": {\"colorbar\": {\"outlinewidth\": 0, \"ticks\": \"\"}}, \"type\": \"histogram\"}], \"histogram2d\": [{\"colorbar\": {\"outlinewidth\": 0, \"ticks\": \"\"}, \"colorscale\": [[0.0, \"#0d0887\"], [0.1111111111111111, \"#46039f\"], [0.2222222222222222, \"#7201a8\"], [0.3333333333333333, \"#9c179e\"], [0.4444444444444444, \"#bd3786\"], [0.5555555555555556, \"#d8576b\"], [0.6666666666666666, \"#ed7953\"], [0.7777777777777778, \"#fb9f3a\"], [0.8888888888888888, \"#fdca26\"], [1.0, \"#f0f921\"]], \"type\": \"histogram2d\"}], \"histogram2dcontour\": [{\"colorbar\": {\"outlinewidth\": 0, \"ticks\": \"\"}, \"colorscale\": [[0.0, \"#0d0887\"], [0.1111111111111111, \"#46039f\"], [0.2222222222222222, \"#7201a8\"], [0.3333333333333333, \"#9c179e\"], [0.4444444444444444, \"#bd3786\"], [0.5555555555555556, \"#d8576b\"], [0.6666666666666666, \"#ed7953\"], [0.7777777777777778, \"#fb9f3a\"], [0.8888888888888888, \"#fdca26\"], [1.0, \"#f0f921\"]], \"type\": \"histogram2dcontour\"}], \"mesh3d\": [{\"colorbar\": {\"outlinewidth\": 0, \"ticks\": \"\"}, \"type\": \"mesh3d\"}], \"parcoords\": [{\"line\": {\"colorbar\": {\"outlinewidth\": 0, \"ticks\": \"\"}}, \"type\": \"parcoords\"}], \"pie\": [{\"automargin\": true, \"type\": \"pie\"}], \"scatter\": [{\"marker\": {\"colorbar\": {\"outlinewidth\": 0, \"ticks\": \"\"}}, \"type\": \"scatter\"}], \"scatter3d\": [{\"line\": {\"colorbar\": {\"outlinewidth\": 0, \"ticks\": \"\"}}, \"marker\": {\"colorbar\": {\"outlinewidth\": 0, \"ticks\": \"\"}}, \"type\": \"scatter3d\"}], \"scattercarpet\": [{\"marker\": {\"colorbar\": {\"outlinewidth\": 0, \"ticks\": \"\"}}, \"type\": \"scattercarpet\"}], \"scattergeo\": [{\"marker\": {\"colorbar\": {\"outlinewidth\": 0, \"ticks\": \"\"}}, \"type\": \"scattergeo\"}], \"scattergl\": [{\"marker\": {\"colorbar\": {\"outlinewidth\": 0, \"ticks\": \"\"}}, \"type\": \"scattergl\"}], \"scattermapbox\": [{\"marker\": {\"colorbar\": {\"outlinewidth\": 0, \"ticks\": \"\"}}, \"type\": \"scattermapbox\"}], \"scatterpolar\": [{\"marker\": {\"colorbar\": {\"outlinewidth\": 0, \"ticks\": \"\"}}, \"type\": \"scatterpolar\"}], \"scatterpolargl\": [{\"marker\": {\"colorbar\": {\"outlinewidth\": 0, \"ticks\": \"\"}}, \"type\": \"scatterpolargl\"}], \"scatterternary\": [{\"marker\": {\"colorbar\": {\"outlinewidth\": 0, \"ticks\": \"\"}}, \"type\": \"scatterternary\"}], \"surface\": [{\"colorbar\": {\"outlinewidth\": 0, \"ticks\": \"\"}, \"colorscale\": [[0.0, \"#0d0887\"], [0.1111111111111111, \"#46039f\"], [0.2222222222222222, \"#7201a8\"], [0.3333333333333333, \"#9c179e\"], [0.4444444444444444, \"#bd3786\"], [0.5555555555555556, \"#d8576b\"], [0.6666666666666666, \"#ed7953\"], [0.7777777777777778, \"#fb9f3a\"], [0.8888888888888888, \"#fdca26\"], [1.0, \"#f0f921\"]], \"type\": \"surface\"}], \"table\": [{\"cells\": {\"fill\": {\"color\": \"#EBF0F8\"}, \"line\": {\"color\": \"white\"}}, \"header\": {\"fill\": {\"color\": \"#C8D4E3\"}, \"line\": {\"color\": \"white\"}}, \"type\": \"table\"}]}, \"layout\": {\"annotationdefaults\": {\"arrowcolor\": \"#2a3f5f\", \"arrowhead\": 0, \"arrowwidth\": 1}, \"coloraxis\": {\"colorbar\": {\"outlinewidth\": 0, \"ticks\": \"\"}}, \"colorscale\": {\"diverging\": [[0, \"#8e0152\"], [0.1, \"#c51b7d\"], [0.2, \"#de77ae\"], [0.3, \"#f1b6da\"], [0.4, \"#fde0ef\"], [0.5, \"#f7f7f7\"], [0.6, \"#e6f5d0\"], [0.7, \"#b8e186\"], [0.8, \"#7fbc41\"], [0.9, \"#4d9221\"], [1, \"#276419\"]], \"sequential\": [[0.0, \"#0d0887\"], [0.1111111111111111, \"#46039f\"], [0.2222222222222222, \"#7201a8\"], [0.3333333333333333, \"#9c179e\"], [0.4444444444444444, \"#bd3786\"], [0.5555555555555556, \"#d8576b\"], [0.6666666666666666, \"#ed7953\"], [0.7777777777777778, \"#fb9f3a\"], [0.8888888888888888, \"#fdca26\"], [1.0, \"#f0f921\"]], \"sequentialminus\": [[0.0, \"#0d0887\"], [0.1111111111111111, \"#46039f\"], [0.2222222222222222, \"#7201a8\"], [0.3333333333333333, \"#9c179e\"], [0.4444444444444444, \"#bd3786\"], [0.5555555555555556, \"#d8576b\"], [0.6666666666666666, \"#ed7953\"], [0.7777777777777778, \"#fb9f3a\"], [0.8888888888888888, \"#fdca26\"], [1.0, \"#f0f921\"]]}, \"colorway\": [\"#636efa\", \"#EF553B\", \"#00cc96\", \"#ab63fa\", \"#FFA15A\", \"#19d3f3\", \"#FF6692\", \"#B6E880\", \"#FF97FF\", \"#FECB52\"], \"font\": {\"color\": \"#2a3f5f\"}, \"geo\": {\"bgcolor\": \"white\", \"lakecolor\": \"white\", \"landcolor\": \"#E5ECF6\", \"showlakes\": true, \"showland\": true, \"subunitcolor\": \"white\"}, \"hoverlabel\": {\"align\": \"left\"}, \"hovermode\": \"closest\", \"mapbox\": {\"style\": \"light\"}, \"paper_bgcolor\": \"white\", \"plot_bgcolor\": \"#E5ECF6\", \"polar\": {\"angularaxis\": {\"gridcolor\": \"white\", \"linecolor\": \"white\", \"ticks\": \"\"}, \"bgcolor\": \"#E5ECF6\", \"radialaxis\": {\"gridcolor\": \"white\", \"linecolor\": \"white\", \"ticks\": \"\"}}, \"scene\": {\"xaxis\": {\"backgroundcolor\": \"#E5ECF6\", \"gridcolor\": \"white\", \"gridwidth\": 2, \"linecolor\": \"white\", \"showbackground\": true, \"ticks\": \"\", \"zerolinecolor\": \"white\"}, \"yaxis\": {\"backgroundcolor\": \"#E5ECF6\", \"gridcolor\": \"white\", \"gridwidth\": 2, \"linecolor\": \"white\", \"showbackground\": true, \"ticks\": \"\", \"zerolinecolor\": \"white\"}, \"zaxis\": {\"backgroundcolor\": \"#E5ECF6\", \"gridcolor\": \"white\", \"gridwidth\": 2, \"linecolor\": \"white\", \"showbackground\": true, \"ticks\": \"\", \"zerolinecolor\": \"white\"}}, \"shapedefaults\": {\"line\": {\"color\": \"#2a3f5f\"}}, \"ternary\": {\"aaxis\": {\"gridcolor\": \"white\", \"linecolor\": \"white\", \"ticks\": \"\"}, \"baxis\": {\"gridcolor\": \"white\", \"linecolor\": \"white\", \"ticks\": \"\"}, \"bgcolor\": \"#E5ECF6\", \"caxis\": {\"gridcolor\": \"white\", \"linecolor\": \"white\", \"ticks\": \"\"}}, \"title\": {\"x\": 0.05}, \"xaxis\": {\"automargin\": true, \"gridcolor\": \"white\", \"linecolor\": \"white\", \"ticks\": \"\", \"title\": {\"standoff\": 15}, \"zerolinecolor\": \"white\", \"zerolinewidth\": 2}, \"yaxis\": {\"automargin\": true, \"gridcolor\": \"white\", \"linecolor\": \"white\", \"ticks\": \"\", \"title\": {\"standoff\": 15}, \"zerolinecolor\": \"white\", \"zerolinewidth\": 2}}}, \"title\": {\"text\": \"Clusters with the Dice Distance\"}},\n",
       "                        {\"responsive\": true}\n",
       "                    ).then(function(){\n",
       "                            \n",
       "var gd = document.getElementById('615dcbda-fb80-48ec-86ff-d5226e32c556');\n",
       "var x = new MutationObserver(function (mutations, observer) {{\n",
       "        var display = window.getComputedStyle(gd).display;\n",
       "        if (!display || display === 'none') {{\n",
       "            console.log([gd, 'removed!']);\n",
       "            Plotly.purge(gd);\n",
       "            observer.disconnect();\n",
       "        }}\n",
       "}});\n",
       "\n",
       "// Listen for the removal of the full notebook cells\n",
       "var notebookContainer = gd.closest('#notebook-container');\n",
       "if (notebookContainer) {{\n",
       "    x.observe(notebookContainer, {childList: true});\n",
       "}}\n",
       "\n",
       "// Listen for the clearing of the current output cell\n",
       "var outputEl = gd.closest('.output');\n",
       "if (outputEl) {{\n",
       "    x.observe(outputEl, {childList: true});\n",
       "}}\n",
       "\n",
       "                        })\n",
       "                };\n",
       "                });\n",
       "            </script>\n",
       "        </div>"
      ]
     },
     "metadata": {},
     "output_type": "display_data"
    }
   ],
   "source": [
    "'''This visualization is merily to generate a plot to show how are our clusters distributed.\n",
    "UMAP doesn't have the gower distance in-built, but it supports custom distances, \n",
    "so a function had to be written to show how it actually behaved with the distance used to build the clusters.\n",
    "Instead we'll look at the plot with the manhattan and dice distances which are the distances used in the gower distance.'''\n",
    "\n",
    "fit = umap.UMAP(n_neighbors=14,min_dist=0.1,n_components=3,metric='dice', random_state=42)\n",
    "p3_umap = fit.fit_transform(portfolio3)\n",
    "\n",
    "# Visualising the clusters\n",
    "\n",
    "fig = go.Figure()\n",
    "\n",
    "fig.add_trace(go.Scatter3d(x=p3_umap[clusters[0], 0], y=p3_umap[clusters[0], 1], z=p3_umap[clusters[0], 2], name='Cluster 1', mode='markers'))\n",
    "fig.add_trace(go.Scatter3d(x=p3_umap[clusters[1], 0], y=p3_umap[clusters[1], 1], z=p3_umap[clusters[1], 2], name='Cluster 2', mode='markers'))\n",
    "fig.add_trace(go.Scatter3d(x=p3_umap[clusters[2], 0], y=p3_umap[clusters[2], 1], z=p3_umap[clusters[2], 2], name='Cluster 3', mode='markers'))\n",
    "fig.add_trace(go.Scatter3d(x=p3_umap[clusters[3], 0], y=p3_umap[clusters[3], 1], z=p3_umap[clusters[3], 2], name='Cluster 4', mode='markers'))\n",
    "#comment the lines if you chose less clusters\n",
    "#add more lines if you chose more clusters\n",
    "\n",
    "fig.add_trace(go.Scatter3d(x=p3_umap[medoids,0], y=p3_umap[medoids,1],z=p3_umap[medoids,2], name='Centroids', \n",
    "                         mode='markers', marker_color=\"rgb(255,255,0)\", marker=dict(size=16)))\n",
    "\n",
    "fig.update_layout(title='Clusters with the Dice Distance')\n",
    "\n",
    "fig.show()"
   ]
  },
  {
   "cell_type": "code",
   "execution_count": 50,
   "metadata": {},
   "outputs": [
    {
     "data": {
      "application/vnd.plotly.v1+json": {
       "config": {
        "plotlyServerURL": "https://plot.ly"
       },
       "data": [
        {
         "mode": "markers",
         "name": "Cluster 1",
         "type": "scatter3d",
         "x": [
          9.41909122467041,
          9.401622772216797,
          9.239357948303223,
          8.600217819213867,
          9.10024356842041,
          9.257452964782715,
          8.832685470581055,
          9.049601554870605,
          9.169777870178223,
          8.663507461547852,
          3.1400134563446045,
          8.570822715759277,
          9.201218605041504,
          9.33134937286377,
          9.19129467010498,
          9.552164077758789,
          9.54758358001709,
          9.505349159240723,
          8.510701179504395,
          9.228227615356445,
          8.286572456359863,
          8.401670455932617,
          8.954168319702148,
          9.617145538330078,
          9.483741760253906,
          9.236124992370605,
          8.859803199768066,
          8.495290756225586,
          9.169734954833984,
          9.115243911743164,
          9.646096229553223,
          9.161188125610352,
          9.5123929977417
         ],
         "y": [
          7.059682846069336,
          7.169468879699707,
          7.467803478240967,
          7.06581449508667,
          7.506046772003174,
          6.805126190185547,
          6.637145042419434,
          7.557651042938232,
          7.509836196899414,
          7.260820388793945,
          5.329755783081055,
          7.484400749206543,
          6.396788120269775,
          6.662482261657715,
          7.447950839996338,
          7.174033164978027,
          7.049526214599609,
          6.988646030426025,
          6.861152648925781,
          7.373959541320801,
          6.629603862762451,
          6.773470401763916,
          9.248997688293457,
          7.081019878387451,
          7.218843936920166,
          7.269226551055908,
          6.682048320770264,
          7.41925573348999,
          7.502293109893799,
          7.538426876068115,
          7.155418395996094,
          7.5069661140441895,
          7.130608081817627
         ],
         "z": [
          1.971382737159729,
          1.87593412399292,
          2.6436944007873535,
          2.4324865341186523,
          2.5127110481262207,
          2.8230068683624268,
          2.1190226078033447,
          2.749490976333618,
          3.1951792240142822,
          2.49442458152771,
          5.005607604980469,
          2.777285099029541,
          2.6939892768859863,
          2.866966724395752,
          2.6097936630249023,
          1.8355212211608887,
          1.9492886066436768,
          1.9186700582504272,
          2.052757501602173,
          2.285686731338501,
          2.088782548904419,
          2.0324792861938477,
          4.893585205078125,
          1.7846285104751587,
          1.9300181865692139,
          2.1051223278045654,
          2.1626033782958984,
          2.758805751800537,
          3.2486345767974854,
          2.7634193897247314,
          1.7255460023880005,
          3.189122200012207,
          1.863808512687683
         ]
        },
        {
         "mode": "markers",
         "name": "Cluster 2",
         "type": "scatter3d",
         "x": [
          8.99985122680664,
          8.877211570739746,
          9.201138496398926,
          8.486285209655762,
          9.01789379119873,
          7.709923267364502,
          5.443100929260254,
          8.316405296325684,
          8.576525688171387,
          8.511683464050293,
          8.483424186706543,
          4.746914863586426,
          8.577851295471191,
          8.956406593322754,
          7.46766996383667,
          8.877567291259766,
          7.215969085693359,
          7.670764923095703,
          9.09127426147461,
          9.228742599487305,
          8.454000473022461,
          4.326445579528809,
          9.047542572021484,
          8.56237506866455,
          8.278290748596191,
          8.950648307800293,
          9.023602485656738,
          7.6185784339904785,
          4.589698314666748,
          8.37899112701416,
          8.827066421508789,
          7.634773254394531,
          9.066560745239258,
          5.809793472290039,
          7.124208927154541,
          4.3145341873168945,
          9.250103950500488,
          9.228475570678711,
          8.489675521850586,
          8.58680534362793,
          9.188525199890137,
          9.024835586547852,
          7.550668716430664
         ],
         "y": [
          5.337928295135498,
          5.289132118225098,
          6.310649394989014,
          6.537806034088135,
          5.2872419357299805,
          7.854982852935791,
          7.120882987976074,
          6.631324768066406,
          6.399747371673584,
          6.20391321182251,
          6.120680809020996,
          5.537240982055664,
          6.2626471519470215,
          5.310364246368408,
          7.719564914703369,
          5.466788291931152,
          7.623520374298096,
          7.921449184417725,
          5.405987739562988,
          5.224795341491699,
          6.990897178649902,
          5.7677507400512695,
          5.465200424194336,
          6.101235389709473,
          6.589726448059082,
          5.307331085205078,
          5.347661018371582,
          7.891578674316406,
          5.60569429397583,
          6.188671112060547,
          5.32294225692749,
          7.911961078643799,
          5.4282684326171875,
          7.557362079620361,
          7.527157306671143,
          5.7199554443359375,
          6.501995086669922,
          6.312824249267578,
          7.217983722686768,
          6.2420549392700195,
          5.284561634063721,
          6.131167411804199,
          7.81472635269165
         ],
         "z": [
          2.869354009628296,
          2.9320545196533203,
          2.639491319656372,
          2.8115651607513428,
          2.9530837535858154,
          6.71120548248291,
          4.637616157531738,
          2.1739964485168457,
          2.8516316413879395,
          2.885430335998535,
          2.878688335418701,
          4.8133625984191895,
          2.9658234119415283,
          2.7702300548553467,
          6.783162593841553,
          2.8930954933166504,
          6.832408428192139,
          6.746435165405273,
          2.7918245792388916,
          2.662722587585449,
          2.5728132724761963,
          5.021067142486572,
          3.0979671478271484,
          2.5915706157684326,
          2.141002655029297,
          2.7673096656799316,
          2.734477996826172,
          6.565115928649902,
          4.980484485626221,
          2.4718728065490723,
          2.9854214191436768,
          6.718561172485352,
          2.8045146465301514,
          4.384171009063721,
          6.628687858581543,
          5.104179859161377,
          2.760061502456665,
          2.618367910385132,
          2.7798283100128174,
          2.926438331604004,
          2.6283533573150635,
          2.7141809463500977,
          6.672700881958008
         ]
        },
        {
         "mode": "markers",
         "name": "Cluster 3",
         "type": "scatter3d",
         "x": [
          3.950652837753296,
          3.6108715534210205,
          4.442575454711914,
          3.3811540603637695,
          3.679340362548828,
          4.6936540603637695,
          4.05576229095459,
          4.441530704498291,
          4.214633941650391,
          3.7986037731170654,
          3.8920505046844482,
          4.104567050933838,
          3.5182061195373535,
          4.489042282104492,
          3.0755295753479004,
          4.423710346221924,
          4.894416809082031,
          3.67814040184021,
          4.106514930725098,
          4.1194891929626465,
          3.6680610179901123,
          4.0496602058410645,
          3.135223150253296,
          4.400272846221924,
          3.667417049407959,
          3.6525332927703857,
          3.939518451690674,
          3.483006477355957,
          4.159152984619141,
          4.070174217224121,
          3.6603784561157227,
          3.733652353286743,
          5.052786827087402,
          3.778578281402588,
          3.7815051078796387,
          3.1640074253082275,
          3.6473777294158936,
          3.4749090671539307,
          3.6974356174468994,
          4.565588474273682,
          4.369976997375488,
          4.018636703491211,
          3.1444413661956787,
          3.8576629161834717,
          3.8093347549438477,
          3.1143739223480225,
          4.084409236907959,
          4.076630592346191,
          3.4884090423583984,
          4.916275978088379,
          4.502572536468506,
          4.167448997497559,
          4.630749702453613
         ],
         "y": [
          5.409818649291992,
          4.907581329345703,
          5.324036598205566,
          5.263339042663574,
          5.8867974281311035,
          6.961986541748047,
          5.2107977867126465,
          7.177362442016602,
          5.674199104309082,
          5.08595085144043,
          5.79293966293335,
          5.8730621337890625,
          5.302311897277832,
          6.630454063415527,
          5.3166680335998535,
          5.233288764953613,
          7.089759826660156,
          5.167913913726807,
          5.349914073944092,
          5.141329288482666,
          5.898111820220947,
          5.778911590576172,
          5.5275373458862305,
          5.538251876831055,
          5.419068336486816,
          5.805025100708008,
          5.484830856323242,
          5.746923446655273,
          5.758804798126221,
          5.862475395202637,
          5.079278469085693,
          5.073183059692383,
          6.87443208694458,
          5.475710391998291,
          5.412740707397461,
          5.592043876647949,
          5.765268325805664,
          5.706479549407959,
          4.996042251586914,
          5.4500041007995605,
          6.341121673583984,
          5.541119575500488,
          5.395244598388672,
          5.15501070022583,
          5.006185531616211,
          5.422121047973633,
          5.319211006164551,
          5.88712215423584,
          5.426403522491455,
          7.186296463012695,
          7.5288519859313965,
          5.27830171585083,
          6.288629055023193
         ],
         "z": [
          3.980705976486206,
          4.044500350952148,
          3.8968474864959717,
          4.846860885620117,
          5.415480136871338,
          3.1256320476531982,
          3.6348137855529785,
          2.6199514865875244,
          5.178345680236816,
          4.080454349517822,
          4.737387180328369,
          4.368906021118164,
          4.687304496765137,
          3.697146415710449,
          4.982843399047852,
          4.220034599304199,
          3.29179310798645,
          4.310261249542236,
          3.873277425765991,
          3.72078537940979,
          5.487791538238525,
          4.323587417602539,
          5.191776275634766,
          4.081284999847412,
          4.641401767730713,
          5.3599653244018555,
          3.796595573425293,
          5.416811466217041,
          5.118746757507324,
          4.155867576599121,
          4.205049991607666,
          4.173056602478027,
          4.426896572113037,
          5.183650493621826,
          4.546555995941162,
          5.1907148361206055,
          5.322959899902344,
          5.023510932922363,
          4.123836994171143,
          4.266808032989502,
          4.109832763671875,
          4.192299842834473,
          5.0597429275512695,
          4.06754207611084,
          4.271881580352783,
          5.07846212387085,
          3.6886637210845947,
          4.215940475463867,
          5.044834613800049,
          3.3399658203125,
          2.751404285430908,
          3.884340524673462,
          3.230830669403076
         ]
        },
        {
         "mode": "markers",
         "name": "Cluster 4",
         "type": "scatter3d",
         "x": [
          6.210972309112549,
          7.759171485900879,
          7.4143829345703125,
          6.080629348754883,
          6.892719745635986,
          7.386133670806885,
          4.650798797607422,
          7.238641262054443,
          5.335397243499756,
          4.147190093994141,
          6.615659236907959,
          7.471714973449707,
          4.812002658843994,
          6.747958183288574,
          7.305288314819336,
          7.0614213943481445,
          4.514180660247803,
          8.161592483520508,
          9.100011825561523,
          6.811516284942627,
          6.54014778137207,
          8.511088371276855,
          7.209645748138428,
          4.745147705078125,
          4.1876115798950195,
          7.149760723114014,
          8.132451057434082,
          7.389377593994141,
          6.424338340759277,
          9.152663230895996,
          7.255774974822998,
          7.596449851989746,
          4.356576919555664,
          4.670292854309082,
          5.5442705154418945,
          5.317431449890137,
          5.206009864807129,
          7.207432270050049,
          7.57416296005249,
          4.409416198730469,
          8.757238388061523,
          4.515832901000977,
          4.6540632247924805,
          5.4723358154296875,
          5.955007553100586,
          6.026274681091309,
          7.020188808441162,
          7.689239025115967,
          9.105513572692871,
          4.563844203948975,
          4.4629926681518555,
          7.202341556549072,
          6.948525428771973,
          7.390424728393555,
          7.179555892944336,
          6.80795431137085,
          9.0403470993042,
          6.061338901519775,
          4.348511219024658,
          8.84071159362793,
          5.383092880249023,
          8.163902282714844,
          6.837912082672119,
          9.125592231750488,
          5.217583656311035,
          7.074431419372559,
          8.966854095458984,
          6.816198348999023,
          4.750422954559326,
          9.009020805358887,
          4.631448268890381,
          7.356688976287842,
          6.394257068634033,
          4.683466911315918,
          8.21845817565918,
          4.353240489959717,
          7.131722450256348,
          6.918635368347168,
          8.64675235748291,
          4.5277814865112305,
          6.8160481452941895,
          5.9014763832092285,
          8.989429473876953,
          9.08386516571045,
          8.728302001953125,
          6.962535381317139,
          5.893508434295654,
          4.842432975769043,
          4.555288314819336,
          7.3955488204956055,
          7.395514965057373,
          7.179616451263428,
          4.763153553009033,
          5.8770527839660645,
          6.965592861175537,
          9.001583099365234,
          7.171712875366211,
          4.6837897300720215,
          4.745044231414795,
          8.254501342773438,
          6.998813629150391,
          9.053338050842285,
          5.2220563888549805,
          7.080432891845703,
          8.489789962768555,
          7.575689315795898,
          6.659855842590332,
          7.1313982009887695,
          7.772490978240967,
          6.7372965812683105,
          5.8944993019104,
          5.172520160675049,
          6.64671516418457,
          7.131592750549316,
          6.57155704498291,
          6.021682262420654,
          6.744702339172363,
          6.108462810516357,
          7.377433776855469,
          6.981148719787598,
          6.641798973083496,
          4.518115520477295,
          9.157563209533691,
          7.1534833908081055,
          4.4668121337890625,
          6.031216144561768,
          6.792819499969482,
          6.3049235343933105,
          6.86738395690918,
          7.013129234313965,
          6.362127304077148,
          4.329754829406738,
          9.066667556762695,
          7.199246883392334,
          8.485075950622559,
          7.097592830657959
         ],
         "y": [
          9.959346771240234,
          8.084551811218262,
          9.735262870788574,
          10.013172149658203,
          8.646183013916016,
          10.505630493164062,
          7.319344997406006,
          7.490602493286133,
          8.158215522766113,
          7.288998603820801,
          8.165884971618652,
          10.55053997039795,
          8.275900840759277,
          8.007533073425293,
          10.477249145507812,
          8.000326156616211,
          7.506341934204102,
          8.634536743164062,
          9.282381057739258,
          8.49135684967041,
          7.914395332336426,
          8.832368850708008,
          7.308586120605469,
          8.123209953308105,
          7.323360919952393,
          10.13000202178955,
          8.585230827331543,
          9.967059135437012,
          10.144020080566406,
          8.489845275878906,
          10.009191513061523,
          8.66407299041748,
          7.53378963470459,
          8.216489791870117,
          8.409876823425293,
          7.0523834228515625,
          8.45410442352295,
          8.06830883026123,
          8.627873420715332,
          7.3650946617126465,
          9.164538383483887,
          8.173892974853516,
          7.471948146820068,
          7.2165141105651855,
          9.920615196228027,
          9.847675323486328,
          10.143305778503418,
          8.493000984191895,
          8.56292724609375,
          7.153689384460449,
          7.398262977600098,
          8.450328826904297,
          8.47111701965332,
          10.077644348144531,
          8.90726375579834,
          9.79896068572998,
          8.4360933303833,
          7.86165189743042,
          7.416502475738525,
          8.499753952026367,
          8.493823051452637,
          8.610467910766602,
          8.528904914855957,
          8.497185707092285,
          8.4495849609375,
          7.516769886016846,
          9.272570610046387,
          8.630339622497559,
          8.303351402282715,
          9.324186325073242,
          7.733063697814941,
          10.443653106689453,
          10.114350318908691,
          8.035848617553711,
          8.669809341430664,
          7.433745384216309,
          7.398660659790039,
          10.222211837768555,
          8.876885414123535,
          7.296799659729004,
          9.193812370300293,
          9.679303169250488,
          9.223504066467285,
          9.207457542419434,
          8.505826950073242,
          7.986021518707275,
          8.04257583618164,
          8.23647689819336,
          7.441333293914795,
          10.453651428222656,
          9.860745429992676,
          7.441795349121094,
          7.468058109283447,
          9.464181900024414,
          8.754179954528809,
          9.194144248962402,
          7.751659870147705,
          7.39228630065918,
          8.105870246887207,
          8.708128929138184,
          8.588605880737305,
          9.099254608154297,
          6.975354194641113,
          7.564813613891602,
          8.73165225982666,
          7.844697952270508,
          8.105628967285156,
          10.193674087524414,
          8.33128547668457,
          8.501986503601074,
          9.649359703063965,
          8.438973426818848,
          7.994956016540527,
          10.057626724243164,
          8.209761619567871,
          10.195112228393555,
          8.12937068939209,
          9.889878273010254,
          9.987853050231934,
          10.024347305297852,
          9.94022274017334,
          8.088133811950684,
          8.960119247436523,
          7.422196865081787,
          8.186196327209473,
          7.885975360870361,
          9.88454818725586,
          10.066917419433594,
          8.317973136901855,
          8.566948890686035,
          10.023916244506836,
          7.3682355880737305,
          8.649762153625488,
          10.014261245727539,
          8.892851829528809,
          9.275832176208496
         ],
         "z": [
          5.5427069664001465,
          6.728901386260986,
          6.058198928833008,
          5.455081462860107,
          6.012814521789551,
          5.430967807769775,
          2.1754310131073,
          6.926090717315674,
          2.639580011367798,
          2.2371582984924316,
          4.657127380371094,
          5.376683712005615,
          2.06626033782959,
          4.764815807342529,
          5.368327617645264,
          5.109156131744385,
          2.2217299938201904,
          5.4580488204956055,
          5.057437896728516,
          4.7171502113342285,
          4.6049933433532715,
          5.537158012390137,
          7.153176307678223,
          2.293308973312378,
          2.306459903717041,
          5.639491558074951,
          5.423645496368408,
          5.809464931488037,
          5.6095662117004395,
          5.261134147644043,
          6.042806625366211,
          6.667173385620117,
          2.6091227531433105,
          1.9555195569992065,
          2.59613299369812,
          4.677051544189453,
          2.281806468963623,
          6.627552509307861,
          6.236089706420898,
          2.4255917072296143,
          5.392787933349609,
          2.2330455780029297,
          2.7875499725341797,
          4.7605133056640625,
          5.586877346038818,
          5.677964687347412,
          5.716833591461182,
          6.669694900512695,
          5.336332321166992,
          2.184429883956909,
          2.5311965942382812,
          6.152356147766113,
          4.587851047515869,
          5.664376258850098,
          6.181098461151123,
          5.833443641662598,
          5.462491989135742,
          4.432285308837891,
          2.3904941082000732,
          5.591838836669922,
          2.4132518768310547,
          5.462652683258057,
          5.956893444061279,
          5.289645195007324,
          2.2903084754943848,
          6.95071268081665,
          5.19821310043335,
          6.060266494750977,
          2.0254321098327637,
          5.277693271636963,
          2.0763204097747803,
          5.370893955230713,
          5.593369960784912,
          2.244516134262085,
          5.579540252685547,
          2.5709586143493652,
          7.015242099761963,
          5.7129225730896,
          5.638376712799072,
          2.091905355453491,
          5.941829204559326,
          5.468324661254883,
          5.18943452835083,
          5.048291206359863,
          5.6653571128845215,
          5.014900207519531,
          4.524930000305176,
          2.223266363143921,
          2.3076627254486084,
          5.42840576171875,
          5.886574745178223,
          7.107978343963623,
          2.57271146774292,
          5.343949317932129,
          5.949747562408447,
          5.21720027923584,
          6.883754730224609,
          2.730086326599121,
          2.0748870372772217,
          5.542056560516357,
          6.084253787994385,
          5.050306797027588,
          4.779489040374756,
          6.888909816741943,
          5.563882827758789,
          6.692823886871338,
          4.674585342407227,
          5.687726974487305,
          6.614674091339111,
          5.785300254821777,
          5.476014614105225,
          2.2692043781280518,
          4.679640769958496,
          5.709636688232422,
          4.62749719619751,
          5.495004653930664,
          4.783173561096191,
          5.654120445251465,
          5.779914379119873,
          5.84344482421875,
          5.675506114959717,
          2.174652338027954,
          5.149224758148193,
          7.034970760345459,
          2.1311521530151367,
          4.468260765075684,
          5.781513214111328,
          5.513586521148682,
          4.731437683105469,
          6.090395927429199,
          5.549105167388916,
          2.330023765563965,
          5.317553520202637,
          5.85565185546875,
          5.4705119132995605,
          5.975411415100098
         ]
        },
        {
         "marker": {
          "color": "rgb(255,255,0)",
          "size": 16
         },
         "mode": "markers",
         "name": "Centroids",
         "type": "scatter3d",
         "x": [
          9.41909122467041,
          8.99985122680664,
          3.950652837753296,
          6.210972309112549
         ],
         "y": [
          7.059682846069336,
          5.337928295135498,
          5.409818649291992,
          9.959346771240234
         ],
         "z": [
          1.971382737159729,
          2.869354009628296,
          3.980705976486206,
          5.5427069664001465
         ]
        }
       ],
       "layout": {
        "template": {
         "data": {
          "bar": [
           {
            "error_x": {
             "color": "#2a3f5f"
            },
            "error_y": {
             "color": "#2a3f5f"
            },
            "marker": {
             "line": {
              "color": "#E5ECF6",
              "width": 0.5
             }
            },
            "type": "bar"
           }
          ],
          "barpolar": [
           {
            "marker": {
             "line": {
              "color": "#E5ECF6",
              "width": 0.5
             }
            },
            "type": "barpolar"
           }
          ],
          "carpet": [
           {
            "aaxis": {
             "endlinecolor": "#2a3f5f",
             "gridcolor": "white",
             "linecolor": "white",
             "minorgridcolor": "white",
             "startlinecolor": "#2a3f5f"
            },
            "baxis": {
             "endlinecolor": "#2a3f5f",
             "gridcolor": "white",
             "linecolor": "white",
             "minorgridcolor": "white",
             "startlinecolor": "#2a3f5f"
            },
            "type": "carpet"
           }
          ],
          "choropleth": [
           {
            "colorbar": {
             "outlinewidth": 0,
             "ticks": ""
            },
            "type": "choropleth"
           }
          ],
          "contour": [
           {
            "colorbar": {
             "outlinewidth": 0,
             "ticks": ""
            },
            "colorscale": [
             [
              0,
              "#0d0887"
             ],
             [
              0.1111111111111111,
              "#46039f"
             ],
             [
              0.2222222222222222,
              "#7201a8"
             ],
             [
              0.3333333333333333,
              "#9c179e"
             ],
             [
              0.4444444444444444,
              "#bd3786"
             ],
             [
              0.5555555555555556,
              "#d8576b"
             ],
             [
              0.6666666666666666,
              "#ed7953"
             ],
             [
              0.7777777777777778,
              "#fb9f3a"
             ],
             [
              0.8888888888888888,
              "#fdca26"
             ],
             [
              1,
              "#f0f921"
             ]
            ],
            "type": "contour"
           }
          ],
          "contourcarpet": [
           {
            "colorbar": {
             "outlinewidth": 0,
             "ticks": ""
            },
            "type": "contourcarpet"
           }
          ],
          "heatmap": [
           {
            "colorbar": {
             "outlinewidth": 0,
             "ticks": ""
            },
            "colorscale": [
             [
              0,
              "#0d0887"
             ],
             [
              0.1111111111111111,
              "#46039f"
             ],
             [
              0.2222222222222222,
              "#7201a8"
             ],
             [
              0.3333333333333333,
              "#9c179e"
             ],
             [
              0.4444444444444444,
              "#bd3786"
             ],
             [
              0.5555555555555556,
              "#d8576b"
             ],
             [
              0.6666666666666666,
              "#ed7953"
             ],
             [
              0.7777777777777778,
              "#fb9f3a"
             ],
             [
              0.8888888888888888,
              "#fdca26"
             ],
             [
              1,
              "#f0f921"
             ]
            ],
            "type": "heatmap"
           }
          ],
          "heatmapgl": [
           {
            "colorbar": {
             "outlinewidth": 0,
             "ticks": ""
            },
            "colorscale": [
             [
              0,
              "#0d0887"
             ],
             [
              0.1111111111111111,
              "#46039f"
             ],
             [
              0.2222222222222222,
              "#7201a8"
             ],
             [
              0.3333333333333333,
              "#9c179e"
             ],
             [
              0.4444444444444444,
              "#bd3786"
             ],
             [
              0.5555555555555556,
              "#d8576b"
             ],
             [
              0.6666666666666666,
              "#ed7953"
             ],
             [
              0.7777777777777778,
              "#fb9f3a"
             ],
             [
              0.8888888888888888,
              "#fdca26"
             ],
             [
              1,
              "#f0f921"
             ]
            ],
            "type": "heatmapgl"
           }
          ],
          "histogram": [
           {
            "marker": {
             "colorbar": {
              "outlinewidth": 0,
              "ticks": ""
             }
            },
            "type": "histogram"
           }
          ],
          "histogram2d": [
           {
            "colorbar": {
             "outlinewidth": 0,
             "ticks": ""
            },
            "colorscale": [
             [
              0,
              "#0d0887"
             ],
             [
              0.1111111111111111,
              "#46039f"
             ],
             [
              0.2222222222222222,
              "#7201a8"
             ],
             [
              0.3333333333333333,
              "#9c179e"
             ],
             [
              0.4444444444444444,
              "#bd3786"
             ],
             [
              0.5555555555555556,
              "#d8576b"
             ],
             [
              0.6666666666666666,
              "#ed7953"
             ],
             [
              0.7777777777777778,
              "#fb9f3a"
             ],
             [
              0.8888888888888888,
              "#fdca26"
             ],
             [
              1,
              "#f0f921"
             ]
            ],
            "type": "histogram2d"
           }
          ],
          "histogram2dcontour": [
           {
            "colorbar": {
             "outlinewidth": 0,
             "ticks": ""
            },
            "colorscale": [
             [
              0,
              "#0d0887"
             ],
             [
              0.1111111111111111,
              "#46039f"
             ],
             [
              0.2222222222222222,
              "#7201a8"
             ],
             [
              0.3333333333333333,
              "#9c179e"
             ],
             [
              0.4444444444444444,
              "#bd3786"
             ],
             [
              0.5555555555555556,
              "#d8576b"
             ],
             [
              0.6666666666666666,
              "#ed7953"
             ],
             [
              0.7777777777777778,
              "#fb9f3a"
             ],
             [
              0.8888888888888888,
              "#fdca26"
             ],
             [
              1,
              "#f0f921"
             ]
            ],
            "type": "histogram2dcontour"
           }
          ],
          "mesh3d": [
           {
            "colorbar": {
             "outlinewidth": 0,
             "ticks": ""
            },
            "type": "mesh3d"
           }
          ],
          "parcoords": [
           {
            "line": {
             "colorbar": {
              "outlinewidth": 0,
              "ticks": ""
             }
            },
            "type": "parcoords"
           }
          ],
          "pie": [
           {
            "automargin": true,
            "type": "pie"
           }
          ],
          "scatter": [
           {
            "marker": {
             "colorbar": {
              "outlinewidth": 0,
              "ticks": ""
             }
            },
            "type": "scatter"
           }
          ],
          "scatter3d": [
           {
            "line": {
             "colorbar": {
              "outlinewidth": 0,
              "ticks": ""
             }
            },
            "marker": {
             "colorbar": {
              "outlinewidth": 0,
              "ticks": ""
             }
            },
            "type": "scatter3d"
           }
          ],
          "scattercarpet": [
           {
            "marker": {
             "colorbar": {
              "outlinewidth": 0,
              "ticks": ""
             }
            },
            "type": "scattercarpet"
           }
          ],
          "scattergeo": [
           {
            "marker": {
             "colorbar": {
              "outlinewidth": 0,
              "ticks": ""
             }
            },
            "type": "scattergeo"
           }
          ],
          "scattergl": [
           {
            "marker": {
             "colorbar": {
              "outlinewidth": 0,
              "ticks": ""
             }
            },
            "type": "scattergl"
           }
          ],
          "scattermapbox": [
           {
            "marker": {
             "colorbar": {
              "outlinewidth": 0,
              "ticks": ""
             }
            },
            "type": "scattermapbox"
           }
          ],
          "scatterpolar": [
           {
            "marker": {
             "colorbar": {
              "outlinewidth": 0,
              "ticks": ""
             }
            },
            "type": "scatterpolar"
           }
          ],
          "scatterpolargl": [
           {
            "marker": {
             "colorbar": {
              "outlinewidth": 0,
              "ticks": ""
             }
            },
            "type": "scatterpolargl"
           }
          ],
          "scatterternary": [
           {
            "marker": {
             "colorbar": {
              "outlinewidth": 0,
              "ticks": ""
             }
            },
            "type": "scatterternary"
           }
          ],
          "surface": [
           {
            "colorbar": {
             "outlinewidth": 0,
             "ticks": ""
            },
            "colorscale": [
             [
              0,
              "#0d0887"
             ],
             [
              0.1111111111111111,
              "#46039f"
             ],
             [
              0.2222222222222222,
              "#7201a8"
             ],
             [
              0.3333333333333333,
              "#9c179e"
             ],
             [
              0.4444444444444444,
              "#bd3786"
             ],
             [
              0.5555555555555556,
              "#d8576b"
             ],
             [
              0.6666666666666666,
              "#ed7953"
             ],
             [
              0.7777777777777778,
              "#fb9f3a"
             ],
             [
              0.8888888888888888,
              "#fdca26"
             ],
             [
              1,
              "#f0f921"
             ]
            ],
            "type": "surface"
           }
          ],
          "table": [
           {
            "cells": {
             "fill": {
              "color": "#EBF0F8"
             },
             "line": {
              "color": "white"
             }
            },
            "header": {
             "fill": {
              "color": "#C8D4E3"
             },
             "line": {
              "color": "white"
             }
            },
            "type": "table"
           }
          ]
         },
         "layout": {
          "annotationdefaults": {
           "arrowcolor": "#2a3f5f",
           "arrowhead": 0,
           "arrowwidth": 1
          },
          "coloraxis": {
           "colorbar": {
            "outlinewidth": 0,
            "ticks": ""
           }
          },
          "colorscale": {
           "diverging": [
            [
             0,
             "#8e0152"
            ],
            [
             0.1,
             "#c51b7d"
            ],
            [
             0.2,
             "#de77ae"
            ],
            [
             0.3,
             "#f1b6da"
            ],
            [
             0.4,
             "#fde0ef"
            ],
            [
             0.5,
             "#f7f7f7"
            ],
            [
             0.6,
             "#e6f5d0"
            ],
            [
             0.7,
             "#b8e186"
            ],
            [
             0.8,
             "#7fbc41"
            ],
            [
             0.9,
             "#4d9221"
            ],
            [
             1,
             "#276419"
            ]
           ],
           "sequential": [
            [
             0,
             "#0d0887"
            ],
            [
             0.1111111111111111,
             "#46039f"
            ],
            [
             0.2222222222222222,
             "#7201a8"
            ],
            [
             0.3333333333333333,
             "#9c179e"
            ],
            [
             0.4444444444444444,
             "#bd3786"
            ],
            [
             0.5555555555555556,
             "#d8576b"
            ],
            [
             0.6666666666666666,
             "#ed7953"
            ],
            [
             0.7777777777777778,
             "#fb9f3a"
            ],
            [
             0.8888888888888888,
             "#fdca26"
            ],
            [
             1,
             "#f0f921"
            ]
           ],
           "sequentialminus": [
            [
             0,
             "#0d0887"
            ],
            [
             0.1111111111111111,
             "#46039f"
            ],
            [
             0.2222222222222222,
             "#7201a8"
            ],
            [
             0.3333333333333333,
             "#9c179e"
            ],
            [
             0.4444444444444444,
             "#bd3786"
            ],
            [
             0.5555555555555556,
             "#d8576b"
            ],
            [
             0.6666666666666666,
             "#ed7953"
            ],
            [
             0.7777777777777778,
             "#fb9f3a"
            ],
            [
             0.8888888888888888,
             "#fdca26"
            ],
            [
             1,
             "#f0f921"
            ]
           ]
          },
          "colorway": [
           "#636efa",
           "#EF553B",
           "#00cc96",
           "#ab63fa",
           "#FFA15A",
           "#19d3f3",
           "#FF6692",
           "#B6E880",
           "#FF97FF",
           "#FECB52"
          ],
          "font": {
           "color": "#2a3f5f"
          },
          "geo": {
           "bgcolor": "white",
           "lakecolor": "white",
           "landcolor": "#E5ECF6",
           "showlakes": true,
           "showland": true,
           "subunitcolor": "white"
          },
          "hoverlabel": {
           "align": "left"
          },
          "hovermode": "closest",
          "mapbox": {
           "style": "light"
          },
          "paper_bgcolor": "white",
          "plot_bgcolor": "#E5ECF6",
          "polar": {
           "angularaxis": {
            "gridcolor": "white",
            "linecolor": "white",
            "ticks": ""
           },
           "bgcolor": "#E5ECF6",
           "radialaxis": {
            "gridcolor": "white",
            "linecolor": "white",
            "ticks": ""
           }
          },
          "scene": {
           "xaxis": {
            "backgroundcolor": "#E5ECF6",
            "gridcolor": "white",
            "gridwidth": 2,
            "linecolor": "white",
            "showbackground": true,
            "ticks": "",
            "zerolinecolor": "white"
           },
           "yaxis": {
            "backgroundcolor": "#E5ECF6",
            "gridcolor": "white",
            "gridwidth": 2,
            "linecolor": "white",
            "showbackground": true,
            "ticks": "",
            "zerolinecolor": "white"
           },
           "zaxis": {
            "backgroundcolor": "#E5ECF6",
            "gridcolor": "white",
            "gridwidth": 2,
            "linecolor": "white",
            "showbackground": true,
            "ticks": "",
            "zerolinecolor": "white"
           }
          },
          "shapedefaults": {
           "line": {
            "color": "#2a3f5f"
           }
          },
          "ternary": {
           "aaxis": {
            "gridcolor": "white",
            "linecolor": "white",
            "ticks": ""
           },
           "baxis": {
            "gridcolor": "white",
            "linecolor": "white",
            "ticks": ""
           },
           "bgcolor": "#E5ECF6",
           "caxis": {
            "gridcolor": "white",
            "linecolor": "white",
            "ticks": ""
           }
          },
          "title": {
           "x": 0.05
          },
          "xaxis": {
           "automargin": true,
           "gridcolor": "white",
           "linecolor": "white",
           "ticks": "",
           "title": {
            "standoff": 15
           },
           "zerolinecolor": "white",
           "zerolinewidth": 2
          },
          "yaxis": {
           "automargin": true,
           "gridcolor": "white",
           "linecolor": "white",
           "ticks": "",
           "title": {
            "standoff": 15
           },
           "zerolinecolor": "white",
           "zerolinewidth": 2
          }
         }
        },
        "title": {
         "text": "Clusters with the Manhattan Distance"
        }
       }
      },
      "text/html": [
       "<div>\n",
       "        \n",
       "        \n",
       "            <div id=\"0d33735f-f8d7-4cf5-b9c7-d62c585d1e0b\" class=\"plotly-graph-div\" style=\"height:525px; width:100%;\"></div>\n",
       "            <script type=\"text/javascript\">\n",
       "                require([\"plotly\"], function(Plotly) {\n",
       "                    window.PLOTLYENV=window.PLOTLYENV || {};\n",
       "                    \n",
       "                if (document.getElementById(\"0d33735f-f8d7-4cf5-b9c7-d62c585d1e0b\")) {\n",
       "                    Plotly.newPlot(\n",
       "                        '0d33735f-f8d7-4cf5-b9c7-d62c585d1e0b',\n",
       "                        [{\"mode\": \"markers\", \"name\": \"Cluster 1\", \"type\": \"scatter3d\", \"x\": [9.41909122467041, 9.401622772216797, 9.239357948303223, 8.600217819213867, 9.10024356842041, 9.257452964782715, 8.832685470581055, 9.049601554870605, 9.169777870178223, 8.663507461547852, 3.1400134563446045, 8.570822715759277, 9.201218605041504, 9.33134937286377, 9.19129467010498, 9.552164077758789, 9.54758358001709, 9.505349159240723, 8.510701179504395, 9.228227615356445, 8.286572456359863, 8.401670455932617, 8.954168319702148, 9.617145538330078, 9.483741760253906, 9.236124992370605, 8.859803199768066, 8.495290756225586, 9.169734954833984, 9.115243911743164, 9.646096229553223, 9.161188125610352, 9.5123929977417], \"y\": [7.059682846069336, 7.169468879699707, 7.467803478240967, 7.06581449508667, 7.506046772003174, 6.805126190185547, 6.637145042419434, 7.557651042938232, 7.509836196899414, 7.260820388793945, 5.329755783081055, 7.484400749206543, 6.396788120269775, 6.662482261657715, 7.447950839996338, 7.174033164978027, 7.049526214599609, 6.988646030426025, 6.861152648925781, 7.373959541320801, 6.629603862762451, 6.773470401763916, 9.248997688293457, 7.081019878387451, 7.218843936920166, 7.269226551055908, 6.682048320770264, 7.41925573348999, 7.502293109893799, 7.538426876068115, 7.155418395996094, 7.5069661140441895, 7.130608081817627], \"z\": [1.971382737159729, 1.87593412399292, 2.6436944007873535, 2.4324865341186523, 2.5127110481262207, 2.8230068683624268, 2.1190226078033447, 2.749490976333618, 3.1951792240142822, 2.49442458152771, 5.005607604980469, 2.777285099029541, 2.6939892768859863, 2.866966724395752, 2.6097936630249023, 1.8355212211608887, 1.9492886066436768, 1.9186700582504272, 2.052757501602173, 2.285686731338501, 2.088782548904419, 2.0324792861938477, 4.893585205078125, 1.7846285104751587, 1.9300181865692139, 2.1051223278045654, 2.1626033782958984, 2.758805751800537, 3.2486345767974854, 2.7634193897247314, 1.7255460023880005, 3.189122200012207, 1.863808512687683]}, {\"mode\": \"markers\", \"name\": \"Cluster 2\", \"type\": \"scatter3d\", \"x\": [8.99985122680664, 8.877211570739746, 9.201138496398926, 8.486285209655762, 9.01789379119873, 7.709923267364502, 5.443100929260254, 8.316405296325684, 8.576525688171387, 8.511683464050293, 8.483424186706543, 4.746914863586426, 8.577851295471191, 8.956406593322754, 7.46766996383667, 8.877567291259766, 7.215969085693359, 7.670764923095703, 9.09127426147461, 9.228742599487305, 8.454000473022461, 4.326445579528809, 9.047542572021484, 8.56237506866455, 8.278290748596191, 8.950648307800293, 9.023602485656738, 7.6185784339904785, 4.589698314666748, 8.37899112701416, 8.827066421508789, 7.634773254394531, 9.066560745239258, 5.809793472290039, 7.124208927154541, 4.3145341873168945, 9.250103950500488, 9.228475570678711, 8.489675521850586, 8.58680534362793, 9.188525199890137, 9.024835586547852, 7.550668716430664], \"y\": [5.337928295135498, 5.289132118225098, 6.310649394989014, 6.537806034088135, 5.2872419357299805, 7.854982852935791, 7.120882987976074, 6.631324768066406, 6.399747371673584, 6.20391321182251, 6.120680809020996, 5.537240982055664, 6.2626471519470215, 5.310364246368408, 7.719564914703369, 5.466788291931152, 7.623520374298096, 7.921449184417725, 5.405987739562988, 5.224795341491699, 6.990897178649902, 5.7677507400512695, 5.465200424194336, 6.101235389709473, 6.589726448059082, 5.307331085205078, 5.347661018371582, 7.891578674316406, 5.60569429397583, 6.188671112060547, 5.32294225692749, 7.911961078643799, 5.4282684326171875, 7.557362079620361, 7.527157306671143, 5.7199554443359375, 6.501995086669922, 6.312824249267578, 7.217983722686768, 6.2420549392700195, 5.284561634063721, 6.131167411804199, 7.81472635269165], \"z\": [2.869354009628296, 2.9320545196533203, 2.639491319656372, 2.8115651607513428, 2.9530837535858154, 6.71120548248291, 4.637616157531738, 2.1739964485168457, 2.8516316413879395, 2.885430335998535, 2.878688335418701, 4.8133625984191895, 2.9658234119415283, 2.7702300548553467, 6.783162593841553, 2.8930954933166504, 6.832408428192139, 6.746435165405273, 2.7918245792388916, 2.662722587585449, 2.5728132724761963, 5.021067142486572, 3.0979671478271484, 2.5915706157684326, 2.141002655029297, 2.7673096656799316, 2.734477996826172, 6.565115928649902, 4.980484485626221, 2.4718728065490723, 2.9854214191436768, 6.718561172485352, 2.8045146465301514, 4.384171009063721, 6.628687858581543, 5.104179859161377, 2.760061502456665, 2.618367910385132, 2.7798283100128174, 2.926438331604004, 2.6283533573150635, 2.7141809463500977, 6.672700881958008]}, {\"mode\": \"markers\", \"name\": \"Cluster 3\", \"type\": \"scatter3d\", \"x\": [3.950652837753296, 3.6108715534210205, 4.442575454711914, 3.3811540603637695, 3.679340362548828, 4.6936540603637695, 4.05576229095459, 4.441530704498291, 4.214633941650391, 3.7986037731170654, 3.8920505046844482, 4.104567050933838, 3.5182061195373535, 4.489042282104492, 3.0755295753479004, 4.423710346221924, 4.894416809082031, 3.67814040184021, 4.106514930725098, 4.1194891929626465, 3.6680610179901123, 4.0496602058410645, 3.135223150253296, 4.400272846221924, 3.667417049407959, 3.6525332927703857, 3.939518451690674, 3.483006477355957, 4.159152984619141, 4.070174217224121, 3.6603784561157227, 3.733652353286743, 5.052786827087402, 3.778578281402588, 3.7815051078796387, 3.1640074253082275, 3.6473777294158936, 3.4749090671539307, 3.6974356174468994, 4.565588474273682, 4.369976997375488, 4.018636703491211, 3.1444413661956787, 3.8576629161834717, 3.8093347549438477, 3.1143739223480225, 4.084409236907959, 4.076630592346191, 3.4884090423583984, 4.916275978088379, 4.502572536468506, 4.167448997497559, 4.630749702453613], \"y\": [5.409818649291992, 4.907581329345703, 5.324036598205566, 5.263339042663574, 5.8867974281311035, 6.961986541748047, 5.2107977867126465, 7.177362442016602, 5.674199104309082, 5.08595085144043, 5.79293966293335, 5.8730621337890625, 5.302311897277832, 6.630454063415527, 5.3166680335998535, 5.233288764953613, 7.089759826660156, 5.167913913726807, 5.349914073944092, 5.141329288482666, 5.898111820220947, 5.778911590576172, 5.5275373458862305, 5.538251876831055, 5.419068336486816, 5.805025100708008, 5.484830856323242, 5.746923446655273, 5.758804798126221, 5.862475395202637, 5.079278469085693, 5.073183059692383, 6.87443208694458, 5.475710391998291, 5.412740707397461, 5.592043876647949, 5.765268325805664, 5.706479549407959, 4.996042251586914, 5.4500041007995605, 6.341121673583984, 5.541119575500488, 5.395244598388672, 5.15501070022583, 5.006185531616211, 5.422121047973633, 5.319211006164551, 5.88712215423584, 5.426403522491455, 7.186296463012695, 7.5288519859313965, 5.27830171585083, 6.288629055023193], \"z\": [3.980705976486206, 4.044500350952148, 3.8968474864959717, 4.846860885620117, 5.415480136871338, 3.1256320476531982, 3.6348137855529785, 2.6199514865875244, 5.178345680236816, 4.080454349517822, 4.737387180328369, 4.368906021118164, 4.687304496765137, 3.697146415710449, 4.982843399047852, 4.220034599304199, 3.29179310798645, 4.310261249542236, 3.873277425765991, 3.72078537940979, 5.487791538238525, 4.323587417602539, 5.191776275634766, 4.081284999847412, 4.641401767730713, 5.3599653244018555, 3.796595573425293, 5.416811466217041, 5.118746757507324, 4.155867576599121, 4.205049991607666, 4.173056602478027, 4.426896572113037, 5.183650493621826, 4.546555995941162, 5.1907148361206055, 5.322959899902344, 5.023510932922363, 4.123836994171143, 4.266808032989502, 4.109832763671875, 4.192299842834473, 5.0597429275512695, 4.06754207611084, 4.271881580352783, 5.07846212387085, 3.6886637210845947, 4.215940475463867, 5.044834613800049, 3.3399658203125, 2.751404285430908, 3.884340524673462, 3.230830669403076]}, {\"mode\": \"markers\", \"name\": \"Cluster 4\", \"type\": \"scatter3d\", \"x\": [6.210972309112549, 7.759171485900879, 7.4143829345703125, 6.080629348754883, 6.892719745635986, 7.386133670806885, 4.650798797607422, 7.238641262054443, 5.335397243499756, 4.147190093994141, 6.615659236907959, 7.471714973449707, 4.812002658843994, 6.747958183288574, 7.305288314819336, 7.0614213943481445, 4.514180660247803, 8.161592483520508, 9.100011825561523, 6.811516284942627, 6.54014778137207, 8.511088371276855, 7.209645748138428, 4.745147705078125, 4.1876115798950195, 7.149760723114014, 8.132451057434082, 7.389377593994141, 6.424338340759277, 9.152663230895996, 7.255774974822998, 7.596449851989746, 4.356576919555664, 4.670292854309082, 5.5442705154418945, 5.317431449890137, 5.206009864807129, 7.207432270050049, 7.57416296005249, 4.409416198730469, 8.757238388061523, 4.515832901000977, 4.6540632247924805, 5.4723358154296875, 5.955007553100586, 6.026274681091309, 7.020188808441162, 7.689239025115967, 9.105513572692871, 4.563844203948975, 4.4629926681518555, 7.202341556549072, 6.948525428771973, 7.390424728393555, 7.179555892944336, 6.80795431137085, 9.0403470993042, 6.061338901519775, 4.348511219024658, 8.84071159362793, 5.383092880249023, 8.163902282714844, 6.837912082672119, 9.125592231750488, 5.217583656311035, 7.074431419372559, 8.966854095458984, 6.816198348999023, 4.750422954559326, 9.009020805358887, 4.631448268890381, 7.356688976287842, 6.394257068634033, 4.683466911315918, 8.21845817565918, 4.353240489959717, 7.131722450256348, 6.918635368347168, 8.64675235748291, 4.5277814865112305, 6.8160481452941895, 5.9014763832092285, 8.989429473876953, 9.08386516571045, 8.728302001953125, 6.962535381317139, 5.893508434295654, 4.842432975769043, 4.555288314819336, 7.3955488204956055, 7.395514965057373, 7.179616451263428, 4.763153553009033, 5.8770527839660645, 6.965592861175537, 9.001583099365234, 7.171712875366211, 4.6837897300720215, 4.745044231414795, 8.254501342773438, 6.998813629150391, 9.053338050842285, 5.2220563888549805, 7.080432891845703, 8.489789962768555, 7.575689315795898, 6.659855842590332, 7.1313982009887695, 7.772490978240967, 6.7372965812683105, 5.8944993019104, 5.172520160675049, 6.64671516418457, 7.131592750549316, 6.57155704498291, 6.021682262420654, 6.744702339172363, 6.108462810516357, 7.377433776855469, 6.981148719787598, 6.641798973083496, 4.518115520477295, 9.157563209533691, 7.1534833908081055, 4.4668121337890625, 6.031216144561768, 6.792819499969482, 6.3049235343933105, 6.86738395690918, 7.013129234313965, 6.362127304077148, 4.329754829406738, 9.066667556762695, 7.199246883392334, 8.485075950622559, 7.097592830657959], \"y\": [9.959346771240234, 8.084551811218262, 9.735262870788574, 10.013172149658203, 8.646183013916016, 10.505630493164062, 7.319344997406006, 7.490602493286133, 8.158215522766113, 7.288998603820801, 8.165884971618652, 10.55053997039795, 8.275900840759277, 8.007533073425293, 10.477249145507812, 8.000326156616211, 7.506341934204102, 8.634536743164062, 9.282381057739258, 8.49135684967041, 7.914395332336426, 8.832368850708008, 7.308586120605469, 8.123209953308105, 7.323360919952393, 10.13000202178955, 8.585230827331543, 9.967059135437012, 10.144020080566406, 8.489845275878906, 10.009191513061523, 8.66407299041748, 7.53378963470459, 8.216489791870117, 8.409876823425293, 7.0523834228515625, 8.45410442352295, 8.06830883026123, 8.627873420715332, 7.3650946617126465, 9.164538383483887, 8.173892974853516, 7.471948146820068, 7.2165141105651855, 9.920615196228027, 9.847675323486328, 10.143305778503418, 8.493000984191895, 8.56292724609375, 7.153689384460449, 7.398262977600098, 8.450328826904297, 8.47111701965332, 10.077644348144531, 8.90726375579834, 9.79896068572998, 8.4360933303833, 7.86165189743042, 7.416502475738525, 8.499753952026367, 8.493823051452637, 8.610467910766602, 8.528904914855957, 8.497185707092285, 8.4495849609375, 7.516769886016846, 9.272570610046387, 8.630339622497559, 8.303351402282715, 9.324186325073242, 7.733063697814941, 10.443653106689453, 10.114350318908691, 8.035848617553711, 8.669809341430664, 7.433745384216309, 7.398660659790039, 10.222211837768555, 8.876885414123535, 7.296799659729004, 9.193812370300293, 9.679303169250488, 9.223504066467285, 9.207457542419434, 8.505826950073242, 7.986021518707275, 8.04257583618164, 8.23647689819336, 7.441333293914795, 10.453651428222656, 9.860745429992676, 7.441795349121094, 7.468058109283447, 9.464181900024414, 8.754179954528809, 9.194144248962402, 7.751659870147705, 7.39228630065918, 8.105870246887207, 8.708128929138184, 8.588605880737305, 9.099254608154297, 6.975354194641113, 7.564813613891602, 8.73165225982666, 7.844697952270508, 8.105628967285156, 10.193674087524414, 8.33128547668457, 8.501986503601074, 9.649359703063965, 8.438973426818848, 7.994956016540527, 10.057626724243164, 8.209761619567871, 10.195112228393555, 8.12937068939209, 9.889878273010254, 9.987853050231934, 10.024347305297852, 9.94022274017334, 8.088133811950684, 8.960119247436523, 7.422196865081787, 8.186196327209473, 7.885975360870361, 9.88454818725586, 10.066917419433594, 8.317973136901855, 8.566948890686035, 10.023916244506836, 7.3682355880737305, 8.649762153625488, 10.014261245727539, 8.892851829528809, 9.275832176208496], \"z\": [5.5427069664001465, 6.728901386260986, 6.058198928833008, 5.455081462860107, 6.012814521789551, 5.430967807769775, 2.1754310131073, 6.926090717315674, 2.639580011367798, 2.2371582984924316, 4.657127380371094, 5.376683712005615, 2.06626033782959, 4.764815807342529, 5.368327617645264, 5.109156131744385, 2.2217299938201904, 5.4580488204956055, 5.057437896728516, 4.7171502113342285, 4.6049933433532715, 5.537158012390137, 7.153176307678223, 2.293308973312378, 2.306459903717041, 5.639491558074951, 5.423645496368408, 5.809464931488037, 5.6095662117004395, 5.261134147644043, 6.042806625366211, 6.667173385620117, 2.6091227531433105, 1.9555195569992065, 2.59613299369812, 4.677051544189453, 2.281806468963623, 6.627552509307861, 6.236089706420898, 2.4255917072296143, 5.392787933349609, 2.2330455780029297, 2.7875499725341797, 4.7605133056640625, 5.586877346038818, 5.677964687347412, 5.716833591461182, 6.669694900512695, 5.336332321166992, 2.184429883956909, 2.5311965942382812, 6.152356147766113, 4.587851047515869, 5.664376258850098, 6.181098461151123, 5.833443641662598, 5.462491989135742, 4.432285308837891, 2.3904941082000732, 5.591838836669922, 2.4132518768310547, 5.462652683258057, 5.956893444061279, 5.289645195007324, 2.2903084754943848, 6.95071268081665, 5.19821310043335, 6.060266494750977, 2.0254321098327637, 5.277693271636963, 2.0763204097747803, 5.370893955230713, 5.593369960784912, 2.244516134262085, 5.579540252685547, 2.5709586143493652, 7.015242099761963, 5.7129225730896, 5.638376712799072, 2.091905355453491, 5.941829204559326, 5.468324661254883, 5.18943452835083, 5.048291206359863, 5.6653571128845215, 5.014900207519531, 4.524930000305176, 2.223266363143921, 2.3076627254486084, 5.42840576171875, 5.886574745178223, 7.107978343963623, 2.57271146774292, 5.343949317932129, 5.949747562408447, 5.21720027923584, 6.883754730224609, 2.730086326599121, 2.0748870372772217, 5.542056560516357, 6.084253787994385, 5.050306797027588, 4.779489040374756, 6.888909816741943, 5.563882827758789, 6.692823886871338, 4.674585342407227, 5.687726974487305, 6.614674091339111, 5.785300254821777, 5.476014614105225, 2.2692043781280518, 4.679640769958496, 5.709636688232422, 4.62749719619751, 5.495004653930664, 4.783173561096191, 5.654120445251465, 5.779914379119873, 5.84344482421875, 5.675506114959717, 2.174652338027954, 5.149224758148193, 7.034970760345459, 2.1311521530151367, 4.468260765075684, 5.781513214111328, 5.513586521148682, 4.731437683105469, 6.090395927429199, 5.549105167388916, 2.330023765563965, 5.317553520202637, 5.85565185546875, 5.4705119132995605, 5.975411415100098]}, {\"marker\": {\"color\": \"rgb(255,255,0)\", \"size\": 16}, \"mode\": \"markers\", \"name\": \"Centroids\", \"type\": \"scatter3d\", \"x\": [9.41909122467041, 8.99985122680664, 3.950652837753296, 6.210972309112549], \"y\": [7.059682846069336, 5.337928295135498, 5.409818649291992, 9.959346771240234], \"z\": [1.971382737159729, 2.869354009628296, 3.980705976486206, 5.5427069664001465]}],\n",
       "                        {\"template\": {\"data\": {\"bar\": [{\"error_x\": {\"color\": \"#2a3f5f\"}, \"error_y\": {\"color\": \"#2a3f5f\"}, \"marker\": {\"line\": {\"color\": \"#E5ECF6\", \"width\": 0.5}}, \"type\": \"bar\"}], \"barpolar\": [{\"marker\": {\"line\": {\"color\": \"#E5ECF6\", \"width\": 0.5}}, \"type\": \"barpolar\"}], \"carpet\": [{\"aaxis\": {\"endlinecolor\": \"#2a3f5f\", \"gridcolor\": \"white\", \"linecolor\": \"white\", \"minorgridcolor\": \"white\", \"startlinecolor\": \"#2a3f5f\"}, \"baxis\": {\"endlinecolor\": \"#2a3f5f\", \"gridcolor\": \"white\", \"linecolor\": \"white\", \"minorgridcolor\": \"white\", \"startlinecolor\": \"#2a3f5f\"}, \"type\": \"carpet\"}], \"choropleth\": [{\"colorbar\": {\"outlinewidth\": 0, \"ticks\": \"\"}, \"type\": \"choropleth\"}], \"contour\": [{\"colorbar\": {\"outlinewidth\": 0, \"ticks\": \"\"}, \"colorscale\": [[0.0, \"#0d0887\"], [0.1111111111111111, \"#46039f\"], [0.2222222222222222, \"#7201a8\"], [0.3333333333333333, \"#9c179e\"], [0.4444444444444444, \"#bd3786\"], [0.5555555555555556, \"#d8576b\"], [0.6666666666666666, \"#ed7953\"], [0.7777777777777778, \"#fb9f3a\"], [0.8888888888888888, \"#fdca26\"], [1.0, \"#f0f921\"]], \"type\": \"contour\"}], \"contourcarpet\": [{\"colorbar\": {\"outlinewidth\": 0, \"ticks\": \"\"}, \"type\": \"contourcarpet\"}], \"heatmap\": [{\"colorbar\": {\"outlinewidth\": 0, \"ticks\": \"\"}, \"colorscale\": [[0.0, \"#0d0887\"], [0.1111111111111111, \"#46039f\"], [0.2222222222222222, \"#7201a8\"], [0.3333333333333333, \"#9c179e\"], [0.4444444444444444, \"#bd3786\"], [0.5555555555555556, \"#d8576b\"], [0.6666666666666666, \"#ed7953\"], [0.7777777777777778, \"#fb9f3a\"], [0.8888888888888888, \"#fdca26\"], [1.0, \"#f0f921\"]], \"type\": \"heatmap\"}], \"heatmapgl\": [{\"colorbar\": {\"outlinewidth\": 0, \"ticks\": \"\"}, \"colorscale\": [[0.0, \"#0d0887\"], [0.1111111111111111, \"#46039f\"], [0.2222222222222222, \"#7201a8\"], [0.3333333333333333, \"#9c179e\"], [0.4444444444444444, \"#bd3786\"], [0.5555555555555556, \"#d8576b\"], [0.6666666666666666, \"#ed7953\"], [0.7777777777777778, \"#fb9f3a\"], [0.8888888888888888, \"#fdca26\"], [1.0, \"#f0f921\"]], \"type\": \"heatmapgl\"}], \"histogram\": [{\"marker\": {\"colorbar\": {\"outlinewidth\": 0, \"ticks\": \"\"}}, \"type\": \"histogram\"}], \"histogram2d\": [{\"colorbar\": {\"outlinewidth\": 0, \"ticks\": \"\"}, \"colorscale\": [[0.0, \"#0d0887\"], [0.1111111111111111, \"#46039f\"], [0.2222222222222222, \"#7201a8\"], [0.3333333333333333, \"#9c179e\"], [0.4444444444444444, \"#bd3786\"], [0.5555555555555556, \"#d8576b\"], [0.6666666666666666, \"#ed7953\"], [0.7777777777777778, \"#fb9f3a\"], [0.8888888888888888, \"#fdca26\"], [1.0, \"#f0f921\"]], \"type\": \"histogram2d\"}], \"histogram2dcontour\": [{\"colorbar\": {\"outlinewidth\": 0, \"ticks\": \"\"}, \"colorscale\": [[0.0, \"#0d0887\"], [0.1111111111111111, \"#46039f\"], [0.2222222222222222, \"#7201a8\"], [0.3333333333333333, \"#9c179e\"], [0.4444444444444444, \"#bd3786\"], [0.5555555555555556, \"#d8576b\"], [0.6666666666666666, \"#ed7953\"], [0.7777777777777778, \"#fb9f3a\"], [0.8888888888888888, \"#fdca26\"], [1.0, \"#f0f921\"]], \"type\": \"histogram2dcontour\"}], \"mesh3d\": [{\"colorbar\": {\"outlinewidth\": 0, \"ticks\": \"\"}, \"type\": \"mesh3d\"}], \"parcoords\": [{\"line\": {\"colorbar\": {\"outlinewidth\": 0, \"ticks\": \"\"}}, \"type\": \"parcoords\"}], \"pie\": [{\"automargin\": true, \"type\": \"pie\"}], \"scatter\": [{\"marker\": {\"colorbar\": {\"outlinewidth\": 0, \"ticks\": \"\"}}, \"type\": \"scatter\"}], \"scatter3d\": [{\"line\": {\"colorbar\": {\"outlinewidth\": 0, \"ticks\": \"\"}}, \"marker\": {\"colorbar\": {\"outlinewidth\": 0, \"ticks\": \"\"}}, \"type\": \"scatter3d\"}], \"scattercarpet\": [{\"marker\": {\"colorbar\": {\"outlinewidth\": 0, \"ticks\": \"\"}}, \"type\": \"scattercarpet\"}], \"scattergeo\": [{\"marker\": {\"colorbar\": {\"outlinewidth\": 0, \"ticks\": \"\"}}, \"type\": \"scattergeo\"}], \"scattergl\": [{\"marker\": {\"colorbar\": {\"outlinewidth\": 0, \"ticks\": \"\"}}, \"type\": \"scattergl\"}], \"scattermapbox\": [{\"marker\": {\"colorbar\": {\"outlinewidth\": 0, \"ticks\": \"\"}}, \"type\": \"scattermapbox\"}], \"scatterpolar\": [{\"marker\": {\"colorbar\": {\"outlinewidth\": 0, \"ticks\": \"\"}}, \"type\": \"scatterpolar\"}], \"scatterpolargl\": [{\"marker\": {\"colorbar\": {\"outlinewidth\": 0, \"ticks\": \"\"}}, \"type\": \"scatterpolargl\"}], \"scatterternary\": [{\"marker\": {\"colorbar\": {\"outlinewidth\": 0, \"ticks\": \"\"}}, \"type\": \"scatterternary\"}], \"surface\": [{\"colorbar\": {\"outlinewidth\": 0, \"ticks\": \"\"}, \"colorscale\": [[0.0, \"#0d0887\"], [0.1111111111111111, \"#46039f\"], [0.2222222222222222, \"#7201a8\"], [0.3333333333333333, \"#9c179e\"], [0.4444444444444444, \"#bd3786\"], [0.5555555555555556, \"#d8576b\"], [0.6666666666666666, \"#ed7953\"], [0.7777777777777778, \"#fb9f3a\"], [0.8888888888888888, \"#fdca26\"], [1.0, \"#f0f921\"]], \"type\": \"surface\"}], \"table\": [{\"cells\": {\"fill\": {\"color\": \"#EBF0F8\"}, \"line\": {\"color\": \"white\"}}, \"header\": {\"fill\": {\"color\": \"#C8D4E3\"}, \"line\": {\"color\": \"white\"}}, \"type\": \"table\"}]}, \"layout\": {\"annotationdefaults\": {\"arrowcolor\": \"#2a3f5f\", \"arrowhead\": 0, \"arrowwidth\": 1}, \"coloraxis\": {\"colorbar\": {\"outlinewidth\": 0, \"ticks\": \"\"}}, \"colorscale\": {\"diverging\": [[0, \"#8e0152\"], [0.1, \"#c51b7d\"], [0.2, \"#de77ae\"], [0.3, \"#f1b6da\"], [0.4, \"#fde0ef\"], [0.5, \"#f7f7f7\"], [0.6, \"#e6f5d0\"], [0.7, \"#b8e186\"], [0.8, \"#7fbc41\"], [0.9, \"#4d9221\"], [1, \"#276419\"]], \"sequential\": [[0.0, \"#0d0887\"], [0.1111111111111111, \"#46039f\"], [0.2222222222222222, \"#7201a8\"], [0.3333333333333333, \"#9c179e\"], [0.4444444444444444, \"#bd3786\"], [0.5555555555555556, \"#d8576b\"], [0.6666666666666666, \"#ed7953\"], [0.7777777777777778, \"#fb9f3a\"], [0.8888888888888888, \"#fdca26\"], [1.0, \"#f0f921\"]], \"sequentialminus\": [[0.0, \"#0d0887\"], [0.1111111111111111, \"#46039f\"], [0.2222222222222222, \"#7201a8\"], [0.3333333333333333, \"#9c179e\"], [0.4444444444444444, \"#bd3786\"], [0.5555555555555556, \"#d8576b\"], [0.6666666666666666, \"#ed7953\"], [0.7777777777777778, \"#fb9f3a\"], [0.8888888888888888, \"#fdca26\"], [1.0, \"#f0f921\"]]}, \"colorway\": [\"#636efa\", \"#EF553B\", \"#00cc96\", \"#ab63fa\", \"#FFA15A\", \"#19d3f3\", \"#FF6692\", \"#B6E880\", \"#FF97FF\", \"#FECB52\"], \"font\": {\"color\": \"#2a3f5f\"}, \"geo\": {\"bgcolor\": \"white\", \"lakecolor\": \"white\", \"landcolor\": \"#E5ECF6\", \"showlakes\": true, \"showland\": true, \"subunitcolor\": \"white\"}, \"hoverlabel\": {\"align\": \"left\"}, \"hovermode\": \"closest\", \"mapbox\": {\"style\": \"light\"}, \"paper_bgcolor\": \"white\", \"plot_bgcolor\": \"#E5ECF6\", \"polar\": {\"angularaxis\": {\"gridcolor\": \"white\", \"linecolor\": \"white\", \"ticks\": \"\"}, \"bgcolor\": \"#E5ECF6\", \"radialaxis\": {\"gridcolor\": \"white\", \"linecolor\": \"white\", \"ticks\": \"\"}}, \"scene\": {\"xaxis\": {\"backgroundcolor\": \"#E5ECF6\", \"gridcolor\": \"white\", \"gridwidth\": 2, \"linecolor\": \"white\", \"showbackground\": true, \"ticks\": \"\", \"zerolinecolor\": \"white\"}, \"yaxis\": {\"backgroundcolor\": \"#E5ECF6\", \"gridcolor\": \"white\", \"gridwidth\": 2, \"linecolor\": \"white\", \"showbackground\": true, \"ticks\": \"\", \"zerolinecolor\": \"white\"}, \"zaxis\": {\"backgroundcolor\": \"#E5ECF6\", \"gridcolor\": \"white\", \"gridwidth\": 2, \"linecolor\": \"white\", \"showbackground\": true, \"ticks\": \"\", \"zerolinecolor\": \"white\"}}, \"shapedefaults\": {\"line\": {\"color\": \"#2a3f5f\"}}, \"ternary\": {\"aaxis\": {\"gridcolor\": \"white\", \"linecolor\": \"white\", \"ticks\": \"\"}, \"baxis\": {\"gridcolor\": \"white\", \"linecolor\": \"white\", \"ticks\": \"\"}, \"bgcolor\": \"#E5ECF6\", \"caxis\": {\"gridcolor\": \"white\", \"linecolor\": \"white\", \"ticks\": \"\"}}, \"title\": {\"x\": 0.05}, \"xaxis\": {\"automargin\": true, \"gridcolor\": \"white\", \"linecolor\": \"white\", \"ticks\": \"\", \"title\": {\"standoff\": 15}, \"zerolinecolor\": \"white\", \"zerolinewidth\": 2}, \"yaxis\": {\"automargin\": true, \"gridcolor\": \"white\", \"linecolor\": \"white\", \"ticks\": \"\", \"title\": {\"standoff\": 15}, \"zerolinecolor\": \"white\", \"zerolinewidth\": 2}}}, \"title\": {\"text\": \"Clusters with the Manhattan Distance\"}},\n",
       "                        {\"responsive\": true}\n",
       "                    ).then(function(){\n",
       "                            \n",
       "var gd = document.getElementById('0d33735f-f8d7-4cf5-b9c7-d62c585d1e0b');\n",
       "var x = new MutationObserver(function (mutations, observer) {{\n",
       "        var display = window.getComputedStyle(gd).display;\n",
       "        if (!display || display === 'none') {{\n",
       "            console.log([gd, 'removed!']);\n",
       "            Plotly.purge(gd);\n",
       "            observer.disconnect();\n",
       "        }}\n",
       "}});\n",
       "\n",
       "// Listen for the removal of the full notebook cells\n",
       "var notebookContainer = gd.closest('#notebook-container');\n",
       "if (notebookContainer) {{\n",
       "    x.observe(notebookContainer, {childList: true});\n",
       "}}\n",
       "\n",
       "// Listen for the clearing of the current output cell\n",
       "var outputEl = gd.closest('.output');\n",
       "if (outputEl) {{\n",
       "    x.observe(outputEl, {childList: true});\n",
       "}}\n",
       "\n",
       "                        })\n",
       "                };\n",
       "                });\n",
       "            </script>\n",
       "        </div>"
      ]
     },
     "metadata": {},
     "output_type": "display_data"
    }
   ],
   "source": [
    "fit = umap.UMAP(n_neighbors=14,min_dist=0.1,n_components=3,metric='manhattan', random_state=42)\n",
    "p3_umap = fit.fit_transform(portfolio3)\n",
    "\n",
    "# Visualising the clusters\n",
    "\n",
    "fig = go.Figure()\n",
    "\n",
    "fig.add_trace(go.Scatter3d(x=p3_umap[clusters[0], 0], y=p3_umap[clusters[0], 1], z=p3_umap[clusters[0], 2], name='Cluster 1', mode='markers'))\n",
    "fig.add_trace(go.Scatter3d(x=p3_umap[clusters[1], 0], y=p3_umap[clusters[1], 1], z=p3_umap[clusters[1], 2], name='Cluster 2', mode='markers'))\n",
    "fig.add_trace(go.Scatter3d(x=p3_umap[clusters[2], 0], y=p3_umap[clusters[2], 1], z=p3_umap[clusters[2], 2], name='Cluster 3', mode='markers'))\n",
    "fig.add_trace(go.Scatter3d(x=p3_umap[clusters[3], 0], y=p3_umap[clusters[3], 1], z=p3_umap[clusters[3], 2], name='Cluster 4', mode='markers'))\n",
    "#comment the lines if you chose less clusters\n",
    "#add more lines if you chose more clusters\n",
    "\n",
    "fig.add_trace(go.Scatter3d(x=p3_umap[medoids,0], y=p3_umap[medoids,1],z=p3_umap[medoids,2], name='Centroids', \n",
    "                         mode='markers', marker_color=\"rgb(255,255,0)\", marker=dict(size=16)))\n",
    "\n",
    "fig.update_layout(title='Clusters with the Manhattan Distance')\n",
    "\n",
    "fig.show()"
   ]
  },
  {
   "cell_type": "code",
   "execution_count": null,
   "metadata": {},
   "outputs": [],
   "source": []
  }
 ],
 "metadata": {
  "kernelspec": {
   "display_name": "Python 3",
   "language": "python",
   "name": "python3"
  },
  "language_info": {
   "codemirror_mode": {
    "name": "ipython",
    "version": 3
   },
   "file_extension": ".py",
   "mimetype": "text/x-python",
   "name": "python",
   "nbconvert_exporter": "python",
   "pygments_lexer": "ipython3",
   "version": "3.8.2"
  }
 },
 "nbformat": 4,
 "nbformat_minor": 2
}
