{
 "cells": [
  {
   "cell_type": "code",
   "execution_count": 1,
   "metadata": {},
   "outputs": [
    {
     "data": {
      "text/html": [
       "<div>\n",
       "<style scoped>\n",
       "    .dataframe tbody tr th:only-of-type {\n",
       "        vertical-align: middle;\n",
       "    }\n",
       "\n",
       "    .dataframe tbody tr th {\n",
       "        vertical-align: top;\n",
       "    }\n",
       "\n",
       "    .dataframe thead th {\n",
       "        text-align: right;\n",
       "    }\n",
       "</style>\n",
       "<table border=\"1\" class=\"dataframe\">\n",
       "  <thead>\n",
       "    <tr style=\"text-align: right;\">\n",
       "      <th></th>\n",
       "      <th>idade_empresa_anos</th>\n",
       "      <th>de_faixa_faturamento_estimado_ATE R$ 81.000,00</th>\n",
       "      <th>de_faixa_faturamento_estimado_DE R$ 1.500.000,01 A R$ 4.800.000,00</th>\n",
       "      <th>de_faixa_faturamento_estimado_DE R$ 10.000.000,01 A R$ 30.000.000,00</th>\n",
       "      <th>de_faixa_faturamento_estimado_DE R$ 100.000.000,01 A R$ 300.000.000,00</th>\n",
       "      <th>de_faixa_faturamento_estimado_DE R$ 30.000.000,01 A R$ 100.000.000,00</th>\n",
       "      <th>de_faixa_faturamento_estimado_DE R$ 300.000.000,01 A R$ 500.000.000,00</th>\n",
       "      <th>de_faixa_faturamento_estimado_DE R$ 360.000,01 A R$ 1.500.000,00</th>\n",
       "      <th>de_faixa_faturamento_estimado_DE R$ 4.800.000,01 A R$ 10.000.000,00</th>\n",
       "      <th>de_faixa_faturamento_estimado_DE R$ 500.000.000,01 A 1 BILHAO DE REAIS</th>\n",
       "      <th>...</th>\n",
       "      <th>setor_INDUSTRIA</th>\n",
       "      <th>setor_SERVIÇO</th>\n",
       "      <th>setor_nan</th>\n",
       "      <th>sg_uf_AM</th>\n",
       "      <th>sg_uf_MA</th>\n",
       "      <th>sg_uf_PI</th>\n",
       "      <th>sg_uf_RN</th>\n",
       "      <th>sg_uf_RO</th>\n",
       "      <th>vl_total_veiculos_leves_grupo</th>\n",
       "      <th>vl_total_veiculos_pesados_grupo</th>\n",
       "    </tr>\n",
       "  </thead>\n",
       "  <tbody>\n",
       "    <tr>\n",
       "      <th>0</th>\n",
       "      <td>21.81</td>\n",
       "      <td>0</td>\n",
       "      <td>0</td>\n",
       "      <td>0</td>\n",
       "      <td>1</td>\n",
       "      <td>0</td>\n",
       "      <td>0</td>\n",
       "      <td>0</td>\n",
       "      <td>0</td>\n",
       "      <td>0</td>\n",
       "      <td>...</td>\n",
       "      <td>0</td>\n",
       "      <td>1</td>\n",
       "      <td>0</td>\n",
       "      <td>0</td>\n",
       "      <td>1</td>\n",
       "      <td>0</td>\n",
       "      <td>0</td>\n",
       "      <td>0</td>\n",
       "      <td>1</td>\n",
       "      <td>1</td>\n",
       "    </tr>\n",
       "    <tr>\n",
       "      <th>1</th>\n",
       "      <td>16.39</td>\n",
       "      <td>0</td>\n",
       "      <td>0</td>\n",
       "      <td>1</td>\n",
       "      <td>0</td>\n",
       "      <td>0</td>\n",
       "      <td>0</td>\n",
       "      <td>0</td>\n",
       "      <td>0</td>\n",
       "      <td>0</td>\n",
       "      <td>...</td>\n",
       "      <td>0</td>\n",
       "      <td>1</td>\n",
       "      <td>0</td>\n",
       "      <td>0</td>\n",
       "      <td>0</td>\n",
       "      <td>1</td>\n",
       "      <td>0</td>\n",
       "      <td>0</td>\n",
       "      <td>1</td>\n",
       "      <td>1</td>\n",
       "    </tr>\n",
       "    <tr>\n",
       "      <th>2</th>\n",
       "      <td>40.38</td>\n",
       "      <td>0</td>\n",
       "      <td>0</td>\n",
       "      <td>0</td>\n",
       "      <td>0</td>\n",
       "      <td>1</td>\n",
       "      <td>0</td>\n",
       "      <td>0</td>\n",
       "      <td>0</td>\n",
       "      <td>0</td>\n",
       "      <td>...</td>\n",
       "      <td>0</td>\n",
       "      <td>1</td>\n",
       "      <td>0</td>\n",
       "      <td>1</td>\n",
       "      <td>0</td>\n",
       "      <td>0</td>\n",
       "      <td>0</td>\n",
       "      <td>0</td>\n",
       "      <td>0</td>\n",
       "      <td>0</td>\n",
       "    </tr>\n",
       "    <tr>\n",
       "      <th>3</th>\n",
       "      <td>43.85</td>\n",
       "      <td>0</td>\n",
       "      <td>0</td>\n",
       "      <td>1</td>\n",
       "      <td>0</td>\n",
       "      <td>0</td>\n",
       "      <td>0</td>\n",
       "      <td>0</td>\n",
       "      <td>0</td>\n",
       "      <td>0</td>\n",
       "      <td>...</td>\n",
       "      <td>0</td>\n",
       "      <td>1</td>\n",
       "      <td>0</td>\n",
       "      <td>0</td>\n",
       "      <td>0</td>\n",
       "      <td>1</td>\n",
       "      <td>0</td>\n",
       "      <td>0</td>\n",
       "      <td>1</td>\n",
       "      <td>1</td>\n",
       "    </tr>\n",
       "    <tr>\n",
       "      <th>4</th>\n",
       "      <td>43.87</td>\n",
       "      <td>0</td>\n",
       "      <td>0</td>\n",
       "      <td>0</td>\n",
       "      <td>0</td>\n",
       "      <td>1</td>\n",
       "      <td>0</td>\n",
       "      <td>0</td>\n",
       "      <td>0</td>\n",
       "      <td>0</td>\n",
       "      <td>...</td>\n",
       "      <td>0</td>\n",
       "      <td>1</td>\n",
       "      <td>0</td>\n",
       "      <td>0</td>\n",
       "      <td>0</td>\n",
       "      <td>0</td>\n",
       "      <td>1</td>\n",
       "      <td>0</td>\n",
       "      <td>0</td>\n",
       "      <td>0</td>\n",
       "    </tr>\n",
       "  </tbody>\n",
       "</table>\n",
       "<p>5 rows × 170 columns</p>\n",
       "</div>"
      ],
      "text/plain": [
       "   idade_empresa_anos  de_faixa_faturamento_estimado_ATE R$ 81.000,00  \\\n",
       "0               21.81                                               0   \n",
       "1               16.39                                               0   \n",
       "2               40.38                                               0   \n",
       "3               43.85                                               0   \n",
       "4               43.87                                               0   \n",
       "\n",
       "   de_faixa_faturamento_estimado_DE R$ 1.500.000,01 A R$ 4.800.000,00  \\\n",
       "0                                                  0                    \n",
       "1                                                  0                    \n",
       "2                                                  0                    \n",
       "3                                                  0                    \n",
       "4                                                  0                    \n",
       "\n",
       "   de_faixa_faturamento_estimado_DE R$ 10.000.000,01 A R$ 30.000.000,00  \\\n",
       "0                                                  0                      \n",
       "1                                                  1                      \n",
       "2                                                  0                      \n",
       "3                                                  1                      \n",
       "4                                                  0                      \n",
       "\n",
       "   de_faixa_faturamento_estimado_DE R$ 100.000.000,01 A R$ 300.000.000,00  \\\n",
       "0                                                  1                        \n",
       "1                                                  0                        \n",
       "2                                                  0                        \n",
       "3                                                  0                        \n",
       "4                                                  0                        \n",
       "\n",
       "   de_faixa_faturamento_estimado_DE R$ 30.000.000,01 A R$ 100.000.000,00  \\\n",
       "0                                                  0                       \n",
       "1                                                  0                       \n",
       "2                                                  1                       \n",
       "3                                                  0                       \n",
       "4                                                  1                       \n",
       "\n",
       "   de_faixa_faturamento_estimado_DE R$ 300.000.000,01 A R$ 500.000.000,00  \\\n",
       "0                                                  0                        \n",
       "1                                                  0                        \n",
       "2                                                  0                        \n",
       "3                                                  0                        \n",
       "4                                                  0                        \n",
       "\n",
       "   de_faixa_faturamento_estimado_DE R$ 360.000,01 A R$ 1.500.000,00  \\\n",
       "0                                                  0                  \n",
       "1                                                  0                  \n",
       "2                                                  0                  \n",
       "3                                                  0                  \n",
       "4                                                  0                  \n",
       "\n",
       "   de_faixa_faturamento_estimado_DE R$ 4.800.000,01 A R$ 10.000.000,00  \\\n",
       "0                                                  0                     \n",
       "1                                                  0                     \n",
       "2                                                  0                     \n",
       "3                                                  0                     \n",
       "4                                                  0                     \n",
       "\n",
       "   de_faixa_faturamento_estimado_DE R$ 500.000.000,01 A 1 BILHAO DE REAIS  \\\n",
       "0                                                  0                        \n",
       "1                                                  0                        \n",
       "2                                                  0                        \n",
       "3                                                  0                        \n",
       "4                                                  0                        \n",
       "\n",
       "   ...  setor_INDUSTRIA  setor_SERVIÇO  setor_nan  sg_uf_AM  sg_uf_MA  \\\n",
       "0  ...                0              1          0         0         1   \n",
       "1  ...                0              1          0         0         0   \n",
       "2  ...                0              1          0         1         0   \n",
       "3  ...                0              1          0         0         0   \n",
       "4  ...                0              1          0         0         0   \n",
       "\n",
       "   sg_uf_PI  sg_uf_RN  sg_uf_RO  vl_total_veiculos_leves_grupo  \\\n",
       "0         0         0         0                              1   \n",
       "1         1         0         0                              1   \n",
       "2         0         0         0                              0   \n",
       "3         1         0         0                              1   \n",
       "4         0         1         0                              0   \n",
       "\n",
       "   vl_total_veiculos_pesados_grupo  \n",
       "0                                1  \n",
       "1                                1  \n",
       "2                                0  \n",
       "3                                1  \n",
       "4                                0  \n",
       "\n",
       "[5 rows x 170 columns]"
      ]
     },
     "execution_count": 1,
     "metadata": {},
     "output_type": "execute_result"
    }
   ],
   "source": [
    "import pandas as pd\n",
    "import matplotlib.pyplot as plt \n",
    "import numpy as np\n",
    "import seaborn as sns\n",
    "import plotly.graph_objs as go\n",
    "from plotly.offline import iplot\n",
    "from scipy import stats\n",
    "import gower\n",
    "from pyclustering.cluster.kmedoids import kmedoids\n",
    "from sklearn.preprocessing import MinMaxScaler\n",
    "from sklearn.metrics import silhouette_samples\n",
    "from sklearn.metrics import silhouette_score\n",
    "import random\n",
    "import umap as umap\n",
    "\n",
    "\n",
    "def load_data(filepath):\n",
    "    '''takes in the file path where the data is store and returns a pandas dataframe.\n",
    "    filepath must be entered as a string\n",
    "    '''\n",
    "    \n",
    "    df = pd.read_csv(filepath)\n",
    "    return df;\n",
    "\n",
    "filepath = '../data/portfolio3_ETL.csv'\n",
    "portfolio3_ID = load_data(filepath)\n",
    "\n",
    "portfolio3 = portfolio3_ID.drop(columns=['id'])\n",
    "portfolio3.head()"
   ]
  },
  {
   "cell_type": "code",
   "execution_count": 2,
   "metadata": {},
   "outputs": [],
   "source": [
    "#list of non bolean columns taken from the market database\n",
    "non_bolean_cols = ['idade_empresa_anos',\n",
    " 'idade_maxima_socios',\n",
    " 'idade_media_socios',\n",
    " 'idade_minima_socios',\n",
    " 'qt_filiais',\n",
    " 'qt_socios',\n",
    " 'qt_socios_st_regular']"
   ]
  },
  {
   "cell_type": "code",
   "execution_count": 3,
   "metadata": {},
   "outputs": [
    {
     "data": {
      "text/html": [
       "<div>\n",
       "<style scoped>\n",
       "    .dataframe tbody tr th:only-of-type {\n",
       "        vertical-align: middle;\n",
       "    }\n",
       "\n",
       "    .dataframe tbody tr th {\n",
       "        vertical-align: top;\n",
       "    }\n",
       "\n",
       "    .dataframe thead th {\n",
       "        text-align: right;\n",
       "    }\n",
       "</style>\n",
       "<table border=\"1\" class=\"dataframe\">\n",
       "  <thead>\n",
       "    <tr style=\"text-align: right;\">\n",
       "      <th></th>\n",
       "      <th>idade_empresa_anos</th>\n",
       "      <th>idade_maxima_socios</th>\n",
       "      <th>idade_media_socios</th>\n",
       "      <th>idade_minima_socios</th>\n",
       "      <th>qt_filiais</th>\n",
       "      <th>qt_socios</th>\n",
       "      <th>qt_socios_st_regular</th>\n",
       "    </tr>\n",
       "  </thead>\n",
       "  <tbody>\n",
       "    <tr>\n",
       "      <th>0</th>\n",
       "      <td>0.412341</td>\n",
       "      <td>0.453488</td>\n",
       "      <td>0.441860</td>\n",
       "      <td>0.418605</td>\n",
       "      <td>0.011628</td>\n",
       "      <td>0.000000</td>\n",
       "      <td>0.000000</td>\n",
       "    </tr>\n",
       "    <tr>\n",
       "      <th>1</th>\n",
       "      <td>0.306170</td>\n",
       "      <td>0.767442</td>\n",
       "      <td>0.767442</td>\n",
       "      <td>0.767442</td>\n",
       "      <td>0.000000</td>\n",
       "      <td>0.007246</td>\n",
       "      <td>0.000000</td>\n",
       "    </tr>\n",
       "    <tr>\n",
       "      <th>2</th>\n",
       "      <td>0.776102</td>\n",
       "      <td>0.453488</td>\n",
       "      <td>0.441860</td>\n",
       "      <td>0.418605</td>\n",
       "      <td>0.000000</td>\n",
       "      <td>0.000000</td>\n",
       "      <td>0.000000</td>\n",
       "    </tr>\n",
       "    <tr>\n",
       "      <th>3</th>\n",
       "      <td>0.844074</td>\n",
       "      <td>0.453488</td>\n",
       "      <td>0.441860</td>\n",
       "      <td>0.418605</td>\n",
       "      <td>0.000000</td>\n",
       "      <td>0.000000</td>\n",
       "      <td>0.000000</td>\n",
       "    </tr>\n",
       "    <tr>\n",
       "      <th>4</th>\n",
       "      <td>0.844466</td>\n",
       "      <td>0.453488</td>\n",
       "      <td>0.441860</td>\n",
       "      <td>0.418605</td>\n",
       "      <td>0.005814</td>\n",
       "      <td>0.000000</td>\n",
       "      <td>0.000000</td>\n",
       "    </tr>\n",
       "    <tr>\n",
       "      <th>...</th>\n",
       "      <td>...</td>\n",
       "      <td>...</td>\n",
       "      <td>...</td>\n",
       "      <td>...</td>\n",
       "      <td>...</td>\n",
       "      <td>...</td>\n",
       "      <td>...</td>\n",
       "    </tr>\n",
       "    <tr>\n",
       "      <th>260</th>\n",
       "      <td>0.356905</td>\n",
       "      <td>0.558140</td>\n",
       "      <td>0.558140</td>\n",
       "      <td>0.558140</td>\n",
       "      <td>0.000000</td>\n",
       "      <td>0.007246</td>\n",
       "      <td>0.000000</td>\n",
       "    </tr>\n",
       "    <tr>\n",
       "      <th>261</th>\n",
       "      <td>0.425661</td>\n",
       "      <td>0.546512</td>\n",
       "      <td>0.372093</td>\n",
       "      <td>0.267442</td>\n",
       "      <td>0.017442</td>\n",
       "      <td>0.021739</td>\n",
       "      <td>0.018519</td>\n",
       "    </tr>\n",
       "    <tr>\n",
       "      <th>262</th>\n",
       "      <td>0.234868</td>\n",
       "      <td>0.523256</td>\n",
       "      <td>0.430233</td>\n",
       "      <td>0.337209</td>\n",
       "      <td>0.000000</td>\n",
       "      <td>0.007246</td>\n",
       "      <td>0.009259</td>\n",
       "    </tr>\n",
       "    <tr>\n",
       "      <th>263</th>\n",
       "      <td>0.502253</td>\n",
       "      <td>0.767442</td>\n",
       "      <td>0.639535</td>\n",
       "      <td>0.476744</td>\n",
       "      <td>0.029070</td>\n",
       "      <td>0.021739</td>\n",
       "      <td>0.027778</td>\n",
       "    </tr>\n",
       "    <tr>\n",
       "      <th>264</th>\n",
       "      <td>0.196474</td>\n",
       "      <td>0.790698</td>\n",
       "      <td>0.558140</td>\n",
       "      <td>0.360465</td>\n",
       "      <td>0.034884</td>\n",
       "      <td>0.028986</td>\n",
       "      <td>0.027778</td>\n",
       "    </tr>\n",
       "  </tbody>\n",
       "</table>\n",
       "<p>265 rows × 7 columns</p>\n",
       "</div>"
      ],
      "text/plain": [
       "     idade_empresa_anos  idade_maxima_socios  idade_media_socios  \\\n",
       "0              0.412341             0.453488            0.441860   \n",
       "1              0.306170             0.767442            0.767442   \n",
       "2              0.776102             0.453488            0.441860   \n",
       "3              0.844074             0.453488            0.441860   \n",
       "4              0.844466             0.453488            0.441860   \n",
       "..                  ...                  ...                 ...   \n",
       "260            0.356905             0.558140            0.558140   \n",
       "261            0.425661             0.546512            0.372093   \n",
       "262            0.234868             0.523256            0.430233   \n",
       "263            0.502253             0.767442            0.639535   \n",
       "264            0.196474             0.790698            0.558140   \n",
       "\n",
       "     idade_minima_socios  qt_filiais  qt_socios  qt_socios_st_regular  \n",
       "0               0.418605    0.011628   0.000000              0.000000  \n",
       "1               0.767442    0.000000   0.007246              0.000000  \n",
       "2               0.418605    0.000000   0.000000              0.000000  \n",
       "3               0.418605    0.000000   0.000000              0.000000  \n",
       "4               0.418605    0.005814   0.000000              0.000000  \n",
       "..                   ...         ...        ...                   ...  \n",
       "260             0.558140    0.000000   0.007246              0.000000  \n",
       "261             0.267442    0.017442   0.021739              0.018519  \n",
       "262             0.337209    0.000000   0.007246              0.009259  \n",
       "263             0.476744    0.029070   0.021739              0.027778  \n",
       "264             0.360465    0.034884   0.028986              0.027778  \n",
       "\n",
       "[265 rows x 7 columns]"
      ]
     },
     "execution_count": 3,
     "metadata": {},
     "output_type": "execute_result"
    }
   ],
   "source": [
    "def min_max_col(df_transform,cols):\n",
    "    '''\n",
    "    Input \n",
    "    Takes in a dataframe and a column being a continuous feature to normalize (min =0, and max =1)\n",
    "    \n",
    "    Output\n",
    "    New dataframe with the column passed normalized\n",
    "    '''\n",
    "    mmsc = MinMaxScaler()\n",
    "    for col in cols:\n",
    "        var_cont = df_transform.loc[:,col].values.reshape(-1,1)\n",
    "        var_cont_standarized = mmsc.fit_transform(var_cont)\n",
    "        df_transform.loc[:,col] = var_cont_standarized\n",
    "    return df_transform;\n",
    "\n",
    "\n",
    "\n",
    "#Keeping the same rule applied to the market, which is normalization over standarization in iteration 0\n",
    "portfolio3 = min_max_col(portfolio3,non_bolean_cols)\n",
    "portfolio3[non_bolean_cols]"
   ]
  },
  {
   "cell_type": "code",
   "execution_count": 4,
   "metadata": {},
   "outputs": [
    {
     "data": {
      "text/plain": [
       "((265, 265),\n",
       " array([[0.        , 0.05949069, 0.07867876, ..., 0.07275528, 0.06309787,\n",
       "         0.06945597],\n",
       "        [0.05949069, 0.        , 0.09097382, ..., 0.08289523, 0.06874134,\n",
       "         0.08725666],\n",
       "        [0.07867876, 0.09097382, 0.        , ..., 0.02188547, 0.04660119,\n",
       "         0.07754648],\n",
       "        ...,\n",
       "        [0.07275528, 0.08289523, 0.02188547, ..., 0.        , 0.06424994,\n",
       "         0.06783611],\n",
       "        [0.06309787, 0.06874134, 0.04660119, ..., 0.06424994, 0.        ,\n",
       "         0.09141041],\n",
       "        [0.06945597, 0.08725666, 0.07754648, ..., 0.06783611, 0.09141041,\n",
       "         0.        ]], dtype=float32))"
      ]
     },
     "execution_count": 4,
     "metadata": {},
     "output_type": "execute_result"
    }
   ],
   "source": [
    "dissimilarity_matrix = gower.gower_matrix(portfolio3)\n",
    "dissimilarity_matrix.shape, dissimilarity_matrix"
   ]
  },
  {
   "cell_type": "code",
   "execution_count": 5,
   "metadata": {},
   "outputs": [
    {
     "data": {
      "text/plain": [
       "[66, 224, 16, 160]"
      ]
     },
     "execution_count": 5,
     "metadata": {},
     "output_type": "execute_result"
    }
   ],
   "source": [
    "# set random initial medoids\n",
    "initial_medoids = [1, 10, 50, 100]\n",
    "# create K-Medoids algorithm for processing distance matrix instead of points\n",
    "kmedoids_instance = kmedoids(dissimilarity_matrix, initial_medoids, data_type='distance_matrix')\n",
    "# run cluster analysis and obtain results\n",
    "kmedoids_instance.process()\n",
    "\n",
    "clusters = kmedoids_instance.get_clusters()\n",
    "\n",
    "medoids = kmedoids_instance.get_medoids()\n",
    "\n",
    "medoids"
   ]
  },
  {
   "cell_type": "code",
   "execution_count": 6,
   "metadata": {},
   "outputs": [
    {
     "data": {
      "text/plain": [
       "<type_encoding.CLUSTER_INDEX_LIST_SEPARATION: 1>"
      ]
     },
     "execution_count": 6,
     "metadata": {},
     "output_type": "execute_result"
    }
   ],
   "source": [
    "kmedoids_instance.get_cluster_encoding()"
   ]
  },
  {
   "cell_type": "code",
   "execution_count": 7,
   "metadata": {},
   "outputs": [
    {
     "data": {
      "text/plain": [
       "(33, 43, 53, 136)"
      ]
     },
     "execution_count": 7,
     "metadata": {},
     "output_type": "execute_result"
    }
   ],
   "source": [
    "len(clusters[0]), len(clusters[1]), len(clusters[2]), len(clusters[3])"
   ]
  },
  {
   "cell_type": "code",
   "execution_count": 8,
   "metadata": {},
   "outputs": [
    {
     "data": {
      "text/plain": [
       "3    136\n",
       "2     53\n",
       "1     43\n",
       "0     33\n",
       "dtype: int64"
      ]
     },
     "execution_count": 8,
     "metadata": {},
     "output_type": "execute_result"
    }
   ],
   "source": [
    "labels = pd.Series(0,index=range(0,portfolio3.shape[0]))\n",
    "for i in range (0,len(clusters)):\n",
    "    for n in range (0,len(clusters[i])):\n",
    "        index = clusters[i][n]\n",
    "        labels.iloc[index] = i\n",
    "\n",
    "labels.value_counts()"
   ]
  },
  {
   "cell_type": "code",
   "execution_count": 9,
   "metadata": {},
   "outputs": [
    {
     "data": {
      "text/plain": [
       "0.23027454"
      ]
     },
     "execution_count": 9,
     "metadata": {},
     "output_type": "execute_result"
    }
   ],
   "source": [
    "silhouette_score(dissimilarity_matrix, labels, metric='precomputed', sample_size=None, random_state=42)"
   ]
  },
  {
   "cell_type": "code",
   "execution_count": 10,
   "metadata": {},
   "outputs": [
    {
     "data": {
      "image/png": "[encoded data removed]",
      "text/plain": [
       "<Figure size 1296x504 with 1 Axes>"
      ]
     },
     "metadata": {
      "needs_background": "light"
     },
     "output_type": "display_data"
    }
   ],
   "source": [
    "X = dissimilarity_matrix\n",
    "\n",
    "# Get silhouette samples\n",
    "silhouette_vals = silhouette_samples(X, labels,metric='precomputed')\n",
    "# Silhouette plot\n",
    "fig, (ax1) = plt.subplots(1)\n",
    "fig.set_size_inches(18, 7)\n",
    "    \n",
    "y_ticks = []\n",
    "y_lower, y_upper = 0, 0\n",
    "for i, cluster in enumerate(np.unique(labels)):\n",
    "    cluster_silhouette_vals = silhouette_vals[labels == cluster]\n",
    "    cluster_silhouette_vals.sort()\n",
    "    y_upper += len(cluster_silhouette_vals)\n",
    "    ax1.barh(range(y_lower, y_upper), cluster_silhouette_vals, edgecolor='none', height=1)\n",
    "    ax1.text(-0.03, (y_lower + y_upper) / 2, str(i + 1))\n",
    "    y_lower += len(cluster_silhouette_vals)\n",
    "\n",
    "    # Get the average silhouette score and plot it\n",
    "avg_score = np.mean(silhouette_vals)\n",
    "ax1.axvline(avg_score, linestyle='--', linewidth=2, color='green')\n",
    "ax1.set_yticks([])\n",
    "ax1.set_xlim([-0.1, 1])\n",
    "ax1.set_xlabel('Silhouette coefficient values')\n",
    "ax1.set_ylabel('Cluster labels')\n",
    "ax1.set_title('Silhouette plot for the various clusters', y=1.02);"
   ]
  },
  {
   "cell_type": "code",
   "execution_count": 62,
   "metadata": {},
   "outputs": [
    {
     "data": {
      "image/png": "[encoded data removed]",
      "text/plain": [
       "<Figure size 1296x504 with 1 Axes>"
      ]
     },
     "metadata": {
      "needs_background": "light"
     },
     "output_type": "display_data"
    },
    {
     "data": {
      "image/png": "[encoded data removed]",
      "text/plain": [
       "<Figure size 1296x504 with 1 Axes>"
      ]
     },
     "metadata": {
      "needs_background": "light"
     },
     "output_type": "display_data"
    },
    {
     "data": {
      "image/png": "[encoded data removed]",
      "text/plain": [
       "<Figure size 1296x504 with 1 Axes>"
      ]
     },
     "metadata": {
      "needs_background": "light"
     },
     "output_type": "display_data"
    },
    {
     "data": {
      "image/png": "[encoded data removed]",
      "text/plain": [
       "<Figure size 1296x504 with 1 Axes>"
      ]
     },
     "metadata": {
      "needs_background": "light"
     },
     "output_type": "display_data"
    },
    {
     "data": {
      "image/png": "[encoded data removed]",
      "text/plain": [
       "<Figure size 1296x504 with 1 Axes>"
      ]
     },
     "metadata": {
      "needs_background": "light"
     },
     "output_type": "display_data"
    },
    {
     "data": {
      "image/png": "[encoded data removed]",
      "text/plain": [
       "<Figure size 1296x504 with 1 Axes>"
      ]
     },
     "metadata": {
      "needs_background": "light"
     },
     "output_type": "display_data"
    }
   ],
   "source": [
    "k_scores = []\n",
    "wss = []\n",
    "random.seed(42)\n",
    "for i, k in enumerate([2, 3, 4, 5, 6, 7]):\n",
    "    fig, (ax1) = plt.subplots(1)\n",
    "    fig.set_size_inches(18, 7)\n",
    "    \n",
    "    medoids_km = random.sample(range(1, 266), k)\n",
    "    # Run the Kmeans algorithm\n",
    "    km = kmedoids(dissimilarity_matrix, medoids_km, data_type='distance_matrix')\n",
    "    km.process()\n",
    "    #centroids = kmedoids_instance.get_medoids()\n",
    "    clusters_km = km.get_clusters()\n",
    "    labels_km = pd.Series(0,index=range(0,portfolio3.shape[0]))\n",
    "    for i in range (0,len(clusters_km)):\n",
    "        for n in range (0,len(clusters_km[i])):\n",
    "            index = clusters_km[i][n]\n",
    "            labels_km.iloc[index] = i\n",
    "    \n",
    "    clusters_distances = []\n",
    "    for n in range (0,len(clusters_km)):\n",
    "        clusters_distances.append(X[medoids_km[n]][labels_km[labels_km == n].index].sum())\n",
    "    \n",
    "    wss.append(sum(clusters_distances))\n",
    "\n",
    "    # Get silhouette samples\n",
    "    silhouette_vals = silhouette_samples(X, labels_km,metric='precomputed')\n",
    "\n",
    "    # Silhouette plot\n",
    "    y_ticks = []\n",
    "    y_lower, y_upper = 0, 0\n",
    "    for i, cluster in enumerate(np.unique(labels_km)):\n",
    "        cluster_silhouette_vals = silhouette_vals[labels_km == cluster]\n",
    "        cluster_silhouette_vals.sort()\n",
    "        y_upper += len(cluster_silhouette_vals)\n",
    "        ax1.barh(range(y_lower, y_upper), cluster_silhouette_vals, edgecolor='none', height=1)\n",
    "        ax1.text(-0.03, (y_lower + y_upper) / 2, str(i + 1))\n",
    "        y_lower += len(cluster_silhouette_vals)\n",
    "\n",
    "    # Get the average silhouette score and plot it\n",
    "    \n",
    "    avg_score = np.mean(silhouette_vals)\n",
    "    k_scores.append(avg_score)\n",
    "    ax1.axvline(avg_score, linestyle='--', linewidth=2, color='green')\n",
    "    ax1.set_yticks([])\n",
    "    ax1.set_xlim([-0.1, 1])\n",
    "    ax1.set_xlabel('Silhouette coefficient values')\n",
    "    ax1.set_ylabel('Cluster labels')\n",
    "    ax1.set_title('Silhouette plot for the various clusters', y=1.02);\n",
    "    \n",
    "   "
   ]
  },
  {
   "cell_type": "code",
   "execution_count": 63,
   "metadata": {},
   "outputs": [
    {
     "data": {
      "text/plain": [
       "[0.19260731, 0.21457124, 0.20716766, 0.12193871, 0.15591316, 0.11121259]"
      ]
     },
     "execution_count": 63,
     "metadata": {},
     "output_type": "execute_result"
    }
   ],
   "source": [
    "k_scores"
   ]
  },
  {
   "cell_type": "code",
   "execution_count": 64,
   "metadata": {},
   "outputs": [
    {
     "data": {
      "text/plain": [
       "[12.413126468658447,\n",
       " 10.890002369880676,\n",
       " 10.685639381408691,\n",
       " 11.172444999217987,\n",
       " 11.264021083712578,\n",
       " 9.15341991186142]"
      ]
     },
     "execution_count": 64,
     "metadata": {},
     "output_type": "execute_result"
    }
   ],
   "source": [
    "wss"
   ]
  },
  {
   "cell_type": "code",
   "execution_count": 95,
   "metadata": {},
   "outputs": [
    {
     "data": {
      "image/png": "[encoded data removed]",
      "text/plain": [
       "<Figure size 1728x720 with 1 Axes>"
      ]
     },
     "metadata": {},
     "output_type": "display_data"
    }
   ],
   "source": [
    "sns.set(font_scale = 1.3)\n",
    "\n",
    "plt.figure(figsize=(24,10))\n",
    "plt.plot(list(range(2, 8)), wss,marker='o', linewidth=3, markersize=10)\n",
    "\n",
    "plt.title('The Elbow Method') \n",
    "plt.xlabel(\"Number of clusters\")\n",
    "plt.ylabel(\"Within Sum of Squares\")\n",
    "\n",
    "plt.show()"
   ]
  },
  {
   "cell_type": "code",
   "execution_count": 40,
   "metadata": {},
   "outputs": [
    {
     "data": {
      "text/plain": [
       "(0.12245959, 0.9294964)"
      ]
     },
     "execution_count": 40,
     "metadata": {},
     "output_type": "execute_result"
    }
   ],
   "source": [
    "dissimilarity_matrix[143][labels_km[labels_km == 0].index].sum(), dissimilarity_matrix[4][labels_km[labels_km == 1].index].sum()"
   ]
  },
  {
   "cell_type": "code",
   "execution_count": 30,
   "metadata": {},
   "outputs": [
    {
     "data": {
      "text/plain": [
       "(2.7010312, 2.005041)"
      ]
     },
     "execution_count": 30,
     "metadata": {},
     "output_type": "execute_result"
    }
   ],
   "source": [
    "dissimilarity_matrix[82][labels[labels_km == 2].index].sum(), dissimilarity_matrix[217][labels[labels_km == 3].index].sum()"
   ]
  },
  {
   "cell_type": "code",
   "execution_count": 32,
   "metadata": {},
   "outputs": [
    {
     "data": {
      "text/plain": [
       "(0.5041714, 2.0761116)"
      ]
     },
     "execution_count": 32,
     "metadata": {},
     "output_type": "execute_result"
    }
   ],
   "source": [
    "dissimilarity_matrix[175][labels[labels_km == 4].index].sum(), dissimilarity_matrix[80][labels[labels_km == 5].index].sum()"
   ]
  },
  {
   "cell_type": "code",
   "execution_count": 33,
   "metadata": {},
   "outputs": [
    {
     "data": {
      "text/plain": [
       "0.8151089"
      ]
     },
     "execution_count": 33,
     "metadata": {},
     "output_type": "execute_result"
    }
   ],
   "source": [
    "dissimilarity_matrix[111][labels[labels_km == 6].index].sum()"
   ]
  },
  {
   "cell_type": "code",
   "execution_count": 35,
   "metadata": {},
   "outputs": [
    {
     "data": {
      "text/plain": [
       "[66, 224, 16, 160]"
      ]
     },
     "execution_count": 35,
     "metadata": {},
     "output_type": "execute_result"
    }
   ],
   "source": [
    "medoids"
   ]
  },
  {
   "cell_type": "code",
   "execution_count": 37,
   "metadata": {},
   "outputs": [
    {
     "data": {
      "text/plain": [
       "(0.90138096, 1.51566, 1.5093358, 4.142185)"
      ]
     },
     "execution_count": 37,
     "metadata": {},
     "output_type": "execute_result"
    }
   ],
   "source": [
    "dissimilarity_matrix[66][labels[labels == 0].index].sum(), dissimilarity_matrix[224][labels[labels == 1].index].sum(),dissimilarity_matrix[16][labels[labels == 2].index].sum(),dissimilarity_matrix[160][labels[labels == 3].index].sum()"
   ]
  },
  {
   "cell_type": "code",
   "execution_count": 38,
   "metadata": {},
   "outputs": [
    {
     "data": {
      "text/plain": [
       "8.059999999999999"
      ]
     },
     "execution_count": 38,
     "metadata": {},
     "output_type": "execute_result"
    }
   ],
   "source": [
    "0.9+1.51+1.51+4.14"
   ]
  },
  {
   "cell_type": "code",
   "execution_count": 39,
   "metadata": {},
   "outputs": [
    {
     "data": {
      "text/plain": [
       "9.145"
      ]
     },
     "execution_count": 39,
     "metadata": {},
     "output_type": "execute_result"
    }
   ],
   "source": [
    "0.12+0.93+2.7+2+0.5+2.08+0.815"
   ]
  },
  {
   "cell_type": "code",
   "execution_count": null,
   "metadata": {},
   "outputs": [],
   "source": [
    "random_state = 42\n",
    "\n",
    "reducer = umap.UMAP()\n",
    "embedding = reducer.fit_transform(portfolio3)\n",
    "embedding.shape"
   ]
  },
  {
   "cell_type": "code",
   "execution_count": null,
   "metadata": {},
   "outputs": [],
   "source": [
    "def draw_umap(data, n_neighbors, min_dist, n_components, title, metric='euclidean'):\n",
    "    fit = umap.UMAP(\n",
    "        n_neighbors=n_neighbors,\n",
    "        min_dist=min_dist,\n",
    "        n_components=n_components,\n",
    "        metric=metric\n",
    "    )\n",
    "    u = fit.fit_transform(data);\n",
    "    fig = plt.figure(figsize=(24,10))\n",
    "    if n_components == 1:\n",
    "        ax = fig.add_subplot(111)\n",
    "        ax.scatter(u[:,0], range(len(u)))\n",
    "    if n_components == 2:\n",
    "        ax = fig.add_subplot(111)\n",
    "        ax.scatter(u[:,0], u[:,1])\n",
    "    if n_components == 3:\n",
    "        ax = fig.add_subplot(111, projection='3d')\n",
    "        ax.scatter(u[:,0], u[:,1], u[:,2], s=100)\n",
    "    plt.title(title, fontsize=18)\n",
    "    \n",
    "title = 'UMAP projection of portfolio3'    \n",
    "draw_umap(portfolio3,14,0.1,3,title)"
   ]
  },
  {
   "cell_type": "code",
   "execution_count": null,
   "metadata": {},
   "outputs": [],
   "source": [
    "X = fit.fit_transform(portfolio3)\n",
    "number_clusters = 4\n",
    "kmeans = KMeans(n_clusters = number_clusters, init = 'k-means++', random_state = random_state)\n",
    "y_kmeans = kmeans.fit_predict(X)\n",
    "# Visualising the clusters\n",
    "\n",
    "fig = go.Figure()\n",
    "\n",
    "fig.add_trace(go.Scatter3d(x=X[y_kmeans == 0, 0], y=X[y_kmeans == 0, 1], z=X[y_kmeans == 0, 2], name='Cluster 1', mode='markers'))\n",
    "fig.add_trace(go.Scatter3d(x=X[y_kmeans == 1, 0], y=X[y_kmeans == 1, 1], z=X[y_kmeans == 1, 2], name='Cluster 2', mode='markers'))\n",
    "fig.add_trace(go.Scatter3d(x=X[y_kmeans == 2, 0], y=X[y_kmeans == 2, 1], z=X[y_kmeans == 2, 2], name='Cluster 3', mode='markers'))\n",
    "fig.add_trace(go.Scatter3d(x=X[y_kmeans == 3, 0], y=X[y_kmeans == 3, 1], z=X[y_kmeans == 3, 2], name='Cluster 4', mode='markers'))\n",
    "#fig.add_trace(go.Scatter(x=X[y_kmeans == 4, 0], y=X[y_kmeans == 4, 1], name='Cluster 5', mode='markers'))\n",
    "#fig.add_trace(go.Scatter(x=X[y_kmeans == 5, 0], y=X[y_kmeans == 5, 1], name='Cluster 6', mode='markers'))\n",
    "#fig.add_trace(go.Scatter(x=X[y_kmeans == 6, 0], y=X[y_kmeans == 6, 1], name='Cluster 7', mode='markers'))#comment the lines if you chose less clusters\n",
    "#add more lines if you chose more clusters\n",
    "\n",
    "fig.add_trace(go.Scatter3d(x=kmeans.cluster_centers_[:, 0], y=kmeans.cluster_centers_[:, 1],z=kmeans.cluster_centers_[:, 2], name='Centroids', \n",
    "                         mode='markers', marker_color=\"rgb(255,255,0)\", marker=dict(size=16)))\n",
    "\n",
    "fig.update_layout(title='Clusters')\n",
    "\n",
    "fig.show()"
   ]
  }
 ],
 "metadata": {
  "kernelspec": {
   "display_name": "Python 3",
   "language": "python",
   "name": "python3"
  },
  "language_info": {
   "codemirror_mode": {
    "name": "ipython",
    "version": 3
   },
   "file_extension": ".py",
   "mimetype": "text/x-python",
   "name": "python",
   "nbconvert_exporter": "python",
   "pygments_lexer": "ipython3",
   "version": "3.8.2"
  }
 },
 "nbformat": 4,
 "nbformat_minor": 2
}
