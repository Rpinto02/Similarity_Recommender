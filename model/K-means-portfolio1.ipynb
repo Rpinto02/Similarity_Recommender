{
 "cells": [
  {
   "cell_type": "code",
   "execution_count": 88,
   "metadata": {},
   "outputs": [
    {
     "data": {
      "text/html": [
       "<div>\n",
       "<style scoped>\n",
       "    .dataframe tbody tr th:only-of-type {\n",
       "        vertical-align: middle;\n",
       "    }\n",
       "\n",
       "    .dataframe tbody tr th {\n",
       "        vertical-align: top;\n",
       "    }\n",
       "\n",
       "    .dataframe thead th {\n",
       "        text-align: right;\n",
       "    }\n",
       "</style>\n",
       "<table border=\"1\" class=\"dataframe\">\n",
       "  <thead>\n",
       "    <tr style=\"text-align: right;\">\n",
       "      <th></th>\n",
       "      <th>idade_empresa_anos</th>\n",
       "      <th>fl_me</th>\n",
       "      <th>fl_sa</th>\n",
       "      <th>fl_epp</th>\n",
       "      <th>fl_mei</th>\n",
       "      <th>fl_ltda</th>\n",
       "      <th>fl_rm</th>\n",
       "      <th>fl_spa</th>\n",
       "      <th>fl_antt</th>\n",
       "      <th>fl_veiculo</th>\n",
       "      <th>...</th>\n",
       "      <th>nm_divisao_ATIVIDADES DE APOIO A EXTRACAO DE MINERAIS</th>\n",
       "      <th>nm_divisao_DESCONTAMINACAO E OUTROS SERVICOS DE GESTAO DE RESIDUOS</th>\n",
       "      <th>nm_divisao_EXTRACAO DE PETROLEO E GAS NATURAL</th>\n",
       "      <th>nm_divisao_FABRICACAO DE PRODUTOS FARMOQUIMICOS E FARMACEUTICOS</th>\n",
       "      <th>de_faixa_faturamento_estimado_ATE R$ 81.000,00</th>\n",
       "      <th>de_faixa_faturamento_estimado_DE R$ 500.000.000,01 A 1 BILHAO DE REAIS</th>\n",
       "      <th>de_saude_rescencia_ATE 3 MESES</th>\n",
       "      <th>nm_divisao_EXTRACAO DE CARVAO MINERAL</th>\n",
       "      <th>de_saude_rescencia_ATE 6 MESES</th>\n",
       "      <th>nm_divisao_FABRICACAO DE PRODUTOS DO FUMO</th>\n",
       "    </tr>\n",
       "  </thead>\n",
       "  <tbody>\n",
       "    <tr>\n",
       "      <th>0</th>\n",
       "      <td>0.65</td>\n",
       "      <td>0</td>\n",
       "      <td>0</td>\n",
       "      <td>0</td>\n",
       "      <td>1</td>\n",
       "      <td>0</td>\n",
       "      <td>0</td>\n",
       "      <td>0</td>\n",
       "      <td>0</td>\n",
       "      <td>0</td>\n",
       "      <td>...</td>\n",
       "      <td>0.0</td>\n",
       "      <td>0.0</td>\n",
       "      <td>0.0</td>\n",
       "      <td>0.0</td>\n",
       "      <td>0.0</td>\n",
       "      <td>0.0</td>\n",
       "      <td>0.0</td>\n",
       "      <td>0.0</td>\n",
       "      <td>0.0</td>\n",
       "      <td>0.0</td>\n",
       "    </tr>\n",
       "    <tr>\n",
       "      <th>1</th>\n",
       "      <td>6.59</td>\n",
       "      <td>0</td>\n",
       "      <td>0</td>\n",
       "      <td>0</td>\n",
       "      <td>0</td>\n",
       "      <td>0</td>\n",
       "      <td>0</td>\n",
       "      <td>0</td>\n",
       "      <td>0</td>\n",
       "      <td>0</td>\n",
       "      <td>...</td>\n",
       "      <td>0.0</td>\n",
       "      <td>0.0</td>\n",
       "      <td>0.0</td>\n",
       "      <td>0.0</td>\n",
       "      <td>0.0</td>\n",
       "      <td>0.0</td>\n",
       "      <td>0.0</td>\n",
       "      <td>0.0</td>\n",
       "      <td>0.0</td>\n",
       "      <td>0.0</td>\n",
       "    </tr>\n",
       "    <tr>\n",
       "      <th>2</th>\n",
       "      <td>8.01</td>\n",
       "      <td>0</td>\n",
       "      <td>0</td>\n",
       "      <td>0</td>\n",
       "      <td>1</td>\n",
       "      <td>0</td>\n",
       "      <td>0</td>\n",
       "      <td>0</td>\n",
       "      <td>0</td>\n",
       "      <td>0</td>\n",
       "      <td>...</td>\n",
       "      <td>0.0</td>\n",
       "      <td>0.0</td>\n",
       "      <td>0.0</td>\n",
       "      <td>0.0</td>\n",
       "      <td>0.0</td>\n",
       "      <td>0.0</td>\n",
       "      <td>0.0</td>\n",
       "      <td>0.0</td>\n",
       "      <td>0.0</td>\n",
       "      <td>0.0</td>\n",
       "    </tr>\n",
       "    <tr>\n",
       "      <th>3</th>\n",
       "      <td>20.86</td>\n",
       "      <td>0</td>\n",
       "      <td>0</td>\n",
       "      <td>0</td>\n",
       "      <td>0</td>\n",
       "      <td>0</td>\n",
       "      <td>0</td>\n",
       "      <td>0</td>\n",
       "      <td>0</td>\n",
       "      <td>0</td>\n",
       "      <td>...</td>\n",
       "      <td>0.0</td>\n",
       "      <td>0.0</td>\n",
       "      <td>0.0</td>\n",
       "      <td>0.0</td>\n",
       "      <td>0.0</td>\n",
       "      <td>0.0</td>\n",
       "      <td>0.0</td>\n",
       "      <td>0.0</td>\n",
       "      <td>0.0</td>\n",
       "      <td>0.0</td>\n",
       "    </tr>\n",
       "    <tr>\n",
       "      <th>4</th>\n",
       "      <td>18.73</td>\n",
       "      <td>0</td>\n",
       "      <td>0</td>\n",
       "      <td>0</td>\n",
       "      <td>0</td>\n",
       "      <td>0</td>\n",
       "      <td>0</td>\n",
       "      <td>0</td>\n",
       "      <td>0</td>\n",
       "      <td>0</td>\n",
       "      <td>...</td>\n",
       "      <td>0.0</td>\n",
       "      <td>0.0</td>\n",
       "      <td>0.0</td>\n",
       "      <td>0.0</td>\n",
       "      <td>0.0</td>\n",
       "      <td>0.0</td>\n",
       "      <td>0.0</td>\n",
       "      <td>0.0</td>\n",
       "      <td>0.0</td>\n",
       "      <td>0.0</td>\n",
       "    </tr>\n",
       "  </tbody>\n",
       "</table>\n",
       "<p>5 rows × 174 columns</p>\n",
       "</div>"
      ],
      "text/plain": [
       "   idade_empresa_anos  fl_me  fl_sa  fl_epp  fl_mei  fl_ltda  fl_rm  fl_spa  \\\n",
       "0                0.65      0      0       0       1        0      0       0   \n",
       "1                6.59      0      0       0       0        0      0       0   \n",
       "2                8.01      0      0       0       1        0      0       0   \n",
       "3               20.86      0      0       0       0        0      0       0   \n",
       "4               18.73      0      0       0       0        0      0       0   \n",
       "\n",
       "   fl_antt  fl_veiculo  ...  \\\n",
       "0        0           0  ...   \n",
       "1        0           0  ...   \n",
       "2        0           0  ...   \n",
       "3        0           0  ...   \n",
       "4        0           0  ...   \n",
       "\n",
       "   nm_divisao_ATIVIDADES DE APOIO A EXTRACAO DE MINERAIS  \\\n",
       "0                                                0.0       \n",
       "1                                                0.0       \n",
       "2                                                0.0       \n",
       "3                                                0.0       \n",
       "4                                                0.0       \n",
       "\n",
       "   nm_divisao_DESCONTAMINACAO E OUTROS SERVICOS DE GESTAO DE RESIDUOS  \\\n",
       "0                                                0.0                    \n",
       "1                                                0.0                    \n",
       "2                                                0.0                    \n",
       "3                                                0.0                    \n",
       "4                                                0.0                    \n",
       "\n",
       "   nm_divisao_EXTRACAO DE PETROLEO E GAS NATURAL  \\\n",
       "0                                            0.0   \n",
       "1                                            0.0   \n",
       "2                                            0.0   \n",
       "3                                            0.0   \n",
       "4                                            0.0   \n",
       "\n",
       "   nm_divisao_FABRICACAO DE PRODUTOS FARMOQUIMICOS E FARMACEUTICOS  \\\n",
       "0                                                0.0                 \n",
       "1                                                0.0                 \n",
       "2                                                0.0                 \n",
       "3                                                0.0                 \n",
       "4                                                0.0                 \n",
       "\n",
       "   de_faixa_faturamento_estimado_ATE R$ 81.000,00  \\\n",
       "0                                             0.0   \n",
       "1                                             0.0   \n",
       "2                                             0.0   \n",
       "3                                             0.0   \n",
       "4                                             0.0   \n",
       "\n",
       "   de_faixa_faturamento_estimado_DE R$ 500.000.000,01 A 1 BILHAO DE REAIS  \\\n",
       "0                                                0.0                        \n",
       "1                                                0.0                        \n",
       "2                                                0.0                        \n",
       "3                                                0.0                        \n",
       "4                                                0.0                        \n",
       "\n",
       "   de_saude_rescencia_ATE 3 MESES  nm_divisao_EXTRACAO DE CARVAO MINERAL  \\\n",
       "0                             0.0                                    0.0   \n",
       "1                             0.0                                    0.0   \n",
       "2                             0.0                                    0.0   \n",
       "3                             0.0                                    0.0   \n",
       "4                             0.0                                    0.0   \n",
       "\n",
       "   de_saude_rescencia_ATE 6 MESES  nm_divisao_FABRICACAO DE PRODUTOS DO FUMO  \n",
       "0                             0.0                                        0.0  \n",
       "1                             0.0                                        0.0  \n",
       "2                             0.0                                        0.0  \n",
       "3                             0.0                                        0.0  \n",
       "4                             0.0                                        0.0  \n",
       "\n",
       "[5 rows x 174 columns]"
      ]
     },
     "execution_count": 88,
     "metadata": {},
     "output_type": "execute_result"
    }
   ],
   "source": [
    "import pandas as pd\n",
    "import matplotlib.pylab as plt \n",
    "import numpy as np\n",
    "import seaborn as sns\n",
    "import plotly.graph_objs as go\n",
    "from plotly.offline import iplot\n",
    "from sklearn.decomposition import PCA\n",
    "import matplotlib.pyplot as plt\n",
    "import seaborn as sns\n",
    "from sklearn.cluster import KMeans\n",
    "from scipy import stats\n",
    "\n",
    "\n",
    "\n",
    "def load_data(filepath):\n",
    "    '''takes in the file path where the data is store and returns a pandas dataframe.\n",
    "    filepath must be entered as a string\n",
    "    '''\n",
    "    \n",
    "    df = pd.read_csv(filepath)\n",
    "    return df;\n",
    "\n",
    "filepath = '../data/portfolio1_ETL.csv'\n",
    "portfolio1 = load_data(filepath)\n",
    "\n",
    "portfolio1 = portfolio1.drop(columns=['id'])\n",
    "portfolio1.head()"
   ]
  },
  {
   "cell_type": "code",
   "execution_count": 89,
   "metadata": {},
   "outputs": [
    {
     "data": {
      "text/plain": [
       "array([4.79555152e-01, 3.77872960e-01, 1.16714914e-01, 1.86243389e-02,\n",
       "       1.03806889e-03, 5.36064247e-04, 5.03457997e-04, 4.74694989e-04,\n",
       "       4.36342090e-04, 4.16890826e-04, 4.04622283e-04, 3.35464108e-04,\n",
       "       3.03042017e-04, 2.78646197e-04, 2.48718969e-04, 2.19716735e-04,\n",
       "       1.86632728e-04, 1.70305199e-04, 1.38224693e-04, 1.23668101e-04,\n",
       "       9.75180855e-05, 9.42516247e-05, 8.62055269e-05, 7.97968663e-05,\n",
       "       7.63215770e-05, 7.30018592e-05, 6.60912808e-05, 6.24849838e-05,\n",
       "       5.78700858e-05, 5.52989365e-05, 5.09911329e-05, 4.56760762e-05,\n",
       "       4.22002571e-05, 4.03036925e-05, 3.90775531e-05, 3.65237104e-05,\n",
       "       3.49703805e-05, 3.44616411e-05, 3.18064280e-05, 3.11018889e-05,\n",
       "       2.80963028e-05, 2.53429260e-05, 2.28394078e-05, 2.18873149e-05,\n",
       "       2.08805364e-05, 1.98901871e-05, 1.89067307e-05, 1.76529742e-05,\n",
       "       1.64244667e-05, 1.26118087e-05, 1.12900383e-05, 9.14630678e-06,\n",
       "       7.10610376e-06, 6.22829757e-06, 6.09244859e-06, 5.37650856e-06,\n",
       "       5.21449839e-06, 4.85418492e-06, 3.73919225e-06, 3.42371186e-06,\n",
       "       3.02613841e-06, 2.98281274e-06, 2.27685557e-06, 2.11513165e-06,\n",
       "       2.02518773e-06, 1.46161174e-06, 9.32770815e-07, 2.95617903e-07,\n",
       "       2.01151658e-09, 9.45755777e-32, 4.01340686e-33, 4.01340686e-33,\n",
       "       4.01340686e-33, 4.01340686e-33, 4.01340686e-33, 4.01340686e-33,\n",
       "       4.01340686e-33, 4.01340686e-33, 4.01340686e-33, 4.01340686e-33,\n",
       "       4.01340686e-33, 4.01340686e-33, 4.01340686e-33, 4.01340686e-33,\n",
       "       4.01340686e-33, 4.01340686e-33, 4.01340686e-33, 4.01340686e-33,\n",
       "       4.01340686e-33, 4.01340686e-33, 4.01340686e-33, 4.01340686e-33,\n",
       "       4.01340686e-33, 4.01340686e-33, 4.01340686e-33, 4.01340686e-33,\n",
       "       4.01340686e-33, 4.01340686e-33, 4.01340686e-33, 4.01340686e-33,\n",
       "       4.01340686e-33, 4.01340686e-33, 4.01340686e-33, 4.01340686e-33,\n",
       "       4.01340686e-33, 4.01340686e-33, 4.01340686e-33, 4.01340686e-33,\n",
       "       4.01340686e-33, 4.01340686e-33, 4.01340686e-33, 4.01340686e-33,\n",
       "       4.01340686e-33, 4.01340686e-33, 4.01340686e-33, 4.01340686e-33,\n",
       "       4.01340686e-33, 4.01340686e-33, 4.01340686e-33, 4.01340686e-33,\n",
       "       4.01340686e-33, 4.01340686e-33, 4.01340686e-33, 4.01340686e-33,\n",
       "       4.01340686e-33, 4.01340686e-33, 4.01340686e-33, 4.01340686e-33,\n",
       "       4.01340686e-33, 4.01340686e-33, 4.01340686e-33, 4.01340686e-33,\n",
       "       4.01340686e-33, 4.01340686e-33, 4.01340686e-33, 4.01340686e-33,\n",
       "       4.01340686e-33, 4.01340686e-33, 4.01340686e-33, 4.01340686e-33,\n",
       "       4.01340686e-33, 4.01340686e-33, 4.01340686e-33, 4.01340686e-33,\n",
       "       4.01340686e-33, 4.01340686e-33, 4.01340686e-33, 4.01340686e-33,\n",
       "       4.01340686e-33, 4.01340686e-33, 4.01340686e-33, 4.01340686e-33,\n",
       "       4.01340686e-33, 4.01340686e-33, 4.01340686e-33, 4.01340686e-33,\n",
       "       4.01340686e-33, 4.01340686e-33, 4.01340686e-33, 4.01340686e-33,\n",
       "       4.01340686e-33, 4.01340686e-33, 4.01340686e-33, 4.01340686e-33,\n",
       "       4.01340686e-33, 4.01340686e-33, 4.01340686e-33, 4.01340686e-33,\n",
       "       4.01340686e-33, 4.01340686e-33, 4.01340686e-33, 4.01340686e-33,\n",
       "       4.01340686e-33, 4.01340686e-33])"
      ]
     },
     "execution_count": 89,
     "metadata": {},
     "output_type": "execute_result"
    }
   ],
   "source": [
    "#To fixate the results between attempts we'll set the random state to 42\n",
    "random_state = 42\n",
    "\n",
    "pca = PCA(n_components = None, random_state = random_state)\n",
    "X = pca.fit_transform(portfolio1)\n",
    "pca.explained_variance_ratio_"
   ]
  },
  {
   "cell_type": "code",
   "execution_count": 90,
   "metadata": {},
   "outputs": [
    {
     "data": {
      "image/png": "[encoded data removed]",
      "text/plain": [
       "<Figure size 1728x720 with 1 Axes>"
      ]
     },
     "metadata": {},
     "output_type": "display_data"
    }
   ],
   "source": [
    "sns.set(font_scale = 1.3)\n",
    "features = range(pca.n_components_)\n",
    "plt.figure(figsize=(24,10))\n",
    "plt.bar(features, pca.explained_variance_ratio_, color='blue')\n",
    "plt.title(\"Component decomposition variance\", fontsize=24)\n",
    "plt.xlabel('PCA features')\n",
    "plt.ylabel('variance %')\n",
    "plt.xticks(rotation=90)\n",
    "plt.xticks(features)\n",
    "plt.show()"
   ]
  },
  {
   "cell_type": "code",
   "execution_count": 91,
   "metadata": {},
   "outputs": [
    {
     "data": {
      "text/plain": [
       "array([0.47955515, 0.37787296, 0.11671491])"
      ]
     },
     "execution_count": 91,
     "metadata": {},
     "output_type": "execute_result"
    }
   ],
   "source": [
    "#Just so we can fix a point between attempts we'll work with every compononet that is higher that 5%\n",
    "components_limit = 0.05\n",
    "components = pca.explained_variance_ratio_[pca.explained_variance_ratio_ > components_limit]\n",
    "number_components = len(components)\n",
    "\n",
    "pca = PCA(n_components = number_components, random_state = random_state) \n",
    "X = pca.fit_transform(portfolio1)\n",
    "pca.explained_variance_ratio_"
   ]
  },
  {
   "cell_type": "code",
   "execution_count": 92,
   "metadata": {},
   "outputs": [
    {
     "data": {
      "application/vnd.plotly.v1+json": {
       "config": {
        "plotlyServerURL": "https://plot.ly"
       },
       "data": [
        {
         "mode": "lines",
         "name": "elbow",
         "type": "scatter",
         "x": [
          1,
          2,
          3,
          4,
          5,
          6,
          7,
          8,
          9,
          10
         ],
         "y": [
          373209.049384039,
          233075.05713964446,
          135211.17932724042,
          83093.54783436112,
          58796.83730223745,
          44854.5774413176,
          39623.5830752987,
          34540.965123706366,
          30836.604823699596,
          26145.5430888013
         ]
        }
       ],
       "layout": {
        "template": {
         "data": {
          "bar": [
           {
            "error_x": {
             "color": "#2a3f5f"
            },
            "error_y": {
             "color": "#2a3f5f"
            },
            "marker": {
             "line": {
              "color": "#E5ECF6",
              "width": 0.5
             }
            },
            "type": "bar"
           }
          ],
          "barpolar": [
           {
            "marker": {
             "line": {
              "color": "#E5ECF6",
              "width": 0.5
             }
            },
            "type": "barpolar"
           }
          ],
          "carpet": [
           {
            "aaxis": {
             "endlinecolor": "#2a3f5f",
             "gridcolor": "white",
             "linecolor": "white",
             "minorgridcolor": "white",
             "startlinecolor": "#2a3f5f"
            },
            "baxis": {
             "endlinecolor": "#2a3f5f",
             "gridcolor": "white",
             "linecolor": "white",
             "minorgridcolor": "white",
             "startlinecolor": "#2a3f5f"
            },
            "type": "carpet"
           }
          ],
          "choropleth": [
           {
            "colorbar": {
             "outlinewidth": 0,
             "ticks": ""
            },
            "type": "choropleth"
           }
          ],
          "contour": [
           {
            "colorbar": {
             "outlinewidth": 0,
             "ticks": ""
            },
            "colorscale": [
             [
              0,
              "#0d0887"
             ],
             [
              0.1111111111111111,
              "#46039f"
             ],
             [
              0.2222222222222222,
              "#7201a8"
             ],
             [
              0.3333333333333333,
              "#9c179e"
             ],
             [
              0.4444444444444444,
              "#bd3786"
             ],
             [
              0.5555555555555556,
              "#d8576b"
             ],
             [
              0.6666666666666666,
              "#ed7953"
             ],
             [
              0.7777777777777778,
              "#fb9f3a"
             ],
             [
              0.8888888888888888,
              "#fdca26"
             ],
             [
              1,
              "#f0f921"
             ]
            ],
            "type": "contour"
           }
          ],
          "contourcarpet": [
           {
            "colorbar": {
             "outlinewidth": 0,
             "ticks": ""
            },
            "type": "contourcarpet"
           }
          ],
          "heatmap": [
           {
            "colorbar": {
             "outlinewidth": 0,
             "ticks": ""
            },
            "colorscale": [
             [
              0,
              "#0d0887"
             ],
             [
              0.1111111111111111,
              "#46039f"
             ],
             [
              0.2222222222222222,
              "#7201a8"
             ],
             [
              0.3333333333333333,
              "#9c179e"
             ],
             [
              0.4444444444444444,
              "#bd3786"
             ],
             [
              0.5555555555555556,
              "#d8576b"
             ],
             [
              0.6666666666666666,
              "#ed7953"
             ],
             [
              0.7777777777777778,
              "#fb9f3a"
             ],
             [
              0.8888888888888888,
              "#fdca26"
             ],
             [
              1,
              "#f0f921"
             ]
            ],
            "type": "heatmap"
           }
          ],
          "heatmapgl": [
           {
            "colorbar": {
             "outlinewidth": 0,
             "ticks": ""
            },
            "colorscale": [
             [
              0,
              "#0d0887"
             ],
             [
              0.1111111111111111,
              "#46039f"
             ],
             [
              0.2222222222222222,
              "#7201a8"
             ],
             [
              0.3333333333333333,
              "#9c179e"
             ],
             [
              0.4444444444444444,
              "#bd3786"
             ],
             [
              0.5555555555555556,
              "#d8576b"
             ],
             [
              0.6666666666666666,
              "#ed7953"
             ],
             [
              0.7777777777777778,
              "#fb9f3a"
             ],
             [
              0.8888888888888888,
              "#fdca26"
             ],
             [
              1,
              "#f0f921"
             ]
            ],
            "type": "heatmapgl"
           }
          ],
          "histogram": [
           {
            "marker": {
             "colorbar": {
              "outlinewidth": 0,
              "ticks": ""
             }
            },
            "type": "histogram"
           }
          ],
          "histogram2d": [
           {
            "colorbar": {
             "outlinewidth": 0,
             "ticks": ""
            },
            "colorscale": [
             [
              0,
              "#0d0887"
             ],
             [
              0.1111111111111111,
              "#46039f"
             ],
             [
              0.2222222222222222,
              "#7201a8"
             ],
             [
              0.3333333333333333,
              "#9c179e"
             ],
             [
              0.4444444444444444,
              "#bd3786"
             ],
             [
              0.5555555555555556,
              "#d8576b"
             ],
             [
              0.6666666666666666,
              "#ed7953"
             ],
             [
              0.7777777777777778,
              "#fb9f3a"
             ],
             [
              0.8888888888888888,
              "#fdca26"
             ],
             [
              1,
              "#f0f921"
             ]
            ],
            "type": "histogram2d"
           }
          ],
          "histogram2dcontour": [
           {
            "colorbar": {
             "outlinewidth": 0,
             "ticks": ""
            },
            "colorscale": [
             [
              0,
              "#0d0887"
             ],
             [
              0.1111111111111111,
              "#46039f"
             ],
             [
              0.2222222222222222,
              "#7201a8"
             ],
             [
              0.3333333333333333,
              "#9c179e"
             ],
             [
              0.4444444444444444,
              "#bd3786"
             ],
             [
              0.5555555555555556,
              "#d8576b"
             ],
             [
              0.6666666666666666,
              "#ed7953"
             ],
             [
              0.7777777777777778,
              "#fb9f3a"
             ],
             [
              0.8888888888888888,
              "#fdca26"
             ],
             [
              1,
              "#f0f921"
             ]
            ],
            "type": "histogram2dcontour"
           }
          ],
          "mesh3d": [
           {
            "colorbar": {
             "outlinewidth": 0,
             "ticks": ""
            },
            "type": "mesh3d"
           }
          ],
          "parcoords": [
           {
            "line": {
             "colorbar": {
              "outlinewidth": 0,
              "ticks": ""
             }
            },
            "type": "parcoords"
           }
          ],
          "pie": [
           {
            "automargin": true,
            "type": "pie"
           }
          ],
          "scatter": [
           {
            "marker": {
             "colorbar": {
              "outlinewidth": 0,
              "ticks": ""
             }
            },
            "type": "scatter"
           }
          ],
          "scatter3d": [
           {
            "line": {
             "colorbar": {
              "outlinewidth": 0,
              "ticks": ""
             }
            },
            "marker": {
             "colorbar": {
              "outlinewidth": 0,
              "ticks": ""
             }
            },
            "type": "scatter3d"
           }
          ],
          "scattercarpet": [
           {
            "marker": {
             "colorbar": {
              "outlinewidth": 0,
              "ticks": ""
             }
            },
            "type": "scattercarpet"
           }
          ],
          "scattergeo": [
           {
            "marker": {
             "colorbar": {
              "outlinewidth": 0,
              "ticks": ""
             }
            },
            "type": "scattergeo"
           }
          ],
          "scattergl": [
           {
            "marker": {
             "colorbar": {
              "outlinewidth": 0,
              "ticks": ""
             }
            },
            "type": "scattergl"
           }
          ],
          "scattermapbox": [
           {
            "marker": {
             "colorbar": {
              "outlinewidth": 0,
              "ticks": ""
             }
            },
            "type": "scattermapbox"
           }
          ],
          "scatterpolar": [
           {
            "marker": {
             "colorbar": {
              "outlinewidth": 0,
              "ticks": ""
             }
            },
            "type": "scatterpolar"
           }
          ],
          "scatterpolargl": [
           {
            "marker": {
             "colorbar": {
              "outlinewidth": 0,
              "ticks": ""
             }
            },
            "type": "scatterpolargl"
           }
          ],
          "scatterternary": [
           {
            "marker": {
             "colorbar": {
              "outlinewidth": 0,
              "ticks": ""
             }
            },
            "type": "scatterternary"
           }
          ],
          "surface": [
           {
            "colorbar": {
             "outlinewidth": 0,
             "ticks": ""
            },
            "colorscale": [
             [
              0,
              "#0d0887"
             ],
             [
              0.1111111111111111,
              "#46039f"
             ],
             [
              0.2222222222222222,
              "#7201a8"
             ],
             [
              0.3333333333333333,
              "#9c179e"
             ],
             [
              0.4444444444444444,
              "#bd3786"
             ],
             [
              0.5555555555555556,
              "#d8576b"
             ],
             [
              0.6666666666666666,
              "#ed7953"
             ],
             [
              0.7777777777777778,
              "#fb9f3a"
             ],
             [
              0.8888888888888888,
              "#fdca26"
             ],
             [
              1,
              "#f0f921"
             ]
            ],
            "type": "surface"
           }
          ],
          "table": [
           {
            "cells": {
             "fill": {
              "color": "#EBF0F8"
             },
             "line": {
              "color": "white"
             }
            },
            "header": {
             "fill": {
              "color": "#C8D4E3"
             },
             "line": {
              "color": "white"
             }
            },
            "type": "table"
           }
          ]
         },
         "layout": {
          "annotationdefaults": {
           "arrowcolor": "#2a3f5f",
           "arrowhead": 0,
           "arrowwidth": 1
          },
          "coloraxis": {
           "colorbar": {
            "outlinewidth": 0,
            "ticks": ""
           }
          },
          "colorscale": {
           "diverging": [
            [
             0,
             "#8e0152"
            ],
            [
             0.1,
             "#c51b7d"
            ],
            [
             0.2,
             "#de77ae"
            ],
            [
             0.3,
             "#f1b6da"
            ],
            [
             0.4,
             "#fde0ef"
            ],
            [
             0.5,
             "#f7f7f7"
            ],
            [
             0.6,
             "#e6f5d0"
            ],
            [
             0.7,
             "#b8e186"
            ],
            [
             0.8,
             "#7fbc41"
            ],
            [
             0.9,
             "#4d9221"
            ],
            [
             1,
             "#276419"
            ]
           ],
           "sequential": [
            [
             0,
             "#0d0887"
            ],
            [
             0.1111111111111111,
             "#46039f"
            ],
            [
             0.2222222222222222,
             "#7201a8"
            ],
            [
             0.3333333333333333,
             "#9c179e"
            ],
            [
             0.4444444444444444,
             "#bd3786"
            ],
            [
             0.5555555555555556,
             "#d8576b"
            ],
            [
             0.6666666666666666,
             "#ed7953"
            ],
            [
             0.7777777777777778,
             "#fb9f3a"
            ],
            [
             0.8888888888888888,
             "#fdca26"
            ],
            [
             1,
             "#f0f921"
            ]
           ],
           "sequentialminus": [
            [
             0,
             "#0d0887"
            ],
            [
             0.1111111111111111,
             "#46039f"
            ],
            [
             0.2222222222222222,
             "#7201a8"
            ],
            [
             0.3333333333333333,
             "#9c179e"
            ],
            [
             0.4444444444444444,
             "#bd3786"
            ],
            [
             0.5555555555555556,
             "#d8576b"
            ],
            [
             0.6666666666666666,
             "#ed7953"
            ],
            [
             0.7777777777777778,
             "#fb9f3a"
            ],
            [
             0.8888888888888888,
             "#fdca26"
            ],
            [
             1,
             "#f0f921"
            ]
           ]
          },
          "colorway": [
           "#636efa",
           "#EF553B",
           "#00cc96",
           "#ab63fa",
           "#FFA15A",
           "#19d3f3",
           "#FF6692",
           "#B6E880",
           "#FF97FF",
           "#FECB52"
          ],
          "font": {
           "color": "#2a3f5f"
          },
          "geo": {
           "bgcolor": "white",
           "lakecolor": "white",
           "landcolor": "#E5ECF6",
           "showlakes": true,
           "showland": true,
           "subunitcolor": "white"
          },
          "hoverlabel": {
           "align": "left"
          },
          "hovermode": "closest",
          "mapbox": {
           "style": "light"
          },
          "paper_bgcolor": "white",
          "plot_bgcolor": "#E5ECF6",
          "polar": {
           "angularaxis": {
            "gridcolor": "white",
            "linecolor": "white",
            "ticks": ""
           },
           "bgcolor": "#E5ECF6",
           "radialaxis": {
            "gridcolor": "white",
            "linecolor": "white",
            "ticks": ""
           }
          },
          "scene": {
           "xaxis": {
            "backgroundcolor": "#E5ECF6",
            "gridcolor": "white",
            "gridwidth": 2,
            "linecolor": "white",
            "showbackground": true,
            "ticks": "",
            "zerolinecolor": "white"
           },
           "yaxis": {
            "backgroundcolor": "#E5ECF6",
            "gridcolor": "white",
            "gridwidth": 2,
            "linecolor": "white",
            "showbackground": true,
            "ticks": "",
            "zerolinecolor": "white"
           },
           "zaxis": {
            "backgroundcolor": "#E5ECF6",
            "gridcolor": "white",
            "gridwidth": 2,
            "linecolor": "white",
            "showbackground": true,
            "ticks": "",
            "zerolinecolor": "white"
           }
          },
          "shapedefaults": {
           "line": {
            "color": "#2a3f5f"
           }
          },
          "ternary": {
           "aaxis": {
            "gridcolor": "white",
            "linecolor": "white",
            "ticks": ""
           },
           "baxis": {
            "gridcolor": "white",
            "linecolor": "white",
            "ticks": ""
           },
           "bgcolor": "#E5ECF6",
           "caxis": {
            "gridcolor": "white",
            "linecolor": "white",
            "ticks": ""
           }
          },
          "title": {
           "x": 0.05
          },
          "xaxis": {
           "automargin": true,
           "gridcolor": "white",
           "linecolor": "white",
           "ticks": "",
           "title": {
            "standoff": 15
           },
           "zerolinecolor": "white",
           "zerolinewidth": 2
          },
          "yaxis": {
           "automargin": true,
           "gridcolor": "white",
           "linecolor": "white",
           "ticks": "",
           "title": {
            "standoff": 15
           },
           "zerolinecolor": "white",
           "zerolinewidth": 2
          }
         }
        },
        "title": {
         "text": "The Elbow Method"
        },
        "xaxis": {
         "title": {
          "text": "Number of clusters"
         }
        },
        "yaxis": {
         "title": {
          "text": "Within Sum of Squares"
         }
        }
       }
      },
      "text/html": [
       "<div>\n",
       "        \n",
       "        \n",
       "            <div id=\"45522038-c31e-46b4-ba51-e30f88d636fe\" class=\"plotly-graph-div\" style=\"height:525px; width:100%;\"></div>\n",
       "            <script type=\"text/javascript\">\n",
       "                require([\"plotly\"], function(Plotly) {\n",
       "                    window.PLOTLYENV=window.PLOTLYENV || {};\n",
       "                    \n",
       "                if (document.getElementById(\"45522038-c31e-46b4-ba51-e30f88d636fe\")) {\n",
       "                    Plotly.newPlot(\n",
       "                        '45522038-c31e-46b4-ba51-e30f88d636fe',\n",
       "                        [{\"mode\": \"lines\", \"name\": \"elbow\", \"type\": \"scatter\", \"x\": [1, 2, 3, 4, 5, 6, 7, 8, 9, 10], \"y\": [373209.049384039, 233075.05713964446, 135211.17932724042, 83093.54783436112, 58796.83730223745, 44854.5774413176, 39623.5830752987, 34540.965123706366, 30836.604823699596, 26145.5430888013]}],\n",
       "                        {\"template\": {\"data\": {\"bar\": [{\"error_x\": {\"color\": \"#2a3f5f\"}, \"error_y\": {\"color\": \"#2a3f5f\"}, \"marker\": {\"line\": {\"color\": \"#E5ECF6\", \"width\": 0.5}}, \"type\": \"bar\"}], \"barpolar\": [{\"marker\": {\"line\": {\"color\": \"#E5ECF6\", \"width\": 0.5}}, \"type\": \"barpolar\"}], \"carpet\": [{\"aaxis\": {\"endlinecolor\": \"#2a3f5f\", \"gridcolor\": \"white\", \"linecolor\": \"white\", \"minorgridcolor\": \"white\", \"startlinecolor\": \"#2a3f5f\"}, \"baxis\": {\"endlinecolor\": \"#2a3f5f\", \"gridcolor\": \"white\", \"linecolor\": \"white\", \"minorgridcolor\": \"white\", \"startlinecolor\": \"#2a3f5f\"}, \"type\": \"carpet\"}], \"choropleth\": [{\"colorbar\": {\"outlinewidth\": 0, \"ticks\": \"\"}, \"type\": \"choropleth\"}], \"contour\": [{\"colorbar\": {\"outlinewidth\": 0, \"ticks\": \"\"}, \"colorscale\": [[0.0, \"#0d0887\"], [0.1111111111111111, \"#46039f\"], [0.2222222222222222, \"#7201a8\"], [0.3333333333333333, \"#9c179e\"], [0.4444444444444444, \"#bd3786\"], [0.5555555555555556, \"#d8576b\"], [0.6666666666666666, \"#ed7953\"], [0.7777777777777778, \"#fb9f3a\"], [0.8888888888888888, \"#fdca26\"], [1.0, \"#f0f921\"]], \"type\": \"contour\"}], \"contourcarpet\": [{\"colorbar\": {\"outlinewidth\": 0, \"ticks\": \"\"}, \"type\": \"contourcarpet\"}], \"heatmap\": [{\"colorbar\": {\"outlinewidth\": 0, \"ticks\": \"\"}, \"colorscale\": [[0.0, \"#0d0887\"], [0.1111111111111111, \"#46039f\"], [0.2222222222222222, \"#7201a8\"], [0.3333333333333333, \"#9c179e\"], [0.4444444444444444, \"#bd3786\"], [0.5555555555555556, \"#d8576b\"], [0.6666666666666666, \"#ed7953\"], [0.7777777777777778, \"#fb9f3a\"], [0.8888888888888888, \"#fdca26\"], [1.0, \"#f0f921\"]], \"type\": \"heatmap\"}], \"heatmapgl\": [{\"colorbar\": {\"outlinewidth\": 0, \"ticks\": \"\"}, \"colorscale\": [[0.0, \"#0d0887\"], [0.1111111111111111, \"#46039f\"], [0.2222222222222222, \"#7201a8\"], [0.3333333333333333, \"#9c179e\"], [0.4444444444444444, \"#bd3786\"], [0.5555555555555556, \"#d8576b\"], [0.6666666666666666, \"#ed7953\"], [0.7777777777777778, \"#fb9f3a\"], [0.8888888888888888, \"#fdca26\"], [1.0, \"#f0f921\"]], \"type\": \"heatmapgl\"}], \"histogram\": [{\"marker\": {\"colorbar\": {\"outlinewidth\": 0, \"ticks\": \"\"}}, \"type\": \"histogram\"}], \"histogram2d\": [{\"colorbar\": {\"outlinewidth\": 0, \"ticks\": \"\"}, \"colorscale\": [[0.0, \"#0d0887\"], [0.1111111111111111, \"#46039f\"], [0.2222222222222222, \"#7201a8\"], [0.3333333333333333, \"#9c179e\"], [0.4444444444444444, \"#bd3786\"], [0.5555555555555556, \"#d8576b\"], [0.6666666666666666, \"#ed7953\"], [0.7777777777777778, \"#fb9f3a\"], [0.8888888888888888, \"#fdca26\"], [1.0, \"#f0f921\"]], \"type\": \"histogram2d\"}], \"histogram2dcontour\": [{\"colorbar\": {\"outlinewidth\": 0, \"ticks\": \"\"}, \"colorscale\": [[0.0, \"#0d0887\"], [0.1111111111111111, \"#46039f\"], [0.2222222222222222, \"#7201a8\"], [0.3333333333333333, \"#9c179e\"], [0.4444444444444444, \"#bd3786\"], [0.5555555555555556, \"#d8576b\"], [0.6666666666666666, \"#ed7953\"], [0.7777777777777778, \"#fb9f3a\"], [0.8888888888888888, \"#fdca26\"], [1.0, \"#f0f921\"]], \"type\": \"histogram2dcontour\"}], \"mesh3d\": [{\"colorbar\": {\"outlinewidth\": 0, \"ticks\": \"\"}, \"type\": \"mesh3d\"}], \"parcoords\": [{\"line\": {\"colorbar\": {\"outlinewidth\": 0, \"ticks\": \"\"}}, \"type\": \"parcoords\"}], \"pie\": [{\"automargin\": true, \"type\": \"pie\"}], \"scatter\": [{\"marker\": {\"colorbar\": {\"outlinewidth\": 0, \"ticks\": \"\"}}, \"type\": \"scatter\"}], \"scatter3d\": [{\"line\": {\"colorbar\": {\"outlinewidth\": 0, \"ticks\": \"\"}}, \"marker\": {\"colorbar\": {\"outlinewidth\": 0, \"ticks\": \"\"}}, \"type\": \"scatter3d\"}], \"scattercarpet\": [{\"marker\": {\"colorbar\": {\"outlinewidth\": 0, \"ticks\": \"\"}}, \"type\": \"scattercarpet\"}], \"scattergeo\": [{\"marker\": {\"colorbar\": {\"outlinewidth\": 0, \"ticks\": \"\"}}, \"type\": \"scattergeo\"}], \"scattergl\": [{\"marker\": {\"colorbar\": {\"outlinewidth\": 0, \"ticks\": \"\"}}, \"type\": \"scattergl\"}], \"scattermapbox\": [{\"marker\": {\"colorbar\": {\"outlinewidth\": 0, \"ticks\": \"\"}}, \"type\": \"scattermapbox\"}], \"scatterpolar\": [{\"marker\": {\"colorbar\": {\"outlinewidth\": 0, \"ticks\": \"\"}}, \"type\": \"scatterpolar\"}], \"scatterpolargl\": [{\"marker\": {\"colorbar\": {\"outlinewidth\": 0, \"ticks\": \"\"}}, \"type\": \"scatterpolargl\"}], \"scatterternary\": [{\"marker\": {\"colorbar\": {\"outlinewidth\": 0, \"ticks\": \"\"}}, \"type\": \"scatterternary\"}], \"surface\": [{\"colorbar\": {\"outlinewidth\": 0, \"ticks\": \"\"}, \"colorscale\": [[0.0, \"#0d0887\"], [0.1111111111111111, \"#46039f\"], [0.2222222222222222, \"#7201a8\"], [0.3333333333333333, \"#9c179e\"], [0.4444444444444444, \"#bd3786\"], [0.5555555555555556, \"#d8576b\"], [0.6666666666666666, \"#ed7953\"], [0.7777777777777778, \"#fb9f3a\"], [0.8888888888888888, \"#fdca26\"], [1.0, \"#f0f921\"]], \"type\": \"surface\"}], \"table\": [{\"cells\": {\"fill\": {\"color\": \"#EBF0F8\"}, \"line\": {\"color\": \"white\"}}, \"header\": {\"fill\": {\"color\": \"#C8D4E3\"}, \"line\": {\"color\": \"white\"}}, \"type\": \"table\"}]}, \"layout\": {\"annotationdefaults\": {\"arrowcolor\": \"#2a3f5f\", \"arrowhead\": 0, \"arrowwidth\": 1}, \"coloraxis\": {\"colorbar\": {\"outlinewidth\": 0, \"ticks\": \"\"}}, \"colorscale\": {\"diverging\": [[0, \"#8e0152\"], [0.1, \"#c51b7d\"], [0.2, \"#de77ae\"], [0.3, \"#f1b6da\"], [0.4, \"#fde0ef\"], [0.5, \"#f7f7f7\"], [0.6, \"#e6f5d0\"], [0.7, \"#b8e186\"], [0.8, \"#7fbc41\"], [0.9, \"#4d9221\"], [1, \"#276419\"]], \"sequential\": [[0.0, \"#0d0887\"], [0.1111111111111111, \"#46039f\"], [0.2222222222222222, \"#7201a8\"], [0.3333333333333333, \"#9c179e\"], [0.4444444444444444, \"#bd3786\"], [0.5555555555555556, \"#d8576b\"], [0.6666666666666666, \"#ed7953\"], [0.7777777777777778, \"#fb9f3a\"], [0.8888888888888888, \"#fdca26\"], [1.0, \"#f0f921\"]], \"sequentialminus\": [[0.0, \"#0d0887\"], [0.1111111111111111, \"#46039f\"], [0.2222222222222222, \"#7201a8\"], [0.3333333333333333, \"#9c179e\"], [0.4444444444444444, \"#bd3786\"], [0.5555555555555556, \"#d8576b\"], [0.6666666666666666, \"#ed7953\"], [0.7777777777777778, \"#fb9f3a\"], [0.8888888888888888, \"#fdca26\"], [1.0, \"#f0f921\"]]}, \"colorway\": [\"#636efa\", \"#EF553B\", \"#00cc96\", \"#ab63fa\", \"#FFA15A\", \"#19d3f3\", \"#FF6692\", \"#B6E880\", \"#FF97FF\", \"#FECB52\"], \"font\": {\"color\": \"#2a3f5f\"}, \"geo\": {\"bgcolor\": \"white\", \"lakecolor\": \"white\", \"landcolor\": \"#E5ECF6\", \"showlakes\": true, \"showland\": true, \"subunitcolor\": \"white\"}, \"hoverlabel\": {\"align\": \"left\"}, \"hovermode\": \"closest\", \"mapbox\": {\"style\": \"light\"}, \"paper_bgcolor\": \"white\", \"plot_bgcolor\": \"#E5ECF6\", \"polar\": {\"angularaxis\": {\"gridcolor\": \"white\", \"linecolor\": \"white\", \"ticks\": \"\"}, \"bgcolor\": \"#E5ECF6\", \"radialaxis\": {\"gridcolor\": \"white\", \"linecolor\": \"white\", \"ticks\": \"\"}}, \"scene\": {\"xaxis\": {\"backgroundcolor\": \"#E5ECF6\", \"gridcolor\": \"white\", \"gridwidth\": 2, \"linecolor\": \"white\", \"showbackground\": true, \"ticks\": \"\", \"zerolinecolor\": \"white\"}, \"yaxis\": {\"backgroundcolor\": \"#E5ECF6\", \"gridcolor\": \"white\", \"gridwidth\": 2, \"linecolor\": \"white\", \"showbackground\": true, \"ticks\": \"\", \"zerolinecolor\": \"white\"}, \"zaxis\": {\"backgroundcolor\": \"#E5ECF6\", \"gridcolor\": \"white\", \"gridwidth\": 2, \"linecolor\": \"white\", \"showbackground\": true, \"ticks\": \"\", \"zerolinecolor\": \"white\"}}, \"shapedefaults\": {\"line\": {\"color\": \"#2a3f5f\"}}, \"ternary\": {\"aaxis\": {\"gridcolor\": \"white\", \"linecolor\": \"white\", \"ticks\": \"\"}, \"baxis\": {\"gridcolor\": \"white\", \"linecolor\": \"white\", \"ticks\": \"\"}, \"bgcolor\": \"#E5ECF6\", \"caxis\": {\"gridcolor\": \"white\", \"linecolor\": \"white\", \"ticks\": \"\"}}, \"title\": {\"x\": 0.05}, \"xaxis\": {\"automargin\": true, \"gridcolor\": \"white\", \"linecolor\": \"white\", \"ticks\": \"\", \"title\": {\"standoff\": 15}, \"zerolinecolor\": \"white\", \"zerolinewidth\": 2}, \"yaxis\": {\"automargin\": true, \"gridcolor\": \"white\", \"linecolor\": \"white\", \"ticks\": \"\", \"title\": {\"standoff\": 15}, \"zerolinecolor\": \"white\", \"zerolinewidth\": 2}}}, \"title\": {\"text\": \"The Elbow Method\"}, \"xaxis\": {\"title\": {\"text\": \"Number of clusters\"}}, \"yaxis\": {\"title\": {\"text\": \"Within Sum of Squares\"}}},\n",
       "                        {\"responsive\": true}\n",
       "                    ).then(function(){\n",
       "                            \n",
       "var gd = document.getElementById('45522038-c31e-46b4-ba51-e30f88d636fe');\n",
       "var x = new MutationObserver(function (mutations, observer) {{\n",
       "        var display = window.getComputedStyle(gd).display;\n",
       "        if (!display || display === 'none') {{\n",
       "            console.log([gd, 'removed!']);\n",
       "            Plotly.purge(gd);\n",
       "            observer.disconnect();\n",
       "        }}\n",
       "}});\n",
       "\n",
       "// Listen for the removal of the full notebook cells\n",
       "var notebookContainer = gd.closest('#notebook-container');\n",
       "if (notebookContainer) {{\n",
       "    x.observe(notebookContainer, {childList: true});\n",
       "}}\n",
       "\n",
       "// Listen for the clearing of the current output cell\n",
       "var outputEl = gd.closest('.output');\n",
       "if (outputEl) {{\n",
       "    x.observe(outputEl, {childList: true});\n",
       "}}\n",
       "\n",
       "                        })\n",
       "                };\n",
       "                });\n",
       "            </script>\n",
       "        </div>"
      ]
     },
     "metadata": {},
     "output_type": "display_data"
    }
   ],
   "source": [
    "# Visual libraries\n",
    "wss = []\n",
    "for i in range(1, 11):\n",
    "    kmeans = KMeans(n_clusters = i, init = 'k-means++', random_state = random_state)\n",
    "    kmeans.fit(X)\n",
    "    wss.append(kmeans.inertia_)\n",
    "\n",
    "fig = go.Figure()\n",
    "fig.add_trace(go.Scatter(x=list(range(1, 11)), y=wss, name='elbow', mode='lines'))\n",
    "\n",
    "fig.update_layout(title='The Elbow Method', \n",
    "                  xaxis={\"title\": \"Number of clusters\"},\n",
    "                  yaxis={\"title\": \"Within Sum of Squares\"})\n",
    "\n",
    "fig.show()"
   ]
  },
  {
   "cell_type": "markdown",
   "metadata": {},
   "source": [
    "After 4 clusters at (the elbow) the change in the value of inertia is no longer significant and most likely, neither is the variance of the rest of the data after the elbow point. Therefore we can discard everything after k=4 and proceed to the last step in the process."
   ]
  },
  {
   "cell_type": "code",
   "execution_count": 93,
   "metadata": {},
   "outputs": [],
   "source": [
    "number_clusters = 4\n",
    "kmeans = KMeans(n_clusters = number_clusters, init = 'k-means++', random_state = random_state)\n",
    "y_kmeans = kmeans.fit_predict(X)"
   ]
  },
  {
   "cell_type": "code",
   "execution_count": 94,
   "metadata": {},
   "outputs": [
    {
     "data": {
      "application/vnd.plotly.v1+json": {
       "config": {
        "plotlyServerURL": "https://plot.ly"
       },
       "data": [
        {
         "mode": "markers",
         "name": "Cluster 1",
         "type": "scatter",
         "x": [
          2.8629907890913513,
          -0.006070556462803508,
          -0.8218083387800387,
          -1.2055765487330716,
          -0.4581831088720891,
          -3.800846844213667,
          0.5495836717338126,
          3.404912649911725,
          1.184359394281616,
          16.771247720154697,
          2.8200168091299083,
          2.4668203252887047,
          0.2454193225652566,
          2.868380615835813,
          1.9308896799934725,
          -7.088646715630946,
          -0.35437156942802367,
          14.45599993414272,
          0.21538301673022484,
          -8.640224741232444,
          0.9588566847955627,
          3.549558613494214,
          10.865069245028932,
          -6.8552126656088035,
          -0.8910416135722871,
          -0.5419153896967391,
          0.9783385875496968,
          3.5414991815997627,
          13.620655976034584,
          1.687480671509084,
          7.898064198659971,
          -0.8967641279569852,
          -0.7308043428641698,
          2.8016770468870096,
          4.1538319637722845,
          9.52080664561331,
          9.208369210394155,
          8.798857496189326,
          3.4664508151517217,
          2.237520427232313,
          6.237063545040367,
          11.333198924951022,
          -0.6015801856740851,
          -0.19068827621805143,
          1.9728552466441842,
          -3.038660343935061,
          4.47177008516878,
          -0.15075091250627387,
          12.101868972788896,
          8.439995548885847,
          0.15936790672431925,
          -3.1277141806243653,
          0.18924075754158384,
          -1.6565393427610076,
          2.001430653949864,
          -3.09379593147239,
          1.6024556323226133,
          2.714321439455465,
          13.386378944225683,
          13.688729588814171,
          -3.060236588811956,
          0.9141619870303277,
          -0.2641905088233086,
          -1.0368596050957624,
          2.2247374115464202,
          3.8670803562919067,
          4.34204569401591,
          3.0689563962432715,
          -2.862924724997582,
          -0.6758738438053014,
          -1.1065536454160032,
          2.1816791612747677,
          -5.824109297607904,
          9.967972442651561,
          1.1058498185661076,
          -8.395529709449741,
          -1.372260772690295,
          -8.316870804612705,
          3.0738739054649598,
          0.5606229539146478,
          11.660676890231679,
          3.7454110708921093,
          -0.9024672602434675,
          16.35054010674908,
          -2.0352856281269767,
          -3.7252676660303012,
          -0.2520158021208491,
          11.827436077885809,
          2.252286296845379,
          8.021330001737178,
          -3.7698680666638964,
          0.8952625710312558,
          -0.45032773844293095,
          -1.3110052646948906,
          14.744159507308384,
          -2.09294191036463,
          -9.568569023351841,
          0.20708641091697003,
          3.225905710704493,
          -6.254256713107051,
          -1.4448755520617063,
          -3.6436817352884376,
          9.864973889322155,
          -4.252784984299572,
          -0.8311509093404201,
          -1.2790397195717258,
          -8.049263778379366,
          0.1348546550538103,
          -2.567806398133531,
          -0.14066682162653027,
          12.785559081854174,
          -0.988129740804847,
          -0.08125397125315693,
          4.060659551956168,
          0.4692244005505434,
          -6.12592134643612,
          -1.3162452020635715,
          4.123567001467745,
          -0.11508282089330105,
          15.30989167970417,
          2.8337914146962526,
          3.55401827946262,
          -2.0480073446844247,
          -1.548097014681716,
          14.188358447096451,
          -0.6125972544058202,
          0.6037807228302394,
          -3.1808164827643437,
          1.6737951684293437,
          -0.7519702609457269,
          1.7319837385040684,
          4.433399306378469,
          -0.06864213191242366,
          15.700617640930291,
          12.737051340336375,
          2.3691413126961463,
          2.280834957205559,
          -0.6888067059297861,
          0.8577577253728949,
          -2.456562637166434,
          1.4466403588319838,
          -1.6933992348925768,
          -2.54795251579739,
          9.595703375333388,
          7.779411798831384,
          4.009553478172629,
          4.31757576568199,
          -0.8761066643687556,
          0.7866918213894317,
          0.15044241770754643,
          5.096470501822265,
          3.5348889948390387,
          1.5074656113852924,
          -6.942713975180795,
          15.600318146461616,
          -8.551444440127735,
          -2.044064562003157,
          1.8593163570716653,
          0.05669461769427493,
          0.7984158401567457,
          7.7886846373364955,
          -8.11460823839799,
          15.821652838804384,
          -8.55025398267162,
          -1.1461280789569428,
          -1.4006811041520693,
          -7.848639844941461,
          -0.051923565616096484,
          -1.672897901273696,
          -6.955712981329546,
          6.727122687511031,
          1.2725815005400525,
          -1.7118876010547113,
          -1.8359169443686991,
          3.340065398935031,
          2.0480030326046763,
          -8.351078805856883,
          9.462326282647018,
          13.533272047443914,
          -1.6309828309138332,
          -8.32631718364039,
          -5.454492284097502,
          -5.855166173936716,
          -1.9110896450523152,
          -2.1465095894726356,
          -8.679456930861784,
          -1.0819550475650297,
          3.9094439069902607,
          -3.2232838339490844,
          -2.33804595875026,
          15.128577731893364,
          -0.8221889031343808,
          3.8012483880140118,
          5.82812573792083,
          -4.623498219673238,
          4.3847669708902925,
          0.11767294867640322,
          -6.291045908585644,
          2.4827587552501407,
          -7.275029230257855,
          1.6660144302218889,
          3.17764513525953,
          1.31406266343856,
          0.20151435919799698,
          -2.143655177649617,
          -2.3540784611041716,
          -0.7633441252235093,
          0.5050924656519041,
          -1.369383328996195,
          -2.461726006735724,
          20.25495967712355,
          2.750765760874239,
          0.26523495210575476,
          -2.8524270161060272,
          3.186092651300505,
          5.112354051642779,
          -1.01346999421074,
          6.917200441811982,
          1.239518423607205,
          3.9679844803298185,
          -10.010035200480798,
          2.8781293804155146,
          1.556280086745788,
          -0.9120949385161494,
          -3.9275073725843956,
          2.0305655084875713,
          9.17132615807052,
          1.0839362182547714,
          10.995300123015188,
          -1.5530228634550596,
          -0.4830280797855349,
          -3.1875222237746574,
          15.198919684124363,
          8.501795262713095,
          -0.46069378594425087,
          2.506763716449803,
          -0.7486479886669498,
          -1.5579853360641922,
          -0.9717684020097903,
          -2.3309115209639044,
          3.0798047335852075,
          0.032198682267102444,
          -0.25081359143554355,
          12.69786246054109,
          0.13991924427820226,
          -0.877092337825992,
          0.021635195629706602,
          0.3118310986532734,
          -1.7714025105001805,
          3.946861260434097,
          -0.9236849802111942,
          -1.510022176679238,
          1.7449066214747262,
          2.519968840850427,
          3.5020318830270614,
          -0.45154916666074674,
          5.69102052202032,
          -10.089483280915816,
          -0.2886639156828882,
          1.1783842929718014,
          10.84786702665334,
          5.562855500606839,
          7.681940069599682,
          12.417050049053353,
          1.1138079753532226,
          12.179924634874848,
          11.053651157410863,
          -2.6106751152681134,
          5.3385375854142,
          -1.4466046876386638,
          1.8360013131412163,
          3.220989093520278,
          1.5385329226087896,
          1.0797513843625712,
          -7.477632784358725,
          4.188346137577689,
          -0.6942125392248365,
          -7.576673459099367,
          7.882818103545327,
          0.6709577440033307,
          -2.048234982016285,
          10.123028042511773,
          9.431623478070124,
          3.5465187891499204,
          5.0524609387958135,
          0.043276988124868486,
          -2.2744991305978455,
          0.23818583865442114,
          -8.423180893863664,
          -2.112751926744679,
          0.7253461994544882,
          9.321727199435044,
          -0.2753460902898335,
          -0.8654425279961538,
          1.5166106880656511,
          3.5766638511629574,
          0.12208677545048216,
          8.206955187562745,
          3.60924444535175,
          -2.356867117319668,
          -1.8026821982856416,
          0.39040525761872635,
          2.6590927442128067,
          4.269368504987487,
          1.0987903818911626,
          -6.88105195396662,
          3.8258365869044186,
          -0.8031339925880676,
          -0.4648264811019435,
          1.296271559368321,
          2.1398728770542745,
          1.2694903982949632,
          0.8609699937746124,
          -2.3340463884348264,
          -1.0396047083929914,
          2.1116024680476775,
          1.93725671123971,
          1.9597977995233447,
          -1.0880774295002738,
          4.695743074994056,
          5.322636933111861,
          -2.3293064064288336,
          -1.4549224375063639,
          14.383449244204039,
          1.3184944556218863,
          7.460897782845495,
          4.160936334094181,
          -3.3048086277732054,
          -1.2476358036519164,
          -1.180774525354133,
          3.528782427351359,
          0.32840257364091996,
          -0.9274723527987752,
          0.12295256702606372,
          -6.361899196598922,
          -1.8132838512628435,
          11.176505893918794,
          2.038041504573597,
          -2.1552773740172078,
          2.3445212594829865,
          -5.020398817957184,
          3.260262242337896,
          3.5981753190485097
         ],
         "y": [
          -2.165341493845522,
          2.929648591155224,
          -1.2761066681935018,
          -0.8788378867034248,
          -1.1283450441279819,
          -0.2805918068957647,
          -1.548183976612172,
          -2.4951766069632226,
          -1.676921007682638,
          -6.401283682895902,
          -2.1503864989991666,
          -2.1060063931479256,
          -1.36330586955513,
          -2.2419426965359834,
          -1.9246129996662495,
          0.6796400479268798,
          -1.1582951057584694,
          -5.552714568660469,
          -1.3517978014404042,
          2.2154423375353964,
          -1.5976231957738534,
          -2.4696503438248296,
          -4.495404141947125,
          0.6945165044983341,
          -0.982450384416659,
          -1.0997169551710109,
          -1.6070672426239907,
          -2.453265656034934,
          -4.51753150997314,
          -1.910544845942291,
          -3.640140413800222,
          -0.9806266955456777,
          -1.0308941632967292,
          -2.218011918090972,
          -2.671578571921302,
          -4.114504333293015,
          -4.217713536593289,
          -3.9404914805160485,
          -2.4422503568358778,
          -2.0316801594060476,
          -3.1573323350029714,
          -4.626891905286246,
          -1.0786526465786526,
          -1.3080767382222998,
          -1.935887202287992,
          -0.4669184974981357,
          -2.70172617402865,
          -1.3006344682296371,
          -4.909601882171678,
          -3.820264045402962,
          -1.3983167255000808,
          -0.30149546984116987,
          -1.4138797886583787,
          -0.7963513067737898,
          -2.0192157751664905,
          -0.3162966985467406,
          -1.8177592096436945,
          -2.1888925834460164,
          -5.268226162890752,
          -5.13349336370622,
          -0.4605443857951047,
          -0.5423804528965711,
          -1.1989053245243566,
          -0.9409442441465896,
          -2.0193283937760547,
          -2.5798833902886216,
          -1.686684519633477,
          -2.229280375465729,
          -0.5284499054955565,
          -1.0571258726521526,
          2.242402306838014,
          -2.0138613744967113,
          0.3296270981216769,
          -4.266832178289647,
          -1.650599217280318,
          1.113562278732062,
          -0.9584956989090481,
          1.0191526187063102,
          -2.3064410520798213,
          -0.4128834504466825,
          -4.736993498304316,
          -2.5328735065177375,
          -0.9806973298638152,
          -4.613994852340746,
          -0.8075216922260193,
          0.9525707074381062,
          -1.1958804666997962,
          -4.814985170822134,
          -2.0352519274124665,
          -3.6781359069388837,
          -0.2945026312086191,
          -1.568437444604512,
          -1.1049066503078273,
          -0.842022664438315,
          -5.231996205314536,
          -0.5779626135887391,
          1.4959961573204188,
          -1.351201323494175,
          -2.3590575622360364,
          0.46682088549633644,
          -0.7690841498513805,
          -0.26851387220934964,
          -4.22713818547916,
          -0.13398041520054668,
          -1.0025171518438787,
          -1.1267743610132614,
          0.9225726848021645,
          -1.331928290100542,
          1.004174446666126,
          -1.26971483710821,
          -4.855196535629455,
          -1.0864279626091073,
          -1.2531073980404308,
          -2.6390846728638757,
          -1.43765136053335,
          0.4260991782593,
          -0.841759489211953,
          -2.6598616208381416,
          -1.2353446632984477,
          -4.902780840739774,
          -2.3236711248826114,
          -2.5649049592734676,
          -0.7308433055991177,
          -0.8598626967235992,
          -5.5401935485819065,
          -1.170384812885669,
          -1.5787880135309438,
          4.0792346914545945,
          -1.9032854540732609,
          -1.1191690299347508,
          -1.950107599952264,
          -2.7617146708857274,
          -0.1979305689735347,
          -6.113237577419342,
          -0.98450010104308,
          -2.07412809424647,
          -0.9906213881432359,
          -1.04890061134235,
          -1.5598287717466603,
          -0.4584290264780994,
          -1.7634398496842891,
          -0.84849377238933,
          -0.42853375070996963,
          -4.135511384581291,
          -3.6665728721612556,
          -2.62375596326357,
          -2.7224192180964586,
          -0.9662622640895426,
          -1.5438387785548344,
          -1.3319787863826948,
          -2.838293078269188,
          -2.4639722158151707,
          -1.786443843693071,
          0.6301679152776829,
          -6.150501258501163,
          1.1670716981449532,
          -0.7335104246197219,
          -1.8992117799559123,
          1.8567804415770004,
          -1.540901641972696,
          -3.8124815499113973,
          0.9526977734934398,
          -6.062784999205557,
          1.1006152188419416,
          -0.8977847604877327,
          -0.8136149001384592,
          0.9351612920318361,
          -1.2619887773446032,
          -0.719902259233143,
          0.7035300610020094,
          -3.5313547866187593,
          -1.705401827259781,
          -0.7079029335974015,
          -0.6643267100081778,
          -2.399758846783386,
          -1.9614932770539524,
          1.0980763835303864,
          -4.162775737341392,
          -5.317253424243522,
          -0.7500601066766241,
          1.091842795494604,
          5.455498014403133,
          0.33503011164587687,
          -0.655886857258206,
          -0.7691373425906087,
          1.1464515514121305,
          -0.9267858213348903,
          -2.6549691790194982,
          -0.2657113201811885,
          0.49326267929175754,
          -5.383623843696269,
          -1.0055166123519959,
          -2.54689165609404,
          -3.0874354609175905,
          -0.007906342336542823,
          -2.7470790589701637,
          -1.317589455992464,
          0.48593808896231305,
          -2.1122734597400474,
          0.7385229788945802,
          -1.8370364963601489,
          -2.3510886394878328,
          -1.7246104219498581,
          -1.3557081519888503,
          -0.5462649298468699,
          -0.49454102377431813,
          -1.0271408665508763,
          -1.5122960196002462,
          -0.8231580721833814,
          -0.4586025759110166,
          51.69640056883707,
          -0.09184467842812548,
          -1.365572131542115,
          -0.5295793911965795,
          -2.2706565513309127,
          -2.84532419637068,
          -0.9400582584995273,
          -2.6573853462606447,
          -1.7047938952475263,
          -2.6145314663830383,
          2.2304844346612365,
          -2.251595875483111,
          -1.8086527847873006,
          5.321348702811692,
          -0.23879618812803044,
          -1.9628189427478397,
          -4.068393915961661,
          -1.647440123136525,
          -4.610696686705555,
          -0.7661694212388119,
          -1.121329747711689,
          -0.40961093600417975,
          -5.943939082956409,
          -2.616313658913608,
          -1.1357439625679908,
          -2.1287884371564467,
          -1.0387244799839344,
          -0.7688059442410434,
          -1.0927672913173456,
          -0.5026767447509092,
          -2.312953238775896,
          -1.284452302047253,
          -1.1983372203268274,
          -5.174287443117667,
          -1.3310529401206819,
          -0.992343865952031,
          -1.2937564394316654,
          -1.4431184551175988,
          -0.6959186172625491,
          -1.5478036371293462,
          -0.9711262348378417,
          -0.9112527380547615,
          -1.8644146466477667,
          -2.118479270896153,
          -2.4499468200286296,
          -1.1951110402372054,
          -3.1857825711515964,
          1.546788704318323,
          -1.1846367647226366,
          -1.6759768583029826,
          -2.7780843568094657,
          -2.998272620707479,
          -3.6401588159351292,
          -5.015055070125011,
          0.45142846748301807,
          -4.934414484945769,
          -4.560731092633602,
          -0.6113309618440762,
          -2.9235861510545456,
          -0.805603249573628,
          -0.8463079179099047,
          -2.364862529266997,
          -1.7943146028436743,
          -1.643565381248597,
          0.8069119494778962,
          -2.681466887294125,
          -1.0488432195585355,
          0.8394908275036659,
          -2.867968016999822,
          2.6576515846864686,
          -0.5908692250798208,
          -4.318490682573352,
          -4.08071466271055,
          -2.3944041385606534,
          -2.828003412731178,
          -1.2945870550434904,
          0.5343538656694459,
          -1.3596190416037282,
          1.3797456331365492,
          -0.5699460100183443,
          -1.6597620221856901,
          -1.3956121197765992,
          -1.189011880281592,
          -0.9894697576687557,
          -1.7884962820786532,
          -2.4763009943669076,
          0.7819411864702718,
          -3.7440962358642818,
          26.002840739269715,
          -0.48850192231464246,
          0.3743072107198039,
          -1.4128624602132245,
          -2.019994012915797,
          -2.7066624835156823,
          -1.6412927864068023,
          0.5449851850741827,
          -2.5597822510299686,
          5.2928945217996,
          -0.07268364064094655,
          -1.7230599734814855,
          -2.0033472650301087,
          -0.9014328474599549,
          -1.5721217225963537,
          -0.7016916989463915,
          -0.9409182519908558,
          -1.9831465870176397,
          -1.9370781684498313,
          -1.9390016472861367,
          -0.9236869458751269,
          -2.859291035968305,
          -2.918622571254539,
          -0.5024921802554784,
          -0.794830939874842,
          -4.642121600452996,
          -1.7189104221631113,
          -3.777772237911006,
          -2.597727512805708,
          -0.3761622664187794,
          -0.8641566801249876,
          -0.9823353835510358,
          -0.9059377635058108,
          23.025197447374904,
          -1.0666030453022306,
          -1.4191088914075405,
          0.909791507211321,
          -0.7711365661697599,
          -4.600291712120255,
          -1.9641280910313403,
          -0.5562759794876547,
          -2.162073706229443,
          0.1227886033705927,
          -2.4655747777243495,
          -2.406371818408618
         ]
        },
        {
         "mode": "markers",
         "name": "Cluster 2",
         "type": "scatter",
         "x": [
          -11.759877428007147,
          -29.527919050324403,
          -14.804776702562194,
          -30.071076582417632,
          -30.414842916813264,
          -20.50008036021321,
          -37.670202569647806,
          -13.30596336692277,
          -24.60127592643704,
          -18.760863244927712,
          -32.28789306330164,
          -26.253348078900803,
          -28.95863767862618,
          -21.411384663111896,
          -13.894620196795072,
          -14.264040251352023,
          -30.689701652728584,
          -10.100474809413058,
          -10.50006373777357,
          -29.139238567676575,
          -30.94912607829026,
          -20.334510015812555,
          -11.431093396664615,
          -27.718458835578257,
          -27.217375439780405,
          -29.23737881482942,
          -26.20923189065147,
          -56.32673515935626,
          -10.7895918915282,
          -32.731007362389995,
          -22.21189063241531,
          -14.033579771687762,
          -14.508272956272066,
          -29.034902763120066,
          -19.77307896191887,
          -30.951672215389728,
          -18.107287742673254,
          -17.75748072480141,
          -26.353668332788473,
          -13.320217529948478,
          -21.075125296784307,
          -14.54432007905025,
          -13.826734070735743,
          -12.786053770784964,
          -22.72580609367629,
          -12.59730780372572,
          -22.200695200998222,
          -17.38937101244754,
          -31.08271538149586,
          -23.928915541547504,
          -11.333343382159839,
          -22.99818833551066,
          -24.080921685091194,
          -18.19363898466248,
          -15.525619874351785,
          -19.16324325958386,
          -18.162552965599083,
          -11.500234656683757,
          -18.75593935102807,
          -27.856075537184783,
          -24.637273112991235,
          -21.440113435155126,
          -13.614911417134616,
          -23.62745474196613,
          -25.96082145510977,
          -27.445035949054677,
          -14.308058708418555,
          -30.900381962396885,
          -19.55560240792688,
          -22.03392750865003,
          -22.496225669821225,
          -35.85447143926772,
          -27.79472178349691,
          -24.25394679941521,
          -26.221933734212918,
          -19.323801115342807,
          -21.00946676185378,
          -11.596267824629306,
          -22.318922622217652,
          -20.31722436402696,
          -26.10489608609496,
          -14.962217233597448,
          -9.70540432002409,
          -10.968029652872533,
          -27.74809180064455,
          -32.70951894271533,
          -20.816778978397362,
          -23.016671759552395,
          -24.280599180046593,
          -13.158023963221664,
          -12.987647489982827,
          -21.8266446414607,
          -18.067428765591504,
          -36.05818773955598,
          -18.402334177036526,
          -12.601522790934489,
          -9.814098102679022,
          -21.493991109035157,
          -17.135248501323254,
          -25.436776430259066,
          -11.763957327386168,
          -22.513666415631793,
          -18.79828544654161,
          -25.24818804239757,
          -19.797732355764403,
          -30.954832703898287,
          -15.396212192833627,
          -13.173626284992256,
          -29.619406176500863,
          -40.82231575702273,
          -11.494626894187157,
          -22.572015041430845,
          -16.003170705518297,
          -10.008556977854898,
          -21.768099005243474,
          -15.19237669870793,
          -14.338923014446465,
          -27.279928500473478,
          -14.929065363807723,
          -13.675728767465118,
          -16.842789947913218,
          -15.36752750778931,
          -37.514027701392045,
          -32.663477298145665,
          -28.787423611642513,
          -9.869914603679296,
          -23.87326910516083,
          -27.651398529563224,
          -37.40993626677617,
          -11.406594600212182,
          -19.479234072613306,
          -22.714747700204217,
          -37.392301652384596,
          -40.651996795758656,
          -23.03237950039647,
          -10.126372159183564,
          -14.866734346975
         ],
         "y": [
          5.074672672190844,
          7.2824244447613555,
          3.007596824348336,
          7.422824202672789,
          7.536876374917287,
          4.613171193365216,
          9.661239276180838,
          2.480900442349892,
          5.841283524045014,
          4.103797549617615,
          8.070704459485249,
          6.324403612989408,
          7.096309764361133,
          4.851272964558724,
          2.6787855005033405,
          3.8295594948588905,
          7.604289553473631,
          1.6154037070476392,
          1.6830139067236287,
          7.154913972848372,
          7.693958211374983,
          4.5190098235287515,
          2.1759752028806933,
          6.745435767199818,
          6.585333493899739,
          7.192518613534622,
          6.3105085800631215,
          18.424812694566167,
          2.7007706115047725,
          8.215356984176056,
          5.112390797492635,
          2.7519707655585504,
          2.8853339069318222,
          7.120005331318996,
          4.584647462551376,
          7.689572165110384,
          10.419013086587306,
          3.833082016877291,
          6.360671864317151,
          2.5528219436528663,
          4.802238486481757,
          3.079744885121713,
          2.65531845677087,
          2.3233390297278302,
          5.287490540033177,
          2.3127862416246634,
          5.1096942066890865,
          8.92557434110721,
          7.734299704534152,
          5.619800602689025,
          39.70984692637374,
          5.3766582985646005,
          5.6744767005804055,
          3.976809230333854,
          3.8861332199625567,
          4.232890006185648,
          3.9004263487203255,
          2.0128561388523467,
          5.215865116395084,
          6.793875060133945,
          5.853467020577225,
          5.9072674884107395,
          2.5875939047875227,
          5.51690803464706,
          6.232615218048014,
          6.659374203464351,
          2.8191101758257573,
          7.670394401753108,
          4.363288422050232,
          5.053015986755033,
          6.28770618242103,
          9.120729047617793,
          6.77043177322572,
          6.903462809673221,
          6.315933963292263,
          4.291904124163152,
          4.784126131775269,
          2.075215976852926,
          5.1488119853599255,
          4.578401781395909,
          6.275599938533745,
          3.0343066496238986,
          1.485742628859343,
          1.8403600444037425,
          6.756871279972207,
          8.206995749218313,
          4.7143922130790585,
          5.382274160512364,
          5.741067820425713,
          2.497690850927019,
          2.4429780320238,
          4.985780070732481,
          3.934186541399885,
          9.191712130083388,
          3.9769421146001753,
          2.3375593759546,
          1.5235344414054803,
          4.897967187749112,
          3.624395945613075,
          6.0564028100966505,
          2.1032366200681327,
          5.215135841015813,
          4.110856991514531,
          6.018316226004915,
          4.37530543240636,
          7.690862743011373,
          4.242878594001406,
          2.5025386350298633,
          7.314938100776044,
          10.57366445514685,
          2.013139121066182,
          5.237657347669975,
          3.3125078641273533,
          1.5870895644181569,
          4.964799783060811,
          3.0422081617461574,
          2.971268255795472,
          6.604025645189344,
          3.0205345410553766,
          2.604143432599835,
          3.531594076130625,
          3.0705050544961017,
          9.607422618641834,
          8.191284851621038,
          7.037099399598246,
          1.5374836415754838,
          5.608056711199746,
          6.7232779329750905,
          9.572112452774874,
          1.9899533548279844,
          4.3465293240743055,
          5.283042741935967,
          9.565769848089012,
          10.518589749899302,
          5.387133349792208,
          1.6251241023064937,
          3.0000903712031843
         ]
        },
        {
         "mode": "markers",
         "name": "Cluster 3",
         "type": "scatter",
         "x": [
          124.92886487705715
         ],
         "y": [
          352.5255106612074
         ]
        },
        {
         "mode": "markers",
         "name": "Cluster 4",
         "type": "scatter",
         "x": [
          19.031533824490882,
          32.61861340306006,
          14.389090128362318,
          16.660282168687058,
          58.371111039876816,
          47.50969473063399,
          32.172321651405234,
          55.192664431483706,
          40.6991615824523,
          22.77874744933735,
          19.951442677357782,
          44.860912562613386,
          19.900601852631503,
          40.29234068122225,
          33.285120817487396,
          23.751162325882348,
          24.643468498726925,
          34.88847658767343,
          32.99631943493998,
          22.939454330806647,
          20.01486911604911,
          18.57953303279241,
          38.814930063440876,
          30.46893892003026,
          25.69067476634126,
          22.070497266513183,
          28.64190044258036,
          19.071530074983457,
          64.218199356845,
          22.310219875192267,
          16.968221474152827,
          22.378127204246397,
          25.236119326844825,
          17.395350729855558,
          23.916919316045572,
          16.009143524402607,
          22.116934251551953,
          28.619366612117837,
          42.34407070351806,
          33.71629652929862,
          18.230171074561813,
          33.24514072806536,
          34.35890373226076,
          23.02813723378996,
          50.26979935422698,
          46.33659033632412,
          25.221237916566754,
          18.325773128536905,
          22.372382336744508,
          21.802319146404873,
          23.655648530366328,
          47.00146563771505,
          26.253347968659003,
          47.519114306773105,
          29.17633285874569,
          19.24988585471565,
          28.394074712037146,
          34.18488722476344,
          14.40452174899914,
          30.42192098944973,
          38.022205655609405,
          31.62804048373999,
          67.3069898867907,
          53.645906987738854,
          40.0204023461836,
          24.502001547722585,
          53.088729050638385,
          37.302949655163346,
          50.33139233171285,
          53.52298623779184,
          18.594361987350794,
          18.151153303695427,
          33.63141918806299,
          17.68041750197226
         ],
         "y": [
          -6.951508144081216,
          -10.393404042779938,
          -5.5384184791585005,
          -6.224731745876386,
          -18.793934102140483,
          -10.362325004485115,
          -10.918031575981114,
          -17.591685316058424,
          -12.045236315520766,
          1.8345688220512317,
          -7.1857692832730775,
          -14.414891060502375,
          -7.17122292654834,
          -9.800871021694693,
          -11.094670118095225,
          -8.31560659686994,
          -8.682686060149436,
          -11.50888123189276,
          -11.200368553098391,
          -7.042853091999243,
          -7.211832538292866,
          -6.798365534694665,
          -12.682531887757037,
          -9.450668683136556,
          -8.834775624626204,
          -7.823678919393879,
          -9.681377523687958,
          -6.97436509464903,
          -12.84250302608198,
          -7.840713039774771,
          -6.327581427426786,
          -6.68356264120559,
          -8.750288737427176,
          -6.4730535944373875,
          -8.370182458583628,
          -5.498941157712234,
          -7.843038761791281,
          -8.11365037254332,
          -13.227901646011226,
          -11.172408388596029,
          -5.480778283602586,
          -11.289300626665591,
          -11.384821447806624,
          -8.218230565172007,
          29.64402400592565,
          -10.259452531140646,
          -8.744545881257087,
          -6.713418980974387,
          -7.863298126856141,
          -6.170900599385671,
          -8.289090910440832,
          -15.050879482215858,
          -9.081291641657119,
          -15.44102609350939,
          -10.068437683664065,
          -6.955739067983241,
          -9.661907990345863,
          -11.324952019636456,
          -5.540656568057091,
          -10.208899283153587,
          -11.533002801758757,
          -10.605326901856698,
          -18.975563491485836,
          -17.000002040455687,
          -10.771872418130386,
          -1.062253617018764,
          -16.821941327755574,
          -12.505927725806401,
          -10.002114127551247,
          -17.07566352668592,
          -6.803699437704555,
          -6.6572065353151695,
          -11.209532599132933,
          -6.56674717227854
         ]
        },
        {
         "marker": {
          "color": "rgb(255,255,0)",
          "size": 16
         },
         "mode": "markers",
         "name": "Centroids",
         "type": "scatter",
         "x": [
          1.5548726488923799,
          -21.639745672970516,
          124.92886487705715,
          31.167499645267746
         ],
         "y": [
          -1.2396809274465057,
          5.433455852988788,
          352.5255106612074,
          -9.077005464952958
         ]
        }
       ],
       "layout": {
        "template": {
         "data": {
          "bar": [
           {
            "error_x": {
             "color": "#2a3f5f"
            },
            "error_y": {
             "color": "#2a3f5f"
            },
            "marker": {
             "line": {
              "color": "#E5ECF6",
              "width": 0.5
             }
            },
            "type": "bar"
           }
          ],
          "barpolar": [
           {
            "marker": {
             "line": {
              "color": "#E5ECF6",
              "width": 0.5
             }
            },
            "type": "barpolar"
           }
          ],
          "carpet": [
           {
            "aaxis": {
             "endlinecolor": "#2a3f5f",
             "gridcolor": "white",
             "linecolor": "white",
             "minorgridcolor": "white",
             "startlinecolor": "#2a3f5f"
            },
            "baxis": {
             "endlinecolor": "#2a3f5f",
             "gridcolor": "white",
             "linecolor": "white",
             "minorgridcolor": "white",
             "startlinecolor": "#2a3f5f"
            },
            "type": "carpet"
           }
          ],
          "choropleth": [
           {
            "colorbar": {
             "outlinewidth": 0,
             "ticks": ""
            },
            "type": "choropleth"
           }
          ],
          "contour": [
           {
            "colorbar": {
             "outlinewidth": 0,
             "ticks": ""
            },
            "colorscale": [
             [
              0,
              "#0d0887"
             ],
             [
              0.1111111111111111,
              "#46039f"
             ],
             [
              0.2222222222222222,
              "#7201a8"
             ],
             [
              0.3333333333333333,
              "#9c179e"
             ],
             [
              0.4444444444444444,
              "#bd3786"
             ],
             [
              0.5555555555555556,
              "#d8576b"
             ],
             [
              0.6666666666666666,
              "#ed7953"
             ],
             [
              0.7777777777777778,
              "#fb9f3a"
             ],
             [
              0.8888888888888888,
              "#fdca26"
             ],
             [
              1,
              "#f0f921"
             ]
            ],
            "type": "contour"
           }
          ],
          "contourcarpet": [
           {
            "colorbar": {
             "outlinewidth": 0,
             "ticks": ""
            },
            "type": "contourcarpet"
           }
          ],
          "heatmap": [
           {
            "colorbar": {
             "outlinewidth": 0,
             "ticks": ""
            },
            "colorscale": [
             [
              0,
              "#0d0887"
             ],
             [
              0.1111111111111111,
              "#46039f"
             ],
             [
              0.2222222222222222,
              "#7201a8"
             ],
             [
              0.3333333333333333,
              "#9c179e"
             ],
             [
              0.4444444444444444,
              "#bd3786"
             ],
             [
              0.5555555555555556,
              "#d8576b"
             ],
             [
              0.6666666666666666,
              "#ed7953"
             ],
             [
              0.7777777777777778,
              "#fb9f3a"
             ],
             [
              0.8888888888888888,
              "#fdca26"
             ],
             [
              1,
              "#f0f921"
             ]
            ],
            "type": "heatmap"
           }
          ],
          "heatmapgl": [
           {
            "colorbar": {
             "outlinewidth": 0,
             "ticks": ""
            },
            "colorscale": [
             [
              0,
              "#0d0887"
             ],
             [
              0.1111111111111111,
              "#46039f"
             ],
             [
              0.2222222222222222,
              "#7201a8"
             ],
             [
              0.3333333333333333,
              "#9c179e"
             ],
             [
              0.4444444444444444,
              "#bd3786"
             ],
             [
              0.5555555555555556,
              "#d8576b"
             ],
             [
              0.6666666666666666,
              "#ed7953"
             ],
             [
              0.7777777777777778,
              "#fb9f3a"
             ],
             [
              0.8888888888888888,
              "#fdca26"
             ],
             [
              1,
              "#f0f921"
             ]
            ],
            "type": "heatmapgl"
           }
          ],
          "histogram": [
           {
            "marker": {
             "colorbar": {
              "outlinewidth": 0,
              "ticks": ""
             }
            },
            "type": "histogram"
           }
          ],
          "histogram2d": [
           {
            "colorbar": {
             "outlinewidth": 0,
             "ticks": ""
            },
            "colorscale": [
             [
              0,
              "#0d0887"
             ],
             [
              0.1111111111111111,
              "#46039f"
             ],
             [
              0.2222222222222222,
              "#7201a8"
             ],
             [
              0.3333333333333333,
              "#9c179e"
             ],
             [
              0.4444444444444444,
              "#bd3786"
             ],
             [
              0.5555555555555556,
              "#d8576b"
             ],
             [
              0.6666666666666666,
              "#ed7953"
             ],
             [
              0.7777777777777778,
              "#fb9f3a"
             ],
             [
              0.8888888888888888,
              "#fdca26"
             ],
             [
              1,
              "#f0f921"
             ]
            ],
            "type": "histogram2d"
           }
          ],
          "histogram2dcontour": [
           {
            "colorbar": {
             "outlinewidth": 0,
             "ticks": ""
            },
            "colorscale": [
             [
              0,
              "#0d0887"
             ],
             [
              0.1111111111111111,
              "#46039f"
             ],
             [
              0.2222222222222222,
              "#7201a8"
             ],
             [
              0.3333333333333333,
              "#9c179e"
             ],
             [
              0.4444444444444444,
              "#bd3786"
             ],
             [
              0.5555555555555556,
              "#d8576b"
             ],
             [
              0.6666666666666666,
              "#ed7953"
             ],
             [
              0.7777777777777778,
              "#fb9f3a"
             ],
             [
              0.8888888888888888,
              "#fdca26"
             ],
             [
              1,
              "#f0f921"
             ]
            ],
            "type": "histogram2dcontour"
           }
          ],
          "mesh3d": [
           {
            "colorbar": {
             "outlinewidth": 0,
             "ticks": ""
            },
            "type": "mesh3d"
           }
          ],
          "parcoords": [
           {
            "line": {
             "colorbar": {
              "outlinewidth": 0,
              "ticks": ""
             }
            },
            "type": "parcoords"
           }
          ],
          "pie": [
           {
            "automargin": true,
            "type": "pie"
           }
          ],
          "scatter": [
           {
            "marker": {
             "colorbar": {
              "outlinewidth": 0,
              "ticks": ""
             }
            },
            "type": "scatter"
           }
          ],
          "scatter3d": [
           {
            "line": {
             "colorbar": {
              "outlinewidth": 0,
              "ticks": ""
             }
            },
            "marker": {
             "colorbar": {
              "outlinewidth": 0,
              "ticks": ""
             }
            },
            "type": "scatter3d"
           }
          ],
          "scattercarpet": [
           {
            "marker": {
             "colorbar": {
              "outlinewidth": 0,
              "ticks": ""
             }
            },
            "type": "scattercarpet"
           }
          ],
          "scattergeo": [
           {
            "marker": {
             "colorbar": {
              "outlinewidth": 0,
              "ticks": ""
             }
            },
            "type": "scattergeo"
           }
          ],
          "scattergl": [
           {
            "marker": {
             "colorbar": {
              "outlinewidth": 0,
              "ticks": ""
             }
            },
            "type": "scattergl"
           }
          ],
          "scattermapbox": [
           {
            "marker": {
             "colorbar": {
              "outlinewidth": 0,
              "ticks": ""
             }
            },
            "type": "scattermapbox"
           }
          ],
          "scatterpolar": [
           {
            "marker": {
             "colorbar": {
              "outlinewidth": 0,
              "ticks": ""
             }
            },
            "type": "scatterpolar"
           }
          ],
          "scatterpolargl": [
           {
            "marker": {
             "colorbar": {
              "outlinewidth": 0,
              "ticks": ""
             }
            },
            "type": "scatterpolargl"
           }
          ],
          "scatterternary": [
           {
            "marker": {
             "colorbar": {
              "outlinewidth": 0,
              "ticks": ""
             }
            },
            "type": "scatterternary"
           }
          ],
          "surface": [
           {
            "colorbar": {
             "outlinewidth": 0,
             "ticks": ""
            },
            "colorscale": [
             [
              0,
              "#0d0887"
             ],
             [
              0.1111111111111111,
              "#46039f"
             ],
             [
              0.2222222222222222,
              "#7201a8"
             ],
             [
              0.3333333333333333,
              "#9c179e"
             ],
             [
              0.4444444444444444,
              "#bd3786"
             ],
             [
              0.5555555555555556,
              "#d8576b"
             ],
             [
              0.6666666666666666,
              "#ed7953"
             ],
             [
              0.7777777777777778,
              "#fb9f3a"
             ],
             [
              0.8888888888888888,
              "#fdca26"
             ],
             [
              1,
              "#f0f921"
             ]
            ],
            "type": "surface"
           }
          ],
          "table": [
           {
            "cells": {
             "fill": {
              "color": "#EBF0F8"
             },
             "line": {
              "color": "white"
             }
            },
            "header": {
             "fill": {
              "color": "#C8D4E3"
             },
             "line": {
              "color": "white"
             }
            },
            "type": "table"
           }
          ]
         },
         "layout": {
          "annotationdefaults": {
           "arrowcolor": "#2a3f5f",
           "arrowhead": 0,
           "arrowwidth": 1
          },
          "coloraxis": {
           "colorbar": {
            "outlinewidth": 0,
            "ticks": ""
           }
          },
          "colorscale": {
           "diverging": [
            [
             0,
             "#8e0152"
            ],
            [
             0.1,
             "#c51b7d"
            ],
            [
             0.2,
             "#de77ae"
            ],
            [
             0.3,
             "#f1b6da"
            ],
            [
             0.4,
             "#fde0ef"
            ],
            [
             0.5,
             "#f7f7f7"
            ],
            [
             0.6,
             "#e6f5d0"
            ],
            [
             0.7,
             "#b8e186"
            ],
            [
             0.8,
             "#7fbc41"
            ],
            [
             0.9,
             "#4d9221"
            ],
            [
             1,
             "#276419"
            ]
           ],
           "sequential": [
            [
             0,
             "#0d0887"
            ],
            [
             0.1111111111111111,
             "#46039f"
            ],
            [
             0.2222222222222222,
             "#7201a8"
            ],
            [
             0.3333333333333333,
             "#9c179e"
            ],
            [
             0.4444444444444444,
             "#bd3786"
            ],
            [
             0.5555555555555556,
             "#d8576b"
            ],
            [
             0.6666666666666666,
             "#ed7953"
            ],
            [
             0.7777777777777778,
             "#fb9f3a"
            ],
            [
             0.8888888888888888,
             "#fdca26"
            ],
            [
             1,
             "#f0f921"
            ]
           ],
           "sequentialminus": [
            [
             0,
             "#0d0887"
            ],
            [
             0.1111111111111111,
             "#46039f"
            ],
            [
             0.2222222222222222,
             "#7201a8"
            ],
            [
             0.3333333333333333,
             "#9c179e"
            ],
            [
             0.4444444444444444,
             "#bd3786"
            ],
            [
             0.5555555555555556,
             "#d8576b"
            ],
            [
             0.6666666666666666,
             "#ed7953"
            ],
            [
             0.7777777777777778,
             "#fb9f3a"
            ],
            [
             0.8888888888888888,
             "#fdca26"
            ],
            [
             1,
             "#f0f921"
            ]
           ]
          },
          "colorway": [
           "#636efa",
           "#EF553B",
           "#00cc96",
           "#ab63fa",
           "#FFA15A",
           "#19d3f3",
           "#FF6692",
           "#B6E880",
           "#FF97FF",
           "#FECB52"
          ],
          "font": {
           "color": "#2a3f5f"
          },
          "geo": {
           "bgcolor": "white",
           "lakecolor": "white",
           "landcolor": "#E5ECF6",
           "showlakes": true,
           "showland": true,
           "subunitcolor": "white"
          },
          "hoverlabel": {
           "align": "left"
          },
          "hovermode": "closest",
          "mapbox": {
           "style": "light"
          },
          "paper_bgcolor": "white",
          "plot_bgcolor": "#E5ECF6",
          "polar": {
           "angularaxis": {
            "gridcolor": "white",
            "linecolor": "white",
            "ticks": ""
           },
           "bgcolor": "#E5ECF6",
           "radialaxis": {
            "gridcolor": "white",
            "linecolor": "white",
            "ticks": ""
           }
          },
          "scene": {
           "xaxis": {
            "backgroundcolor": "#E5ECF6",
            "gridcolor": "white",
            "gridwidth": 2,
            "linecolor": "white",
            "showbackground": true,
            "ticks": "",
            "zerolinecolor": "white"
           },
           "yaxis": {
            "backgroundcolor": "#E5ECF6",
            "gridcolor": "white",
            "gridwidth": 2,
            "linecolor": "white",
            "showbackground": true,
            "ticks": "",
            "zerolinecolor": "white"
           },
           "zaxis": {
            "backgroundcolor": "#E5ECF6",
            "gridcolor": "white",
            "gridwidth": 2,
            "linecolor": "white",
            "showbackground": true,
            "ticks": "",
            "zerolinecolor": "white"
           }
          },
          "shapedefaults": {
           "line": {
            "color": "#2a3f5f"
           }
          },
          "ternary": {
           "aaxis": {
            "gridcolor": "white",
            "linecolor": "white",
            "ticks": ""
           },
           "baxis": {
            "gridcolor": "white",
            "linecolor": "white",
            "ticks": ""
           },
           "bgcolor": "#E5ECF6",
           "caxis": {
            "gridcolor": "white",
            "linecolor": "white",
            "ticks": ""
           }
          },
          "title": {
           "x": 0.05
          },
          "xaxis": {
           "automargin": true,
           "gridcolor": "white",
           "linecolor": "white",
           "ticks": "",
           "title": {
            "standoff": 15
           },
           "zerolinecolor": "white",
           "zerolinewidth": 2
          },
          "yaxis": {
           "automargin": true,
           "gridcolor": "white",
           "linecolor": "white",
           "ticks": "",
           "title": {
            "standoff": 15
           },
           "zerolinecolor": "white",
           "zerolinewidth": 2
          }
         }
        },
        "title": {
         "text": "Clusters"
        }
       }
      },
      "text/html": [
       "<div>\n",
       "        \n",
       "        \n",
       "            <div id=\"a1923d26-026f-4030-96d1-a258f895a532\" class=\"plotly-graph-div\" style=\"height:525px; width:100%;\"></div>\n",
       "            <script type=\"text/javascript\">\n",
       "                require([\"plotly\"], function(Plotly) {\n",
       "                    window.PLOTLYENV=window.PLOTLYENV || {};\n",
       "                    \n",
       "                if (document.getElementById(\"a1923d26-026f-4030-96d1-a258f895a532\")) {\n",
       "                    Plotly.newPlot(\n",
       "                        'a1923d26-026f-4030-96d1-a258f895a532',\n",
       "                        [{\"mode\": \"markers\", \"name\": \"Cluster 1\", \"type\": \"scatter\", \"x\": [2.8629907890913513, -0.006070556462803508, -0.8218083387800387, -1.2055765487330716, -0.4581831088720891, -3.800846844213667, 0.5495836717338126, 3.404912649911725, 1.184359394281616, 16.771247720154697, 2.8200168091299083, 2.4668203252887047, 0.2454193225652566, 2.868380615835813, 1.9308896799934725, -7.088646715630946, -0.35437156942802367, 14.45599993414272, 0.21538301673022484, -8.640224741232444, 0.9588566847955627, 3.549558613494214, 10.865069245028932, -6.8552126656088035, -0.8910416135722871, -0.5419153896967391, 0.9783385875496968, 3.5414991815997627, 13.620655976034584, 1.687480671509084, 7.898064198659971, -0.8967641279569852, -0.7308043428641698, 2.8016770468870096, 4.1538319637722845, 9.52080664561331, 9.208369210394155, 8.798857496189326, 3.4664508151517217, 2.237520427232313, 6.237063545040367, 11.333198924951022, -0.6015801856740851, -0.19068827621805143, 1.9728552466441842, -3.038660343935061, 4.47177008516878, -0.15075091250627387, 12.101868972788896, 8.439995548885847, 0.15936790672431925, -3.1277141806243653, 0.18924075754158384, -1.6565393427610076, 2.001430653949864, -3.09379593147239, 1.6024556323226133, 2.714321439455465, 13.386378944225683, 13.688729588814171, -3.060236588811956, 0.9141619870303277, -0.2641905088233086, -1.0368596050957624, 2.2247374115464202, 3.8670803562919067, 4.34204569401591, 3.0689563962432715, -2.862924724997582, -0.6758738438053014, -1.1065536454160032, 2.1816791612747677, -5.824109297607904, 9.967972442651561, 1.1058498185661076, -8.395529709449741, -1.372260772690295, -8.316870804612705, 3.0738739054649598, 0.5606229539146478, 11.660676890231679, 3.7454110708921093, -0.9024672602434675, 16.35054010674908, -2.0352856281269767, -3.7252676660303012, -0.2520158021208491, 11.827436077885809, 2.252286296845379, 8.021330001737178, -3.7698680666638964, 0.8952625710312558, -0.45032773844293095, -1.3110052646948906, 14.744159507308384, -2.09294191036463, -9.568569023351841, 0.20708641091697003, 3.225905710704493, -6.254256713107051, -1.4448755520617063, -3.6436817352884376, 9.864973889322155, -4.252784984299572, -0.8311509093404201, -1.2790397195717258, -8.049263778379366, 0.1348546550538103, -2.567806398133531, -0.14066682162653027, 12.785559081854174, -0.988129740804847, -0.08125397125315693, 4.060659551956168, 0.4692244005505434, -6.12592134643612, -1.3162452020635715, 4.123567001467745, -0.11508282089330105, 15.30989167970417, 2.8337914146962526, 3.55401827946262, -2.0480073446844247, -1.548097014681716, 14.188358447096451, -0.6125972544058202, 0.6037807228302394, -3.1808164827643437, 1.6737951684293437, -0.7519702609457269, 1.7319837385040684, 4.433399306378469, -0.06864213191242366, 15.700617640930291, 12.737051340336375, 2.3691413126961463, 2.280834957205559, -0.6888067059297861, 0.8577577253728949, -2.456562637166434, 1.4466403588319838, -1.6933992348925768, -2.54795251579739, 9.595703375333388, 7.779411798831384, 4.009553478172629, 4.31757576568199, -0.8761066643687556, 0.7866918213894317, 0.15044241770754643, 5.096470501822265, 3.5348889948390387, 1.5074656113852924, -6.942713975180795, 15.600318146461616, -8.551444440127735, -2.044064562003157, 1.8593163570716653, 0.05669461769427493, 0.7984158401567457, 7.7886846373364955, -8.11460823839799, 15.821652838804384, -8.55025398267162, -1.1461280789569428, -1.4006811041520693, -7.848639844941461, -0.051923565616096484, -1.672897901273696, -6.955712981329546, 6.727122687511031, 1.2725815005400525, -1.7118876010547113, -1.8359169443686991, 3.340065398935031, 2.0480030326046763, -8.351078805856883, 9.462326282647018, 13.533272047443914, -1.6309828309138332, -8.32631718364039, -5.454492284097502, -5.855166173936716, -1.9110896450523152, -2.1465095894726356, -8.679456930861784, -1.0819550475650297, 3.9094439069902607, -3.2232838339490844, -2.33804595875026, 15.128577731893364, -0.8221889031343808, 3.8012483880140118, 5.82812573792083, -4.623498219673238, 4.3847669708902925, 0.11767294867640322, -6.291045908585644, 2.4827587552501407, -7.275029230257855, 1.6660144302218889, 3.17764513525953, 1.31406266343856, 0.20151435919799698, -2.143655177649617, -2.3540784611041716, -0.7633441252235093, 0.5050924656519041, -1.369383328996195, -2.461726006735724, 20.25495967712355, 2.750765760874239, 0.26523495210575476, -2.8524270161060272, 3.186092651300505, 5.112354051642779, -1.01346999421074, 6.917200441811982, 1.239518423607205, 3.9679844803298185, -10.010035200480798, 2.8781293804155146, 1.556280086745788, -0.9120949385161494, -3.9275073725843956, 2.0305655084875713, 9.17132615807052, 1.0839362182547714, 10.995300123015188, -1.5530228634550596, -0.4830280797855349, -3.1875222237746574, 15.198919684124363, 8.501795262713095, -0.46069378594425087, 2.506763716449803, -0.7486479886669498, -1.5579853360641922, -0.9717684020097903, -2.3309115209639044, 3.0798047335852075, 0.032198682267102444, -0.25081359143554355, 12.69786246054109, 0.13991924427820226, -0.877092337825992, 0.021635195629706602, 0.3118310986532734, -1.7714025105001805, 3.946861260434097, -0.9236849802111942, -1.510022176679238, 1.7449066214747262, 2.519968840850427, 3.5020318830270614, -0.45154916666074674, 5.69102052202032, -10.089483280915816, -0.2886639156828882, 1.1783842929718014, 10.84786702665334, 5.562855500606839, 7.681940069599682, 12.417050049053353, 1.1138079753532226, 12.179924634874848, 11.053651157410863, -2.6106751152681134, 5.3385375854142, -1.4466046876386638, 1.8360013131412163, 3.220989093520278, 1.5385329226087896, 1.0797513843625712, -7.477632784358725, 4.188346137577689, -0.6942125392248365, -7.576673459099367, 7.882818103545327, 0.6709577440033307, -2.048234982016285, 10.123028042511773, 9.431623478070124, 3.5465187891499204, 5.0524609387958135, 0.043276988124868486, -2.2744991305978455, 0.23818583865442114, -8.423180893863664, -2.112751926744679, 0.7253461994544882, 9.321727199435044, -0.2753460902898335, -0.8654425279961538, 1.5166106880656511, 3.5766638511629574, 0.12208677545048216, 8.206955187562745, 3.60924444535175, -2.356867117319668, -1.8026821982856416, 0.39040525761872635, 2.6590927442128067, 4.269368504987487, 1.0987903818911626, -6.88105195396662, 3.8258365869044186, -0.8031339925880676, -0.4648264811019435, 1.296271559368321, 2.1398728770542745, 1.2694903982949632, 0.8609699937746124, -2.3340463884348264, -1.0396047083929914, 2.1116024680476775, 1.93725671123971, 1.9597977995233447, -1.0880774295002738, 4.695743074994056, 5.322636933111861, -2.3293064064288336, -1.4549224375063639, 14.383449244204039, 1.3184944556218863, 7.460897782845495, 4.160936334094181, -3.3048086277732054, -1.2476358036519164, -1.180774525354133, 3.528782427351359, 0.32840257364091996, -0.9274723527987752, 0.12295256702606372, -6.361899196598922, -1.8132838512628435, 11.176505893918794, 2.038041504573597, -2.1552773740172078, 2.3445212594829865, -5.020398817957184, 3.260262242337896, 3.5981753190485097], \"y\": [-2.165341493845522, 2.929648591155224, -1.2761066681935018, -0.8788378867034248, -1.1283450441279819, -0.2805918068957647, -1.548183976612172, -2.4951766069632226, -1.676921007682638, -6.401283682895902, -2.1503864989991666, -2.1060063931479256, -1.36330586955513, -2.2419426965359834, -1.9246129996662495, 0.6796400479268798, -1.1582951057584694, -5.552714568660469, -1.3517978014404042, 2.2154423375353964, -1.5976231957738534, -2.4696503438248296, -4.495404141947125, 0.6945165044983341, -0.982450384416659, -1.0997169551710109, -1.6070672426239907, -2.453265656034934, -4.51753150997314, -1.910544845942291, -3.640140413800222, -0.9806266955456777, -1.0308941632967292, -2.218011918090972, -2.671578571921302, -4.114504333293015, -4.217713536593289, -3.9404914805160485, -2.4422503568358778, -2.0316801594060476, -3.1573323350029714, -4.626891905286246, -1.0786526465786526, -1.3080767382222998, -1.935887202287992, -0.4669184974981357, -2.70172617402865, -1.3006344682296371, -4.909601882171678, -3.820264045402962, -1.3983167255000808, -0.30149546984116987, -1.4138797886583787, -0.7963513067737898, -2.0192157751664905, -0.3162966985467406, -1.8177592096436945, -2.1888925834460164, -5.268226162890752, -5.13349336370622, -0.4605443857951047, -0.5423804528965711, -1.1989053245243566, -0.9409442441465896, -2.0193283937760547, -2.5798833902886216, -1.686684519633477, -2.229280375465729, -0.5284499054955565, -1.0571258726521526, 2.242402306838014, -2.0138613744967113, 0.3296270981216769, -4.266832178289647, -1.650599217280318, 1.113562278732062, -0.9584956989090481, 1.0191526187063102, -2.3064410520798213, -0.4128834504466825, -4.736993498304316, -2.5328735065177375, -0.9806973298638152, -4.613994852340746, -0.8075216922260193, 0.9525707074381062, -1.1958804666997962, -4.814985170822134, -2.0352519274124665, -3.6781359069388837, -0.2945026312086191, -1.568437444604512, -1.1049066503078273, -0.842022664438315, -5.231996205314536, -0.5779626135887391, 1.4959961573204188, -1.351201323494175, -2.3590575622360364, 0.46682088549633644, -0.7690841498513805, -0.26851387220934964, -4.22713818547916, -0.13398041520054668, -1.0025171518438787, -1.1267743610132614, 0.9225726848021645, -1.331928290100542, 1.004174446666126, -1.26971483710821, -4.855196535629455, -1.0864279626091073, -1.2531073980404308, -2.6390846728638757, -1.43765136053335, 0.4260991782593, -0.841759489211953, -2.6598616208381416, -1.2353446632984477, -4.902780840739774, -2.3236711248826114, -2.5649049592734676, -0.7308433055991177, -0.8598626967235992, -5.5401935485819065, -1.170384812885669, -1.5787880135309438, 4.0792346914545945, -1.9032854540732609, -1.1191690299347508, -1.950107599952264, -2.7617146708857274, -0.1979305689735347, -6.113237577419342, -0.98450010104308, -2.07412809424647, -0.9906213881432359, -1.04890061134235, -1.5598287717466603, -0.4584290264780994, -1.7634398496842891, -0.84849377238933, -0.42853375070996963, -4.135511384581291, -3.6665728721612556, -2.62375596326357, -2.7224192180964586, -0.9662622640895426, -1.5438387785548344, -1.3319787863826948, -2.838293078269188, -2.4639722158151707, -1.786443843693071, 0.6301679152776829, -6.150501258501163, 1.1670716981449532, -0.7335104246197219, -1.8992117799559123, 1.8567804415770004, -1.540901641972696, -3.8124815499113973, 0.9526977734934398, -6.062784999205557, 1.1006152188419416, -0.8977847604877327, -0.8136149001384592, 0.9351612920318361, -1.2619887773446032, -0.719902259233143, 0.7035300610020094, -3.5313547866187593, -1.705401827259781, -0.7079029335974015, -0.6643267100081778, -2.399758846783386, -1.9614932770539524, 1.0980763835303864, -4.162775737341392, -5.317253424243522, -0.7500601066766241, 1.091842795494604, 5.455498014403133, 0.33503011164587687, -0.655886857258206, -0.7691373425906087, 1.1464515514121305, -0.9267858213348903, -2.6549691790194982, -0.2657113201811885, 0.49326267929175754, -5.383623843696269, -1.0055166123519959, -2.54689165609404, -3.0874354609175905, -0.007906342336542823, -2.7470790589701637, -1.317589455992464, 0.48593808896231305, -2.1122734597400474, 0.7385229788945802, -1.8370364963601489, -2.3510886394878328, -1.7246104219498581, -1.3557081519888503, -0.5462649298468699, -0.49454102377431813, -1.0271408665508763, -1.5122960196002462, -0.8231580721833814, -0.4586025759110166, 51.69640056883707, -0.09184467842812548, -1.365572131542115, -0.5295793911965795, -2.2706565513309127, -2.84532419637068, -0.9400582584995273, -2.6573853462606447, -1.7047938952475263, -2.6145314663830383, 2.2304844346612365, -2.251595875483111, -1.8086527847873006, 5.321348702811692, -0.23879618812803044, -1.9628189427478397, -4.068393915961661, -1.647440123136525, -4.610696686705555, -0.7661694212388119, -1.121329747711689, -0.40961093600417975, -5.943939082956409, -2.616313658913608, -1.1357439625679908, -2.1287884371564467, -1.0387244799839344, -0.7688059442410434, -1.0927672913173456, -0.5026767447509092, -2.312953238775896, -1.284452302047253, -1.1983372203268274, -5.174287443117667, -1.3310529401206819, -0.992343865952031, -1.2937564394316654, -1.4431184551175988, -0.6959186172625491, -1.5478036371293462, -0.9711262348378417, -0.9112527380547615, -1.8644146466477667, -2.118479270896153, -2.4499468200286296, -1.1951110402372054, -3.1857825711515964, 1.546788704318323, -1.1846367647226366, -1.6759768583029826, -2.7780843568094657, -2.998272620707479, -3.6401588159351292, -5.015055070125011, 0.45142846748301807, -4.934414484945769, -4.560731092633602, -0.6113309618440762, -2.9235861510545456, -0.805603249573628, -0.8463079179099047, -2.364862529266997, -1.7943146028436743, -1.643565381248597, 0.8069119494778962, -2.681466887294125, -1.0488432195585355, 0.8394908275036659, -2.867968016999822, 2.6576515846864686, -0.5908692250798208, -4.318490682573352, -4.08071466271055, -2.3944041385606534, -2.828003412731178, -1.2945870550434904, 0.5343538656694459, -1.3596190416037282, 1.3797456331365492, -0.5699460100183443, -1.6597620221856901, -1.3956121197765992, -1.189011880281592, -0.9894697576687557, -1.7884962820786532, -2.4763009943669076, 0.7819411864702718, -3.7440962358642818, 26.002840739269715, -0.48850192231464246, 0.3743072107198039, -1.4128624602132245, -2.019994012915797, -2.7066624835156823, -1.6412927864068023, 0.5449851850741827, -2.5597822510299686, 5.2928945217996, -0.07268364064094655, -1.7230599734814855, -2.0033472650301087, -0.9014328474599549, -1.5721217225963537, -0.7016916989463915, -0.9409182519908558, -1.9831465870176397, -1.9370781684498313, -1.9390016472861367, -0.9236869458751269, -2.859291035968305, -2.918622571254539, -0.5024921802554784, -0.794830939874842, -4.642121600452996, -1.7189104221631113, -3.777772237911006, -2.597727512805708, -0.3761622664187794, -0.8641566801249876, -0.9823353835510358, -0.9059377635058108, 23.025197447374904, -1.0666030453022306, -1.4191088914075405, 0.909791507211321, -0.7711365661697599, -4.600291712120255, -1.9641280910313403, -0.5562759794876547, -2.162073706229443, 0.1227886033705927, -2.4655747777243495, -2.406371818408618]}, {\"mode\": \"markers\", \"name\": \"Cluster 2\", \"type\": \"scatter\", \"x\": [-11.759877428007147, -29.527919050324403, -14.804776702562194, -30.071076582417632, -30.414842916813264, -20.50008036021321, -37.670202569647806, -13.30596336692277, -24.60127592643704, -18.760863244927712, -32.28789306330164, -26.253348078900803, -28.95863767862618, -21.411384663111896, -13.894620196795072, -14.264040251352023, -30.689701652728584, -10.100474809413058, -10.50006373777357, -29.139238567676575, -30.94912607829026, -20.334510015812555, -11.431093396664615, -27.718458835578257, -27.217375439780405, -29.23737881482942, -26.20923189065147, -56.32673515935626, -10.7895918915282, -32.731007362389995, -22.21189063241531, -14.033579771687762, -14.508272956272066, -29.034902763120066, -19.77307896191887, -30.951672215389728, -18.107287742673254, -17.75748072480141, -26.353668332788473, -13.320217529948478, -21.075125296784307, -14.54432007905025, -13.826734070735743, -12.786053770784964, -22.72580609367629, -12.59730780372572, -22.200695200998222, -17.38937101244754, -31.08271538149586, -23.928915541547504, -11.333343382159839, -22.99818833551066, -24.080921685091194, -18.19363898466248, -15.525619874351785, -19.16324325958386, -18.162552965599083, -11.500234656683757, -18.75593935102807, -27.856075537184783, -24.637273112991235, -21.440113435155126, -13.614911417134616, -23.62745474196613, -25.96082145510977, -27.445035949054677, -14.308058708418555, -30.900381962396885, -19.55560240792688, -22.03392750865003, -22.496225669821225, -35.85447143926772, -27.79472178349691, -24.25394679941521, -26.221933734212918, -19.323801115342807, -21.00946676185378, -11.596267824629306, -22.318922622217652, -20.31722436402696, -26.10489608609496, -14.962217233597448, -9.70540432002409, -10.968029652872533, -27.74809180064455, -32.70951894271533, -20.816778978397362, -23.016671759552395, -24.280599180046593, -13.158023963221664, -12.987647489982827, -21.8266446414607, -18.067428765591504, -36.05818773955598, -18.402334177036526, -12.601522790934489, -9.814098102679022, -21.493991109035157, -17.135248501323254, -25.436776430259066, -11.763957327386168, -22.513666415631793, -18.79828544654161, -25.24818804239757, -19.797732355764403, -30.954832703898287, -15.396212192833627, -13.173626284992256, -29.619406176500863, -40.82231575702273, -11.494626894187157, -22.572015041430845, -16.003170705518297, -10.008556977854898, -21.768099005243474, -15.19237669870793, -14.338923014446465, -27.279928500473478, -14.929065363807723, -13.675728767465118, -16.842789947913218, -15.36752750778931, -37.514027701392045, -32.663477298145665, -28.787423611642513, -9.869914603679296, -23.87326910516083, -27.651398529563224, -37.40993626677617, -11.406594600212182, -19.479234072613306, -22.714747700204217, -37.392301652384596, -40.651996795758656, -23.03237950039647, -10.126372159183564, -14.866734346975], \"y\": [5.074672672190844, 7.2824244447613555, 3.007596824348336, 7.422824202672789, 7.536876374917287, 4.613171193365216, 9.661239276180838, 2.480900442349892, 5.841283524045014, 4.103797549617615, 8.070704459485249, 6.324403612989408, 7.096309764361133, 4.851272964558724, 2.6787855005033405, 3.8295594948588905, 7.604289553473631, 1.6154037070476392, 1.6830139067236287, 7.154913972848372, 7.693958211374983, 4.5190098235287515, 2.1759752028806933, 6.745435767199818, 6.585333493899739, 7.192518613534622, 6.3105085800631215, 18.424812694566167, 2.7007706115047725, 8.215356984176056, 5.112390797492635, 2.7519707655585504, 2.8853339069318222, 7.120005331318996, 4.584647462551376, 7.689572165110384, 10.419013086587306, 3.833082016877291, 6.360671864317151, 2.5528219436528663, 4.802238486481757, 3.079744885121713, 2.65531845677087, 2.3233390297278302, 5.287490540033177, 2.3127862416246634, 5.1096942066890865, 8.92557434110721, 7.734299704534152, 5.619800602689025, 39.70984692637374, 5.3766582985646005, 5.6744767005804055, 3.976809230333854, 3.8861332199625567, 4.232890006185648, 3.9004263487203255, 2.0128561388523467, 5.215865116395084, 6.793875060133945, 5.853467020577225, 5.9072674884107395, 2.5875939047875227, 5.51690803464706, 6.232615218048014, 6.659374203464351, 2.8191101758257573, 7.670394401753108, 4.363288422050232, 5.053015986755033, 6.28770618242103, 9.120729047617793, 6.77043177322572, 6.903462809673221, 6.315933963292263, 4.291904124163152, 4.784126131775269, 2.075215976852926, 5.1488119853599255, 4.578401781395909, 6.275599938533745, 3.0343066496238986, 1.485742628859343, 1.8403600444037425, 6.756871279972207, 8.206995749218313, 4.7143922130790585, 5.382274160512364, 5.741067820425713, 2.497690850927019, 2.4429780320238, 4.985780070732481, 3.934186541399885, 9.191712130083388, 3.9769421146001753, 2.3375593759546, 1.5235344414054803, 4.897967187749112, 3.624395945613075, 6.0564028100966505, 2.1032366200681327, 5.215135841015813, 4.110856991514531, 6.018316226004915, 4.37530543240636, 7.690862743011373, 4.242878594001406, 2.5025386350298633, 7.314938100776044, 10.57366445514685, 2.013139121066182, 5.237657347669975, 3.3125078641273533, 1.5870895644181569, 4.964799783060811, 3.0422081617461574, 2.971268255795472, 6.604025645189344, 3.0205345410553766, 2.604143432599835, 3.531594076130625, 3.0705050544961017, 9.607422618641834, 8.191284851621038, 7.037099399598246, 1.5374836415754838, 5.608056711199746, 6.7232779329750905, 9.572112452774874, 1.9899533548279844, 4.3465293240743055, 5.283042741935967, 9.565769848089012, 10.518589749899302, 5.387133349792208, 1.6251241023064937, 3.0000903712031843]}, {\"mode\": \"markers\", \"name\": \"Cluster 3\", \"type\": \"scatter\", \"x\": [124.92886487705715], \"y\": [352.5255106612074]}, {\"mode\": \"markers\", \"name\": \"Cluster 4\", \"type\": \"scatter\", \"x\": [19.031533824490882, 32.61861340306006, 14.389090128362318, 16.660282168687058, 58.371111039876816, 47.50969473063399, 32.172321651405234, 55.192664431483706, 40.6991615824523, 22.77874744933735, 19.951442677357782, 44.860912562613386, 19.900601852631503, 40.29234068122225, 33.285120817487396, 23.751162325882348, 24.643468498726925, 34.88847658767343, 32.99631943493998, 22.939454330806647, 20.01486911604911, 18.57953303279241, 38.814930063440876, 30.46893892003026, 25.69067476634126, 22.070497266513183, 28.64190044258036, 19.071530074983457, 64.218199356845, 22.310219875192267, 16.968221474152827, 22.378127204246397, 25.236119326844825, 17.395350729855558, 23.916919316045572, 16.009143524402607, 22.116934251551953, 28.619366612117837, 42.34407070351806, 33.71629652929862, 18.230171074561813, 33.24514072806536, 34.35890373226076, 23.02813723378996, 50.26979935422698, 46.33659033632412, 25.221237916566754, 18.325773128536905, 22.372382336744508, 21.802319146404873, 23.655648530366328, 47.00146563771505, 26.253347968659003, 47.519114306773105, 29.17633285874569, 19.24988585471565, 28.394074712037146, 34.18488722476344, 14.40452174899914, 30.42192098944973, 38.022205655609405, 31.62804048373999, 67.3069898867907, 53.645906987738854, 40.0204023461836, 24.502001547722585, 53.088729050638385, 37.302949655163346, 50.33139233171285, 53.52298623779184, 18.594361987350794, 18.151153303695427, 33.63141918806299, 17.68041750197226], \"y\": [-6.951508144081216, -10.393404042779938, -5.5384184791585005, -6.224731745876386, -18.793934102140483, -10.362325004485115, -10.918031575981114, -17.591685316058424, -12.045236315520766, 1.8345688220512317, -7.1857692832730775, -14.414891060502375, -7.17122292654834, -9.800871021694693, -11.094670118095225, -8.31560659686994, -8.682686060149436, -11.50888123189276, -11.200368553098391, -7.042853091999243, -7.211832538292866, -6.798365534694665, -12.682531887757037, -9.450668683136556, -8.834775624626204, -7.823678919393879, -9.681377523687958, -6.97436509464903, -12.84250302608198, -7.840713039774771, -6.327581427426786, -6.68356264120559, -8.750288737427176, -6.4730535944373875, -8.370182458583628, -5.498941157712234, -7.843038761791281, -8.11365037254332, -13.227901646011226, -11.172408388596029, -5.480778283602586, -11.289300626665591, -11.384821447806624, -8.218230565172007, 29.64402400592565, -10.259452531140646, -8.744545881257087, -6.713418980974387, -7.863298126856141, -6.170900599385671, -8.289090910440832, -15.050879482215858, -9.081291641657119, -15.44102609350939, -10.068437683664065, -6.955739067983241, -9.661907990345863, -11.324952019636456, -5.540656568057091, -10.208899283153587, -11.533002801758757, -10.605326901856698, -18.975563491485836, -17.000002040455687, -10.771872418130386, -1.062253617018764, -16.821941327755574, -12.505927725806401, -10.002114127551247, -17.07566352668592, -6.803699437704555, -6.6572065353151695, -11.209532599132933, -6.56674717227854]}, {\"marker\": {\"color\": \"rgb(255,255,0)\", \"size\": 16}, \"mode\": \"markers\", \"name\": \"Centroids\", \"type\": \"scatter\", \"x\": [1.5548726488923799, -21.639745672970516, 124.92886487705715, 31.167499645267746], \"y\": [-1.2396809274465057, 5.433455852988788, 352.5255106612074, -9.077005464952958]}],\n",
       "                        {\"template\": {\"data\": {\"bar\": [{\"error_x\": {\"color\": \"#2a3f5f\"}, \"error_y\": {\"color\": \"#2a3f5f\"}, \"marker\": {\"line\": {\"color\": \"#E5ECF6\", \"width\": 0.5}}, \"type\": \"bar\"}], \"barpolar\": [{\"marker\": {\"line\": {\"color\": \"#E5ECF6\", \"width\": 0.5}}, \"type\": \"barpolar\"}], \"carpet\": [{\"aaxis\": {\"endlinecolor\": \"#2a3f5f\", \"gridcolor\": \"white\", \"linecolor\": \"white\", \"minorgridcolor\": \"white\", \"startlinecolor\": \"#2a3f5f\"}, \"baxis\": {\"endlinecolor\": \"#2a3f5f\", \"gridcolor\": \"white\", \"linecolor\": \"white\", \"minorgridcolor\": \"white\", \"startlinecolor\": \"#2a3f5f\"}, \"type\": \"carpet\"}], \"choropleth\": [{\"colorbar\": {\"outlinewidth\": 0, \"ticks\": \"\"}, \"type\": \"choropleth\"}], \"contour\": [{\"colorbar\": {\"outlinewidth\": 0, \"ticks\": \"\"}, \"colorscale\": [[0.0, \"#0d0887\"], [0.1111111111111111, \"#46039f\"], [0.2222222222222222, \"#7201a8\"], [0.3333333333333333, \"#9c179e\"], [0.4444444444444444, \"#bd3786\"], [0.5555555555555556, \"#d8576b\"], [0.6666666666666666, \"#ed7953\"], [0.7777777777777778, \"#fb9f3a\"], [0.8888888888888888, \"#fdca26\"], [1.0, \"#f0f921\"]], \"type\": \"contour\"}], \"contourcarpet\": [{\"colorbar\": {\"outlinewidth\": 0, \"ticks\": \"\"}, \"type\": \"contourcarpet\"}], \"heatmap\": [{\"colorbar\": {\"outlinewidth\": 0, \"ticks\": \"\"}, \"colorscale\": [[0.0, \"#0d0887\"], [0.1111111111111111, \"#46039f\"], [0.2222222222222222, \"#7201a8\"], [0.3333333333333333, \"#9c179e\"], [0.4444444444444444, \"#bd3786\"], [0.5555555555555556, \"#d8576b\"], [0.6666666666666666, \"#ed7953\"], [0.7777777777777778, \"#fb9f3a\"], [0.8888888888888888, \"#fdca26\"], [1.0, \"#f0f921\"]], \"type\": \"heatmap\"}], \"heatmapgl\": [{\"colorbar\": {\"outlinewidth\": 0, \"ticks\": \"\"}, \"colorscale\": [[0.0, \"#0d0887\"], [0.1111111111111111, \"#46039f\"], [0.2222222222222222, \"#7201a8\"], [0.3333333333333333, \"#9c179e\"], [0.4444444444444444, \"#bd3786\"], [0.5555555555555556, \"#d8576b\"], [0.6666666666666666, \"#ed7953\"], [0.7777777777777778, \"#fb9f3a\"], [0.8888888888888888, \"#fdca26\"], [1.0, \"#f0f921\"]], \"type\": \"heatmapgl\"}], \"histogram\": [{\"marker\": {\"colorbar\": {\"outlinewidth\": 0, \"ticks\": \"\"}}, \"type\": \"histogram\"}], \"histogram2d\": [{\"colorbar\": {\"outlinewidth\": 0, \"ticks\": \"\"}, \"colorscale\": [[0.0, \"#0d0887\"], [0.1111111111111111, \"#46039f\"], [0.2222222222222222, \"#7201a8\"], [0.3333333333333333, \"#9c179e\"], [0.4444444444444444, \"#bd3786\"], [0.5555555555555556, \"#d8576b\"], [0.6666666666666666, \"#ed7953\"], [0.7777777777777778, \"#fb9f3a\"], [0.8888888888888888, \"#fdca26\"], [1.0, \"#f0f921\"]], \"type\": \"histogram2d\"}], \"histogram2dcontour\": [{\"colorbar\": {\"outlinewidth\": 0, \"ticks\": \"\"}, \"colorscale\": [[0.0, \"#0d0887\"], [0.1111111111111111, \"#46039f\"], [0.2222222222222222, \"#7201a8\"], [0.3333333333333333, \"#9c179e\"], [0.4444444444444444, \"#bd3786\"], [0.5555555555555556, \"#d8576b\"], [0.6666666666666666, \"#ed7953\"], [0.7777777777777778, \"#fb9f3a\"], [0.8888888888888888, \"#fdca26\"], [1.0, \"#f0f921\"]], \"type\": \"histogram2dcontour\"}], \"mesh3d\": [{\"colorbar\": {\"outlinewidth\": 0, \"ticks\": \"\"}, \"type\": \"mesh3d\"}], \"parcoords\": [{\"line\": {\"colorbar\": {\"outlinewidth\": 0, \"ticks\": \"\"}}, \"type\": \"parcoords\"}], \"pie\": [{\"automargin\": true, \"type\": \"pie\"}], \"scatter\": [{\"marker\": {\"colorbar\": {\"outlinewidth\": 0, \"ticks\": \"\"}}, \"type\": \"scatter\"}], \"scatter3d\": [{\"line\": {\"colorbar\": {\"outlinewidth\": 0, \"ticks\": \"\"}}, \"marker\": {\"colorbar\": {\"outlinewidth\": 0, \"ticks\": \"\"}}, \"type\": \"scatter3d\"}], \"scattercarpet\": [{\"marker\": {\"colorbar\": {\"outlinewidth\": 0, \"ticks\": \"\"}}, \"type\": \"scattercarpet\"}], \"scattergeo\": [{\"marker\": {\"colorbar\": {\"outlinewidth\": 0, \"ticks\": \"\"}}, \"type\": \"scattergeo\"}], \"scattergl\": [{\"marker\": {\"colorbar\": {\"outlinewidth\": 0, \"ticks\": \"\"}}, \"type\": \"scattergl\"}], \"scattermapbox\": [{\"marker\": {\"colorbar\": {\"outlinewidth\": 0, \"ticks\": \"\"}}, \"type\": \"scattermapbox\"}], \"scatterpolar\": [{\"marker\": {\"colorbar\": {\"outlinewidth\": 0, \"ticks\": \"\"}}, \"type\": \"scatterpolar\"}], \"scatterpolargl\": [{\"marker\": {\"colorbar\": {\"outlinewidth\": 0, \"ticks\": \"\"}}, \"type\": \"scatterpolargl\"}], \"scatterternary\": [{\"marker\": {\"colorbar\": {\"outlinewidth\": 0, \"ticks\": \"\"}}, \"type\": \"scatterternary\"}], \"surface\": [{\"colorbar\": {\"outlinewidth\": 0, \"ticks\": \"\"}, \"colorscale\": [[0.0, \"#0d0887\"], [0.1111111111111111, \"#46039f\"], [0.2222222222222222, \"#7201a8\"], [0.3333333333333333, \"#9c179e\"], [0.4444444444444444, \"#bd3786\"], [0.5555555555555556, \"#d8576b\"], [0.6666666666666666, \"#ed7953\"], [0.7777777777777778, \"#fb9f3a\"], [0.8888888888888888, \"#fdca26\"], [1.0, \"#f0f921\"]], \"type\": \"surface\"}], \"table\": [{\"cells\": {\"fill\": {\"color\": \"#EBF0F8\"}, \"line\": {\"color\": \"white\"}}, \"header\": {\"fill\": {\"color\": \"#C8D4E3\"}, \"line\": {\"color\": \"white\"}}, \"type\": \"table\"}]}, \"layout\": {\"annotationdefaults\": {\"arrowcolor\": \"#2a3f5f\", \"arrowhead\": 0, \"arrowwidth\": 1}, \"coloraxis\": {\"colorbar\": {\"outlinewidth\": 0, \"ticks\": \"\"}}, \"colorscale\": {\"diverging\": [[0, \"#8e0152\"], [0.1, \"#c51b7d\"], [0.2, \"#de77ae\"], [0.3, \"#f1b6da\"], [0.4, \"#fde0ef\"], [0.5, \"#f7f7f7\"], [0.6, \"#e6f5d0\"], [0.7, \"#b8e186\"], [0.8, \"#7fbc41\"], [0.9, \"#4d9221\"], [1, \"#276419\"]], \"sequential\": [[0.0, \"#0d0887\"], [0.1111111111111111, \"#46039f\"], [0.2222222222222222, \"#7201a8\"], [0.3333333333333333, \"#9c179e\"], [0.4444444444444444, \"#bd3786\"], [0.5555555555555556, \"#d8576b\"], [0.6666666666666666, \"#ed7953\"], [0.7777777777777778, \"#fb9f3a\"], [0.8888888888888888, \"#fdca26\"], [1.0, \"#f0f921\"]], \"sequentialminus\": [[0.0, \"#0d0887\"], [0.1111111111111111, \"#46039f\"], [0.2222222222222222, \"#7201a8\"], [0.3333333333333333, \"#9c179e\"], [0.4444444444444444, \"#bd3786\"], [0.5555555555555556, \"#d8576b\"], [0.6666666666666666, \"#ed7953\"], [0.7777777777777778, \"#fb9f3a\"], [0.8888888888888888, \"#fdca26\"], [1.0, \"#f0f921\"]]}, \"colorway\": [\"#636efa\", \"#EF553B\", \"#00cc96\", \"#ab63fa\", \"#FFA15A\", \"#19d3f3\", \"#FF6692\", \"#B6E880\", \"#FF97FF\", \"#FECB52\"], \"font\": {\"color\": \"#2a3f5f\"}, \"geo\": {\"bgcolor\": \"white\", \"lakecolor\": \"white\", \"landcolor\": \"#E5ECF6\", \"showlakes\": true, \"showland\": true, \"subunitcolor\": \"white\"}, \"hoverlabel\": {\"align\": \"left\"}, \"hovermode\": \"closest\", \"mapbox\": {\"style\": \"light\"}, \"paper_bgcolor\": \"white\", \"plot_bgcolor\": \"#E5ECF6\", \"polar\": {\"angularaxis\": {\"gridcolor\": \"white\", \"linecolor\": \"white\", \"ticks\": \"\"}, \"bgcolor\": \"#E5ECF6\", \"radialaxis\": {\"gridcolor\": \"white\", \"linecolor\": \"white\", \"ticks\": \"\"}}, \"scene\": {\"xaxis\": {\"backgroundcolor\": \"#E5ECF6\", \"gridcolor\": \"white\", \"gridwidth\": 2, \"linecolor\": \"white\", \"showbackground\": true, \"ticks\": \"\", \"zerolinecolor\": \"white\"}, \"yaxis\": {\"backgroundcolor\": \"#E5ECF6\", \"gridcolor\": \"white\", \"gridwidth\": 2, \"linecolor\": \"white\", \"showbackground\": true, \"ticks\": \"\", \"zerolinecolor\": \"white\"}, \"zaxis\": {\"backgroundcolor\": \"#E5ECF6\", \"gridcolor\": \"white\", \"gridwidth\": 2, \"linecolor\": \"white\", \"showbackground\": true, \"ticks\": \"\", \"zerolinecolor\": \"white\"}}, \"shapedefaults\": {\"line\": {\"color\": \"#2a3f5f\"}}, \"ternary\": {\"aaxis\": {\"gridcolor\": \"white\", \"linecolor\": \"white\", \"ticks\": \"\"}, \"baxis\": {\"gridcolor\": \"white\", \"linecolor\": \"white\", \"ticks\": \"\"}, \"bgcolor\": \"#E5ECF6\", \"caxis\": {\"gridcolor\": \"white\", \"linecolor\": \"white\", \"ticks\": \"\"}}, \"title\": {\"x\": 0.05}, \"xaxis\": {\"automargin\": true, \"gridcolor\": \"white\", \"linecolor\": \"white\", \"ticks\": \"\", \"title\": {\"standoff\": 15}, \"zerolinecolor\": \"white\", \"zerolinewidth\": 2}, \"yaxis\": {\"automargin\": true, \"gridcolor\": \"white\", \"linecolor\": \"white\", \"ticks\": \"\", \"title\": {\"standoff\": 15}, \"zerolinecolor\": \"white\", \"zerolinewidth\": 2}}}, \"title\": {\"text\": \"Clusters\"}},\n",
       "                        {\"responsive\": true}\n",
       "                    ).then(function(){\n",
       "                            \n",
       "var gd = document.getElementById('a1923d26-026f-4030-96d1-a258f895a532');\n",
       "var x = new MutationObserver(function (mutations, observer) {{\n",
       "        var display = window.getComputedStyle(gd).display;\n",
       "        if (!display || display === 'none') {{\n",
       "            console.log([gd, 'removed!']);\n",
       "            Plotly.purge(gd);\n",
       "            observer.disconnect();\n",
       "        }}\n",
       "}});\n",
       "\n",
       "// Listen for the removal of the full notebook cells\n",
       "var notebookContainer = gd.closest('#notebook-container');\n",
       "if (notebookContainer) {{\n",
       "    x.observe(notebookContainer, {childList: true});\n",
       "}}\n",
       "\n",
       "// Listen for the clearing of the current output cell\n",
       "var outputEl = gd.closest('.output');\n",
       "if (outputEl) {{\n",
       "    x.observe(outputEl, {childList: true});\n",
       "}}\n",
       "\n",
       "                        })\n",
       "                };\n",
       "                });\n",
       "            </script>\n",
       "        </div>"
      ]
     },
     "metadata": {},
     "output_type": "display_data"
    }
   ],
   "source": [
    "# Visualising the clusters\n",
    "\n",
    "fig = go.Figure()\n",
    "\n",
    "fig.add_trace(go.Scatter(x=X[y_kmeans == 0, 0], y=X[y_kmeans == 0, 1], name='Cluster 1', mode='markers'))\n",
    "fig.add_trace(go.Scatter(x=X[y_kmeans == 1, 0], y=X[y_kmeans == 1, 1], name='Cluster 2', mode='markers'))\n",
    "fig.add_trace(go.Scatter(x=X[y_kmeans == 2, 0], y=X[y_kmeans == 2, 1], name='Cluster 3', mode='markers'))\n",
    "fig.add_trace(go.Scatter(x=X[y_kmeans == 3, 0], y=X[y_kmeans == 3, 1], name='Cluster 4', mode='markers'))\n",
    "#fig.add_trace(go.Scatter(x=X[y_kmeans == 4, 0], y=X[y_kmeans == 4, 1], name='Cluster 5', mode='markers'))\n",
    "#fig.add_trace(go.Scatter(x=X[y_kmeans == 5, 0], y=X[y_kmeans == 5, 1], name='Cluster 6', mode='markers'))\n",
    "#fig.add_trace(go.Scatter(x=X[y_kmeans == 6, 0], y=X[y_kmeans == 6, 1], name='Cluster 7', mode='markers'))#comment the lines if you chose less clusters\n",
    "#add more lines if you chose more clusters\n",
    "\n",
    "fig.add_trace(go.Scatter(x=kmeans.cluster_centers_[:, 0], y=kmeans.cluster_centers_[:, 1], name='Centroids', \n",
    "                         mode='markers', marker_color=\"rgb(255,255,0)\", marker=dict(size=16)))\n",
    "\n",
    "fig.update_layout(title='Clusters')\n",
    "\n",
    "fig.show()"
   ]
  },
  {
   "cell_type": "markdown",
   "metadata": {},
   "source": [
    "Cluster Evaluation\n",
    "Since we have no ground truth we will use Silhouette Coefficient, Calinski-Harabasz Index and Davies-Bouldin Index as measures.\n",
    "Documentation can be found here: \n",
    "https://scikit-learn.org/stable/modules/clustering.html#clustering-performance-evaluation"
   ]
  },
  {
   "cell_type": "code",
   "execution_count": 95,
   "metadata": {},
   "outputs": [
    {
     "name": "stdout",
     "output_type": "stream",
     "text": [
      "The Silhouette Coefficient for 4 clusters with 3 components is: 0.62.\n",
      "The Silhouette Coefficient is bounded between -1 for incorrect clustering and +1 for highly dense clustering.\n",
      "Scores around zero indicate overlapping clusters.\n"
     ]
    }
   ],
   "source": [
    "from sklearn.metrics import silhouette_score\n",
    "from sklearn.metrics import calinski_harabasz_score\n",
    "from sklearn.metrics import davies_bouldin_score\n",
    "\n",
    "kmeans = KMeans(n_clusters = number_clusters, init = 'k-means++', random_state = random_state).fit(X)\n",
    "labels = kmeans.labels_\n",
    "\n",
    "silhouette = silhouette_score(X, labels, metric='sqeuclidean')\n",
    "calinski = calinski_harabasz_score(X, labels)\n",
    "davies = davies_bouldin_score(X, labels)\n",
    "\n",
    "print('The Silhouette Coefficient for {0} clusters with {1} components is: {2}.'\n",
    "      '\\nThe Silhouette Coefficient is bounded between -1 for incorrect clustering and +1 for highly dense clustering.' \n",
    "      '\\nScores around zero indicate overlapping clusters.'.format(number_clusters, number_components, \"%.2f\" % silhouette))"
   ]
  },
  {
   "cell_type": "code",
   "execution_count": 96,
   "metadata": {},
   "outputs": [
    {
     "name": "stdout",
     "output_type": "stream",
     "text": [
      "The Calinski-Harabasz Index for 4 clusters with 3 components is: 641.26.\n",
      "The Calinski-Harabasz score is higher when clusters are dense and well separated\n"
     ]
    }
   ],
   "source": [
    "print('The Calinski-Harabasz Index for {0} clusters with {1} components is: {2}.'\n",
    "      '\\nThe Calinski-Harabasz score is higher when clusters are dense and well separated'\n",
    "      .format(number_clusters, number_components, \"%.2f\" % calinski))"
   ]
  },
  {
   "cell_type": "code",
   "execution_count": 97,
   "metadata": {},
   "outputs": [
    {
     "name": "stdout",
     "output_type": "stream",
     "text": [
      "The Davies-Bouldin Index for 4 clusters with 3 components is: 0.61.\n",
      "The Davies-Bouldin Zero score is the lowest possible score. Values closer to zero indicate a better partition.\n"
     ]
    }
   ],
   "source": [
    "print('The Davies-Bouldin Index for {} clusters with {} components is: {}.'\n",
    "      '\\nThe Davies-Bouldin Zero score is the lowest possible score. Values closer to zero indicate a better partition.'\n",
    "      .format(number_clusters, number_components, \"%.2f\" % davies))"
   ]
  },
  {
   "cell_type": "code",
   "execution_count": 98,
   "metadata": {},
   "outputs": [
    {
     "name": "stdout",
     "output_type": "stream",
     "text": [
      "The Silhouette Coefficient for 2 clusters with 3 components is: 0.99.\n",
      "The Calinski-Harabasz Index for 2 clusters with 3 components is: 332.49.\n",
      "The Davies-Bouldin Index for 2 clusters with 3 components is: 0.04.\n",
      "\n",
      "The Silhouette Coefficient for 3 clusters with 3 components is: 0.65.\n",
      "The Calinski-Harabasz Index for 3 clusters with 3 components is: 485.81.\n",
      "The Davies-Bouldin Index for 3 clusters with 3 components is: 0.60.\n",
      "\n",
      "The Silhouette Coefficient for 4 clusters with 3 components is: 0.62.\n",
      "The Calinski-Harabasz Index for 4 clusters with 3 components is: 641.26.\n",
      "The Davies-Bouldin Index for 4 clusters with 3 components is: 0.61.\n",
      "\n",
      "The Silhouette Coefficient for 5 clusters with 3 components is: 0.62.\n",
      "The Calinski-Harabasz Index for 5 clusters with 3 components is: 735.27.\n",
      "The Davies-Bouldin Index for 5 clusters with 3 components is: 0.58.\n",
      "\n",
      "The Silhouette Coefficient for 6 clusters with 3 components is: 0.63.\n",
      "The Calinski-Harabasz Index for 6 clusters with 3 components is: 803.78.\n",
      "The Davies-Bouldin Index for 6 clusters with 3 components is: 0.62.\n",
      "\n"
     ]
    }
   ],
   "source": [
    "for i in range (2,7):\n",
    "    kmeans = KMeans(n_clusters = i, init = 'k-means++', random_state = random_state).fit(X)\n",
    "    labels = kmeans.labels_\n",
    "    calinski = calinski_harabasz_score(X, labels)\n",
    "    davies = davies_bouldin_score(X, labels)\n",
    "    silhouette = silhouette_score(X, labels, metric='sqeuclidean')\n",
    "    print('The Silhouette Coefficient for {0} clusters with {1} components is: {2}.'\n",
    "          .format(i, number_components, \"%.2f\" % silhouette))\n",
    "    print('The Calinski-Harabasz Index for {0} clusters with {1} components is: {2}.'\n",
    "          .format(i, number_components, \"%.2f\" % calinski))\n",
    "    print('The Davies-Bouldin Index for {0} clusters with {1} components is: {2}.\\n'\n",
    "          .format(i, number_components, \"%.2f\" % davies))\n",
    "    "
   ]
  },
  {
   "cell_type": "code",
   "execution_count": 99,
   "metadata": {},
   "outputs": [
    {
     "ename": "TypeError",
     "evalue": "add_trace() missing 1 required positional argument: 'trace'",
     "output_type": "error",
     "traceback": [
      "\u001b[1;31m---------------------------------------------------------------------------\u001b[0m",
      "\u001b[1;31mTypeError\u001b[0m                                 Traceback (most recent call last)",
      "\u001b[1;32m<ipython-input-99-fdf1edbe4ea3>\u001b[0m in \u001b[0;36m<module>\u001b[1;34m\u001b[0m\n\u001b[0;32m      7\u001b[0m \u001b[0mfig\u001b[0m \u001b[1;33m=\u001b[0m \u001b[0mgo\u001b[0m\u001b[1;33m.\u001b[0m\u001b[0mFigure\u001b[0m\u001b[1;33m(\u001b[0m\u001b[1;33m)\u001b[0m\u001b[1;33m\u001b[0m\u001b[1;33m\u001b[0m\u001b[0m\n\u001b[0;32m      8\u001b[0m \u001b[1;33m\u001b[0m\u001b[0m\n\u001b[1;32m----> 9\u001b[1;33m \u001b[0mfig\u001b[0m\u001b[1;33m.\u001b[0m\u001b[0madd_trace\u001b[0m\u001b[1;33m(\u001b[0m\u001b[1;33m)\u001b[0m\u001b[1;33m\u001b[0m\u001b[1;33m\u001b[0m\u001b[0m\n\u001b[0m\u001b[0;32m     10\u001b[0m \u001b[0mfig\u001b[0m\u001b[1;33m.\u001b[0m\u001b[0madd_trace\u001b[0m\u001b[1;33m(\u001b[0m\u001b[0mgo\u001b[0m\u001b[1;33m.\u001b[0m\u001b[0mScatter\u001b[0m\u001b[1;33m(\u001b[0m\u001b[0mx\u001b[0m\u001b[1;33m=\u001b[0m\u001b[0mX\u001b[0m\u001b[1;33m[\u001b[0m\u001b[0my_kmeans\u001b[0m \u001b[1;33m==\u001b[0m \u001b[1;36m1\u001b[0m\u001b[1;33m,\u001b[0m \u001b[1;36m0\u001b[0m\u001b[1;33m]\u001b[0m\u001b[1;33m,\u001b[0m \u001b[0my\u001b[0m\u001b[1;33m=\u001b[0m\u001b[0mX\u001b[0m\u001b[1;33m[\u001b[0m\u001b[0my_kmeans\u001b[0m \u001b[1;33m==\u001b[0m \u001b[1;36m1\u001b[0m\u001b[1;33m,\u001b[0m \u001b[1;36m1\u001b[0m\u001b[1;33m]\u001b[0m\u001b[1;33m,\u001b[0m \u001b[0mname\u001b[0m\u001b[1;33m=\u001b[0m\u001b[1;34m'Cluster 2'\u001b[0m\u001b[1;33m,\u001b[0m \u001b[0mmode\u001b[0m\u001b[1;33m=\u001b[0m\u001b[1;34m'markers'\u001b[0m\u001b[1;33m)\u001b[0m\u001b[1;33m)\u001b[0m\u001b[1;33m\u001b[0m\u001b[1;33m\u001b[0m\u001b[0m\n\u001b[0;32m     11\u001b[0m \u001b[1;31m#fig.add_trace(go.Scatter(x=X[y_kmeans == 2, 0], y=X[y_kmeans == 2, 1], name='Cluster 3', mode='markers'))\u001b[0m\u001b[1;33m\u001b[0m\u001b[1;33m\u001b[0m\u001b[1;33m\u001b[0m\u001b[0m\n",
      "\u001b[1;31mTypeError\u001b[0m: add_trace() missing 1 required positional argument: 'trace'"
     ]
    }
   ],
   "source": [
    "number_clusters = 2\n",
    "kmeans = KMeans(n_clusters = number_clusters, init = 'k-means++', random_state = random_state)\n",
    "y_kmeans = kmeans.fit_predict(X)\n",
    "\n",
    "# Visualising the clusters\n",
    "\n",
    "fig = go.Figure()\n",
    "\n",
    "fig.add_trace()\n",
    "fig.add_trace(go.Scatter(x=X[y_kmeans == 1, 0], y=X[y_kmeans == 1, 1], name='Cluster 2', mode='markers'))\n",
    "#fig.add_trace(go.Scatter(x=X[y_kmeans == 2, 0], y=X[y_kmeans == 2, 1], name='Cluster 3', mode='markers'))\n",
    "#fig.add_trace(go.Scatter(x=X[y_kmeans == 3, 0], y=X[y_kmeans == 3, 1], name='Cluster 4', mode='markers'))\n",
    "#fig.add_trace(go.Scatter(x=X[y_kmeans == 4, 0], y=X[y_kmeans == 4, 1], name='Cluster 5', mode='markers'))\n",
    "#fig.add_trace(go.Scatter(x=X[y_kmeans == 5, 0], y=X[y_kmeans == 5, 1], name='Cluster 6', mode='markers'))\n",
    "#fig.add_trace(go.Scatter(x=X[y_kmeans == 6, 0], y=X[y_kmeans == 6, 1], name='Cluster 7', mode='markers'))#comment the lines if you chose less clusters\n",
    "#fig.add_trace(go.Scatter(x=X[y_kmeans == 7, 0], y=X[y_kmeans == 7, 1], name='Cluster 8', mode='markers'))\n",
    "#fig.add_trace(go.Scatter(x=X[y_kmeans == 8, 0], y=X[y_kmeans == 8, 1], name='Cluster 9', mode='markers'))\n",
    "#fig.add_trace(go.Scatter(x=X[y_kmeans == 9, 0], y=X[y_kmeans == 9, 1], name='Cluster 10', mode='markers'))#add more lines if you chose more clusters\n",
    "\n",
    "fig.add_trace(go.Scatter(x=kmeans.cluster_centers_[:, 0], y=kmeans.cluster_centers_[:, 1], name='Centroids', \n",
    "                         mode='markers', marker_color=\"rgb(255,255,0)\", marker=dict(size=16)))\n",
    "\n",
    "fig.update_layout(title='Clusters')\n",
    "\n",
    "fig.show()"
   ]
  },
  {
   "cell_type": "code",
   "execution_count": 100,
   "metadata": {},
   "outputs": [
    {
     "name": "stderr",
     "output_type": "stream",
     "text": [
      "C:\\Users\\Ricardo_2\\AppData\\Roaming\\Python\\Python37\\site-packages\\sklearn\\cluster\\_k_means.py:1007: RuntimeWarning:\n",
      "\n",
      "Explicit initial center position passed: performing only one init in k-means instead of n_init=10\n",
      "\n"
     ]
    },
    {
     "data": {
      "application/vnd.plotly.v1+json": {
       "config": {
        "plotlyServerURL": "https://plot.ly"
       },
       "data": [
        {
         "mode": "markers",
         "name": "Cluster 1",
         "type": "scatter",
         "x": [
          2.8629907890913513,
          -0.006070556462803508,
          -0.8218083387800387,
          -1.2055765487330716,
          -0.4581831088720891,
          -3.800846844213667,
          0.5495836717338126,
          3.404912649911725,
          1.184359394281616,
          16.771247720154697,
          2.8200168091299083,
          2.4668203252887047,
          14.389090128362318,
          0.2454193225652566,
          2.868380615835813,
          1.9308896799934725,
          -7.088646715630946,
          -0.35437156942802367,
          14.45599993414272,
          0.21538301673022484,
          -8.640224741232444,
          0.9588566847955627,
          3.549558613494214,
          10.865069245028932,
          -6.8552126656088035,
          -0.8910416135722871,
          -0.5419153896967391,
          0.9783385875496968,
          3.5414991815997627,
          13.620655976034584,
          1.687480671509084,
          7.898064198659971,
          -0.8967641279569852,
          -0.7308043428641698,
          2.8016770468870096,
          4.1538319637722845,
          9.52080664561331,
          9.208369210394155,
          8.798857496189326,
          3.4664508151517217,
          2.237520427232313,
          6.237063545040367,
          11.333198924951022,
          -0.6015801856740851,
          -0.19068827621805143,
          1.9728552466441842,
          -3.038660343935061,
          4.47177008516878,
          -0.15075091250627387,
          12.101868972788896,
          8.439995548885847,
          0.15936790672431925,
          -3.1277141806243653,
          0.18924075754158384,
          -1.6565393427610076,
          2.001430653949864,
          -3.09379593147239,
          1.6024556323226133,
          2.714321439455465,
          13.386378944225683,
          13.688729588814171,
          -3.060236588811956,
          0.9141619870303277,
          -0.2641905088233086,
          -1.0368596050957624,
          2.2247374115464202,
          3.8670803562919067,
          4.34204569401591,
          3.0689563962432715,
          -2.862924724997582,
          -0.6758738438053014,
          -1.1065536454160032,
          2.1816791612747677,
          -5.824109297607904,
          9.967972442651561,
          1.1058498185661076,
          -8.395529709449741,
          -1.372260772690295,
          -8.316870804612705,
          3.0738739054649598,
          0.5606229539146478,
          11.660676890231679,
          3.7454110708921093,
          -0.9024672602434675,
          16.35054010674908,
          -2.0352856281269767,
          -3.7252676660303012,
          -0.2520158021208491,
          11.827436077885809,
          2.252286296845379,
          8.021330001737178,
          -3.7698680666638964,
          0.8952625710312558,
          -0.45032773844293095,
          -1.3110052646948906,
          14.744159507308384,
          -2.09294191036463,
          -9.568569023351841,
          0.20708641091697003,
          3.225905710704493,
          -6.254256713107051,
          -1.4448755520617063,
          -3.6436817352884376,
          9.864973889322155,
          -4.252784984299572,
          -0.8311509093404201,
          -1.2790397195717258,
          -8.049263778379366,
          0.1348546550538103,
          -2.567806398133531,
          -0.14066682162653027,
          12.785559081854174,
          -0.988129740804847,
          -0.08125397125315693,
          4.060659551956168,
          0.4692244005505434,
          -6.12592134643612,
          -1.3162452020635715,
          4.123567001467745,
          -0.11508282089330105,
          15.30989167970417,
          2.8337914146962526,
          3.55401827946262,
          -2.0480073446844247,
          -1.548097014681716,
          14.188358447096451,
          -0.6125972544058202,
          0.6037807228302394,
          -3.1808164827643437,
          1.6737951684293437,
          -0.7519702609457269,
          1.7319837385040684,
          4.433399306378469,
          -0.06864213191242366,
          15.700617640930291,
          12.737051340336375,
          2.3691413126961463,
          2.280834957205559,
          -0.6888067059297861,
          0.8577577253728949,
          -2.456562637166434,
          1.4466403588319838,
          -1.6933992348925768,
          -2.54795251579739,
          9.595703375333388,
          7.779411798831384,
          4.009553478172629,
          4.31757576568199,
          -0.8761066643687556,
          0.7866918213894317,
          0.15044241770754643,
          5.096470501822265,
          3.5348889948390387,
          1.5074656113852924,
          -6.942713975180795,
          15.600318146461616,
          -8.551444440127735,
          -2.044064562003157,
          1.8593163570716653,
          0.05669461769427493,
          0.7984158401567457,
          7.7886846373364955,
          -8.11460823839799,
          15.821652838804384,
          -8.55025398267162,
          -1.1461280789569428,
          -1.4006811041520693,
          -7.848639844941461,
          -0.051923565616096484,
          -1.672897901273696,
          -6.955712981329546,
          6.727122687511031,
          1.2725815005400525,
          -1.7118876010547113,
          -1.8359169443686991,
          3.340065398935031,
          16.009143524402607,
          2.0480030326046763,
          -8.351078805856883,
          9.462326282647018,
          13.533272047443914,
          -1.6309828309138332,
          -8.32631718364039,
          -5.454492284097502,
          -5.855166173936716,
          -1.9110896450523152,
          -2.1465095894726356,
          -8.679456930861784,
          -1.0819550475650297,
          3.9094439069902607,
          -3.2232838339490844,
          -2.33804595875026,
          15.128577731893364,
          -0.8221889031343808,
          3.8012483880140118,
          5.82812573792083,
          -4.623498219673238,
          4.3847669708902925,
          0.11767294867640322,
          -6.291045908585644,
          2.4827587552501407,
          -7.275029230257855,
          1.6660144302218889,
          3.17764513525953,
          1.31406266343856,
          0.20151435919799698,
          -2.143655177649617,
          -2.3540784611041716,
          -0.7633441252235093,
          0.5050924656519041,
          -1.369383328996195,
          -2.461726006735724,
          20.25495967712355,
          2.750765760874239,
          0.26523495210575476,
          -2.8524270161060272,
          3.186092651300505,
          5.112354051642779,
          -1.01346999421074,
          6.917200441811982,
          1.239518423607205,
          3.9679844803298185,
          -10.010035200480798,
          2.8781293804155146,
          1.556280086745788,
          -0.9120949385161494,
          -3.9275073725843956,
          2.0305655084875713,
          9.17132615807052,
          1.0839362182547714,
          10.995300123015188,
          -1.5530228634550596,
          -0.4830280797855349,
          -3.1875222237746574,
          15.198919684124363,
          8.501795262713095,
          -0.46069378594425087,
          2.506763716449803,
          -0.7486479886669498,
          -1.5579853360641922,
          -0.9717684020097903,
          -2.3309115209639044,
          3.0798047335852075,
          0.032198682267102444,
          -0.25081359143554355,
          12.69786246054109,
          0.13991924427820226,
          -0.877092337825992,
          0.021635195629706602,
          0.3118310986532734,
          -1.7714025105001805,
          3.946861260434097,
          -0.9236849802111942,
          -1.510022176679238,
          1.7449066214747262,
          2.519968840850427,
          3.5020318830270614,
          -0.45154916666074674,
          5.69102052202032,
          -10.089483280915816,
          -0.2886639156828882,
          1.1783842929718014,
          10.84786702665334,
          5.562855500606839,
          7.681940069599682,
          12.417050049053353,
          1.1138079753532226,
          12.179924634874848,
          11.053651157410863,
          -2.6106751152681134,
          5.3385375854142,
          -1.4466046876386638,
          1.8360013131412163,
          3.220989093520278,
          1.5385329226087896,
          1.0797513843625712,
          -7.477632784358725,
          4.188346137577689,
          -0.6942125392248365,
          -7.576673459099367,
          7.882818103545327,
          14.40452174899914,
          0.6709577440033307,
          -2.048234982016285,
          10.123028042511773,
          9.431623478070124,
          3.5465187891499204,
          5.0524609387958135,
          0.043276988124868486,
          -2.2744991305978455,
          0.23818583865442114,
          -8.423180893863664,
          -2.112751926744679,
          0.7253461994544882,
          9.321727199435044,
          -0.2753460902898335,
          -0.8654425279961538,
          1.5166106880656511,
          3.5766638511629574,
          0.12208677545048216,
          8.206955187562745,
          3.60924444535175,
          -2.356867117319668,
          -1.8026821982856416,
          0.39040525761872635,
          2.6590927442128067,
          4.269368504987487,
          1.0987903818911626,
          -6.88105195396662,
          3.8258365869044186,
          -0.8031339925880676,
          -0.4648264811019435,
          1.296271559368321,
          2.1398728770542745,
          1.2694903982949632,
          0.8609699937746124,
          -2.3340463884348264,
          -1.0396047083929914,
          2.1116024680476775,
          1.93725671123971,
          1.9597977995233447,
          -1.0880774295002738,
          4.695743074994056,
          5.322636933111861,
          -2.3293064064288336,
          -1.4549224375063639,
          14.383449244204039,
          1.3184944556218863,
          7.460897782845495,
          4.160936334094181,
          -3.3048086277732054,
          -1.2476358036519164,
          -1.180774525354133,
          3.528782427351359,
          0.32840257364091996,
          -0.9274723527987752,
          0.12295256702606372,
          -6.361899196598922,
          -1.8132838512628435,
          11.176505893918794,
          2.038041504573597,
          -2.1552773740172078,
          2.3445212594829865,
          -5.020398817957184,
          3.260262242337896,
          3.5981753190485097
         ],
         "y": [
          -2.165341493845522,
          2.929648591155224,
          -1.2761066681935018,
          -0.8788378867034248,
          -1.1283450441279819,
          -0.2805918068957647,
          -1.548183976612172,
          -2.4951766069632226,
          -1.676921007682638,
          -6.401283682895902,
          -2.1503864989991666,
          -2.1060063931479256,
          -5.5384184791585005,
          -1.36330586955513,
          -2.2419426965359834,
          -1.9246129996662495,
          0.6796400479268798,
          -1.1582951057584694,
          -5.552714568660469,
          -1.3517978014404042,
          2.2154423375353964,
          -1.5976231957738534,
          -2.4696503438248296,
          -4.495404141947125,
          0.6945165044983341,
          -0.982450384416659,
          -1.0997169551710109,
          -1.6070672426239907,
          -2.453265656034934,
          -4.51753150997314,
          -1.910544845942291,
          -3.640140413800222,
          -0.9806266955456777,
          -1.0308941632967292,
          -2.218011918090972,
          -2.671578571921302,
          -4.114504333293015,
          -4.217713536593289,
          -3.9404914805160485,
          -2.4422503568358778,
          -2.0316801594060476,
          -3.1573323350029714,
          -4.626891905286246,
          -1.0786526465786526,
          -1.3080767382222998,
          -1.935887202287992,
          -0.4669184974981357,
          -2.70172617402865,
          -1.3006344682296371,
          -4.909601882171678,
          -3.820264045402962,
          -1.3983167255000808,
          -0.30149546984116987,
          -1.4138797886583787,
          -0.7963513067737898,
          -2.0192157751664905,
          -0.3162966985467406,
          -1.8177592096436945,
          -2.1888925834460164,
          -5.268226162890752,
          -5.13349336370622,
          -0.4605443857951047,
          -0.5423804528965711,
          -1.1989053245243566,
          -0.9409442441465896,
          -2.0193283937760547,
          -2.5798833902886216,
          -1.686684519633477,
          -2.229280375465729,
          -0.5284499054955565,
          -1.0571258726521526,
          2.242402306838014,
          -2.0138613744967113,
          0.3296270981216769,
          -4.266832178289647,
          -1.650599217280318,
          1.113562278732062,
          -0.9584956989090481,
          1.0191526187063102,
          -2.3064410520798213,
          -0.4128834504466825,
          -4.736993498304316,
          -2.5328735065177375,
          -0.9806973298638152,
          -4.613994852340746,
          -0.8075216922260193,
          0.9525707074381062,
          -1.1958804666997962,
          -4.814985170822134,
          -2.0352519274124665,
          -3.6781359069388837,
          -0.2945026312086191,
          -1.568437444604512,
          -1.1049066503078273,
          -0.842022664438315,
          -5.231996205314536,
          -0.5779626135887391,
          1.4959961573204188,
          -1.351201323494175,
          -2.3590575622360364,
          0.46682088549633644,
          -0.7690841498513805,
          -0.26851387220934964,
          -4.22713818547916,
          -0.13398041520054668,
          -1.0025171518438787,
          -1.1267743610132614,
          0.9225726848021645,
          -1.331928290100542,
          1.004174446666126,
          -1.26971483710821,
          -4.855196535629455,
          -1.0864279626091073,
          -1.2531073980404308,
          -2.6390846728638757,
          -1.43765136053335,
          0.4260991782593,
          -0.841759489211953,
          -2.6598616208381416,
          -1.2353446632984477,
          -4.902780840739774,
          -2.3236711248826114,
          -2.5649049592734676,
          -0.7308433055991177,
          -0.8598626967235992,
          -5.5401935485819065,
          -1.170384812885669,
          -1.5787880135309438,
          4.0792346914545945,
          -1.9032854540732609,
          -1.1191690299347508,
          -1.950107599952264,
          -2.7617146708857274,
          -0.1979305689735347,
          -6.113237577419342,
          -0.98450010104308,
          -2.07412809424647,
          -0.9906213881432359,
          -1.04890061134235,
          -1.5598287717466603,
          -0.4584290264780994,
          -1.7634398496842891,
          -0.84849377238933,
          -0.42853375070996963,
          -4.135511384581291,
          -3.6665728721612556,
          -2.62375596326357,
          -2.7224192180964586,
          -0.9662622640895426,
          -1.5438387785548344,
          -1.3319787863826948,
          -2.838293078269188,
          -2.4639722158151707,
          -1.786443843693071,
          0.6301679152776829,
          -6.150501258501163,
          1.1670716981449532,
          -0.7335104246197219,
          -1.8992117799559123,
          1.8567804415770004,
          -1.540901641972696,
          -3.8124815499113973,
          0.9526977734934398,
          -6.062784999205557,
          1.1006152188419416,
          -0.8977847604877327,
          -0.8136149001384592,
          0.9351612920318361,
          -1.2619887773446032,
          -0.719902259233143,
          0.7035300610020094,
          -3.5313547866187593,
          -1.705401827259781,
          -0.7079029335974015,
          -0.6643267100081778,
          -2.399758846783386,
          -5.498941157712234,
          -1.9614932770539524,
          1.0980763835303864,
          -4.162775737341392,
          -5.317253424243522,
          -0.7500601066766241,
          1.091842795494604,
          5.455498014403133,
          0.33503011164587687,
          -0.655886857258206,
          -0.7691373425906087,
          1.1464515514121305,
          -0.9267858213348903,
          -2.6549691790194982,
          -0.2657113201811885,
          0.49326267929175754,
          -5.383623843696269,
          -1.0055166123519959,
          -2.54689165609404,
          -3.0874354609175905,
          -0.007906342336542823,
          -2.7470790589701637,
          -1.317589455992464,
          0.48593808896231305,
          -2.1122734597400474,
          0.7385229788945802,
          -1.8370364963601489,
          -2.3510886394878328,
          -1.7246104219498581,
          -1.3557081519888503,
          -0.5462649298468699,
          -0.49454102377431813,
          -1.0271408665508763,
          -1.5122960196002462,
          -0.8231580721833814,
          -0.4586025759110166,
          51.69640056883707,
          -0.09184467842812548,
          -1.365572131542115,
          -0.5295793911965795,
          -2.2706565513309127,
          -2.84532419637068,
          -0.9400582584995273,
          -2.6573853462606447,
          -1.7047938952475263,
          -2.6145314663830383,
          2.2304844346612365,
          -2.251595875483111,
          -1.8086527847873006,
          5.321348702811692,
          -0.23879618812803044,
          -1.9628189427478397,
          -4.068393915961661,
          -1.647440123136525,
          -4.610696686705555,
          -0.7661694212388119,
          -1.121329747711689,
          -0.40961093600417975,
          -5.943939082956409,
          -2.616313658913608,
          -1.1357439625679908,
          -2.1287884371564467,
          -1.0387244799839344,
          -0.7688059442410434,
          -1.0927672913173456,
          -0.5026767447509092,
          -2.312953238775896,
          -1.284452302047253,
          -1.1983372203268274,
          -5.174287443117667,
          -1.3310529401206819,
          -0.992343865952031,
          -1.2937564394316654,
          -1.4431184551175988,
          -0.6959186172625491,
          -1.5478036371293462,
          -0.9711262348378417,
          -0.9112527380547615,
          -1.8644146466477667,
          -2.118479270896153,
          -2.4499468200286296,
          -1.1951110402372054,
          -3.1857825711515964,
          1.546788704318323,
          -1.1846367647226366,
          -1.6759768583029826,
          -2.7780843568094657,
          -2.998272620707479,
          -3.6401588159351292,
          -5.015055070125011,
          0.45142846748301807,
          -4.934414484945769,
          -4.560731092633602,
          -0.6113309618440762,
          -2.9235861510545456,
          -0.805603249573628,
          -0.8463079179099047,
          -2.364862529266997,
          -1.7943146028436743,
          -1.643565381248597,
          0.8069119494778962,
          -2.681466887294125,
          -1.0488432195585355,
          0.8394908275036659,
          -2.867968016999822,
          -5.540656568057091,
          2.6576515846864686,
          -0.5908692250798208,
          -4.318490682573352,
          -4.08071466271055,
          -2.3944041385606534,
          -2.828003412731178,
          -1.2945870550434904,
          0.5343538656694459,
          -1.3596190416037282,
          1.3797456331365492,
          -0.5699460100183443,
          -1.6597620221856901,
          -1.3956121197765992,
          -1.189011880281592,
          -0.9894697576687557,
          -1.7884962820786532,
          -2.4763009943669076,
          0.7819411864702718,
          -3.7440962358642818,
          26.002840739269715,
          -0.48850192231464246,
          0.3743072107198039,
          -1.4128624602132245,
          -2.019994012915797,
          -2.7066624835156823,
          -1.6412927864068023,
          0.5449851850741827,
          -2.5597822510299686,
          5.2928945217996,
          -0.07268364064094655,
          -1.7230599734814855,
          -2.0033472650301087,
          -0.9014328474599549,
          -1.5721217225963537,
          -0.7016916989463915,
          -0.9409182519908558,
          -1.9831465870176397,
          -1.9370781684498313,
          -1.9390016472861367,
          -0.9236869458751269,
          -2.859291035968305,
          -2.918622571254539,
          -0.5024921802554784,
          -0.794830939874842,
          -4.642121600452996,
          -1.7189104221631113,
          -3.777772237911006,
          -2.597727512805708,
          -0.3761622664187794,
          -0.8641566801249876,
          -0.9823353835510358,
          -0.9059377635058108,
          23.025197447374904,
          -1.0666030453022306,
          -1.4191088914075405,
          0.909791507211321,
          -0.7711365661697599,
          -4.600291712120255,
          -1.9641280910313403,
          -0.5562759794876547,
          -2.162073706229443,
          0.1227886033705927,
          -2.4655747777243495,
          -2.406371818408618
         ]
        },
        {
         "mode": "markers",
         "name": "Cluster 2",
         "type": "scatter",
         "x": [
          -11.759877428007147,
          -29.527919050324403,
          -14.804776702562194,
          -30.071076582417632,
          -30.414842916813264,
          -20.50008036021321,
          -37.670202569647806,
          -13.30596336692277,
          -24.60127592643704,
          -18.760863244927712,
          -32.28789306330164,
          -26.253348078900803,
          -28.95863767862618,
          -21.411384663111896,
          -13.894620196795072,
          -14.264040251352023,
          -30.689701652728584,
          -10.100474809413058,
          -10.50006373777357,
          -29.139238567676575,
          -30.94912607829026,
          -20.334510015812555,
          -11.431093396664615,
          -27.718458835578257,
          -27.217375439780405,
          -29.23737881482942,
          -26.20923189065147,
          -56.32673515935626,
          -10.7895918915282,
          -32.731007362389995,
          -22.21189063241531,
          -14.033579771687762,
          -14.508272956272066,
          -29.034902763120066,
          -19.77307896191887,
          -30.951672215389728,
          -18.107287742673254,
          -17.75748072480141,
          -26.353668332788473,
          -13.320217529948478,
          -21.075125296784307,
          -14.54432007905025,
          -13.826734070735743,
          -12.786053770784964,
          -22.72580609367629,
          -12.59730780372572,
          -22.200695200998222,
          -17.38937101244754,
          -31.08271538149586,
          -23.928915541547504,
          -11.333343382159839,
          -22.99818833551066,
          -24.080921685091194,
          -18.19363898466248,
          -15.525619874351785,
          -19.16324325958386,
          -18.162552965599083,
          -11.500234656683757,
          -18.75593935102807,
          -27.856075537184783,
          -24.637273112991235,
          -21.440113435155126,
          -13.614911417134616,
          -23.62745474196613,
          -25.96082145510977,
          -27.445035949054677,
          -14.308058708418555,
          -30.900381962396885,
          -19.55560240792688,
          -22.03392750865003,
          -22.496225669821225,
          -35.85447143926772,
          -27.79472178349691,
          -24.25394679941521,
          -26.221933734212918,
          -19.323801115342807,
          -21.00946676185378,
          -11.596267824629306,
          -22.318922622217652,
          -20.31722436402696,
          -26.10489608609496,
          -14.962217233597448,
          -9.70540432002409,
          -10.968029652872533,
          -27.74809180064455,
          -32.70951894271533,
          -20.816778978397362,
          -23.016671759552395,
          -24.280599180046593,
          -13.158023963221664,
          -12.987647489982827,
          -21.8266446414607,
          -18.067428765591504,
          -36.05818773955598,
          -18.402334177036526,
          -12.601522790934489,
          -9.814098102679022,
          -21.493991109035157,
          -17.135248501323254,
          -25.436776430259066,
          -11.763957327386168,
          -22.513666415631793,
          -18.79828544654161,
          -25.24818804239757,
          -19.797732355764403,
          -30.954832703898287,
          -15.396212192833627,
          -13.173626284992256,
          -29.619406176500863,
          -40.82231575702273,
          -11.494626894187157,
          -22.572015041430845,
          -16.003170705518297,
          -10.008556977854898,
          -21.768099005243474,
          -15.19237669870793,
          -14.338923014446465,
          -27.279928500473478,
          -14.929065363807723,
          -13.675728767465118,
          -16.842789947913218,
          -15.36752750778931,
          -37.514027701392045,
          -32.663477298145665,
          -28.787423611642513,
          -9.869914603679296,
          -23.87326910516083,
          -27.651398529563224,
          -37.40993626677617,
          -11.406594600212182,
          -19.479234072613306,
          -22.714747700204217,
          -37.392301652384596,
          -40.651996795758656,
          -23.03237950039647,
          -10.126372159183564,
          -14.866734346975
         ],
         "y": [
          5.074672672190844,
          7.2824244447613555,
          3.007596824348336,
          7.422824202672789,
          7.536876374917287,
          4.613171193365216,
          9.661239276180838,
          2.480900442349892,
          5.841283524045014,
          4.103797549617615,
          8.070704459485249,
          6.324403612989408,
          7.096309764361133,
          4.851272964558724,
          2.6787855005033405,
          3.8295594948588905,
          7.604289553473631,
          1.6154037070476392,
          1.6830139067236287,
          7.154913972848372,
          7.693958211374983,
          4.5190098235287515,
          2.1759752028806933,
          6.745435767199818,
          6.585333493899739,
          7.192518613534622,
          6.3105085800631215,
          18.424812694566167,
          2.7007706115047725,
          8.215356984176056,
          5.112390797492635,
          2.7519707655585504,
          2.8853339069318222,
          7.120005331318996,
          4.584647462551376,
          7.689572165110384,
          10.419013086587306,
          3.833082016877291,
          6.360671864317151,
          2.5528219436528663,
          4.802238486481757,
          3.079744885121713,
          2.65531845677087,
          2.3233390297278302,
          5.287490540033177,
          2.3127862416246634,
          5.1096942066890865,
          8.92557434110721,
          7.734299704534152,
          5.619800602689025,
          39.70984692637374,
          5.3766582985646005,
          5.6744767005804055,
          3.976809230333854,
          3.8861332199625567,
          4.232890006185648,
          3.9004263487203255,
          2.0128561388523467,
          5.215865116395084,
          6.793875060133945,
          5.853467020577225,
          5.9072674884107395,
          2.5875939047875227,
          5.51690803464706,
          6.232615218048014,
          6.659374203464351,
          2.8191101758257573,
          7.670394401753108,
          4.363288422050232,
          5.053015986755033,
          6.28770618242103,
          9.120729047617793,
          6.77043177322572,
          6.903462809673221,
          6.315933963292263,
          4.291904124163152,
          4.784126131775269,
          2.075215976852926,
          5.1488119853599255,
          4.578401781395909,
          6.275599938533745,
          3.0343066496238986,
          1.485742628859343,
          1.8403600444037425,
          6.756871279972207,
          8.206995749218313,
          4.7143922130790585,
          5.382274160512364,
          5.741067820425713,
          2.497690850927019,
          2.4429780320238,
          4.985780070732481,
          3.934186541399885,
          9.191712130083388,
          3.9769421146001753,
          2.3375593759546,
          1.5235344414054803,
          4.897967187749112,
          3.624395945613075,
          6.0564028100966505,
          2.1032366200681327,
          5.215135841015813,
          4.110856991514531,
          6.018316226004915,
          4.37530543240636,
          7.690862743011373,
          4.242878594001406,
          2.5025386350298633,
          7.314938100776044,
          10.57366445514685,
          2.013139121066182,
          5.237657347669975,
          3.3125078641273533,
          1.5870895644181569,
          4.964799783060811,
          3.0422081617461574,
          2.971268255795472,
          6.604025645189344,
          3.0205345410553766,
          2.604143432599835,
          3.531594076130625,
          3.0705050544961017,
          9.607422618641834,
          8.191284851621038,
          7.037099399598246,
          1.5374836415754838,
          5.608056711199746,
          6.7232779329750905,
          9.572112452774874,
          1.9899533548279844,
          4.3465293240743055,
          5.283042741935967,
          9.565769848089012,
          10.518589749899302,
          5.387133349792208,
          1.6251241023064937,
          3.0000903712031843
         ]
        },
        {
         "mode": "markers",
         "name": "Cluster 3",
         "type": "scatter",
         "x": [
          19.031533824490882,
          32.61861340306006,
          16.660282168687058,
          58.371111039876816,
          47.50969473063399,
          32.172321651405234,
          55.192664431483706,
          40.6991615824523,
          22.77874744933735,
          19.951442677357782,
          44.860912562613386,
          19.900601852631503,
          40.29234068122225,
          33.285120817487396,
          23.751162325882348,
          24.643468498726925,
          34.88847658767343,
          32.99631943493998,
          22.939454330806647,
          20.01486911604911,
          18.57953303279241,
          124.92886487705715,
          38.814930063440876,
          30.46893892003026,
          25.69067476634126,
          22.070497266513183,
          28.64190044258036,
          19.071530074983457,
          64.218199356845,
          22.310219875192267,
          16.968221474152827,
          22.378127204246397,
          25.236119326844825,
          17.395350729855558,
          23.916919316045572,
          22.116934251551953,
          28.619366612117837,
          42.34407070351806,
          33.71629652929862,
          18.230171074561813,
          33.24514072806536,
          34.35890373226076,
          23.02813723378996,
          50.26979935422698,
          46.33659033632412,
          25.221237916566754,
          18.325773128536905,
          22.372382336744508,
          21.802319146404873,
          23.655648530366328,
          47.00146563771505,
          26.253347968659003,
          47.519114306773105,
          29.17633285874569,
          19.24988585471565,
          28.394074712037146,
          34.18488722476344,
          30.42192098944973,
          38.022205655609405,
          31.62804048373999,
          67.3069898867907,
          53.645906987738854,
          40.0204023461836,
          24.502001547722585,
          53.088729050638385,
          37.302949655163346,
          50.33139233171285,
          53.52298623779184,
          18.594361987350794,
          18.151153303695427,
          33.63141918806299,
          17.68041750197226
         ],
         "y": [
          -6.951508144081216,
          -10.393404042779938,
          -6.224731745876386,
          -18.793934102140483,
          -10.362325004485115,
          -10.918031575981114,
          -17.591685316058424,
          -12.045236315520766,
          1.8345688220512317,
          -7.1857692832730775,
          -14.414891060502375,
          -7.17122292654834,
          -9.800871021694693,
          -11.094670118095225,
          -8.31560659686994,
          -8.682686060149436,
          -11.50888123189276,
          -11.200368553098391,
          -7.042853091999243,
          -7.211832538292866,
          -6.798365534694665,
          352.5255106612074,
          -12.682531887757037,
          -9.450668683136556,
          -8.834775624626204,
          -7.823678919393879,
          -9.681377523687958,
          -6.97436509464903,
          -12.84250302608198,
          -7.840713039774771,
          -6.327581427426786,
          -6.68356264120559,
          -8.750288737427176,
          -6.4730535944373875,
          -8.370182458583628,
          -7.843038761791281,
          -8.11365037254332,
          -13.227901646011226,
          -11.172408388596029,
          -5.480778283602586,
          -11.289300626665591,
          -11.384821447806624,
          -8.218230565172007,
          29.64402400592565,
          -10.259452531140646,
          -8.744545881257087,
          -6.713418980974387,
          -7.863298126856141,
          -6.170900599385671,
          -8.289090910440832,
          -15.050879482215858,
          -9.081291641657119,
          -15.44102609350939,
          -10.068437683664065,
          -6.955739067983241,
          -9.661907990345863,
          -11.324952019636456,
          -10.208899283153587,
          -11.533002801758757,
          -10.605326901856698,
          -18.975563491485836,
          -17.000002040455687,
          -10.771872418130386,
          -1.062253617018764,
          -16.821941327755574,
          -12.505927725806401,
          -10.002114127551247,
          -17.07566352668592,
          -6.803699437704555,
          -6.6572065353151695,
          -11.209532599132933,
          -6.56674717227854
         ]
        },
        {
         "mode": "markers",
         "name": "Cluster 4",
         "type": "scatter",
         "x": [],
         "y": []
        },
        {
         "marker": {
          "color": "rgb(255,255,0)",
          "size": 16
         },
         "mode": "markers",
         "name": "Centroids",
         "type": "scatter",
         "x": [
          1.6708788265082364,
          -21.639745672970516,
          33.14612615590426
         ],
         "y": [
          -1.2768455905175704,
          5.433455852988788,
          -4.202706632505328
         ]
        }
       ],
       "layout": {
        "template": {
         "data": {
          "bar": [
           {
            "error_x": {
             "color": "#2a3f5f"
            },
            "error_y": {
             "color": "#2a3f5f"
            },
            "marker": {
             "line": {
              "color": "#E5ECF6",
              "width": 0.5
             }
            },
            "type": "bar"
           }
          ],
          "barpolar": [
           {
            "marker": {
             "line": {
              "color": "#E5ECF6",
              "width": 0.5
             }
            },
            "type": "barpolar"
           }
          ],
          "carpet": [
           {
            "aaxis": {
             "endlinecolor": "#2a3f5f",
             "gridcolor": "white",
             "linecolor": "white",
             "minorgridcolor": "white",
             "startlinecolor": "#2a3f5f"
            },
            "baxis": {
             "endlinecolor": "#2a3f5f",
             "gridcolor": "white",
             "linecolor": "white",
             "minorgridcolor": "white",
             "startlinecolor": "#2a3f5f"
            },
            "type": "carpet"
           }
          ],
          "choropleth": [
           {
            "colorbar": {
             "outlinewidth": 0,
             "ticks": ""
            },
            "type": "choropleth"
           }
          ],
          "contour": [
           {
            "colorbar": {
             "outlinewidth": 0,
             "ticks": ""
            },
            "colorscale": [
             [
              0,
              "#0d0887"
             ],
             [
              0.1111111111111111,
              "#46039f"
             ],
             [
              0.2222222222222222,
              "#7201a8"
             ],
             [
              0.3333333333333333,
              "#9c179e"
             ],
             [
              0.4444444444444444,
              "#bd3786"
             ],
             [
              0.5555555555555556,
              "#d8576b"
             ],
             [
              0.6666666666666666,
              "#ed7953"
             ],
             [
              0.7777777777777778,
              "#fb9f3a"
             ],
             [
              0.8888888888888888,
              "#fdca26"
             ],
             [
              1,
              "#f0f921"
             ]
            ],
            "type": "contour"
           }
          ],
          "contourcarpet": [
           {
            "colorbar": {
             "outlinewidth": 0,
             "ticks": ""
            },
            "type": "contourcarpet"
           }
          ],
          "heatmap": [
           {
            "colorbar": {
             "outlinewidth": 0,
             "ticks": ""
            },
            "colorscale": [
             [
              0,
              "#0d0887"
             ],
             [
              0.1111111111111111,
              "#46039f"
             ],
             [
              0.2222222222222222,
              "#7201a8"
             ],
             [
              0.3333333333333333,
              "#9c179e"
             ],
             [
              0.4444444444444444,
              "#bd3786"
             ],
             [
              0.5555555555555556,
              "#d8576b"
             ],
             [
              0.6666666666666666,
              "#ed7953"
             ],
             [
              0.7777777777777778,
              "#fb9f3a"
             ],
             [
              0.8888888888888888,
              "#fdca26"
             ],
             [
              1,
              "#f0f921"
             ]
            ],
            "type": "heatmap"
           }
          ],
          "heatmapgl": [
           {
            "colorbar": {
             "outlinewidth": 0,
             "ticks": ""
            },
            "colorscale": [
             [
              0,
              "#0d0887"
             ],
             [
              0.1111111111111111,
              "#46039f"
             ],
             [
              0.2222222222222222,
              "#7201a8"
             ],
             [
              0.3333333333333333,
              "#9c179e"
             ],
             [
              0.4444444444444444,
              "#bd3786"
             ],
             [
              0.5555555555555556,
              "#d8576b"
             ],
             [
              0.6666666666666666,
              "#ed7953"
             ],
             [
              0.7777777777777778,
              "#fb9f3a"
             ],
             [
              0.8888888888888888,
              "#fdca26"
             ],
             [
              1,
              "#f0f921"
             ]
            ],
            "type": "heatmapgl"
           }
          ],
          "histogram": [
           {
            "marker": {
             "colorbar": {
              "outlinewidth": 0,
              "ticks": ""
             }
            },
            "type": "histogram"
           }
          ],
          "histogram2d": [
           {
            "colorbar": {
             "outlinewidth": 0,
             "ticks": ""
            },
            "colorscale": [
             [
              0,
              "#0d0887"
             ],
             [
              0.1111111111111111,
              "#46039f"
             ],
             [
              0.2222222222222222,
              "#7201a8"
             ],
             [
              0.3333333333333333,
              "#9c179e"
             ],
             [
              0.4444444444444444,
              "#bd3786"
             ],
             [
              0.5555555555555556,
              "#d8576b"
             ],
             [
              0.6666666666666666,
              "#ed7953"
             ],
             [
              0.7777777777777778,
              "#fb9f3a"
             ],
             [
              0.8888888888888888,
              "#fdca26"
             ],
             [
              1,
              "#f0f921"
             ]
            ],
            "type": "histogram2d"
           }
          ],
          "histogram2dcontour": [
           {
            "colorbar": {
             "outlinewidth": 0,
             "ticks": ""
            },
            "colorscale": [
             [
              0,
              "#0d0887"
             ],
             [
              0.1111111111111111,
              "#46039f"
             ],
             [
              0.2222222222222222,
              "#7201a8"
             ],
             [
              0.3333333333333333,
              "#9c179e"
             ],
             [
              0.4444444444444444,
              "#bd3786"
             ],
             [
              0.5555555555555556,
              "#d8576b"
             ],
             [
              0.6666666666666666,
              "#ed7953"
             ],
             [
              0.7777777777777778,
              "#fb9f3a"
             ],
             [
              0.8888888888888888,
              "#fdca26"
             ],
             [
              1,
              "#f0f921"
             ]
            ],
            "type": "histogram2dcontour"
           }
          ],
          "mesh3d": [
           {
            "colorbar": {
             "outlinewidth": 0,
             "ticks": ""
            },
            "type": "mesh3d"
           }
          ],
          "parcoords": [
           {
            "line": {
             "colorbar": {
              "outlinewidth": 0,
              "ticks": ""
             }
            },
            "type": "parcoords"
           }
          ],
          "pie": [
           {
            "automargin": true,
            "type": "pie"
           }
          ],
          "scatter": [
           {
            "marker": {
             "colorbar": {
              "outlinewidth": 0,
              "ticks": ""
             }
            },
            "type": "scatter"
           }
          ],
          "scatter3d": [
           {
            "line": {
             "colorbar": {
              "outlinewidth": 0,
              "ticks": ""
             }
            },
            "marker": {
             "colorbar": {
              "outlinewidth": 0,
              "ticks": ""
             }
            },
            "type": "scatter3d"
           }
          ],
          "scattercarpet": [
           {
            "marker": {
             "colorbar": {
              "outlinewidth": 0,
              "ticks": ""
             }
            },
            "type": "scattercarpet"
           }
          ],
          "scattergeo": [
           {
            "marker": {
             "colorbar": {
              "outlinewidth": 0,
              "ticks": ""
             }
            },
            "type": "scattergeo"
           }
          ],
          "scattergl": [
           {
            "marker": {
             "colorbar": {
              "outlinewidth": 0,
              "ticks": ""
             }
            },
            "type": "scattergl"
           }
          ],
          "scattermapbox": [
           {
            "marker": {
             "colorbar": {
              "outlinewidth": 0,
              "ticks": ""
             }
            },
            "type": "scattermapbox"
           }
          ],
          "scatterpolar": [
           {
            "marker": {
             "colorbar": {
              "outlinewidth": 0,
              "ticks": ""
             }
            },
            "type": "scatterpolar"
           }
          ],
          "scatterpolargl": [
           {
            "marker": {
             "colorbar": {
              "outlinewidth": 0,
              "ticks": ""
             }
            },
            "type": "scatterpolargl"
           }
          ],
          "scatterternary": [
           {
            "marker": {
             "colorbar": {
              "outlinewidth": 0,
              "ticks": ""
             }
            },
            "type": "scatterternary"
           }
          ],
          "surface": [
           {
            "colorbar": {
             "outlinewidth": 0,
             "ticks": ""
            },
            "colorscale": [
             [
              0,
              "#0d0887"
             ],
             [
              0.1111111111111111,
              "#46039f"
             ],
             [
              0.2222222222222222,
              "#7201a8"
             ],
             [
              0.3333333333333333,
              "#9c179e"
             ],
             [
              0.4444444444444444,
              "#bd3786"
             ],
             [
              0.5555555555555556,
              "#d8576b"
             ],
             [
              0.6666666666666666,
              "#ed7953"
             ],
             [
              0.7777777777777778,
              "#fb9f3a"
             ],
             [
              0.8888888888888888,
              "#fdca26"
             ],
             [
              1,
              "#f0f921"
             ]
            ],
            "type": "surface"
           }
          ],
          "table": [
           {
            "cells": {
             "fill": {
              "color": "#EBF0F8"
             },
             "line": {
              "color": "white"
             }
            },
            "header": {
             "fill": {
              "color": "#C8D4E3"
             },
             "line": {
              "color": "white"
             }
            },
            "type": "table"
           }
          ]
         },
         "layout": {
          "annotationdefaults": {
           "arrowcolor": "#2a3f5f",
           "arrowhead": 0,
           "arrowwidth": 1
          },
          "coloraxis": {
           "colorbar": {
            "outlinewidth": 0,
            "ticks": ""
           }
          },
          "colorscale": {
           "diverging": [
            [
             0,
             "#8e0152"
            ],
            [
             0.1,
             "#c51b7d"
            ],
            [
             0.2,
             "#de77ae"
            ],
            [
             0.3,
             "#f1b6da"
            ],
            [
             0.4,
             "#fde0ef"
            ],
            [
             0.5,
             "#f7f7f7"
            ],
            [
             0.6,
             "#e6f5d0"
            ],
            [
             0.7,
             "#b8e186"
            ],
            [
             0.8,
             "#7fbc41"
            ],
            [
             0.9,
             "#4d9221"
            ],
            [
             1,
             "#276419"
            ]
           ],
           "sequential": [
            [
             0,
             "#0d0887"
            ],
            [
             0.1111111111111111,
             "#46039f"
            ],
            [
             0.2222222222222222,
             "#7201a8"
            ],
            [
             0.3333333333333333,
             "#9c179e"
            ],
            [
             0.4444444444444444,
             "#bd3786"
            ],
            [
             0.5555555555555556,
             "#d8576b"
            ],
            [
             0.6666666666666666,
             "#ed7953"
            ],
            [
             0.7777777777777778,
             "#fb9f3a"
            ],
            [
             0.8888888888888888,
             "#fdca26"
            ],
            [
             1,
             "#f0f921"
            ]
           ],
           "sequentialminus": [
            [
             0,
             "#0d0887"
            ],
            [
             0.1111111111111111,
             "#46039f"
            ],
            [
             0.2222222222222222,
             "#7201a8"
            ],
            [
             0.3333333333333333,
             "#9c179e"
            ],
            [
             0.4444444444444444,
             "#bd3786"
            ],
            [
             0.5555555555555556,
             "#d8576b"
            ],
            [
             0.6666666666666666,
             "#ed7953"
            ],
            [
             0.7777777777777778,
             "#fb9f3a"
            ],
            [
             0.8888888888888888,
             "#fdca26"
            ],
            [
             1,
             "#f0f921"
            ]
           ]
          },
          "colorway": [
           "#636efa",
           "#EF553B",
           "#00cc96",
           "#ab63fa",
           "#FFA15A",
           "#19d3f3",
           "#FF6692",
           "#B6E880",
           "#FF97FF",
           "#FECB52"
          ],
          "font": {
           "color": "#2a3f5f"
          },
          "geo": {
           "bgcolor": "white",
           "lakecolor": "white",
           "landcolor": "#E5ECF6",
           "showlakes": true,
           "showland": true,
           "subunitcolor": "white"
          },
          "hoverlabel": {
           "align": "left"
          },
          "hovermode": "closest",
          "mapbox": {
           "style": "light"
          },
          "paper_bgcolor": "white",
          "plot_bgcolor": "#E5ECF6",
          "polar": {
           "angularaxis": {
            "gridcolor": "white",
            "linecolor": "white",
            "ticks": ""
           },
           "bgcolor": "#E5ECF6",
           "radialaxis": {
            "gridcolor": "white",
            "linecolor": "white",
            "ticks": ""
           }
          },
          "scene": {
           "xaxis": {
            "backgroundcolor": "#E5ECF6",
            "gridcolor": "white",
            "gridwidth": 2,
            "linecolor": "white",
            "showbackground": true,
            "ticks": "",
            "zerolinecolor": "white"
           },
           "yaxis": {
            "backgroundcolor": "#E5ECF6",
            "gridcolor": "white",
            "gridwidth": 2,
            "linecolor": "white",
            "showbackground": true,
            "ticks": "",
            "zerolinecolor": "white"
           },
           "zaxis": {
            "backgroundcolor": "#E5ECF6",
            "gridcolor": "white",
            "gridwidth": 2,
            "linecolor": "white",
            "showbackground": true,
            "ticks": "",
            "zerolinecolor": "white"
           }
          },
          "shapedefaults": {
           "line": {
            "color": "#2a3f5f"
           }
          },
          "ternary": {
           "aaxis": {
            "gridcolor": "white",
            "linecolor": "white",
            "ticks": ""
           },
           "baxis": {
            "gridcolor": "white",
            "linecolor": "white",
            "ticks": ""
           },
           "bgcolor": "#E5ECF6",
           "caxis": {
            "gridcolor": "white",
            "linecolor": "white",
            "ticks": ""
           }
          },
          "title": {
           "x": 0.05
          },
          "xaxis": {
           "automargin": true,
           "gridcolor": "white",
           "linecolor": "white",
           "ticks": "",
           "title": {
            "standoff": 15
           },
           "zerolinecolor": "white",
           "zerolinewidth": 2
          },
          "yaxis": {
           "automargin": true,
           "gridcolor": "white",
           "linecolor": "white",
           "ticks": "",
           "title": {
            "standoff": 15
           },
           "zerolinecolor": "white",
           "zerolinewidth": 2
          }
         }
        },
        "title": {
         "text": "Clusters"
        }
       }
      },
      "text/html": [
       "<div>\n",
       "        \n",
       "        \n",
       "            <div id=\"daf554a1-9466-41a5-8e57-4f959acab565\" class=\"plotly-graph-div\" style=\"height:525px; width:100%;\"></div>\n",
       "            <script type=\"text/javascript\">\n",
       "                require([\"plotly\"], function(Plotly) {\n",
       "                    window.PLOTLYENV=window.PLOTLYENV || {};\n",
       "                    \n",
       "                if (document.getElementById(\"daf554a1-9466-41a5-8e57-4f959acab565\")) {\n",
       "                    Plotly.newPlot(\n",
       "                        'daf554a1-9466-41a5-8e57-4f959acab565',\n",
       "                        [{\"mode\": \"markers\", \"name\": \"Cluster 1\", \"type\": \"scatter\", \"x\": [2.8629907890913513, -0.006070556462803508, -0.8218083387800387, -1.2055765487330716, -0.4581831088720891, -3.800846844213667, 0.5495836717338126, 3.404912649911725, 1.184359394281616, 16.771247720154697, 2.8200168091299083, 2.4668203252887047, 14.389090128362318, 0.2454193225652566, 2.868380615835813, 1.9308896799934725, -7.088646715630946, -0.35437156942802367, 14.45599993414272, 0.21538301673022484, -8.640224741232444, 0.9588566847955627, 3.549558613494214, 10.865069245028932, -6.8552126656088035, -0.8910416135722871, -0.5419153896967391, 0.9783385875496968, 3.5414991815997627, 13.620655976034584, 1.687480671509084, 7.898064198659971, -0.8967641279569852, -0.7308043428641698, 2.8016770468870096, 4.1538319637722845, 9.52080664561331, 9.208369210394155, 8.798857496189326, 3.4664508151517217, 2.237520427232313, 6.237063545040367, 11.333198924951022, -0.6015801856740851, -0.19068827621805143, 1.9728552466441842, -3.038660343935061, 4.47177008516878, -0.15075091250627387, 12.101868972788896, 8.439995548885847, 0.15936790672431925, -3.1277141806243653, 0.18924075754158384, -1.6565393427610076, 2.001430653949864, -3.09379593147239, 1.6024556323226133, 2.714321439455465, 13.386378944225683, 13.688729588814171, -3.060236588811956, 0.9141619870303277, -0.2641905088233086, -1.0368596050957624, 2.2247374115464202, 3.8670803562919067, 4.34204569401591, 3.0689563962432715, -2.862924724997582, -0.6758738438053014, -1.1065536454160032, 2.1816791612747677, -5.824109297607904, 9.967972442651561, 1.1058498185661076, -8.395529709449741, -1.372260772690295, -8.316870804612705, 3.0738739054649598, 0.5606229539146478, 11.660676890231679, 3.7454110708921093, -0.9024672602434675, 16.35054010674908, -2.0352856281269767, -3.7252676660303012, -0.2520158021208491, 11.827436077885809, 2.252286296845379, 8.021330001737178, -3.7698680666638964, 0.8952625710312558, -0.45032773844293095, -1.3110052646948906, 14.744159507308384, -2.09294191036463, -9.568569023351841, 0.20708641091697003, 3.225905710704493, -6.254256713107051, -1.4448755520617063, -3.6436817352884376, 9.864973889322155, -4.252784984299572, -0.8311509093404201, -1.2790397195717258, -8.049263778379366, 0.1348546550538103, -2.567806398133531, -0.14066682162653027, 12.785559081854174, -0.988129740804847, -0.08125397125315693, 4.060659551956168, 0.4692244005505434, -6.12592134643612, -1.3162452020635715, 4.123567001467745, -0.11508282089330105, 15.30989167970417, 2.8337914146962526, 3.55401827946262, -2.0480073446844247, -1.548097014681716, 14.188358447096451, -0.6125972544058202, 0.6037807228302394, -3.1808164827643437, 1.6737951684293437, -0.7519702609457269, 1.7319837385040684, 4.433399306378469, -0.06864213191242366, 15.700617640930291, 12.737051340336375, 2.3691413126961463, 2.280834957205559, -0.6888067059297861, 0.8577577253728949, -2.456562637166434, 1.4466403588319838, -1.6933992348925768, -2.54795251579739, 9.595703375333388, 7.779411798831384, 4.009553478172629, 4.31757576568199, -0.8761066643687556, 0.7866918213894317, 0.15044241770754643, 5.096470501822265, 3.5348889948390387, 1.5074656113852924, -6.942713975180795, 15.600318146461616, -8.551444440127735, -2.044064562003157, 1.8593163570716653, 0.05669461769427493, 0.7984158401567457, 7.7886846373364955, -8.11460823839799, 15.821652838804384, -8.55025398267162, -1.1461280789569428, -1.4006811041520693, -7.848639844941461, -0.051923565616096484, -1.672897901273696, -6.955712981329546, 6.727122687511031, 1.2725815005400525, -1.7118876010547113, -1.8359169443686991, 3.340065398935031, 16.009143524402607, 2.0480030326046763, -8.351078805856883, 9.462326282647018, 13.533272047443914, -1.6309828309138332, -8.32631718364039, -5.454492284097502, -5.855166173936716, -1.9110896450523152, -2.1465095894726356, -8.679456930861784, -1.0819550475650297, 3.9094439069902607, -3.2232838339490844, -2.33804595875026, 15.128577731893364, -0.8221889031343808, 3.8012483880140118, 5.82812573792083, -4.623498219673238, 4.3847669708902925, 0.11767294867640322, -6.291045908585644, 2.4827587552501407, -7.275029230257855, 1.6660144302218889, 3.17764513525953, 1.31406266343856, 0.20151435919799698, -2.143655177649617, -2.3540784611041716, -0.7633441252235093, 0.5050924656519041, -1.369383328996195, -2.461726006735724, 20.25495967712355, 2.750765760874239, 0.26523495210575476, -2.8524270161060272, 3.186092651300505, 5.112354051642779, -1.01346999421074, 6.917200441811982, 1.239518423607205, 3.9679844803298185, -10.010035200480798, 2.8781293804155146, 1.556280086745788, -0.9120949385161494, -3.9275073725843956, 2.0305655084875713, 9.17132615807052, 1.0839362182547714, 10.995300123015188, -1.5530228634550596, -0.4830280797855349, -3.1875222237746574, 15.198919684124363, 8.501795262713095, -0.46069378594425087, 2.506763716449803, -0.7486479886669498, -1.5579853360641922, -0.9717684020097903, -2.3309115209639044, 3.0798047335852075, 0.032198682267102444, -0.25081359143554355, 12.69786246054109, 0.13991924427820226, -0.877092337825992, 0.021635195629706602, 0.3118310986532734, -1.7714025105001805, 3.946861260434097, -0.9236849802111942, -1.510022176679238, 1.7449066214747262, 2.519968840850427, 3.5020318830270614, -0.45154916666074674, 5.69102052202032, -10.089483280915816, -0.2886639156828882, 1.1783842929718014, 10.84786702665334, 5.562855500606839, 7.681940069599682, 12.417050049053353, 1.1138079753532226, 12.179924634874848, 11.053651157410863, -2.6106751152681134, 5.3385375854142, -1.4466046876386638, 1.8360013131412163, 3.220989093520278, 1.5385329226087896, 1.0797513843625712, -7.477632784358725, 4.188346137577689, -0.6942125392248365, -7.576673459099367, 7.882818103545327, 14.40452174899914, 0.6709577440033307, -2.048234982016285, 10.123028042511773, 9.431623478070124, 3.5465187891499204, 5.0524609387958135, 0.043276988124868486, -2.2744991305978455, 0.23818583865442114, -8.423180893863664, -2.112751926744679, 0.7253461994544882, 9.321727199435044, -0.2753460902898335, -0.8654425279961538, 1.5166106880656511, 3.5766638511629574, 0.12208677545048216, 8.206955187562745, 3.60924444535175, -2.356867117319668, -1.8026821982856416, 0.39040525761872635, 2.6590927442128067, 4.269368504987487, 1.0987903818911626, -6.88105195396662, 3.8258365869044186, -0.8031339925880676, -0.4648264811019435, 1.296271559368321, 2.1398728770542745, 1.2694903982949632, 0.8609699937746124, -2.3340463884348264, -1.0396047083929914, 2.1116024680476775, 1.93725671123971, 1.9597977995233447, -1.0880774295002738, 4.695743074994056, 5.322636933111861, -2.3293064064288336, -1.4549224375063639, 14.383449244204039, 1.3184944556218863, 7.460897782845495, 4.160936334094181, -3.3048086277732054, -1.2476358036519164, -1.180774525354133, 3.528782427351359, 0.32840257364091996, -0.9274723527987752, 0.12295256702606372, -6.361899196598922, -1.8132838512628435, 11.176505893918794, 2.038041504573597, -2.1552773740172078, 2.3445212594829865, -5.020398817957184, 3.260262242337896, 3.5981753190485097], \"y\": [-2.165341493845522, 2.929648591155224, -1.2761066681935018, -0.8788378867034248, -1.1283450441279819, -0.2805918068957647, -1.548183976612172, -2.4951766069632226, -1.676921007682638, -6.401283682895902, -2.1503864989991666, -2.1060063931479256, -5.5384184791585005, -1.36330586955513, -2.2419426965359834, -1.9246129996662495, 0.6796400479268798, -1.1582951057584694, -5.552714568660469, -1.3517978014404042, 2.2154423375353964, -1.5976231957738534, -2.4696503438248296, -4.495404141947125, 0.6945165044983341, -0.982450384416659, -1.0997169551710109, -1.6070672426239907, -2.453265656034934, -4.51753150997314, -1.910544845942291, -3.640140413800222, -0.9806266955456777, -1.0308941632967292, -2.218011918090972, -2.671578571921302, -4.114504333293015, -4.217713536593289, -3.9404914805160485, -2.4422503568358778, -2.0316801594060476, -3.1573323350029714, -4.626891905286246, -1.0786526465786526, -1.3080767382222998, -1.935887202287992, -0.4669184974981357, -2.70172617402865, -1.3006344682296371, -4.909601882171678, -3.820264045402962, -1.3983167255000808, -0.30149546984116987, -1.4138797886583787, -0.7963513067737898, -2.0192157751664905, -0.3162966985467406, -1.8177592096436945, -2.1888925834460164, -5.268226162890752, -5.13349336370622, -0.4605443857951047, -0.5423804528965711, -1.1989053245243566, -0.9409442441465896, -2.0193283937760547, -2.5798833902886216, -1.686684519633477, -2.229280375465729, -0.5284499054955565, -1.0571258726521526, 2.242402306838014, -2.0138613744967113, 0.3296270981216769, -4.266832178289647, -1.650599217280318, 1.113562278732062, -0.9584956989090481, 1.0191526187063102, -2.3064410520798213, -0.4128834504466825, -4.736993498304316, -2.5328735065177375, -0.9806973298638152, -4.613994852340746, -0.8075216922260193, 0.9525707074381062, -1.1958804666997962, -4.814985170822134, -2.0352519274124665, -3.6781359069388837, -0.2945026312086191, -1.568437444604512, -1.1049066503078273, -0.842022664438315, -5.231996205314536, -0.5779626135887391, 1.4959961573204188, -1.351201323494175, -2.3590575622360364, 0.46682088549633644, -0.7690841498513805, -0.26851387220934964, -4.22713818547916, -0.13398041520054668, -1.0025171518438787, -1.1267743610132614, 0.9225726848021645, -1.331928290100542, 1.004174446666126, -1.26971483710821, -4.855196535629455, -1.0864279626091073, -1.2531073980404308, -2.6390846728638757, -1.43765136053335, 0.4260991782593, -0.841759489211953, -2.6598616208381416, -1.2353446632984477, -4.902780840739774, -2.3236711248826114, -2.5649049592734676, -0.7308433055991177, -0.8598626967235992, -5.5401935485819065, -1.170384812885669, -1.5787880135309438, 4.0792346914545945, -1.9032854540732609, -1.1191690299347508, -1.950107599952264, -2.7617146708857274, -0.1979305689735347, -6.113237577419342, -0.98450010104308, -2.07412809424647, -0.9906213881432359, -1.04890061134235, -1.5598287717466603, -0.4584290264780994, -1.7634398496842891, -0.84849377238933, -0.42853375070996963, -4.135511384581291, -3.6665728721612556, -2.62375596326357, -2.7224192180964586, -0.9662622640895426, -1.5438387785548344, -1.3319787863826948, -2.838293078269188, -2.4639722158151707, -1.786443843693071, 0.6301679152776829, -6.150501258501163, 1.1670716981449532, -0.7335104246197219, -1.8992117799559123, 1.8567804415770004, -1.540901641972696, -3.8124815499113973, 0.9526977734934398, -6.062784999205557, 1.1006152188419416, -0.8977847604877327, -0.8136149001384592, 0.9351612920318361, -1.2619887773446032, -0.719902259233143, 0.7035300610020094, -3.5313547866187593, -1.705401827259781, -0.7079029335974015, -0.6643267100081778, -2.399758846783386, -5.498941157712234, -1.9614932770539524, 1.0980763835303864, -4.162775737341392, -5.317253424243522, -0.7500601066766241, 1.091842795494604, 5.455498014403133, 0.33503011164587687, -0.655886857258206, -0.7691373425906087, 1.1464515514121305, -0.9267858213348903, -2.6549691790194982, -0.2657113201811885, 0.49326267929175754, -5.383623843696269, -1.0055166123519959, -2.54689165609404, -3.0874354609175905, -0.007906342336542823, -2.7470790589701637, -1.317589455992464, 0.48593808896231305, -2.1122734597400474, 0.7385229788945802, -1.8370364963601489, -2.3510886394878328, -1.7246104219498581, -1.3557081519888503, -0.5462649298468699, -0.49454102377431813, -1.0271408665508763, -1.5122960196002462, -0.8231580721833814, -0.4586025759110166, 51.69640056883707, -0.09184467842812548, -1.365572131542115, -0.5295793911965795, -2.2706565513309127, -2.84532419637068, -0.9400582584995273, -2.6573853462606447, -1.7047938952475263, -2.6145314663830383, 2.2304844346612365, -2.251595875483111, -1.8086527847873006, 5.321348702811692, -0.23879618812803044, -1.9628189427478397, -4.068393915961661, -1.647440123136525, -4.610696686705555, -0.7661694212388119, -1.121329747711689, -0.40961093600417975, -5.943939082956409, -2.616313658913608, -1.1357439625679908, -2.1287884371564467, -1.0387244799839344, -0.7688059442410434, -1.0927672913173456, -0.5026767447509092, -2.312953238775896, -1.284452302047253, -1.1983372203268274, -5.174287443117667, -1.3310529401206819, -0.992343865952031, -1.2937564394316654, -1.4431184551175988, -0.6959186172625491, -1.5478036371293462, -0.9711262348378417, -0.9112527380547615, -1.8644146466477667, -2.118479270896153, -2.4499468200286296, -1.1951110402372054, -3.1857825711515964, 1.546788704318323, -1.1846367647226366, -1.6759768583029826, -2.7780843568094657, -2.998272620707479, -3.6401588159351292, -5.015055070125011, 0.45142846748301807, -4.934414484945769, -4.560731092633602, -0.6113309618440762, -2.9235861510545456, -0.805603249573628, -0.8463079179099047, -2.364862529266997, -1.7943146028436743, -1.643565381248597, 0.8069119494778962, -2.681466887294125, -1.0488432195585355, 0.8394908275036659, -2.867968016999822, -5.540656568057091, 2.6576515846864686, -0.5908692250798208, -4.318490682573352, -4.08071466271055, -2.3944041385606534, -2.828003412731178, -1.2945870550434904, 0.5343538656694459, -1.3596190416037282, 1.3797456331365492, -0.5699460100183443, -1.6597620221856901, -1.3956121197765992, -1.189011880281592, -0.9894697576687557, -1.7884962820786532, -2.4763009943669076, 0.7819411864702718, -3.7440962358642818, 26.002840739269715, -0.48850192231464246, 0.3743072107198039, -1.4128624602132245, -2.019994012915797, -2.7066624835156823, -1.6412927864068023, 0.5449851850741827, -2.5597822510299686, 5.2928945217996, -0.07268364064094655, -1.7230599734814855, -2.0033472650301087, -0.9014328474599549, -1.5721217225963537, -0.7016916989463915, -0.9409182519908558, -1.9831465870176397, -1.9370781684498313, -1.9390016472861367, -0.9236869458751269, -2.859291035968305, -2.918622571254539, -0.5024921802554784, -0.794830939874842, -4.642121600452996, -1.7189104221631113, -3.777772237911006, -2.597727512805708, -0.3761622664187794, -0.8641566801249876, -0.9823353835510358, -0.9059377635058108, 23.025197447374904, -1.0666030453022306, -1.4191088914075405, 0.909791507211321, -0.7711365661697599, -4.600291712120255, -1.9641280910313403, -0.5562759794876547, -2.162073706229443, 0.1227886033705927, -2.4655747777243495, -2.406371818408618]}, {\"mode\": \"markers\", \"name\": \"Cluster 2\", \"type\": \"scatter\", \"x\": [-11.759877428007147, -29.527919050324403, -14.804776702562194, -30.071076582417632, -30.414842916813264, -20.50008036021321, -37.670202569647806, -13.30596336692277, -24.60127592643704, -18.760863244927712, -32.28789306330164, -26.253348078900803, -28.95863767862618, -21.411384663111896, -13.894620196795072, -14.264040251352023, -30.689701652728584, -10.100474809413058, -10.50006373777357, -29.139238567676575, -30.94912607829026, -20.334510015812555, -11.431093396664615, -27.718458835578257, -27.217375439780405, -29.23737881482942, -26.20923189065147, -56.32673515935626, -10.7895918915282, -32.731007362389995, -22.21189063241531, -14.033579771687762, -14.508272956272066, -29.034902763120066, -19.77307896191887, -30.951672215389728, -18.107287742673254, -17.75748072480141, -26.353668332788473, -13.320217529948478, -21.075125296784307, -14.54432007905025, -13.826734070735743, -12.786053770784964, -22.72580609367629, -12.59730780372572, -22.200695200998222, -17.38937101244754, -31.08271538149586, -23.928915541547504, -11.333343382159839, -22.99818833551066, -24.080921685091194, -18.19363898466248, -15.525619874351785, -19.16324325958386, -18.162552965599083, -11.500234656683757, -18.75593935102807, -27.856075537184783, -24.637273112991235, -21.440113435155126, -13.614911417134616, -23.62745474196613, -25.96082145510977, -27.445035949054677, -14.308058708418555, -30.900381962396885, -19.55560240792688, -22.03392750865003, -22.496225669821225, -35.85447143926772, -27.79472178349691, -24.25394679941521, -26.221933734212918, -19.323801115342807, -21.00946676185378, -11.596267824629306, -22.318922622217652, -20.31722436402696, -26.10489608609496, -14.962217233597448, -9.70540432002409, -10.968029652872533, -27.74809180064455, -32.70951894271533, -20.816778978397362, -23.016671759552395, -24.280599180046593, -13.158023963221664, -12.987647489982827, -21.8266446414607, -18.067428765591504, -36.05818773955598, -18.402334177036526, -12.601522790934489, -9.814098102679022, -21.493991109035157, -17.135248501323254, -25.436776430259066, -11.763957327386168, -22.513666415631793, -18.79828544654161, -25.24818804239757, -19.797732355764403, -30.954832703898287, -15.396212192833627, -13.173626284992256, -29.619406176500863, -40.82231575702273, -11.494626894187157, -22.572015041430845, -16.003170705518297, -10.008556977854898, -21.768099005243474, -15.19237669870793, -14.338923014446465, -27.279928500473478, -14.929065363807723, -13.675728767465118, -16.842789947913218, -15.36752750778931, -37.514027701392045, -32.663477298145665, -28.787423611642513, -9.869914603679296, -23.87326910516083, -27.651398529563224, -37.40993626677617, -11.406594600212182, -19.479234072613306, -22.714747700204217, -37.392301652384596, -40.651996795758656, -23.03237950039647, -10.126372159183564, -14.866734346975], \"y\": [5.074672672190844, 7.2824244447613555, 3.007596824348336, 7.422824202672789, 7.536876374917287, 4.613171193365216, 9.661239276180838, 2.480900442349892, 5.841283524045014, 4.103797549617615, 8.070704459485249, 6.324403612989408, 7.096309764361133, 4.851272964558724, 2.6787855005033405, 3.8295594948588905, 7.604289553473631, 1.6154037070476392, 1.6830139067236287, 7.154913972848372, 7.693958211374983, 4.5190098235287515, 2.1759752028806933, 6.745435767199818, 6.585333493899739, 7.192518613534622, 6.3105085800631215, 18.424812694566167, 2.7007706115047725, 8.215356984176056, 5.112390797492635, 2.7519707655585504, 2.8853339069318222, 7.120005331318996, 4.584647462551376, 7.689572165110384, 10.419013086587306, 3.833082016877291, 6.360671864317151, 2.5528219436528663, 4.802238486481757, 3.079744885121713, 2.65531845677087, 2.3233390297278302, 5.287490540033177, 2.3127862416246634, 5.1096942066890865, 8.92557434110721, 7.734299704534152, 5.619800602689025, 39.70984692637374, 5.3766582985646005, 5.6744767005804055, 3.976809230333854, 3.8861332199625567, 4.232890006185648, 3.9004263487203255, 2.0128561388523467, 5.215865116395084, 6.793875060133945, 5.853467020577225, 5.9072674884107395, 2.5875939047875227, 5.51690803464706, 6.232615218048014, 6.659374203464351, 2.8191101758257573, 7.670394401753108, 4.363288422050232, 5.053015986755033, 6.28770618242103, 9.120729047617793, 6.77043177322572, 6.903462809673221, 6.315933963292263, 4.291904124163152, 4.784126131775269, 2.075215976852926, 5.1488119853599255, 4.578401781395909, 6.275599938533745, 3.0343066496238986, 1.485742628859343, 1.8403600444037425, 6.756871279972207, 8.206995749218313, 4.7143922130790585, 5.382274160512364, 5.741067820425713, 2.497690850927019, 2.4429780320238, 4.985780070732481, 3.934186541399885, 9.191712130083388, 3.9769421146001753, 2.3375593759546, 1.5235344414054803, 4.897967187749112, 3.624395945613075, 6.0564028100966505, 2.1032366200681327, 5.215135841015813, 4.110856991514531, 6.018316226004915, 4.37530543240636, 7.690862743011373, 4.242878594001406, 2.5025386350298633, 7.314938100776044, 10.57366445514685, 2.013139121066182, 5.237657347669975, 3.3125078641273533, 1.5870895644181569, 4.964799783060811, 3.0422081617461574, 2.971268255795472, 6.604025645189344, 3.0205345410553766, 2.604143432599835, 3.531594076130625, 3.0705050544961017, 9.607422618641834, 8.191284851621038, 7.037099399598246, 1.5374836415754838, 5.608056711199746, 6.7232779329750905, 9.572112452774874, 1.9899533548279844, 4.3465293240743055, 5.283042741935967, 9.565769848089012, 10.518589749899302, 5.387133349792208, 1.6251241023064937, 3.0000903712031843]}, {\"mode\": \"markers\", \"name\": \"Cluster 3\", \"type\": \"scatter\", \"x\": [19.031533824490882, 32.61861340306006, 16.660282168687058, 58.371111039876816, 47.50969473063399, 32.172321651405234, 55.192664431483706, 40.6991615824523, 22.77874744933735, 19.951442677357782, 44.860912562613386, 19.900601852631503, 40.29234068122225, 33.285120817487396, 23.751162325882348, 24.643468498726925, 34.88847658767343, 32.99631943493998, 22.939454330806647, 20.01486911604911, 18.57953303279241, 124.92886487705715, 38.814930063440876, 30.46893892003026, 25.69067476634126, 22.070497266513183, 28.64190044258036, 19.071530074983457, 64.218199356845, 22.310219875192267, 16.968221474152827, 22.378127204246397, 25.236119326844825, 17.395350729855558, 23.916919316045572, 22.116934251551953, 28.619366612117837, 42.34407070351806, 33.71629652929862, 18.230171074561813, 33.24514072806536, 34.35890373226076, 23.02813723378996, 50.26979935422698, 46.33659033632412, 25.221237916566754, 18.325773128536905, 22.372382336744508, 21.802319146404873, 23.655648530366328, 47.00146563771505, 26.253347968659003, 47.519114306773105, 29.17633285874569, 19.24988585471565, 28.394074712037146, 34.18488722476344, 30.42192098944973, 38.022205655609405, 31.62804048373999, 67.3069898867907, 53.645906987738854, 40.0204023461836, 24.502001547722585, 53.088729050638385, 37.302949655163346, 50.33139233171285, 53.52298623779184, 18.594361987350794, 18.151153303695427, 33.63141918806299, 17.68041750197226], \"y\": [-6.951508144081216, -10.393404042779938, -6.224731745876386, -18.793934102140483, -10.362325004485115, -10.918031575981114, -17.591685316058424, -12.045236315520766, 1.8345688220512317, -7.1857692832730775, -14.414891060502375, -7.17122292654834, -9.800871021694693, -11.094670118095225, -8.31560659686994, -8.682686060149436, -11.50888123189276, -11.200368553098391, -7.042853091999243, -7.211832538292866, -6.798365534694665, 352.5255106612074, -12.682531887757037, -9.450668683136556, -8.834775624626204, -7.823678919393879, -9.681377523687958, -6.97436509464903, -12.84250302608198, -7.840713039774771, -6.327581427426786, -6.68356264120559, -8.750288737427176, -6.4730535944373875, -8.370182458583628, -7.843038761791281, -8.11365037254332, -13.227901646011226, -11.172408388596029, -5.480778283602586, -11.289300626665591, -11.384821447806624, -8.218230565172007, 29.64402400592565, -10.259452531140646, -8.744545881257087, -6.713418980974387, -7.863298126856141, -6.170900599385671, -8.289090910440832, -15.050879482215858, -9.081291641657119, -15.44102609350939, -10.068437683664065, -6.955739067983241, -9.661907990345863, -11.324952019636456, -10.208899283153587, -11.533002801758757, -10.605326901856698, -18.975563491485836, -17.000002040455687, -10.771872418130386, -1.062253617018764, -16.821941327755574, -12.505927725806401, -10.002114127551247, -17.07566352668592, -6.803699437704555, -6.6572065353151695, -11.209532599132933, -6.56674717227854]}, {\"mode\": \"markers\", \"name\": \"Cluster 4\", \"type\": \"scatter\", \"x\": [], \"y\": []}, {\"marker\": {\"color\": \"rgb(255,255,0)\", \"size\": 16}, \"mode\": \"markers\", \"name\": \"Centroids\", \"type\": \"scatter\", \"x\": [1.6708788265082364, -21.639745672970516, 33.14612615590426], \"y\": [-1.2768455905175704, 5.433455852988788, -4.202706632505328]}],\n",
       "                        {\"template\": {\"data\": {\"bar\": [{\"error_x\": {\"color\": \"#2a3f5f\"}, \"error_y\": {\"color\": \"#2a3f5f\"}, \"marker\": {\"line\": {\"color\": \"#E5ECF6\", \"width\": 0.5}}, \"type\": \"bar\"}], \"barpolar\": [{\"marker\": {\"line\": {\"color\": \"#E5ECF6\", \"width\": 0.5}}, \"type\": \"barpolar\"}], \"carpet\": [{\"aaxis\": {\"endlinecolor\": \"#2a3f5f\", \"gridcolor\": \"white\", \"linecolor\": \"white\", \"minorgridcolor\": \"white\", \"startlinecolor\": \"#2a3f5f\"}, \"baxis\": {\"endlinecolor\": \"#2a3f5f\", \"gridcolor\": \"white\", \"linecolor\": \"white\", \"minorgridcolor\": \"white\", \"startlinecolor\": \"#2a3f5f\"}, \"type\": \"carpet\"}], \"choropleth\": [{\"colorbar\": {\"outlinewidth\": 0, \"ticks\": \"\"}, \"type\": \"choropleth\"}], \"contour\": [{\"colorbar\": {\"outlinewidth\": 0, \"ticks\": \"\"}, \"colorscale\": [[0.0, \"#0d0887\"], [0.1111111111111111, \"#46039f\"], [0.2222222222222222, \"#7201a8\"], [0.3333333333333333, \"#9c179e\"], [0.4444444444444444, \"#bd3786\"], [0.5555555555555556, \"#d8576b\"], [0.6666666666666666, \"#ed7953\"], [0.7777777777777778, \"#fb9f3a\"], [0.8888888888888888, \"#fdca26\"], [1.0, \"#f0f921\"]], \"type\": \"contour\"}], \"contourcarpet\": [{\"colorbar\": {\"outlinewidth\": 0, \"ticks\": \"\"}, \"type\": \"contourcarpet\"}], \"heatmap\": [{\"colorbar\": {\"outlinewidth\": 0, \"ticks\": \"\"}, \"colorscale\": [[0.0, \"#0d0887\"], [0.1111111111111111, \"#46039f\"], [0.2222222222222222, \"#7201a8\"], [0.3333333333333333, \"#9c179e\"], [0.4444444444444444, \"#bd3786\"], [0.5555555555555556, \"#d8576b\"], [0.6666666666666666, \"#ed7953\"], [0.7777777777777778, \"#fb9f3a\"], [0.8888888888888888, \"#fdca26\"], [1.0, \"#f0f921\"]], \"type\": \"heatmap\"}], \"heatmapgl\": [{\"colorbar\": {\"outlinewidth\": 0, \"ticks\": \"\"}, \"colorscale\": [[0.0, \"#0d0887\"], [0.1111111111111111, \"#46039f\"], [0.2222222222222222, \"#7201a8\"], [0.3333333333333333, \"#9c179e\"], [0.4444444444444444, \"#bd3786\"], [0.5555555555555556, \"#d8576b\"], [0.6666666666666666, \"#ed7953\"], [0.7777777777777778, \"#fb9f3a\"], [0.8888888888888888, \"#fdca26\"], [1.0, \"#f0f921\"]], \"type\": \"heatmapgl\"}], \"histogram\": [{\"marker\": {\"colorbar\": {\"outlinewidth\": 0, \"ticks\": \"\"}}, \"type\": \"histogram\"}], \"histogram2d\": [{\"colorbar\": {\"outlinewidth\": 0, \"ticks\": \"\"}, \"colorscale\": [[0.0, \"#0d0887\"], [0.1111111111111111, \"#46039f\"], [0.2222222222222222, \"#7201a8\"], [0.3333333333333333, \"#9c179e\"], [0.4444444444444444, \"#bd3786\"], [0.5555555555555556, \"#d8576b\"], [0.6666666666666666, \"#ed7953\"], [0.7777777777777778, \"#fb9f3a\"], [0.8888888888888888, \"#fdca26\"], [1.0, \"#f0f921\"]], \"type\": \"histogram2d\"}], \"histogram2dcontour\": [{\"colorbar\": {\"outlinewidth\": 0, \"ticks\": \"\"}, \"colorscale\": [[0.0, \"#0d0887\"], [0.1111111111111111, \"#46039f\"], [0.2222222222222222, \"#7201a8\"], [0.3333333333333333, \"#9c179e\"], [0.4444444444444444, \"#bd3786\"], [0.5555555555555556, \"#d8576b\"], [0.6666666666666666, \"#ed7953\"], [0.7777777777777778, \"#fb9f3a\"], [0.8888888888888888, \"#fdca26\"], [1.0, \"#f0f921\"]], \"type\": \"histogram2dcontour\"}], \"mesh3d\": [{\"colorbar\": {\"outlinewidth\": 0, \"ticks\": \"\"}, \"type\": \"mesh3d\"}], \"parcoords\": [{\"line\": {\"colorbar\": {\"outlinewidth\": 0, \"ticks\": \"\"}}, \"type\": \"parcoords\"}], \"pie\": [{\"automargin\": true, \"type\": \"pie\"}], \"scatter\": [{\"marker\": {\"colorbar\": {\"outlinewidth\": 0, \"ticks\": \"\"}}, \"type\": \"scatter\"}], \"scatter3d\": [{\"line\": {\"colorbar\": {\"outlinewidth\": 0, \"ticks\": \"\"}}, \"marker\": {\"colorbar\": {\"outlinewidth\": 0, \"ticks\": \"\"}}, \"type\": \"scatter3d\"}], \"scattercarpet\": [{\"marker\": {\"colorbar\": {\"outlinewidth\": 0, \"ticks\": \"\"}}, \"type\": \"scattercarpet\"}], \"scattergeo\": [{\"marker\": {\"colorbar\": {\"outlinewidth\": 0, \"ticks\": \"\"}}, \"type\": \"scattergeo\"}], \"scattergl\": [{\"marker\": {\"colorbar\": {\"outlinewidth\": 0, \"ticks\": \"\"}}, \"type\": \"scattergl\"}], \"scattermapbox\": [{\"marker\": {\"colorbar\": {\"outlinewidth\": 0, \"ticks\": \"\"}}, \"type\": \"scattermapbox\"}], \"scatterpolar\": [{\"marker\": {\"colorbar\": {\"outlinewidth\": 0, \"ticks\": \"\"}}, \"type\": \"scatterpolar\"}], \"scatterpolargl\": [{\"marker\": {\"colorbar\": {\"outlinewidth\": 0, \"ticks\": \"\"}}, \"type\": \"scatterpolargl\"}], \"scatterternary\": [{\"marker\": {\"colorbar\": {\"outlinewidth\": 0, \"ticks\": \"\"}}, \"type\": \"scatterternary\"}], \"surface\": [{\"colorbar\": {\"outlinewidth\": 0, \"ticks\": \"\"}, \"colorscale\": [[0.0, \"#0d0887\"], [0.1111111111111111, \"#46039f\"], [0.2222222222222222, \"#7201a8\"], [0.3333333333333333, \"#9c179e\"], [0.4444444444444444, \"#bd3786\"], [0.5555555555555556, \"#d8576b\"], [0.6666666666666666, \"#ed7953\"], [0.7777777777777778, \"#fb9f3a\"], [0.8888888888888888, \"#fdca26\"], [1.0, \"#f0f921\"]], \"type\": \"surface\"}], \"table\": [{\"cells\": {\"fill\": {\"color\": \"#EBF0F8\"}, \"line\": {\"color\": \"white\"}}, \"header\": {\"fill\": {\"color\": \"#C8D4E3\"}, \"line\": {\"color\": \"white\"}}, \"type\": \"table\"}]}, \"layout\": {\"annotationdefaults\": {\"arrowcolor\": \"#2a3f5f\", \"arrowhead\": 0, \"arrowwidth\": 1}, \"coloraxis\": {\"colorbar\": {\"outlinewidth\": 0, \"ticks\": \"\"}}, \"colorscale\": {\"diverging\": [[0, \"#8e0152\"], [0.1, \"#c51b7d\"], [0.2, \"#de77ae\"], [0.3, \"#f1b6da\"], [0.4, \"#fde0ef\"], [0.5, \"#f7f7f7\"], [0.6, \"#e6f5d0\"], [0.7, \"#b8e186\"], [0.8, \"#7fbc41\"], [0.9, \"#4d9221\"], [1, \"#276419\"]], \"sequential\": [[0.0, \"#0d0887\"], [0.1111111111111111, \"#46039f\"], [0.2222222222222222, \"#7201a8\"], [0.3333333333333333, \"#9c179e\"], [0.4444444444444444, \"#bd3786\"], [0.5555555555555556, \"#d8576b\"], [0.6666666666666666, \"#ed7953\"], [0.7777777777777778, \"#fb9f3a\"], [0.8888888888888888, \"#fdca26\"], [1.0, \"#f0f921\"]], \"sequentialminus\": [[0.0, \"#0d0887\"], [0.1111111111111111, \"#46039f\"], [0.2222222222222222, \"#7201a8\"], [0.3333333333333333, \"#9c179e\"], [0.4444444444444444, \"#bd3786\"], [0.5555555555555556, \"#d8576b\"], [0.6666666666666666, \"#ed7953\"], [0.7777777777777778, \"#fb9f3a\"], [0.8888888888888888, \"#fdca26\"], [1.0, \"#f0f921\"]]}, \"colorway\": [\"#636efa\", \"#EF553B\", \"#00cc96\", \"#ab63fa\", \"#FFA15A\", \"#19d3f3\", \"#FF6692\", \"#B6E880\", \"#FF97FF\", \"#FECB52\"], \"font\": {\"color\": \"#2a3f5f\"}, \"geo\": {\"bgcolor\": \"white\", \"lakecolor\": \"white\", \"landcolor\": \"#E5ECF6\", \"showlakes\": true, \"showland\": true, \"subunitcolor\": \"white\"}, \"hoverlabel\": {\"align\": \"left\"}, \"hovermode\": \"closest\", \"mapbox\": {\"style\": \"light\"}, \"paper_bgcolor\": \"white\", \"plot_bgcolor\": \"#E5ECF6\", \"polar\": {\"angularaxis\": {\"gridcolor\": \"white\", \"linecolor\": \"white\", \"ticks\": \"\"}, \"bgcolor\": \"#E5ECF6\", \"radialaxis\": {\"gridcolor\": \"white\", \"linecolor\": \"white\", \"ticks\": \"\"}}, \"scene\": {\"xaxis\": {\"backgroundcolor\": \"#E5ECF6\", \"gridcolor\": \"white\", \"gridwidth\": 2, \"linecolor\": \"white\", \"showbackground\": true, \"ticks\": \"\", \"zerolinecolor\": \"white\"}, \"yaxis\": {\"backgroundcolor\": \"#E5ECF6\", \"gridcolor\": \"white\", \"gridwidth\": 2, \"linecolor\": \"white\", \"showbackground\": true, \"ticks\": \"\", \"zerolinecolor\": \"white\"}, \"zaxis\": {\"backgroundcolor\": \"#E5ECF6\", \"gridcolor\": \"white\", \"gridwidth\": 2, \"linecolor\": \"white\", \"showbackground\": true, \"ticks\": \"\", \"zerolinecolor\": \"white\"}}, \"shapedefaults\": {\"line\": {\"color\": \"#2a3f5f\"}}, \"ternary\": {\"aaxis\": {\"gridcolor\": \"white\", \"linecolor\": \"white\", \"ticks\": \"\"}, \"baxis\": {\"gridcolor\": \"white\", \"linecolor\": \"white\", \"ticks\": \"\"}, \"bgcolor\": \"#E5ECF6\", \"caxis\": {\"gridcolor\": \"white\", \"linecolor\": \"white\", \"ticks\": \"\"}}, \"title\": {\"x\": 0.05}, \"xaxis\": {\"automargin\": true, \"gridcolor\": \"white\", \"linecolor\": \"white\", \"ticks\": \"\", \"title\": {\"standoff\": 15}, \"zerolinecolor\": \"white\", \"zerolinewidth\": 2}, \"yaxis\": {\"automargin\": true, \"gridcolor\": \"white\", \"linecolor\": \"white\", \"ticks\": \"\", \"title\": {\"standoff\": 15}, \"zerolinecolor\": \"white\", \"zerolinewidth\": 2}}}, \"title\": {\"text\": \"Clusters\"}},\n",
       "                        {\"responsive\": true}\n",
       "                    ).then(function(){\n",
       "                            \n",
       "var gd = document.getElementById('daf554a1-9466-41a5-8e57-4f959acab565');\n",
       "var x = new MutationObserver(function (mutations, observer) {{\n",
       "        var display = window.getComputedStyle(gd).display;\n",
       "        if (!display || display === 'none') {{\n",
       "            console.log([gd, 'removed!']);\n",
       "            Plotly.purge(gd);\n",
       "            observer.disconnect();\n",
       "        }}\n",
       "}});\n",
       "\n",
       "// Listen for the removal of the full notebook cells\n",
       "var notebookContainer = gd.closest('#notebook-container');\n",
       "if (notebookContainer) {{\n",
       "    x.observe(notebookContainer, {childList: true});\n",
       "}}\n",
       "\n",
       "// Listen for the clearing of the current output cell\n",
       "var outputEl = gd.closest('.output');\n",
       "if (outputEl) {{\n",
       "    x.observe(outputEl, {childList: true});\n",
       "}}\n",
       "\n",
       "                        })\n",
       "                };\n",
       "                });\n",
       "            </script>\n",
       "        </div>"
      ]
     },
     "metadata": {},
     "output_type": "display_data"
    }
   ],
   "source": [
    "number_clusters = 3\n",
    "kmeans = KMeans(n_clusters = number_clusters, init = array, random_state = random_state,n_init=10, max_iter=1000)\n",
    "y_kmeans = kmeans.fit_predict(X)\n",
    "\n",
    "# Visualising the clusters\n",
    "\n",
    "fig = go.Figure()\n",
    "\n",
    "fig.add_trace(go.Scatter(x=X[y_kmeans == 0, 0], y=X[y_kmeans == 0, 1], name='Cluster 1', mode='markers'))\n",
    "fig.add_trace(go.Scatter(x=X[y_kmeans == 1, 0], y=X[y_kmeans == 1, 1], name='Cluster 2', mode='markers'))\n",
    "fig.add_trace(go.Scatter(x=X[y_kmeans == 2, 0], y=X[y_kmeans == 2, 1], name='Cluster 3', mode='markers'))\n",
    "fig.add_trace(go.Scatter(x=X[y_kmeans == 3, 0], y=X[y_kmeans == 3, 1], name='Cluster 4', mode='markers'))\n",
    "#fig.add_trace(go.Scatter(x=X[y_kmeans == 4, 0], y=X[y_kmeans == 4, 1], name='Cluster 5', mode='markers'))\n",
    "#fig.add_trace(go.Scatter(x=X[y_kmeans == 5, 0], y=X[y_kmeans == 5, 1], name='Cluster 6', mode='markers'))\n",
    "#fig.add_trace(go.Scatter(x=X[y_kmeans == 6, 0], y=X[y_kmeans == 6, 1], name='Cluster 7', mode='markers'))#comment the lines if you chose less clusters\n",
    "#fig.add_trace(go.Scatter(x=X[y_kmeans == 7, 0], y=X[y_kmeans == 7, 1], name='Cluster 8', mode='markers'))\n",
    "#fig.add_trace(go.Scatter(x=X[y_kmeans == 8, 0], y=X[y_kmeans == 8, 1], name='Cluster 9', mode='markers'))\n",
    "#fig.add_trace(go.Scatter(x=X[y_kmeans == 9, 0], y=X[y_kmeans == 9, 1], name='Cluster 10', mode='markers'))#add more lines if you chose more clusters\n",
    "\n",
    "fig.add_trace(go.Scatter(x=kmeans.cluster_centers_[:, 0], y=kmeans.cluster_centers_[:, 1], name='Centroids', \n",
    "                         mode='markers', marker_color=\"rgb(255,255,0)\", marker=dict(size=16)))\n",
    "\n",
    "fig.update_layout(title='Clusters')\n",
    "\n",
    "fig.show()"
   ]
  },
  {
   "cell_type": "code",
   "execution_count": 101,
   "metadata": {},
   "outputs": [
    {
     "data": {
      "text/plain": [
       "(array([[  1.67087883,  -1.27684559,   1.46670754],\n",
       "        [-21.63974567,   5.43345585,  -1.45493144]]),\n",
       " array([33.14612616, -4.20270663, -4.27993333]))"
      ]
     },
     "execution_count": 101,
     "metadata": {},
     "output_type": "execute_result"
    }
   ],
   "source": [
    "kmeans.cluster_centers_[0:2],kmeans.cluster_centers_[-1]"
   ]
  },
  {
   "cell_type": "code",
   "execution_count": 103,
   "metadata": {},
   "outputs": [
    {
     "data": {
      "text/plain": [
       "array([[  1.67087883,  -1.27684559,   1.46670754],\n",
       "       [-21.63974567,   5.43345585,  -1.45493144],\n",
       "       [ 33.14612616,  -4.20270663,  -4.27993333]])"
      ]
     },
     "execution_count": 103,
     "metadata": {},
     "output_type": "execute_result"
    }
   ],
   "source": [
    "array = [0,1,2]\n",
    "array[0] =kmeans.cluster_centers_[0]\n",
    "array[1] = kmeans.cluster_centers_[1]\n",
    "array[2] = kmeans.cluster_centers_[2]\n",
    "array = np.stack(array, axis=0)\n",
    "array"
   ]
  },
  {
   "cell_type": "code",
   "execution_count": 104,
   "metadata": {},
   "outputs": [
    {
     "data": {
      "application/vnd.plotly.v1+json": {
       "config": {
        "plotlyServerURL": "https://plot.ly"
       },
       "data": [
        {
         "mode": "markers",
         "name": "Cluster 1",
         "type": "scatter",
         "x": [
          2.8629907890913513,
          -0.006070556462803508,
          -0.8218083387800387,
          -11.759877428007147,
          -1.2055765487330716,
          -0.4581831088720891,
          -29.527919050324403,
          -14.804776702562194,
          -30.071076582417632,
          -30.414842916813264,
          -20.50008036021321,
          -3.800846844213667,
          0.5495836717338126,
          -37.670202569647806,
          3.404912649911725,
          1.184359394281616,
          -13.30596336692277,
          -24.60127592643704,
          -18.760863244927712,
          2.8200168091299083,
          2.4668203252887047,
          0.2454193225652566,
          2.868380615835813,
          1.9308896799934725,
          -32.28789306330164,
          -7.088646715630946,
          -0.35437156942802367,
          -26.253348078900803,
          -28.95863767862618,
          0.21538301673022484,
          -21.411384663111896,
          -13.894620196795072,
          -14.264040251352023,
          -8.640224741232444,
          0.9588566847955627,
          3.549558613494214,
          -6.8552126656088035,
          -0.8910416135722871,
          -30.689701652728584,
          -0.5419153896967391,
          -10.100474809413058,
          0.9783385875496968,
          3.5414991815997627,
          -10.50006373777357,
          1.687480671509084,
          -0.8967641279569852,
          -0.7308043428641698,
          2.8016770468870096,
          4.1538319637722845,
          -29.139238567676575,
          9.208369210394155,
          3.4664508151517217,
          2.237520427232313,
          6.237063545040367,
          -30.94912607829026,
          -0.6015801856740851,
          -0.19068827621805143,
          1.9728552466441842,
          -20.334510015812555,
          -3.038660343935061,
          -11.431093396664615,
          4.47177008516878,
          -0.15075091250627387,
          -27.718458835578257,
          -27.217375439780405,
          -29.23737881482942,
          -26.20923189065147,
          0.15936790672431925,
          -3.1277141806243653,
          0.18924075754158384,
          -56.32673515935626,
          -1.6565393427610076,
          2.001430653949864,
          -10.7895918915282,
          -3.09379593147239,
          1.6024556323226133,
          2.714321439455465,
          -32.731007362389995,
          -22.21189063241531,
          -3.060236588811956,
          -14.033579771687762,
          -14.508272956272066,
          0.9141619870303277,
          -0.2641905088233086,
          -1.0368596050957624,
          2.2247374115464202,
          -29.034902763120066,
          3.8670803562919067,
          4.34204569401591,
          3.0689563962432715,
          -2.862924724997582,
          -19.77307896191887,
          -0.6758738438053014,
          -1.1065536454160032,
          -30.951672215389728,
          -18.107287742673254,
          2.1816791612747677,
          -5.824109297607904,
          1.1058498185661076,
          -8.395529709449741,
          -1.372260772690295,
          -8.316870804612705,
          3.0738739054649598,
          -17.75748072480141,
          0.5606229539146478,
          -26.353668332788473,
          3.7454110708921093,
          -13.320217529948478,
          -21.075125296784307,
          -0.9024672602434675,
          -2.0352856281269767,
          -3.7252676660303012,
          -0.2520158021208491,
          2.252286296845379,
          -3.7698680666638964,
          0.8952625710312558,
          -0.45032773844293095,
          -1.3110052646948906,
          -14.54432007905025,
          -13.826734070735743,
          -2.09294191036463,
          -9.568569023351841,
          0.20708641091697003,
          -12.786053770784964,
          3.225905710704493,
          -6.254256713107051,
          -22.72580609367629,
          -12.59730780372572,
          -22.200695200998222,
          -17.38937101244754,
          -1.4448755520617063,
          -3.6436817352884376,
          -4.252784984299572,
          -0.8311509093404201,
          -1.2790397195717258,
          -8.049263778379366,
          0.1348546550538103,
          -2.567806398133531,
          -0.14066682162653027,
          -31.08271538149586,
          -0.988129740804847,
          -0.08125397125315693,
          4.060659551956168,
          0.4692244005505434,
          -23.928915541547504,
          -11.333343382159839,
          -6.12592134643612,
          -22.99818833551066,
          -1.3162452020635715,
          4.123567001467745,
          -24.080921685091194,
          -18.19363898466248,
          -15.525619874351785,
          -0.11508282089330105,
          -19.16324325958386,
          2.8337914146962526,
          3.55401827946262,
          -2.0480073446844247,
          -1.548097014681716,
          -0.6125972544058202,
          0.6037807228302394,
          -3.1808164827643437,
          -18.162552965599083,
          -11.500234656683757,
          1.6737951684293437,
          -0.7519702609457269,
          1.7319837385040684,
          -18.75593935102807,
          4.433399306378469,
          -0.06864213191242366,
          2.3691413126961463,
          -27.856075537184783,
          -24.637273112991235,
          -21.440113435155126,
          2.280834957205559,
          -0.6888067059297861,
          -13.614911417134616,
          0.8577577253728949,
          -2.456562637166434,
          1.4466403588319838,
          -1.6933992348925768,
          -2.54795251579739,
          7.779411798831384,
          4.009553478172629,
          -23.62745474196613,
          -25.96082145510977,
          4.31757576568199,
          -0.8761066643687556,
          0.7866918213894317,
          0.15044241770754643,
          5.096470501822265,
          -27.445035949054677,
          3.5348889948390387,
          1.5074656113852924,
          -6.942713975180795,
          -8.551444440127735,
          -2.044064562003157,
          1.8593163570716653,
          0.05669461769427493,
          0.7984158401567457,
          7.7886846373364955,
          -8.11460823839799,
          -8.55025398267162,
          -1.1461280789569428,
          -1.4006811041520693,
          -14.308058708418555,
          -7.848639844941461,
          -0.051923565616096484,
          -30.900381962396885,
          -19.55560240792688,
          -22.03392750865003,
          -1.672897901273696,
          -22.496225669821225,
          -6.955712981329546,
          -35.85447143926772,
          -27.79472178349691,
          6.727122687511031,
          1.2725815005400525,
          -1.7118876010547113,
          -1.8359169443686991,
          3.340065398935031,
          2.0480030326046763,
          -24.25394679941521,
          -26.221933734212918,
          -8.351078805856883,
          -19.323801115342807,
          -1.6309828309138332,
          -21.00946676185378,
          -8.32631718364039,
          -5.454492284097502,
          -5.855166173936716,
          -1.9110896450523152,
          -11.596267824629306,
          -22.318922622217652,
          -2.1465095894726356,
          -8.679456930861784,
          -20.31722436402696,
          -1.0819550475650297,
          3.9094439069902607,
          -3.2232838339490844,
          -2.33804595875026,
          -0.8221889031343808,
          3.8012483880140118,
          5.82812573792083,
          -4.623498219673238,
          -26.10489608609496,
          4.3847669708902925,
          0.11767294867640322,
          -6.291045908585644,
          2.4827587552501407,
          -7.275029230257855,
          -14.962217233597448,
          1.6660144302218889,
          -9.70540432002409,
          3.17764513525953,
          1.31406266343856,
          0.20151435919799698,
          -2.143655177649617,
          -2.3540784611041716,
          -10.968029652872533,
          -27.74809180064455,
          -32.70951894271533,
          -20.816778978397362,
          -0.7633441252235093,
          0.5050924656519041,
          -1.369383328996195,
          -2.461726006735724,
          20.25495967712355,
          2.750765760874239,
          -23.016671759552395,
          0.26523495210575476,
          -2.8524270161060272,
          3.186092651300505,
          5.112354051642779,
          -1.01346999421074,
          6.917200441811982,
          1.239518423607205,
          3.9679844803298185,
          -10.010035200480798,
          2.8781293804155146,
          -24.280599180046593,
          1.556280086745788,
          -13.158023963221664,
          -0.9120949385161494,
          -12.987647489982827,
          -21.8266446414607,
          -18.067428765591504,
          -3.9275073725843956,
          -36.05818773955598,
          -18.402334177036526,
          2.0305655084875713,
          1.0839362182547714,
          -1.5530228634550596,
          -0.4830280797855349,
          -3.1875222237746574,
          -0.46069378594425087,
          -12.601522790934489,
          2.506763716449803,
          -0.7486479886669498,
          -1.5579853360641922,
          -0.9717684020097903,
          -2.3309115209639044,
          -9.814098102679022,
          3.0798047335852075,
          -21.493991109035157,
          0.032198682267102444,
          -17.135248501323254,
          -0.25081359143554355,
          -25.436776430259066,
          -11.763957327386168,
          0.13991924427820226,
          -0.877092337825992,
          0.021635195629706602,
          -22.513666415631793,
          0.3118310986532734,
          -18.79828544654161,
          -25.24818804239757,
          -1.7714025105001805,
          3.946861260434097,
          -0.9236849802111942,
          -1.510022176679238,
          1.7449066214747262,
          2.519968840850427,
          -19.797732355764403,
          3.5020318830270614,
          -0.45154916666074674,
          5.69102052202032,
          -30.954832703898287,
          -10.089483280915816,
          -15.396212192833627,
          -13.173626284992256,
          -29.619406176500863,
          -40.82231575702273,
          -0.2886639156828882,
          1.1783842929718014,
          5.562855500606839,
          -11.494626894187157,
          7.681940069599682,
          1.1138079753532226,
          -22.572015041430845,
          -16.003170705518297,
          -2.6106751152681134,
          -10.008556977854898,
          5.3385375854142,
          -21.768099005243474,
          -15.19237669870793,
          -1.4466046876386638,
          1.8360013131412163,
          3.220989093520278,
          1.5385329226087896,
          1.0797513843625712,
          -7.477632784358725,
          -14.338923014446465,
          4.188346137577689,
          -27.279928500473478,
          -0.6942125392248365,
          -7.576673459099367,
          7.882818103545327,
          0.6709577440033307,
          -2.048234982016285,
          -14.929065363807723,
          -13.675728767465118,
          3.5465187891499204,
          5.0524609387958135,
          0.043276988124868486,
          -16.842789947913218,
          -2.2744991305978455,
          -15.36752750778931,
          0.23818583865442114,
          -8.423180893863664,
          -2.112751926744679,
          0.7253461994544882,
          9.321727199435044,
          -37.514027701392045,
          -0.2753460902898335,
          -0.8654425279961538,
          1.5166106880656511,
          3.5766638511629574,
          -32.663477298145665,
          0.12208677545048216,
          -28.787423611642513,
          3.60924444535175,
          -2.356867117319668,
          -1.8026821982856416,
          0.39040525761872635,
          2.6590927442128067,
          -9.869914603679296,
          4.269368504987487,
          1.0987903818911626,
          -6.88105195396662,
          -23.87326910516083,
          3.8258365869044186,
          -0.8031339925880676,
          -27.651398529563224,
          -0.4648264811019435,
          1.296271559368321,
          2.1398728770542745,
          1.2694903982949632,
          0.8609699937746124,
          -2.3340463884348264,
          -1.0396047083929914,
          2.1116024680476775,
          1.93725671123971,
          1.9597977995233447,
          -37.40993626677617,
          -11.406594600212182,
          -1.0880774295002738,
          -19.479234072613306,
          -22.714747700204217,
          4.695743074994056,
          5.322636933111861,
          -2.3293064064288336,
          -1.4549224375063639,
          -37.392301652384596,
          1.3184944556218863,
          7.460897782845495,
          4.160936334094181,
          -3.3048086277732054,
          -1.2476358036519164,
          -1.180774525354133,
          3.528782427351359,
          0.32840257364091996,
          -0.9274723527987752,
          -40.651996795758656,
          0.12295256702606372,
          -6.361899196598922,
          -1.8132838512628435,
          -23.03237950039647,
          2.038041504573597,
          -2.1552773740172078,
          -10.126372159183564,
          2.3445212594829865,
          -5.020398817957184,
          3.260262242337896,
          -14.866734346975,
          3.5981753190485097
         ],
         "y": [
          -2.165341493845522,
          2.929648591155224,
          -1.2761066681935018,
          5.074672672190844,
          -0.8788378867034248,
          -1.1283450441279819,
          7.2824244447613555,
          3.007596824348336,
          7.422824202672789,
          7.536876374917287,
          4.613171193365216,
          -0.2805918068957647,
          -1.548183976612172,
          9.661239276180838,
          -2.4951766069632226,
          -1.676921007682638,
          2.480900442349892,
          5.841283524045014,
          4.103797549617615,
          -2.1503864989991666,
          -2.1060063931479256,
          -1.36330586955513,
          -2.2419426965359834,
          -1.9246129996662495,
          8.070704459485249,
          0.6796400479268798,
          -1.1582951057584694,
          6.324403612989408,
          7.096309764361133,
          -1.3517978014404042,
          4.851272964558724,
          2.6787855005033405,
          3.8295594948588905,
          2.2154423375353964,
          -1.5976231957738534,
          -2.4696503438248296,
          0.6945165044983341,
          -0.982450384416659,
          7.604289553473631,
          -1.0997169551710109,
          1.6154037070476392,
          -1.6070672426239907,
          -2.453265656034934,
          1.6830139067236287,
          -1.910544845942291,
          -0.9806266955456777,
          -1.0308941632967292,
          -2.218011918090972,
          -2.671578571921302,
          7.154913972848372,
          -4.217713536593289,
          -2.4422503568358778,
          -2.0316801594060476,
          -3.1573323350029714,
          7.693958211374983,
          -1.0786526465786526,
          -1.3080767382222998,
          -1.935887202287992,
          4.5190098235287515,
          -0.4669184974981357,
          2.1759752028806933,
          -2.70172617402865,
          -1.3006344682296371,
          6.745435767199818,
          6.585333493899739,
          7.192518613534622,
          6.3105085800631215,
          -1.3983167255000808,
          -0.30149546984116987,
          -1.4138797886583787,
          18.424812694566167,
          -0.7963513067737898,
          -2.0192157751664905,
          2.7007706115047725,
          -0.3162966985467406,
          -1.8177592096436945,
          -2.1888925834460164,
          8.215356984176056,
          5.112390797492635,
          -0.4605443857951047,
          2.7519707655585504,
          2.8853339069318222,
          -0.5423804528965711,
          -1.1989053245243566,
          -0.9409442441465896,
          -2.0193283937760547,
          7.120005331318996,
          -2.5798833902886216,
          -1.686684519633477,
          -2.229280375465729,
          -0.5284499054955565,
          4.584647462551376,
          -1.0571258726521526,
          2.242402306838014,
          7.689572165110384,
          10.419013086587306,
          -2.0138613744967113,
          0.3296270981216769,
          -1.650599217280318,
          1.113562278732062,
          -0.9584956989090481,
          1.0191526187063102,
          -2.3064410520798213,
          3.833082016877291,
          -0.4128834504466825,
          6.360671864317151,
          -2.5328735065177375,
          2.5528219436528663,
          4.802238486481757,
          -0.9806973298638152,
          -0.8075216922260193,
          0.9525707074381062,
          -1.1958804666997962,
          -2.0352519274124665,
          -0.2945026312086191,
          -1.568437444604512,
          -1.1049066503078273,
          -0.842022664438315,
          3.079744885121713,
          2.65531845677087,
          -0.5779626135887391,
          1.4959961573204188,
          -1.351201323494175,
          2.3233390297278302,
          -2.3590575622360364,
          0.46682088549633644,
          5.287490540033177,
          2.3127862416246634,
          5.1096942066890865,
          8.92557434110721,
          -0.7690841498513805,
          -0.26851387220934964,
          -0.13398041520054668,
          -1.0025171518438787,
          -1.1267743610132614,
          0.9225726848021645,
          -1.331928290100542,
          1.004174446666126,
          -1.26971483710821,
          7.734299704534152,
          -1.0864279626091073,
          -1.2531073980404308,
          -2.6390846728638757,
          -1.43765136053335,
          5.619800602689025,
          39.70984692637374,
          0.4260991782593,
          5.3766582985646005,
          -0.841759489211953,
          -2.6598616208381416,
          5.6744767005804055,
          3.976809230333854,
          3.8861332199625567,
          -1.2353446632984477,
          4.232890006185648,
          -2.3236711248826114,
          -2.5649049592734676,
          -0.7308433055991177,
          -0.8598626967235992,
          -1.170384812885669,
          -1.5787880135309438,
          4.0792346914545945,
          3.9004263487203255,
          2.0128561388523467,
          -1.9032854540732609,
          -1.1191690299347508,
          -1.950107599952264,
          5.215865116395084,
          -2.7617146708857274,
          -0.1979305689735347,
          -2.07412809424647,
          6.793875060133945,
          5.853467020577225,
          5.9072674884107395,
          -0.9906213881432359,
          -1.04890061134235,
          2.5875939047875227,
          -1.5598287717466603,
          -0.4584290264780994,
          -1.7634398496842891,
          -0.84849377238933,
          -0.42853375070996963,
          -3.6665728721612556,
          -2.62375596326357,
          5.51690803464706,
          6.232615218048014,
          -2.7224192180964586,
          -0.9662622640895426,
          -1.5438387785548344,
          -1.3319787863826948,
          -2.838293078269188,
          6.659374203464351,
          -2.4639722158151707,
          -1.786443843693071,
          0.6301679152776829,
          1.1670716981449532,
          -0.7335104246197219,
          -1.8992117799559123,
          1.8567804415770004,
          -1.540901641972696,
          -3.8124815499113973,
          0.9526977734934398,
          1.1006152188419416,
          -0.8977847604877327,
          -0.8136149001384592,
          2.8191101758257573,
          0.9351612920318361,
          -1.2619887773446032,
          7.670394401753108,
          4.363288422050232,
          5.053015986755033,
          -0.719902259233143,
          6.28770618242103,
          0.7035300610020094,
          9.120729047617793,
          6.77043177322572,
          -3.5313547866187593,
          -1.705401827259781,
          -0.7079029335974015,
          -0.6643267100081778,
          -2.399758846783386,
          -1.9614932770539524,
          6.903462809673221,
          6.315933963292263,
          1.0980763835303864,
          4.291904124163152,
          -0.7500601066766241,
          4.784126131775269,
          1.091842795494604,
          5.455498014403133,
          0.33503011164587687,
          -0.655886857258206,
          2.075215976852926,
          5.1488119853599255,
          -0.7691373425906087,
          1.1464515514121305,
          4.578401781395909,
          -0.9267858213348903,
          -2.6549691790194982,
          -0.2657113201811885,
          0.49326267929175754,
          -1.0055166123519959,
          -2.54689165609404,
          -3.0874354609175905,
          -0.007906342336542823,
          6.275599938533745,
          -2.7470790589701637,
          -1.317589455992464,
          0.48593808896231305,
          -2.1122734597400474,
          0.7385229788945802,
          3.0343066496238986,
          -1.8370364963601489,
          1.485742628859343,
          -2.3510886394878328,
          -1.7246104219498581,
          -1.3557081519888503,
          -0.5462649298468699,
          -0.49454102377431813,
          1.8403600444037425,
          6.756871279972207,
          8.206995749218313,
          4.7143922130790585,
          -1.0271408665508763,
          -1.5122960196002462,
          -0.8231580721833814,
          -0.4586025759110166,
          51.69640056883707,
          -0.09184467842812548,
          5.382274160512364,
          -1.365572131542115,
          -0.5295793911965795,
          -2.2706565513309127,
          -2.84532419637068,
          -0.9400582584995273,
          -2.6573853462606447,
          -1.7047938952475263,
          -2.6145314663830383,
          2.2304844346612365,
          -2.251595875483111,
          5.741067820425713,
          -1.8086527847873006,
          2.497690850927019,
          5.321348702811692,
          2.4429780320238,
          4.985780070732481,
          3.934186541399885,
          -0.23879618812803044,
          9.191712130083388,
          3.9769421146001753,
          -1.9628189427478397,
          -1.647440123136525,
          -0.7661694212388119,
          -1.121329747711689,
          -0.40961093600417975,
          -1.1357439625679908,
          2.3375593759546,
          -2.1287884371564467,
          -1.0387244799839344,
          -0.7688059442410434,
          -1.0927672913173456,
          -0.5026767447509092,
          1.5235344414054803,
          -2.312953238775896,
          4.897967187749112,
          -1.284452302047253,
          3.624395945613075,
          -1.1983372203268274,
          6.0564028100966505,
          2.1032366200681327,
          -1.3310529401206819,
          -0.992343865952031,
          -1.2937564394316654,
          5.215135841015813,
          -1.4431184551175988,
          4.110856991514531,
          6.018316226004915,
          -0.6959186172625491,
          -1.5478036371293462,
          -0.9711262348378417,
          -0.9112527380547615,
          -1.8644146466477667,
          -2.118479270896153,
          4.37530543240636,
          -2.4499468200286296,
          -1.1951110402372054,
          -3.1857825711515964,
          7.690862743011373,
          1.546788704318323,
          4.242878594001406,
          2.5025386350298633,
          7.314938100776044,
          10.57366445514685,
          -1.1846367647226366,
          -1.6759768583029826,
          -2.998272620707479,
          2.013139121066182,
          -3.6401588159351292,
          0.45142846748301807,
          5.237657347669975,
          3.3125078641273533,
          -0.6113309618440762,
          1.5870895644181569,
          -2.9235861510545456,
          4.964799783060811,
          3.0422081617461574,
          -0.805603249573628,
          -0.8463079179099047,
          -2.364862529266997,
          -1.7943146028436743,
          -1.643565381248597,
          0.8069119494778962,
          2.971268255795472,
          -2.681466887294125,
          6.604025645189344,
          -1.0488432195585355,
          0.8394908275036659,
          -2.867968016999822,
          2.6576515846864686,
          -0.5908692250798208,
          3.0205345410553766,
          2.604143432599835,
          -2.3944041385606534,
          -2.828003412731178,
          -1.2945870550434904,
          3.531594076130625,
          0.5343538656694459,
          3.0705050544961017,
          -1.3596190416037282,
          1.3797456331365492,
          -0.5699460100183443,
          -1.6597620221856901,
          -1.3956121197765992,
          9.607422618641834,
          -1.189011880281592,
          -0.9894697576687557,
          -1.7884962820786532,
          -2.4763009943669076,
          8.191284851621038,
          0.7819411864702718,
          7.037099399598246,
          26.002840739269715,
          -0.48850192231464246,
          0.3743072107198039,
          -1.4128624602132245,
          -2.019994012915797,
          1.5374836415754838,
          -2.7066624835156823,
          -1.6412927864068023,
          0.5449851850741827,
          5.608056711199746,
          -2.5597822510299686,
          5.2928945217996,
          6.7232779329750905,
          -0.07268364064094655,
          -1.7230599734814855,
          -2.0033472650301087,
          -0.9014328474599549,
          -1.5721217225963537,
          -0.7016916989463915,
          -0.9409182519908558,
          -1.9831465870176397,
          -1.9370781684498313,
          -1.9390016472861367,
          9.572112452774874,
          1.9899533548279844,
          -0.9236869458751269,
          4.3465293240743055,
          5.283042741935967,
          -2.859291035968305,
          -2.918622571254539,
          -0.5024921802554784,
          -0.794830939874842,
          9.565769848089012,
          -1.7189104221631113,
          -3.777772237911006,
          -2.597727512805708,
          -0.3761622664187794,
          -0.8641566801249876,
          -0.9823353835510358,
          -0.9059377635058108,
          23.025197447374904,
          -1.0666030453022306,
          10.518589749899302,
          -1.4191088914075405,
          0.909791507211321,
          -0.7711365661697599,
          5.387133349792208,
          -1.9641280910313403,
          -0.5562759794876547,
          1.6251241023064937,
          -2.162073706229443,
          0.1227886033705927,
          -2.4655747777243495,
          3.0000903712031843,
          -2.406371818408618
         ]
        },
        {
         "mode": "markers",
         "name": "Cluster 2",
         "type": "scatter",
         "x": [
          19.031533824490882,
          32.61861340306006,
          16.771247720154697,
          14.389090128362318,
          16.660282168687058,
          58.371111039876816,
          47.50969473063399,
          32.172321651405234,
          14.45599993414272,
          55.192664431483706,
          10.865069245028932,
          40.6991615824523,
          13.620655976034584,
          22.77874744933735,
          7.898064198659971,
          9.52080664561331,
          19.951442677357782,
          44.860912562613386,
          8.798857496189326,
          11.333198924951022,
          19.900601852631503,
          12.101868972788896,
          8.439995548885847,
          13.386378944225683,
          13.688729588814171,
          40.29234068122225,
          33.285120817487396,
          9.967972442651561,
          11.660676890231679,
          23.751162325882348,
          24.643468498726925,
          16.35054010674908,
          11.827436077885809,
          34.88847658767343,
          8.021330001737178,
          32.99631943493998,
          14.744159507308384,
          22.939454330806647,
          20.01486911604911,
          18.57953303279241,
          38.814930063440876,
          30.46893892003026,
          9.864973889322155,
          25.69067476634126,
          12.785559081854174,
          22.070497266513183,
          15.30989167970417,
          14.188358447096451,
          28.64190044258036,
          19.071530074983457,
          15.700617640930291,
          12.737051340336375,
          64.218199356845,
          9.595703375333388,
          22.310219875192267,
          16.968221474152827,
          15.600318146461616,
          22.378127204246397,
          25.236119326844825,
          17.395350729855558,
          23.916919316045572,
          15.821652838804384,
          16.009143524402607,
          22.116934251551953,
          9.462326282647018,
          13.533272047443914,
          28.619366612117837,
          42.34407070351806,
          33.71629652929862,
          18.230171074561813,
          15.128577731893364,
          33.24514072806536,
          34.35890373226076,
          23.02813723378996,
          50.26979935422698,
          46.33659033632412,
          9.17132615807052,
          10.995300123015188,
          15.198919684124363,
          8.501795262713095,
          25.221237916566754,
          18.325773128536905,
          22.372382336744508,
          21.802319146404873,
          12.69786246054109,
          23.655648530366328,
          47.00146563771505,
          26.253347968659003,
          47.519114306773105,
          29.17633285874569,
          10.84786702665334,
          12.417050049053353,
          12.179924634874848,
          11.053651157410863,
          19.24988585471565,
          28.394074712037146,
          34.18488722476344,
          14.40452174899914,
          30.42192098944973,
          10.123028042511773,
          9.431623478070124,
          38.022205655609405,
          31.62804048373999,
          8.206955187562745,
          67.3069898867907,
          53.645906987738854,
          40.0204023461836,
          24.502001547722585,
          53.088729050638385,
          37.302949655163346,
          50.33139233171285,
          53.52298623779184,
          14.383449244204039,
          18.594361987350794,
          18.151153303695427,
          33.63141918806299,
          17.68041750197226,
          11.176505893918794
         ],
         "y": [
          -6.951508144081216,
          -10.393404042779938,
          -6.401283682895902,
          -5.5384184791585005,
          -6.224731745876386,
          -18.793934102140483,
          -10.362325004485115,
          -10.918031575981114,
          -5.552714568660469,
          -17.591685316058424,
          -4.495404141947125,
          -12.045236315520766,
          -4.51753150997314,
          1.8345688220512317,
          -3.640140413800222,
          -4.114504333293015,
          -7.1857692832730775,
          -14.414891060502375,
          -3.9404914805160485,
          -4.626891905286246,
          -7.17122292654834,
          -4.909601882171678,
          -3.820264045402962,
          -5.268226162890752,
          -5.13349336370622,
          -9.800871021694693,
          -11.094670118095225,
          -4.266832178289647,
          -4.736993498304316,
          -8.31560659686994,
          -8.682686060149436,
          -4.613994852340746,
          -4.814985170822134,
          -11.50888123189276,
          -3.6781359069388837,
          -11.200368553098391,
          -5.231996205314536,
          -7.042853091999243,
          -7.211832538292866,
          -6.798365534694665,
          -12.682531887757037,
          -9.450668683136556,
          -4.22713818547916,
          -8.834775624626204,
          -4.855196535629455,
          -7.823678919393879,
          -4.902780840739774,
          -5.5401935485819065,
          -9.681377523687958,
          -6.97436509464903,
          -6.113237577419342,
          -0.98450010104308,
          -12.84250302608198,
          -4.135511384581291,
          -7.840713039774771,
          -6.327581427426786,
          -6.150501258501163,
          -6.68356264120559,
          -8.750288737427176,
          -6.4730535944373875,
          -8.370182458583628,
          -6.062784999205557,
          -5.498941157712234,
          -7.843038761791281,
          -4.162775737341392,
          -5.317253424243522,
          -8.11365037254332,
          -13.227901646011226,
          -11.172408388596029,
          -5.480778283602586,
          -5.383623843696269,
          -11.289300626665591,
          -11.384821447806624,
          -8.218230565172007,
          29.64402400592565,
          -10.259452531140646,
          -4.068393915961661,
          -4.610696686705555,
          -5.943939082956409,
          -2.616313658913608,
          -8.744545881257087,
          -6.713418980974387,
          -7.863298126856141,
          -6.170900599385671,
          -5.174287443117667,
          -8.289090910440832,
          -15.050879482215858,
          -9.081291641657119,
          -15.44102609350939,
          -10.068437683664065,
          -2.7780843568094657,
          -5.015055070125011,
          -4.934414484945769,
          -4.560731092633602,
          -6.955739067983241,
          -9.661907990345863,
          -11.324952019636456,
          -5.540656568057091,
          -10.208899283153587,
          -4.318490682573352,
          -4.08071466271055,
          -11.533002801758757,
          -10.605326901856698,
          -3.7440962358642818,
          -18.975563491485836,
          -17.000002040455687,
          -10.771872418130386,
          -1.062253617018764,
          -16.821941327755574,
          -12.505927725806401,
          -10.002114127551247,
          -17.07566352668592,
          -4.642121600452996,
          -6.803699437704555,
          -6.6572065353151695,
          -11.209532599132933,
          -6.56674717227854,
          -4.600291712120255
         ]
        },
        {
         "mode": "markers",
         "name": "Cluster 3",
         "type": "scatter",
         "x": [
          124.92886487705715
         ],
         "y": [
          352.5255106612074
         ]
        },
        {
         "marker": {
          "color": "rgb(255,255,0)",
          "size": 16
         },
         "mode": "markers",
         "name": "Centroids",
         "type": "scatter",
         "x": [
          -6.7910329994345835,
          24.03357222776625,
          124.92886487705715
         ],
         "y": [
          1.196925475161052,
          -7.410042523995127,
          352.5255106612074
         ]
        }
       ],
       "layout": {
        "template": {
         "data": {
          "bar": [
           {
            "error_x": {
             "color": "#2a3f5f"
            },
            "error_y": {
             "color": "#2a3f5f"
            },
            "marker": {
             "line": {
              "color": "#E5ECF6",
              "width": 0.5
             }
            },
            "type": "bar"
           }
          ],
          "barpolar": [
           {
            "marker": {
             "line": {
              "color": "#E5ECF6",
              "width": 0.5
             }
            },
            "type": "barpolar"
           }
          ],
          "carpet": [
           {
            "aaxis": {
             "endlinecolor": "#2a3f5f",
             "gridcolor": "white",
             "linecolor": "white",
             "minorgridcolor": "white",
             "startlinecolor": "#2a3f5f"
            },
            "baxis": {
             "endlinecolor": "#2a3f5f",
             "gridcolor": "white",
             "linecolor": "white",
             "minorgridcolor": "white",
             "startlinecolor": "#2a3f5f"
            },
            "type": "carpet"
           }
          ],
          "choropleth": [
           {
            "colorbar": {
             "outlinewidth": 0,
             "ticks": ""
            },
            "type": "choropleth"
           }
          ],
          "contour": [
           {
            "colorbar": {
             "outlinewidth": 0,
             "ticks": ""
            },
            "colorscale": [
             [
              0,
              "#0d0887"
             ],
             [
              0.1111111111111111,
              "#46039f"
             ],
             [
              0.2222222222222222,
              "#7201a8"
             ],
             [
              0.3333333333333333,
              "#9c179e"
             ],
             [
              0.4444444444444444,
              "#bd3786"
             ],
             [
              0.5555555555555556,
              "#d8576b"
             ],
             [
              0.6666666666666666,
              "#ed7953"
             ],
             [
              0.7777777777777778,
              "#fb9f3a"
             ],
             [
              0.8888888888888888,
              "#fdca26"
             ],
             [
              1,
              "#f0f921"
             ]
            ],
            "type": "contour"
           }
          ],
          "contourcarpet": [
           {
            "colorbar": {
             "outlinewidth": 0,
             "ticks": ""
            },
            "type": "contourcarpet"
           }
          ],
          "heatmap": [
           {
            "colorbar": {
             "outlinewidth": 0,
             "ticks": ""
            },
            "colorscale": [
             [
              0,
              "#0d0887"
             ],
             [
              0.1111111111111111,
              "#46039f"
             ],
             [
              0.2222222222222222,
              "#7201a8"
             ],
             [
              0.3333333333333333,
              "#9c179e"
             ],
             [
              0.4444444444444444,
              "#bd3786"
             ],
             [
              0.5555555555555556,
              "#d8576b"
             ],
             [
              0.6666666666666666,
              "#ed7953"
             ],
             [
              0.7777777777777778,
              "#fb9f3a"
             ],
             [
              0.8888888888888888,
              "#fdca26"
             ],
             [
              1,
              "#f0f921"
             ]
            ],
            "type": "heatmap"
           }
          ],
          "heatmapgl": [
           {
            "colorbar": {
             "outlinewidth": 0,
             "ticks": ""
            },
            "colorscale": [
             [
              0,
              "#0d0887"
             ],
             [
              0.1111111111111111,
              "#46039f"
             ],
             [
              0.2222222222222222,
              "#7201a8"
             ],
             [
              0.3333333333333333,
              "#9c179e"
             ],
             [
              0.4444444444444444,
              "#bd3786"
             ],
             [
              0.5555555555555556,
              "#d8576b"
             ],
             [
              0.6666666666666666,
              "#ed7953"
             ],
             [
              0.7777777777777778,
              "#fb9f3a"
             ],
             [
              0.8888888888888888,
              "#fdca26"
             ],
             [
              1,
              "#f0f921"
             ]
            ],
            "type": "heatmapgl"
           }
          ],
          "histogram": [
           {
            "marker": {
             "colorbar": {
              "outlinewidth": 0,
              "ticks": ""
             }
            },
            "type": "histogram"
           }
          ],
          "histogram2d": [
           {
            "colorbar": {
             "outlinewidth": 0,
             "ticks": ""
            },
            "colorscale": [
             [
              0,
              "#0d0887"
             ],
             [
              0.1111111111111111,
              "#46039f"
             ],
             [
              0.2222222222222222,
              "#7201a8"
             ],
             [
              0.3333333333333333,
              "#9c179e"
             ],
             [
              0.4444444444444444,
              "#bd3786"
             ],
             [
              0.5555555555555556,
              "#d8576b"
             ],
             [
              0.6666666666666666,
              "#ed7953"
             ],
             [
              0.7777777777777778,
              "#fb9f3a"
             ],
             [
              0.8888888888888888,
              "#fdca26"
             ],
             [
              1,
              "#f0f921"
             ]
            ],
            "type": "histogram2d"
           }
          ],
          "histogram2dcontour": [
           {
            "colorbar": {
             "outlinewidth": 0,
             "ticks": ""
            },
            "colorscale": [
             [
              0,
              "#0d0887"
             ],
             [
              0.1111111111111111,
              "#46039f"
             ],
             [
              0.2222222222222222,
              "#7201a8"
             ],
             [
              0.3333333333333333,
              "#9c179e"
             ],
             [
              0.4444444444444444,
              "#bd3786"
             ],
             [
              0.5555555555555556,
              "#d8576b"
             ],
             [
              0.6666666666666666,
              "#ed7953"
             ],
             [
              0.7777777777777778,
              "#fb9f3a"
             ],
             [
              0.8888888888888888,
              "#fdca26"
             ],
             [
              1,
              "#f0f921"
             ]
            ],
            "type": "histogram2dcontour"
           }
          ],
          "mesh3d": [
           {
            "colorbar": {
             "outlinewidth": 0,
             "ticks": ""
            },
            "type": "mesh3d"
           }
          ],
          "parcoords": [
           {
            "line": {
             "colorbar": {
              "outlinewidth": 0,
              "ticks": ""
             }
            },
            "type": "parcoords"
           }
          ],
          "pie": [
           {
            "automargin": true,
            "type": "pie"
           }
          ],
          "scatter": [
           {
            "marker": {
             "colorbar": {
              "outlinewidth": 0,
              "ticks": ""
             }
            },
            "type": "scatter"
           }
          ],
          "scatter3d": [
           {
            "line": {
             "colorbar": {
              "outlinewidth": 0,
              "ticks": ""
             }
            },
            "marker": {
             "colorbar": {
              "outlinewidth": 0,
              "ticks": ""
             }
            },
            "type": "scatter3d"
           }
          ],
          "scattercarpet": [
           {
            "marker": {
             "colorbar": {
              "outlinewidth": 0,
              "ticks": ""
             }
            },
            "type": "scattercarpet"
           }
          ],
          "scattergeo": [
           {
            "marker": {
             "colorbar": {
              "outlinewidth": 0,
              "ticks": ""
             }
            },
            "type": "scattergeo"
           }
          ],
          "scattergl": [
           {
            "marker": {
             "colorbar": {
              "outlinewidth": 0,
              "ticks": ""
             }
            },
            "type": "scattergl"
           }
          ],
          "scattermapbox": [
           {
            "marker": {
             "colorbar": {
              "outlinewidth": 0,
              "ticks": ""
             }
            },
            "type": "scattermapbox"
           }
          ],
          "scatterpolar": [
           {
            "marker": {
             "colorbar": {
              "outlinewidth": 0,
              "ticks": ""
             }
            },
            "type": "scatterpolar"
           }
          ],
          "scatterpolargl": [
           {
            "marker": {
             "colorbar": {
              "outlinewidth": 0,
              "ticks": ""
             }
            },
            "type": "scatterpolargl"
           }
          ],
          "scatterternary": [
           {
            "marker": {
             "colorbar": {
              "outlinewidth": 0,
              "ticks": ""
             }
            },
            "type": "scatterternary"
           }
          ],
          "surface": [
           {
            "colorbar": {
             "outlinewidth": 0,
             "ticks": ""
            },
            "colorscale": [
             [
              0,
              "#0d0887"
             ],
             [
              0.1111111111111111,
              "#46039f"
             ],
             [
              0.2222222222222222,
              "#7201a8"
             ],
             [
              0.3333333333333333,
              "#9c179e"
             ],
             [
              0.4444444444444444,
              "#bd3786"
             ],
             [
              0.5555555555555556,
              "#d8576b"
             ],
             [
              0.6666666666666666,
              "#ed7953"
             ],
             [
              0.7777777777777778,
              "#fb9f3a"
             ],
             [
              0.8888888888888888,
              "#fdca26"
             ],
             [
              1,
              "#f0f921"
             ]
            ],
            "type": "surface"
           }
          ],
          "table": [
           {
            "cells": {
             "fill": {
              "color": "#EBF0F8"
             },
             "line": {
              "color": "white"
             }
            },
            "header": {
             "fill": {
              "color": "#C8D4E3"
             },
             "line": {
              "color": "white"
             }
            },
            "type": "table"
           }
          ]
         },
         "layout": {
          "annotationdefaults": {
           "arrowcolor": "#2a3f5f",
           "arrowhead": 0,
           "arrowwidth": 1
          },
          "coloraxis": {
           "colorbar": {
            "outlinewidth": 0,
            "ticks": ""
           }
          },
          "colorscale": {
           "diverging": [
            [
             0,
             "#8e0152"
            ],
            [
             0.1,
             "#c51b7d"
            ],
            [
             0.2,
             "#de77ae"
            ],
            [
             0.3,
             "#f1b6da"
            ],
            [
             0.4,
             "#fde0ef"
            ],
            [
             0.5,
             "#f7f7f7"
            ],
            [
             0.6,
             "#e6f5d0"
            ],
            [
             0.7,
             "#b8e186"
            ],
            [
             0.8,
             "#7fbc41"
            ],
            [
             0.9,
             "#4d9221"
            ],
            [
             1,
             "#276419"
            ]
           ],
           "sequential": [
            [
             0,
             "#0d0887"
            ],
            [
             0.1111111111111111,
             "#46039f"
            ],
            [
             0.2222222222222222,
             "#7201a8"
            ],
            [
             0.3333333333333333,
             "#9c179e"
            ],
            [
             0.4444444444444444,
             "#bd3786"
            ],
            [
             0.5555555555555556,
             "#d8576b"
            ],
            [
             0.6666666666666666,
             "#ed7953"
            ],
            [
             0.7777777777777778,
             "#fb9f3a"
            ],
            [
             0.8888888888888888,
             "#fdca26"
            ],
            [
             1,
             "#f0f921"
            ]
           ],
           "sequentialminus": [
            [
             0,
             "#0d0887"
            ],
            [
             0.1111111111111111,
             "#46039f"
            ],
            [
             0.2222222222222222,
             "#7201a8"
            ],
            [
             0.3333333333333333,
             "#9c179e"
            ],
            [
             0.4444444444444444,
             "#bd3786"
            ],
            [
             0.5555555555555556,
             "#d8576b"
            ],
            [
             0.6666666666666666,
             "#ed7953"
            ],
            [
             0.7777777777777778,
             "#fb9f3a"
            ],
            [
             0.8888888888888888,
             "#fdca26"
            ],
            [
             1,
             "#f0f921"
            ]
           ]
          },
          "colorway": [
           "#636efa",
           "#EF553B",
           "#00cc96",
           "#ab63fa",
           "#FFA15A",
           "#19d3f3",
           "#FF6692",
           "#B6E880",
           "#FF97FF",
           "#FECB52"
          ],
          "font": {
           "color": "#2a3f5f"
          },
          "geo": {
           "bgcolor": "white",
           "lakecolor": "white",
           "landcolor": "#E5ECF6",
           "showlakes": true,
           "showland": true,
           "subunitcolor": "white"
          },
          "hoverlabel": {
           "align": "left"
          },
          "hovermode": "closest",
          "mapbox": {
           "style": "light"
          },
          "paper_bgcolor": "white",
          "plot_bgcolor": "#E5ECF6",
          "polar": {
           "angularaxis": {
            "gridcolor": "white",
            "linecolor": "white",
            "ticks": ""
           },
           "bgcolor": "#E5ECF6",
           "radialaxis": {
            "gridcolor": "white",
            "linecolor": "white",
            "ticks": ""
           }
          },
          "scene": {
           "xaxis": {
            "backgroundcolor": "#E5ECF6",
            "gridcolor": "white",
            "gridwidth": 2,
            "linecolor": "white",
            "showbackground": true,
            "ticks": "",
            "zerolinecolor": "white"
           },
           "yaxis": {
            "backgroundcolor": "#E5ECF6",
            "gridcolor": "white",
            "gridwidth": 2,
            "linecolor": "white",
            "showbackground": true,
            "ticks": "",
            "zerolinecolor": "white"
           },
           "zaxis": {
            "backgroundcolor": "#E5ECF6",
            "gridcolor": "white",
            "gridwidth": 2,
            "linecolor": "white",
            "showbackground": true,
            "ticks": "",
            "zerolinecolor": "white"
           }
          },
          "shapedefaults": {
           "line": {
            "color": "#2a3f5f"
           }
          },
          "ternary": {
           "aaxis": {
            "gridcolor": "white",
            "linecolor": "white",
            "ticks": ""
           },
           "baxis": {
            "gridcolor": "white",
            "linecolor": "white",
            "ticks": ""
           },
           "bgcolor": "#E5ECF6",
           "caxis": {
            "gridcolor": "white",
            "linecolor": "white",
            "ticks": ""
           }
          },
          "title": {
           "x": 0.05
          },
          "xaxis": {
           "automargin": true,
           "gridcolor": "white",
           "linecolor": "white",
           "ticks": "",
           "title": {
            "standoff": 15
           },
           "zerolinecolor": "white",
           "zerolinewidth": 2
          },
          "yaxis": {
           "automargin": true,
           "gridcolor": "white",
           "linecolor": "white",
           "ticks": "",
           "title": {
            "standoff": 15
           },
           "zerolinecolor": "white",
           "zerolinewidth": 2
          }
         }
        },
        "title": {
         "text": "Clusters"
        }
       }
      },
      "text/html": [
       "<div>\n",
       "        \n",
       "        \n",
       "            <div id=\"f98fde0f-98ac-4204-bd50-78e26d33d525\" class=\"plotly-graph-div\" style=\"height:525px; width:100%;\"></div>\n",
       "            <script type=\"text/javascript\">\n",
       "                require([\"plotly\"], function(Plotly) {\n",
       "                    window.PLOTLYENV=window.PLOTLYENV || {};\n",
       "                    \n",
       "                if (document.getElementById(\"f98fde0f-98ac-4204-bd50-78e26d33d525\")) {\n",
       "                    Plotly.newPlot(\n",
       "                        'f98fde0f-98ac-4204-bd50-78e26d33d525',\n",
       "                        [{\"mode\": \"markers\", \"name\": \"Cluster 1\", \"type\": \"scatter\", \"x\": [2.8629907890913513, -0.006070556462803508, -0.8218083387800387, -11.759877428007147, -1.2055765487330716, -0.4581831088720891, -29.527919050324403, -14.804776702562194, -30.071076582417632, -30.414842916813264, -20.50008036021321, -3.800846844213667, 0.5495836717338126, -37.670202569647806, 3.404912649911725, 1.184359394281616, -13.30596336692277, -24.60127592643704, -18.760863244927712, 2.8200168091299083, 2.4668203252887047, 0.2454193225652566, 2.868380615835813, 1.9308896799934725, -32.28789306330164, -7.088646715630946, -0.35437156942802367, -26.253348078900803, -28.95863767862618, 0.21538301673022484, -21.411384663111896, -13.894620196795072, -14.264040251352023, -8.640224741232444, 0.9588566847955627, 3.549558613494214, -6.8552126656088035, -0.8910416135722871, -30.689701652728584, -0.5419153896967391, -10.100474809413058, 0.9783385875496968, 3.5414991815997627, -10.50006373777357, 1.687480671509084, -0.8967641279569852, -0.7308043428641698, 2.8016770468870096, 4.1538319637722845, -29.139238567676575, 9.208369210394155, 3.4664508151517217, 2.237520427232313, 6.237063545040367, -30.94912607829026, -0.6015801856740851, -0.19068827621805143, 1.9728552466441842, -20.334510015812555, -3.038660343935061, -11.431093396664615, 4.47177008516878, -0.15075091250627387, -27.718458835578257, -27.217375439780405, -29.23737881482942, -26.20923189065147, 0.15936790672431925, -3.1277141806243653, 0.18924075754158384, -56.32673515935626, -1.6565393427610076, 2.001430653949864, -10.7895918915282, -3.09379593147239, 1.6024556323226133, 2.714321439455465, -32.731007362389995, -22.21189063241531, -3.060236588811956, -14.033579771687762, -14.508272956272066, 0.9141619870303277, -0.2641905088233086, -1.0368596050957624, 2.2247374115464202, -29.034902763120066, 3.8670803562919067, 4.34204569401591, 3.0689563962432715, -2.862924724997582, -19.77307896191887, -0.6758738438053014, -1.1065536454160032, -30.951672215389728, -18.107287742673254, 2.1816791612747677, -5.824109297607904, 1.1058498185661076, -8.395529709449741, -1.372260772690295, -8.316870804612705, 3.0738739054649598, -17.75748072480141, 0.5606229539146478, -26.353668332788473, 3.7454110708921093, -13.320217529948478, -21.075125296784307, -0.9024672602434675, -2.0352856281269767, -3.7252676660303012, -0.2520158021208491, 2.252286296845379, -3.7698680666638964, 0.8952625710312558, -0.45032773844293095, -1.3110052646948906, -14.54432007905025, -13.826734070735743, -2.09294191036463, -9.568569023351841, 0.20708641091697003, -12.786053770784964, 3.225905710704493, -6.254256713107051, -22.72580609367629, -12.59730780372572, -22.200695200998222, -17.38937101244754, -1.4448755520617063, -3.6436817352884376, -4.252784984299572, -0.8311509093404201, -1.2790397195717258, -8.049263778379366, 0.1348546550538103, -2.567806398133531, -0.14066682162653027, -31.08271538149586, -0.988129740804847, -0.08125397125315693, 4.060659551956168, 0.4692244005505434, -23.928915541547504, -11.333343382159839, -6.12592134643612, -22.99818833551066, -1.3162452020635715, 4.123567001467745, -24.080921685091194, -18.19363898466248, -15.525619874351785, -0.11508282089330105, -19.16324325958386, 2.8337914146962526, 3.55401827946262, -2.0480073446844247, -1.548097014681716, -0.6125972544058202, 0.6037807228302394, -3.1808164827643437, -18.162552965599083, -11.500234656683757, 1.6737951684293437, -0.7519702609457269, 1.7319837385040684, -18.75593935102807, 4.433399306378469, -0.06864213191242366, 2.3691413126961463, -27.856075537184783, -24.637273112991235, -21.440113435155126, 2.280834957205559, -0.6888067059297861, -13.614911417134616, 0.8577577253728949, -2.456562637166434, 1.4466403588319838, -1.6933992348925768, -2.54795251579739, 7.779411798831384, 4.009553478172629, -23.62745474196613, -25.96082145510977, 4.31757576568199, -0.8761066643687556, 0.7866918213894317, 0.15044241770754643, 5.096470501822265, -27.445035949054677, 3.5348889948390387, 1.5074656113852924, -6.942713975180795, -8.551444440127735, -2.044064562003157, 1.8593163570716653, 0.05669461769427493, 0.7984158401567457, 7.7886846373364955, -8.11460823839799, -8.55025398267162, -1.1461280789569428, -1.4006811041520693, -14.308058708418555, -7.848639844941461, -0.051923565616096484, -30.900381962396885, -19.55560240792688, -22.03392750865003, -1.672897901273696, -22.496225669821225, -6.955712981329546, -35.85447143926772, -27.79472178349691, 6.727122687511031, 1.2725815005400525, -1.7118876010547113, -1.8359169443686991, 3.340065398935031, 2.0480030326046763, -24.25394679941521, -26.221933734212918, -8.351078805856883, -19.323801115342807, -1.6309828309138332, -21.00946676185378, -8.32631718364039, -5.454492284097502, -5.855166173936716, -1.9110896450523152, -11.596267824629306, -22.318922622217652, -2.1465095894726356, -8.679456930861784, -20.31722436402696, -1.0819550475650297, 3.9094439069902607, -3.2232838339490844, -2.33804595875026, -0.8221889031343808, 3.8012483880140118, 5.82812573792083, -4.623498219673238, -26.10489608609496, 4.3847669708902925, 0.11767294867640322, -6.291045908585644, 2.4827587552501407, -7.275029230257855, -14.962217233597448, 1.6660144302218889, -9.70540432002409, 3.17764513525953, 1.31406266343856, 0.20151435919799698, -2.143655177649617, -2.3540784611041716, -10.968029652872533, -27.74809180064455, -32.70951894271533, -20.816778978397362, -0.7633441252235093, 0.5050924656519041, -1.369383328996195, -2.461726006735724, 20.25495967712355, 2.750765760874239, -23.016671759552395, 0.26523495210575476, -2.8524270161060272, 3.186092651300505, 5.112354051642779, -1.01346999421074, 6.917200441811982, 1.239518423607205, 3.9679844803298185, -10.010035200480798, 2.8781293804155146, -24.280599180046593, 1.556280086745788, -13.158023963221664, -0.9120949385161494, -12.987647489982827, -21.8266446414607, -18.067428765591504, -3.9275073725843956, -36.05818773955598, -18.402334177036526, 2.0305655084875713, 1.0839362182547714, -1.5530228634550596, -0.4830280797855349, -3.1875222237746574, -0.46069378594425087, -12.601522790934489, 2.506763716449803, -0.7486479886669498, -1.5579853360641922, -0.9717684020097903, -2.3309115209639044, -9.814098102679022, 3.0798047335852075, -21.493991109035157, 0.032198682267102444, -17.135248501323254, -0.25081359143554355, -25.436776430259066, -11.763957327386168, 0.13991924427820226, -0.877092337825992, 0.021635195629706602, -22.513666415631793, 0.3118310986532734, -18.79828544654161, -25.24818804239757, -1.7714025105001805, 3.946861260434097, -0.9236849802111942, -1.510022176679238, 1.7449066214747262, 2.519968840850427, -19.797732355764403, 3.5020318830270614, -0.45154916666074674, 5.69102052202032, -30.954832703898287, -10.089483280915816, -15.396212192833627, -13.173626284992256, -29.619406176500863, -40.82231575702273, -0.2886639156828882, 1.1783842929718014, 5.562855500606839, -11.494626894187157, 7.681940069599682, 1.1138079753532226, -22.572015041430845, -16.003170705518297, -2.6106751152681134, -10.008556977854898, 5.3385375854142, -21.768099005243474, -15.19237669870793, -1.4466046876386638, 1.8360013131412163, 3.220989093520278, 1.5385329226087896, 1.0797513843625712, -7.477632784358725, -14.338923014446465, 4.188346137577689, -27.279928500473478, -0.6942125392248365, -7.576673459099367, 7.882818103545327, 0.6709577440033307, -2.048234982016285, -14.929065363807723, -13.675728767465118, 3.5465187891499204, 5.0524609387958135, 0.043276988124868486, -16.842789947913218, -2.2744991305978455, -15.36752750778931, 0.23818583865442114, -8.423180893863664, -2.112751926744679, 0.7253461994544882, 9.321727199435044, -37.514027701392045, -0.2753460902898335, -0.8654425279961538, 1.5166106880656511, 3.5766638511629574, -32.663477298145665, 0.12208677545048216, -28.787423611642513, 3.60924444535175, -2.356867117319668, -1.8026821982856416, 0.39040525761872635, 2.6590927442128067, -9.869914603679296, 4.269368504987487, 1.0987903818911626, -6.88105195396662, -23.87326910516083, 3.8258365869044186, -0.8031339925880676, -27.651398529563224, -0.4648264811019435, 1.296271559368321, 2.1398728770542745, 1.2694903982949632, 0.8609699937746124, -2.3340463884348264, -1.0396047083929914, 2.1116024680476775, 1.93725671123971, 1.9597977995233447, -37.40993626677617, -11.406594600212182, -1.0880774295002738, -19.479234072613306, -22.714747700204217, 4.695743074994056, 5.322636933111861, -2.3293064064288336, -1.4549224375063639, -37.392301652384596, 1.3184944556218863, 7.460897782845495, 4.160936334094181, -3.3048086277732054, -1.2476358036519164, -1.180774525354133, 3.528782427351359, 0.32840257364091996, -0.9274723527987752, -40.651996795758656, 0.12295256702606372, -6.361899196598922, -1.8132838512628435, -23.03237950039647, 2.038041504573597, -2.1552773740172078, -10.126372159183564, 2.3445212594829865, -5.020398817957184, 3.260262242337896, -14.866734346975, 3.5981753190485097], \"y\": [-2.165341493845522, 2.929648591155224, -1.2761066681935018, 5.074672672190844, -0.8788378867034248, -1.1283450441279819, 7.2824244447613555, 3.007596824348336, 7.422824202672789, 7.536876374917287, 4.613171193365216, -0.2805918068957647, -1.548183976612172, 9.661239276180838, -2.4951766069632226, -1.676921007682638, 2.480900442349892, 5.841283524045014, 4.103797549617615, -2.1503864989991666, -2.1060063931479256, -1.36330586955513, -2.2419426965359834, -1.9246129996662495, 8.070704459485249, 0.6796400479268798, -1.1582951057584694, 6.324403612989408, 7.096309764361133, -1.3517978014404042, 4.851272964558724, 2.6787855005033405, 3.8295594948588905, 2.2154423375353964, -1.5976231957738534, -2.4696503438248296, 0.6945165044983341, -0.982450384416659, 7.604289553473631, -1.0997169551710109, 1.6154037070476392, -1.6070672426239907, -2.453265656034934, 1.6830139067236287, -1.910544845942291, -0.9806266955456777, -1.0308941632967292, -2.218011918090972, -2.671578571921302, 7.154913972848372, -4.217713536593289, -2.4422503568358778, -2.0316801594060476, -3.1573323350029714, 7.693958211374983, -1.0786526465786526, -1.3080767382222998, -1.935887202287992, 4.5190098235287515, -0.4669184974981357, 2.1759752028806933, -2.70172617402865, -1.3006344682296371, 6.745435767199818, 6.585333493899739, 7.192518613534622, 6.3105085800631215, -1.3983167255000808, -0.30149546984116987, -1.4138797886583787, 18.424812694566167, -0.7963513067737898, -2.0192157751664905, 2.7007706115047725, -0.3162966985467406, -1.8177592096436945, -2.1888925834460164, 8.215356984176056, 5.112390797492635, -0.4605443857951047, 2.7519707655585504, 2.8853339069318222, -0.5423804528965711, -1.1989053245243566, -0.9409442441465896, -2.0193283937760547, 7.120005331318996, -2.5798833902886216, -1.686684519633477, -2.229280375465729, -0.5284499054955565, 4.584647462551376, -1.0571258726521526, 2.242402306838014, 7.689572165110384, 10.419013086587306, -2.0138613744967113, 0.3296270981216769, -1.650599217280318, 1.113562278732062, -0.9584956989090481, 1.0191526187063102, -2.3064410520798213, 3.833082016877291, -0.4128834504466825, 6.360671864317151, -2.5328735065177375, 2.5528219436528663, 4.802238486481757, -0.9806973298638152, -0.8075216922260193, 0.9525707074381062, -1.1958804666997962, -2.0352519274124665, -0.2945026312086191, -1.568437444604512, -1.1049066503078273, -0.842022664438315, 3.079744885121713, 2.65531845677087, -0.5779626135887391, 1.4959961573204188, -1.351201323494175, 2.3233390297278302, -2.3590575622360364, 0.46682088549633644, 5.287490540033177, 2.3127862416246634, 5.1096942066890865, 8.92557434110721, -0.7690841498513805, -0.26851387220934964, -0.13398041520054668, -1.0025171518438787, -1.1267743610132614, 0.9225726848021645, -1.331928290100542, 1.004174446666126, -1.26971483710821, 7.734299704534152, -1.0864279626091073, -1.2531073980404308, -2.6390846728638757, -1.43765136053335, 5.619800602689025, 39.70984692637374, 0.4260991782593, 5.3766582985646005, -0.841759489211953, -2.6598616208381416, 5.6744767005804055, 3.976809230333854, 3.8861332199625567, -1.2353446632984477, 4.232890006185648, -2.3236711248826114, -2.5649049592734676, -0.7308433055991177, -0.8598626967235992, -1.170384812885669, -1.5787880135309438, 4.0792346914545945, 3.9004263487203255, 2.0128561388523467, -1.9032854540732609, -1.1191690299347508, -1.950107599952264, 5.215865116395084, -2.7617146708857274, -0.1979305689735347, -2.07412809424647, 6.793875060133945, 5.853467020577225, 5.9072674884107395, -0.9906213881432359, -1.04890061134235, 2.5875939047875227, -1.5598287717466603, -0.4584290264780994, -1.7634398496842891, -0.84849377238933, -0.42853375070996963, -3.6665728721612556, -2.62375596326357, 5.51690803464706, 6.232615218048014, -2.7224192180964586, -0.9662622640895426, -1.5438387785548344, -1.3319787863826948, -2.838293078269188, 6.659374203464351, -2.4639722158151707, -1.786443843693071, 0.6301679152776829, 1.1670716981449532, -0.7335104246197219, -1.8992117799559123, 1.8567804415770004, -1.540901641972696, -3.8124815499113973, 0.9526977734934398, 1.1006152188419416, -0.8977847604877327, -0.8136149001384592, 2.8191101758257573, 0.9351612920318361, -1.2619887773446032, 7.670394401753108, 4.363288422050232, 5.053015986755033, -0.719902259233143, 6.28770618242103, 0.7035300610020094, 9.120729047617793, 6.77043177322572, -3.5313547866187593, -1.705401827259781, -0.7079029335974015, -0.6643267100081778, -2.399758846783386, -1.9614932770539524, 6.903462809673221, 6.315933963292263, 1.0980763835303864, 4.291904124163152, -0.7500601066766241, 4.784126131775269, 1.091842795494604, 5.455498014403133, 0.33503011164587687, -0.655886857258206, 2.075215976852926, 5.1488119853599255, -0.7691373425906087, 1.1464515514121305, 4.578401781395909, -0.9267858213348903, -2.6549691790194982, -0.2657113201811885, 0.49326267929175754, -1.0055166123519959, -2.54689165609404, -3.0874354609175905, -0.007906342336542823, 6.275599938533745, -2.7470790589701637, -1.317589455992464, 0.48593808896231305, -2.1122734597400474, 0.7385229788945802, 3.0343066496238986, -1.8370364963601489, 1.485742628859343, -2.3510886394878328, -1.7246104219498581, -1.3557081519888503, -0.5462649298468699, -0.49454102377431813, 1.8403600444037425, 6.756871279972207, 8.206995749218313, 4.7143922130790585, -1.0271408665508763, -1.5122960196002462, -0.8231580721833814, -0.4586025759110166, 51.69640056883707, -0.09184467842812548, 5.382274160512364, -1.365572131542115, -0.5295793911965795, -2.2706565513309127, -2.84532419637068, -0.9400582584995273, -2.6573853462606447, -1.7047938952475263, -2.6145314663830383, 2.2304844346612365, -2.251595875483111, 5.741067820425713, -1.8086527847873006, 2.497690850927019, 5.321348702811692, 2.4429780320238, 4.985780070732481, 3.934186541399885, -0.23879618812803044, 9.191712130083388, 3.9769421146001753, -1.9628189427478397, -1.647440123136525, -0.7661694212388119, -1.121329747711689, -0.40961093600417975, -1.1357439625679908, 2.3375593759546, -2.1287884371564467, -1.0387244799839344, -0.7688059442410434, -1.0927672913173456, -0.5026767447509092, 1.5235344414054803, -2.312953238775896, 4.897967187749112, -1.284452302047253, 3.624395945613075, -1.1983372203268274, 6.0564028100966505, 2.1032366200681327, -1.3310529401206819, -0.992343865952031, -1.2937564394316654, 5.215135841015813, -1.4431184551175988, 4.110856991514531, 6.018316226004915, -0.6959186172625491, -1.5478036371293462, -0.9711262348378417, -0.9112527380547615, -1.8644146466477667, -2.118479270896153, 4.37530543240636, -2.4499468200286296, -1.1951110402372054, -3.1857825711515964, 7.690862743011373, 1.546788704318323, 4.242878594001406, 2.5025386350298633, 7.314938100776044, 10.57366445514685, -1.1846367647226366, -1.6759768583029826, -2.998272620707479, 2.013139121066182, -3.6401588159351292, 0.45142846748301807, 5.237657347669975, 3.3125078641273533, -0.6113309618440762, 1.5870895644181569, -2.9235861510545456, 4.964799783060811, 3.0422081617461574, -0.805603249573628, -0.8463079179099047, -2.364862529266997, -1.7943146028436743, -1.643565381248597, 0.8069119494778962, 2.971268255795472, -2.681466887294125, 6.604025645189344, -1.0488432195585355, 0.8394908275036659, -2.867968016999822, 2.6576515846864686, -0.5908692250798208, 3.0205345410553766, 2.604143432599835, -2.3944041385606534, -2.828003412731178, -1.2945870550434904, 3.531594076130625, 0.5343538656694459, 3.0705050544961017, -1.3596190416037282, 1.3797456331365492, -0.5699460100183443, -1.6597620221856901, -1.3956121197765992, 9.607422618641834, -1.189011880281592, -0.9894697576687557, -1.7884962820786532, -2.4763009943669076, 8.191284851621038, 0.7819411864702718, 7.037099399598246, 26.002840739269715, -0.48850192231464246, 0.3743072107198039, -1.4128624602132245, -2.019994012915797, 1.5374836415754838, -2.7066624835156823, -1.6412927864068023, 0.5449851850741827, 5.608056711199746, -2.5597822510299686, 5.2928945217996, 6.7232779329750905, -0.07268364064094655, -1.7230599734814855, -2.0033472650301087, -0.9014328474599549, -1.5721217225963537, -0.7016916989463915, -0.9409182519908558, -1.9831465870176397, -1.9370781684498313, -1.9390016472861367, 9.572112452774874, 1.9899533548279844, -0.9236869458751269, 4.3465293240743055, 5.283042741935967, -2.859291035968305, -2.918622571254539, -0.5024921802554784, -0.794830939874842, 9.565769848089012, -1.7189104221631113, -3.777772237911006, -2.597727512805708, -0.3761622664187794, -0.8641566801249876, -0.9823353835510358, -0.9059377635058108, 23.025197447374904, -1.0666030453022306, 10.518589749899302, -1.4191088914075405, 0.909791507211321, -0.7711365661697599, 5.387133349792208, -1.9641280910313403, -0.5562759794876547, 1.6251241023064937, -2.162073706229443, 0.1227886033705927, -2.4655747777243495, 3.0000903712031843, -2.406371818408618]}, {\"mode\": \"markers\", \"name\": \"Cluster 2\", \"type\": \"scatter\", \"x\": [19.031533824490882, 32.61861340306006, 16.771247720154697, 14.389090128362318, 16.660282168687058, 58.371111039876816, 47.50969473063399, 32.172321651405234, 14.45599993414272, 55.192664431483706, 10.865069245028932, 40.6991615824523, 13.620655976034584, 22.77874744933735, 7.898064198659971, 9.52080664561331, 19.951442677357782, 44.860912562613386, 8.798857496189326, 11.333198924951022, 19.900601852631503, 12.101868972788896, 8.439995548885847, 13.386378944225683, 13.688729588814171, 40.29234068122225, 33.285120817487396, 9.967972442651561, 11.660676890231679, 23.751162325882348, 24.643468498726925, 16.35054010674908, 11.827436077885809, 34.88847658767343, 8.021330001737178, 32.99631943493998, 14.744159507308384, 22.939454330806647, 20.01486911604911, 18.57953303279241, 38.814930063440876, 30.46893892003026, 9.864973889322155, 25.69067476634126, 12.785559081854174, 22.070497266513183, 15.30989167970417, 14.188358447096451, 28.64190044258036, 19.071530074983457, 15.700617640930291, 12.737051340336375, 64.218199356845, 9.595703375333388, 22.310219875192267, 16.968221474152827, 15.600318146461616, 22.378127204246397, 25.236119326844825, 17.395350729855558, 23.916919316045572, 15.821652838804384, 16.009143524402607, 22.116934251551953, 9.462326282647018, 13.533272047443914, 28.619366612117837, 42.34407070351806, 33.71629652929862, 18.230171074561813, 15.128577731893364, 33.24514072806536, 34.35890373226076, 23.02813723378996, 50.26979935422698, 46.33659033632412, 9.17132615807052, 10.995300123015188, 15.198919684124363, 8.501795262713095, 25.221237916566754, 18.325773128536905, 22.372382336744508, 21.802319146404873, 12.69786246054109, 23.655648530366328, 47.00146563771505, 26.253347968659003, 47.519114306773105, 29.17633285874569, 10.84786702665334, 12.417050049053353, 12.179924634874848, 11.053651157410863, 19.24988585471565, 28.394074712037146, 34.18488722476344, 14.40452174899914, 30.42192098944973, 10.123028042511773, 9.431623478070124, 38.022205655609405, 31.62804048373999, 8.206955187562745, 67.3069898867907, 53.645906987738854, 40.0204023461836, 24.502001547722585, 53.088729050638385, 37.302949655163346, 50.33139233171285, 53.52298623779184, 14.383449244204039, 18.594361987350794, 18.151153303695427, 33.63141918806299, 17.68041750197226, 11.176505893918794], \"y\": [-6.951508144081216, -10.393404042779938, -6.401283682895902, -5.5384184791585005, -6.224731745876386, -18.793934102140483, -10.362325004485115, -10.918031575981114, -5.552714568660469, -17.591685316058424, -4.495404141947125, -12.045236315520766, -4.51753150997314, 1.8345688220512317, -3.640140413800222, -4.114504333293015, -7.1857692832730775, -14.414891060502375, -3.9404914805160485, -4.626891905286246, -7.17122292654834, -4.909601882171678, -3.820264045402962, -5.268226162890752, -5.13349336370622, -9.800871021694693, -11.094670118095225, -4.266832178289647, -4.736993498304316, -8.31560659686994, -8.682686060149436, -4.613994852340746, -4.814985170822134, -11.50888123189276, -3.6781359069388837, -11.200368553098391, -5.231996205314536, -7.042853091999243, -7.211832538292866, -6.798365534694665, -12.682531887757037, -9.450668683136556, -4.22713818547916, -8.834775624626204, -4.855196535629455, -7.823678919393879, -4.902780840739774, -5.5401935485819065, -9.681377523687958, -6.97436509464903, -6.113237577419342, -0.98450010104308, -12.84250302608198, -4.135511384581291, -7.840713039774771, -6.327581427426786, -6.150501258501163, -6.68356264120559, -8.750288737427176, -6.4730535944373875, -8.370182458583628, -6.062784999205557, -5.498941157712234, -7.843038761791281, -4.162775737341392, -5.317253424243522, -8.11365037254332, -13.227901646011226, -11.172408388596029, -5.480778283602586, -5.383623843696269, -11.289300626665591, -11.384821447806624, -8.218230565172007, 29.64402400592565, -10.259452531140646, -4.068393915961661, -4.610696686705555, -5.943939082956409, -2.616313658913608, -8.744545881257087, -6.713418980974387, -7.863298126856141, -6.170900599385671, -5.174287443117667, -8.289090910440832, -15.050879482215858, -9.081291641657119, -15.44102609350939, -10.068437683664065, -2.7780843568094657, -5.015055070125011, -4.934414484945769, -4.560731092633602, -6.955739067983241, -9.661907990345863, -11.324952019636456, -5.540656568057091, -10.208899283153587, -4.318490682573352, -4.08071466271055, -11.533002801758757, -10.605326901856698, -3.7440962358642818, -18.975563491485836, -17.000002040455687, -10.771872418130386, -1.062253617018764, -16.821941327755574, -12.505927725806401, -10.002114127551247, -17.07566352668592, -4.642121600452996, -6.803699437704555, -6.6572065353151695, -11.209532599132933, -6.56674717227854, -4.600291712120255]}, {\"mode\": \"markers\", \"name\": \"Cluster 3\", \"type\": \"scatter\", \"x\": [124.92886487705715], \"y\": [352.5255106612074]}, {\"marker\": {\"color\": \"rgb(255,255,0)\", \"size\": 16}, \"mode\": \"markers\", \"name\": \"Centroids\", \"type\": \"scatter\", \"x\": [-6.7910329994345835, 24.03357222776625, 124.92886487705715], \"y\": [1.196925475161052, -7.410042523995127, 352.5255106612074]}],\n",
       "                        {\"template\": {\"data\": {\"bar\": [{\"error_x\": {\"color\": \"#2a3f5f\"}, \"error_y\": {\"color\": \"#2a3f5f\"}, \"marker\": {\"line\": {\"color\": \"#E5ECF6\", \"width\": 0.5}}, \"type\": \"bar\"}], \"barpolar\": [{\"marker\": {\"line\": {\"color\": \"#E5ECF6\", \"width\": 0.5}}, \"type\": \"barpolar\"}], \"carpet\": [{\"aaxis\": {\"endlinecolor\": \"#2a3f5f\", \"gridcolor\": \"white\", \"linecolor\": \"white\", \"minorgridcolor\": \"white\", \"startlinecolor\": \"#2a3f5f\"}, \"baxis\": {\"endlinecolor\": \"#2a3f5f\", \"gridcolor\": \"white\", \"linecolor\": \"white\", \"minorgridcolor\": \"white\", \"startlinecolor\": \"#2a3f5f\"}, \"type\": \"carpet\"}], \"choropleth\": [{\"colorbar\": {\"outlinewidth\": 0, \"ticks\": \"\"}, \"type\": \"choropleth\"}], \"contour\": [{\"colorbar\": {\"outlinewidth\": 0, \"ticks\": \"\"}, \"colorscale\": [[0.0, \"#0d0887\"], [0.1111111111111111, \"#46039f\"], [0.2222222222222222, \"#7201a8\"], [0.3333333333333333, \"#9c179e\"], [0.4444444444444444, \"#bd3786\"], [0.5555555555555556, \"#d8576b\"], [0.6666666666666666, \"#ed7953\"], [0.7777777777777778, \"#fb9f3a\"], [0.8888888888888888, \"#fdca26\"], [1.0, \"#f0f921\"]], \"type\": \"contour\"}], \"contourcarpet\": [{\"colorbar\": {\"outlinewidth\": 0, \"ticks\": \"\"}, \"type\": \"contourcarpet\"}], \"heatmap\": [{\"colorbar\": {\"outlinewidth\": 0, \"ticks\": \"\"}, \"colorscale\": [[0.0, \"#0d0887\"], [0.1111111111111111, \"#46039f\"], [0.2222222222222222, \"#7201a8\"], [0.3333333333333333, \"#9c179e\"], [0.4444444444444444, \"#bd3786\"], [0.5555555555555556, \"#d8576b\"], [0.6666666666666666, \"#ed7953\"], [0.7777777777777778, \"#fb9f3a\"], [0.8888888888888888, \"#fdca26\"], [1.0, \"#f0f921\"]], \"type\": \"heatmap\"}], \"heatmapgl\": [{\"colorbar\": {\"outlinewidth\": 0, \"ticks\": \"\"}, \"colorscale\": [[0.0, \"#0d0887\"], [0.1111111111111111, \"#46039f\"], [0.2222222222222222, \"#7201a8\"], [0.3333333333333333, \"#9c179e\"], [0.4444444444444444, \"#bd3786\"], [0.5555555555555556, \"#d8576b\"], [0.6666666666666666, \"#ed7953\"], [0.7777777777777778, \"#fb9f3a\"], [0.8888888888888888, \"#fdca26\"], [1.0, \"#f0f921\"]], \"type\": \"heatmapgl\"}], \"histogram\": [{\"marker\": {\"colorbar\": {\"outlinewidth\": 0, \"ticks\": \"\"}}, \"type\": \"histogram\"}], \"histogram2d\": [{\"colorbar\": {\"outlinewidth\": 0, \"ticks\": \"\"}, \"colorscale\": [[0.0, \"#0d0887\"], [0.1111111111111111, \"#46039f\"], [0.2222222222222222, \"#7201a8\"], [0.3333333333333333, \"#9c179e\"], [0.4444444444444444, \"#bd3786\"], [0.5555555555555556, \"#d8576b\"], [0.6666666666666666, \"#ed7953\"], [0.7777777777777778, \"#fb9f3a\"], [0.8888888888888888, \"#fdca26\"], [1.0, \"#f0f921\"]], \"type\": \"histogram2d\"}], \"histogram2dcontour\": [{\"colorbar\": {\"outlinewidth\": 0, \"ticks\": \"\"}, \"colorscale\": [[0.0, \"#0d0887\"], [0.1111111111111111, \"#46039f\"], [0.2222222222222222, \"#7201a8\"], [0.3333333333333333, \"#9c179e\"], [0.4444444444444444, \"#bd3786\"], [0.5555555555555556, \"#d8576b\"], [0.6666666666666666, \"#ed7953\"], [0.7777777777777778, \"#fb9f3a\"], [0.8888888888888888, \"#fdca26\"], [1.0, \"#f0f921\"]], \"type\": \"histogram2dcontour\"}], \"mesh3d\": [{\"colorbar\": {\"outlinewidth\": 0, \"ticks\": \"\"}, \"type\": \"mesh3d\"}], \"parcoords\": [{\"line\": {\"colorbar\": {\"outlinewidth\": 0, \"ticks\": \"\"}}, \"type\": \"parcoords\"}], \"pie\": [{\"automargin\": true, \"type\": \"pie\"}], \"scatter\": [{\"marker\": {\"colorbar\": {\"outlinewidth\": 0, \"ticks\": \"\"}}, \"type\": \"scatter\"}], \"scatter3d\": [{\"line\": {\"colorbar\": {\"outlinewidth\": 0, \"ticks\": \"\"}}, \"marker\": {\"colorbar\": {\"outlinewidth\": 0, \"ticks\": \"\"}}, \"type\": \"scatter3d\"}], \"scattercarpet\": [{\"marker\": {\"colorbar\": {\"outlinewidth\": 0, \"ticks\": \"\"}}, \"type\": \"scattercarpet\"}], \"scattergeo\": [{\"marker\": {\"colorbar\": {\"outlinewidth\": 0, \"ticks\": \"\"}}, \"type\": \"scattergeo\"}], \"scattergl\": [{\"marker\": {\"colorbar\": {\"outlinewidth\": 0, \"ticks\": \"\"}}, \"type\": \"scattergl\"}], \"scattermapbox\": [{\"marker\": {\"colorbar\": {\"outlinewidth\": 0, \"ticks\": \"\"}}, \"type\": \"scattermapbox\"}], \"scatterpolar\": [{\"marker\": {\"colorbar\": {\"outlinewidth\": 0, \"ticks\": \"\"}}, \"type\": \"scatterpolar\"}], \"scatterpolargl\": [{\"marker\": {\"colorbar\": {\"outlinewidth\": 0, \"ticks\": \"\"}}, \"type\": \"scatterpolargl\"}], \"scatterternary\": [{\"marker\": {\"colorbar\": {\"outlinewidth\": 0, \"ticks\": \"\"}}, \"type\": \"scatterternary\"}], \"surface\": [{\"colorbar\": {\"outlinewidth\": 0, \"ticks\": \"\"}, \"colorscale\": [[0.0, \"#0d0887\"], [0.1111111111111111, \"#46039f\"], [0.2222222222222222, \"#7201a8\"], [0.3333333333333333, \"#9c179e\"], [0.4444444444444444, \"#bd3786\"], [0.5555555555555556, \"#d8576b\"], [0.6666666666666666, \"#ed7953\"], [0.7777777777777778, \"#fb9f3a\"], [0.8888888888888888, \"#fdca26\"], [1.0, \"#f0f921\"]], \"type\": \"surface\"}], \"table\": [{\"cells\": {\"fill\": {\"color\": \"#EBF0F8\"}, \"line\": {\"color\": \"white\"}}, \"header\": {\"fill\": {\"color\": \"#C8D4E3\"}, \"line\": {\"color\": \"white\"}}, \"type\": \"table\"}]}, \"layout\": {\"annotationdefaults\": {\"arrowcolor\": \"#2a3f5f\", \"arrowhead\": 0, \"arrowwidth\": 1}, \"coloraxis\": {\"colorbar\": {\"outlinewidth\": 0, \"ticks\": \"\"}}, \"colorscale\": {\"diverging\": [[0, \"#8e0152\"], [0.1, \"#c51b7d\"], [0.2, \"#de77ae\"], [0.3, \"#f1b6da\"], [0.4, \"#fde0ef\"], [0.5, \"#f7f7f7\"], [0.6, \"#e6f5d0\"], [0.7, \"#b8e186\"], [0.8, \"#7fbc41\"], [0.9, \"#4d9221\"], [1, \"#276419\"]], \"sequential\": [[0.0, \"#0d0887\"], [0.1111111111111111, \"#46039f\"], [0.2222222222222222, \"#7201a8\"], [0.3333333333333333, \"#9c179e\"], [0.4444444444444444, \"#bd3786\"], [0.5555555555555556, \"#d8576b\"], [0.6666666666666666, \"#ed7953\"], [0.7777777777777778, \"#fb9f3a\"], [0.8888888888888888, \"#fdca26\"], [1.0, \"#f0f921\"]], \"sequentialminus\": [[0.0, \"#0d0887\"], [0.1111111111111111, \"#46039f\"], [0.2222222222222222, \"#7201a8\"], [0.3333333333333333, \"#9c179e\"], [0.4444444444444444, \"#bd3786\"], [0.5555555555555556, \"#d8576b\"], [0.6666666666666666, \"#ed7953\"], [0.7777777777777778, \"#fb9f3a\"], [0.8888888888888888, \"#fdca26\"], [1.0, \"#f0f921\"]]}, \"colorway\": [\"#636efa\", \"#EF553B\", \"#00cc96\", \"#ab63fa\", \"#FFA15A\", \"#19d3f3\", \"#FF6692\", \"#B6E880\", \"#FF97FF\", \"#FECB52\"], \"font\": {\"color\": \"#2a3f5f\"}, \"geo\": {\"bgcolor\": \"white\", \"lakecolor\": \"white\", \"landcolor\": \"#E5ECF6\", \"showlakes\": true, \"showland\": true, \"subunitcolor\": \"white\"}, \"hoverlabel\": {\"align\": \"left\"}, \"hovermode\": \"closest\", \"mapbox\": {\"style\": \"light\"}, \"paper_bgcolor\": \"white\", \"plot_bgcolor\": \"#E5ECF6\", \"polar\": {\"angularaxis\": {\"gridcolor\": \"white\", \"linecolor\": \"white\", \"ticks\": \"\"}, \"bgcolor\": \"#E5ECF6\", \"radialaxis\": {\"gridcolor\": \"white\", \"linecolor\": \"white\", \"ticks\": \"\"}}, \"scene\": {\"xaxis\": {\"backgroundcolor\": \"#E5ECF6\", \"gridcolor\": \"white\", \"gridwidth\": 2, \"linecolor\": \"white\", \"showbackground\": true, \"ticks\": \"\", \"zerolinecolor\": \"white\"}, \"yaxis\": {\"backgroundcolor\": \"#E5ECF6\", \"gridcolor\": \"white\", \"gridwidth\": 2, \"linecolor\": \"white\", \"showbackground\": true, \"ticks\": \"\", \"zerolinecolor\": \"white\"}, \"zaxis\": {\"backgroundcolor\": \"#E5ECF6\", \"gridcolor\": \"white\", \"gridwidth\": 2, \"linecolor\": \"white\", \"showbackground\": true, \"ticks\": \"\", \"zerolinecolor\": \"white\"}}, \"shapedefaults\": {\"line\": {\"color\": \"#2a3f5f\"}}, \"ternary\": {\"aaxis\": {\"gridcolor\": \"white\", \"linecolor\": \"white\", \"ticks\": \"\"}, \"baxis\": {\"gridcolor\": \"white\", \"linecolor\": \"white\", \"ticks\": \"\"}, \"bgcolor\": \"#E5ECF6\", \"caxis\": {\"gridcolor\": \"white\", \"linecolor\": \"white\", \"ticks\": \"\"}}, \"title\": {\"x\": 0.05}, \"xaxis\": {\"automargin\": true, \"gridcolor\": \"white\", \"linecolor\": \"white\", \"ticks\": \"\", \"title\": {\"standoff\": 15}, \"zerolinecolor\": \"white\", \"zerolinewidth\": 2}, \"yaxis\": {\"automargin\": true, \"gridcolor\": \"white\", \"linecolor\": \"white\", \"ticks\": \"\", \"title\": {\"standoff\": 15}, \"zerolinecolor\": \"white\", \"zerolinewidth\": 2}}}, \"title\": {\"text\": \"Clusters\"}},\n",
       "                        {\"responsive\": true}\n",
       "                    ).then(function(){\n",
       "                            \n",
       "var gd = document.getElementById('f98fde0f-98ac-4204-bd50-78e26d33d525');\n",
       "var x = new MutationObserver(function (mutations, observer) {{\n",
       "        var display = window.getComputedStyle(gd).display;\n",
       "        if (!display || display === 'none') {{\n",
       "            console.log([gd, 'removed!']);\n",
       "            Plotly.purge(gd);\n",
       "            observer.disconnect();\n",
       "        }}\n",
       "}});\n",
       "\n",
       "// Listen for the removal of the full notebook cells\n",
       "var notebookContainer = gd.closest('#notebook-container');\n",
       "if (notebookContainer) {{\n",
       "    x.observe(notebookContainer, {childList: true});\n",
       "}}\n",
       "\n",
       "// Listen for the clearing of the current output cell\n",
       "var outputEl = gd.closest('.output');\n",
       "if (outputEl) {{\n",
       "    x.observe(outputEl, {childList: true});\n",
       "}}\n",
       "\n",
       "                        })\n",
       "                };\n",
       "                });\n",
       "            </script>\n",
       "        </div>"
      ]
     },
     "metadata": {},
     "output_type": "display_data"
    }
   ],
   "source": [
    "#precompute_distances\n",
    "\n",
    "number_clusters = 3\n",
    "kmeans = KMeans(n_clusters = number_clusters, init = 'k-means++', random_state = random_state,n_init=10, max_iter=1000,precompute_distances=True)\n",
    "y_kmeans = kmeans.fit_predict(X)\n",
    "\n",
    "# Visualising the clusters\n",
    "\n",
    "fig = go.Figure()\n",
    "\n",
    "fig.add_trace(go.Scatter(x=X[y_kmeans == 0, 0], y=X[y_kmeans == 0, 1], name='Cluster 1', mode='markers'))\n",
    "fig.add_trace(go.Scatter(x=X[y_kmeans == 1, 0], y=X[y_kmeans == 1, 1], name='Cluster 2', mode='markers'))\n",
    "fig.add_trace(go.Scatter(x=X[y_kmeans == 2, 0], y=X[y_kmeans == 2, 1], name='Cluster 3', mode='markers'))\n",
    "#fig.add_trace(go.Scatter(x=X[y_kmeans == 3, 0], y=X[y_kmeans == 3, 1], name='Cluster 4', mode='markers'))\n",
    "#fig.add_trace(go.Scatter(x=X[y_kmeans == 4, 0], y=X[y_kmeans == 4, 1], name='Cluster 5', mode='markers'))\n",
    "#fig.add_trace(go.Scatter(x=X[y_kmeans == 5, 0], y=X[y_kmeans == 5, 1], name='Cluster 6', mode='markers'))\n",
    "#fig.add_trace(go.Scatter(x=X[y_kmeans == 6, 0], y=X[y_kmeans == 6, 1], name='Cluster 7', mode='markers'))#comment the lines if you chose less clusters\n",
    "#fig.add_trace(go.Scatter(x=X[y_kmeans == 7, 0], y=X[y_kmeans == 7, 1], name='Cluster 8', mode='markers'))\n",
    "#fig.add_trace(go.Scatter(x=X[y_kmeans == 8, 0], y=X[y_kmeans == 8, 1], name='Cluster 9', mode='markers'))\n",
    "#fig.add_trace(go.Scatter(x=X[y_kmeans == 9, 0], y=X[y_kmeans == 9, 1], name='Cluster 10', mode='markers'))#add more lines if you chose more clusters\n",
    "\n",
    "fig.add_trace(go.Scatter(x=kmeans.cluster_centers_[:, 0], y=kmeans.cluster_centers_[:, 1], name='Centroids', \n",
    "                         mode='markers', marker_color=\"rgb(255,255,0)\", marker=dict(size=16)))\n",
    "\n",
    "fig.update_layout(title='Clusters')\n",
    "\n",
    "fig.show()"
   ]
  },
  {
   "cell_type": "code",
   "execution_count": 105,
   "metadata": {},
   "outputs": [
    {
     "data": {
      "text/plain": [
       "array([  2.86299079,  -2.16534149, -10.67292903])"
      ]
     },
     "execution_count": 105,
     "metadata": {},
     "output_type": "execute_result"
    }
   ],
   "source": [
    "X[0]"
   ]
  },
  {
   "cell_type": "code",
   "execution_count": null,
   "metadata": {},
   "outputs": [],
   "source": []
  }
 ],
 "metadata": {
  "kernelspec": {
   "display_name": "Python 3",
   "language": "python",
   "name": "python3"
  },
  "language_info": {
   "codemirror_mode": {
    "name": "ipython",
    "version": 3
   },
   "file_extension": ".py",
   "mimetype": "text/x-python",
   "name": "python",
   "nbconvert_exporter": "python",
   "pygments_lexer": "ipython3",
   "version": "3.7.4"
  }
 },
 "nbformat": 4,
 "nbformat_minor": 2
}
